{
 "cells": [
  {
   "cell_type": "code",
   "execution_count": null,
   "id": "e647dc49",
   "metadata": {},
   "outputs": [],
   "source": [
    "# Importaciones\n",
    "import pandas as pd\n",
    "import matplotlib.pyplot as plt\n",
    "pd.options.plotting.backend = \"plotly\"\n",
    "import numpy as np\n",
    "from sklearn import preprocessing\n",
    "import seaborn as sns\n",
    "from datetime import datetime\n",
    "from IPython.core.display import display, HTML\n",
    "from scipy import stats\n",
    "display(HTML(\"<style>.container { width:100% !important; }</style>\"))"
   ]
  },
  {
   "cell_type": "markdown",
   "id": "c79564a7",
   "metadata": {},
   "source": [
    "# DEFINICIÓN DE FUNCIONES"
   ]
  },
  {
   "cell_type": "markdown",
   "id": "d0ba29a7",
   "metadata": {},
   "source": [
    "Defino **add_lag**: función para hacer los corrimientos temporales en las variables."
   ]
  },
  {
   "cell_type": "code",
   "execution_count": null,
   "id": "eb445510",
   "metadata": {},
   "outputs": [],
   "source": [
    "def add_lag(x,time_pre = 0, time_post = 0, delta_time = 0, replace_method = 'mean', delta_calc = 'absolute'):\n",
    "    \"\"\"\n",
    "    This function calculate the difference between time_pre and time_post and shift the variable x\n",
    "    If the delta_time is different to 0 then add_lag shift x in delta_time samples\n",
    "    \n",
    "    Time format: 'dd/mm/aaaa-hh:mm:ss'\n",
    "    \"\"\"\n",
    "    from datetime import datetime\n",
    "    # Defino valores para reemplazar las muestras vacías que se van a generar por el corrimiento\n",
    "    if replace_method == 'mean':\n",
    "        replaceValue = np.mean(x)\n",
    "        \n",
    "    if replace_method == 'zeros':\n",
    "        replaceValue = 0.0\n",
    "    \n",
    "    # Realizo el corrimiento\n",
    "    if delta_calc == 'absolute':\n",
    "        delta = delta_time\n",
    "\n",
    "        \n",
    "    if delta_calc == 'dates':\n",
    "        pre = datetime.strptime(time_pre, '%d/%m/%Y-%H:%M:%S')\n",
    "        post = datetime.strptime(time_post, '%d/%m/%Y-%H:%M:%S')\n",
    "        delta = (post-pre).seconds\n",
    "\n",
    "    # Reemplazo los valores vacíos generados\n",
    "    aux = x.shift(periods=delta)\n",
    "    aux[:delta] =  replaceValue\n",
    "    return aux"
   ]
  },
  {
   "cell_type": "markdown",
   "id": "616ae86c",
   "metadata": {},
   "source": [
    "Defino **maximize_correlation**: función para maximizar la correlación entre dos funciones realizando corrimientos temporales."
   ]
  },
  {
   "cell_type": "code",
   "execution_count": null,
   "id": "e9a7c74b",
   "metadata": {},
   "outputs": [],
   "source": [
    "def maximize_correlation(fixedSignal, mobileSignal, maxLag):\n",
    "    tempLagSignal = []\n",
    "    corrVector = []\n",
    "    corrVector2 = []\n",
    "    \n",
    "    # Guardo la correlación inicial\n",
    "    initCorr = np.corrcoef(mobileSignal, fixedSignal)[0,1]\n",
    "    \n",
    "    # Encuentro la mayor correlación realizando saltos de 1 min\n",
    "    for i in np.arange(1, maxLag):\n",
    "        tempLagSignal = add_lag(mobileSignal, delta_time = (60 * i))\n",
    "#        print('correlación:' + str(np.corrcoef(tempLagSignal, fixedSignal)[0,1]))\n",
    "        \n",
    "        corrVector.append(np.corrcoef(tempLagSignal, fixedSignal)[0,1])\n",
    "        \n",
    "    # Encuentro la mayor correlación en un lapso de 60 seg antes y después del valor de retardo obtenido anteriormente\n",
    "    corrVector = np.array(corrVector)\n",
    "    absCorrVector = abs(corrVector)  # Aplico Abs para encontrar correlaciones positivas y negativas \n",
    "    maxIndex = int(np.where(absCorrVector == absCorrVector.max())[0])   # Obtengo el índice donde se encuentra la correlación más alta\n",
    "    \n",
    "    if maxIndex != 0: # En caso de que el máximo esté en índice 0, buscará 120 segundos a partir del 0\n",
    "        maxIndex = maxIndex - 1 # Le resto 1 para que empiece a buscar un minuto antes de la máxima correlación\n",
    "    \n",
    "    lagInit = maxIndex * 60    # Paso a segundos (samples) la posición de la máxima correlación\n",
    "\n",
    "    for i in np.arange(0, 120):\n",
    "        tempLagSignal = add_lag(mobileSignal, delta_time = (lagInit + i))\n",
    "        corrVector2.append(np.corrcoef(tempLagSignal, fixedSignal)[0,1])\n",
    "      \n",
    "    \n",
    "    \n",
    "    absCorrVector2 = abs(np.array(corrVector2))  # Aplico Abs para encontrar correlaciones positivas y negativas\n",
    "#     print(absCorrVector2)\n",
    "#     print(np.where(absCorrVector2 == absCorrVector2.max()))\n",
    "    maxIndex2 = int(np.where(absCorrVector2 == absCorrVector2.max())[0])   # Obtengo el índice donde se encuentra la correlación más alta\n",
    "    lagMaxCorr = lagInit + maxIndex2\n",
    "    \n",
    "    finalLagSignal = add_lag(mobileSignal, delta_time = lagMaxCorr)\n",
    "    maxCorrelation = np.corrcoef(finalLagSignal, fixedSignal)[0,1]\n",
    "    \n",
    "    print('El retardo que maximiza la correlación es de: ' + str(lagMaxCorr) + ' segundos (' + str(np.round(lagMaxCorr/60)) + ' minutos)')\n",
    "    print('La correlación inicial era: ' + str(initCorr) + ' y luego del retardo es: ' + str(maxCorrelation))\n",
    "    return finalLagSignal"
   ]
  },
  {
   "cell_type": "markdown",
   "id": "93e47ff0",
   "metadata": {},
   "source": [
    "Defino **plot_corrMatrix**: función para graficar en formato mapa de calor la matriz de correlaciones entre las variables del dataset."
   ]
  },
  {
   "cell_type": "code",
   "execution_count": null,
   "id": "5ec0cdae",
   "metadata": {},
   "outputs": [],
   "source": [
    "def plot_corrMatrix(data, method):\n",
    "    import seaborn as sns\n",
    "    corr = data.corr(method = method)\n",
    "    mask = np.zeros_like(corr)\n",
    "    mask[np.triu_indices_from(mask)] = True\n",
    "    cmap = sns.diverging_palette(220, 10, as_cmap=True)\n",
    "    fig, ax = plt.subplots(figsize=(20,17))\n",
    "    sns.heatmap(corr, mask=mask, cmap=cmap, square=True,center=0, annot=True, ax=ax)"
   ]
  },
  {
   "cell_type": "markdown",
   "id": "9468081b",
   "metadata": {},
   "source": [
    "Defino **make_mi_scores**: función para graficar los aportes de cada variable utilizando el criterio de la información mutua."
   ]
  },
  {
   "cell_type": "code",
   "execution_count": null,
   "id": "a8579313",
   "metadata": {},
   "outputs": [],
   "source": [
    "def make_mi_scores(X, y, discrete_features = 'auto'):\n",
    "    from sklearn.feature_selection import mutual_info_regression\n",
    "    mi_scores = mutual_info_regression(X, y, discrete_features=discrete_features)\n",
    "    mi_scores = pd.Series(mi_scores, name=\"MI Scores\", index=X.columns)\n",
    "    mi_scores = mi_scores.sort_values(ascending=False)\n",
    "    \n",
    "    mi_scores = mi_scores.sort_values(ascending=True)\n",
    "    width = np.arange(len(mi_scores))\n",
    "    ticks = list(mi_scores.index)\n",
    "    plt.figure(dpi=100, figsize=(12, 7))\n",
    "    plt.barh(width, mi_scores)\n",
    "    plt.yticks(width, ticks)\n",
    "    plt.title(\"Mutual Information Scores\")"
   ]
  },
  {
   "cell_type": "markdown",
   "id": "8201d5ad",
   "metadata": {},
   "source": [
    "Defino **make_corr_scores**: función para graficar las correlaciones entre las variables de entrada X y la variable de salida y, utilizando Spearman, Kendall y Pearson."
   ]
  },
  {
   "cell_type": "code",
   "execution_count": null,
   "id": "c0639067",
   "metadata": {},
   "outputs": [],
   "source": [
    "def make_corr_scores2(X, y):\n",
    "    import scipy.stats\n",
    "    corr_scores = []\n",
    "    corr_scores = np.array(corr_scores)\n",
    "    for i in X.columns:\n",
    "        # print(corr_scores,np.corrcoef(X[i], y)[0,1])\n",
    "        corr_scores = np.append(corr_scores,abs(np.corrcoef(X[i], y)[0,1]))\n",
    "    corr_scores = pd.Series(corr_scores, name=\"MI Scores\", index=X.columns)\n",
    "    corr_scores = corr_scores.sort_values(ascending = True)\n",
    "    width = np.arange(len(corr_scores))\n",
    "    ticks = list(corr_scores.index)\n",
    "    \n",
    "    corr_scores2 = []\n",
    "    corr_scores2 = np.array(corr_scores2)\n",
    "    for i in X.columns:\n",
    "        # print(corr_scores,np.corrcoef(X[i], y)[0,1])\n",
    "        corr_scores2 = np.append(corr_scores2,abs(scipy.stats.spearmanr(X[i], y)[0]))\n",
    "    corr_scores2 = pd.Series(corr_scores2, name=\"MI Scores\", index=X.columns)\n",
    "    corr_scores2 = corr_scores2.sort_values(ascending = True)\n",
    "    width = np.arange(len(corr_scores2))\n",
    "    ticks = list(corr_scores2.index)\n",
    "    \n",
    "    corr_scores3 = []\n",
    "    corr_scores3 = np.array(corr_scores3)\n",
    "    for i in X.columns:\n",
    "        # print(corr_scores,np.corrcoef(X[i], y)[0,1])\n",
    "        corr_scores3 = np.append(corr_scores3,abs(scipy.stats.kendalltau(X[i], y)[0]))\n",
    "    corr_scores3 = pd.Series(corr_scores3, name = \"MI Scores\", index = X.columns)\n",
    "    corr_scores3 = corr_scores3.sort_values(ascending = True)\n",
    "    width = np.arange(len(corr_scores3))\n",
    "    ticks = list(corr_scores3.index)\n",
    "    \n",
    "    \n",
    "    plt.figure(dpi=100, figsize=(17, 10))\n",
    "    plt.barh(width, corr_scores, label = 'Pearson R')\n",
    "    plt.barh(width, corr_scores2,  label = 'Spearman Rho')\n",
    "    plt.barh(width, corr_scores3, label = 'Kendall Tau')\n",
    "    plt.yticks(width, ticks)\n",
    "    plt.title(\"CORRELATION SCORES\")\n",
    "    plt.legend()\n",
    "    \n",
    "#     print(corr_scores)\n",
    "#     return pd.DataFrame([X.columns, corr_scores.T])"
   ]
  },
  {
   "cell_type": "markdown",
   "id": "5dd6235e",
   "metadata": {},
   "source": [
    "Defino **MVA**: función que realiza el cálculo de la media móvil tomando una ventana de r puntos."
   ]
  },
  {
   "cell_type": "code",
   "execution_count": null,
   "id": "5f5954e5",
   "metadata": {},
   "outputs": [],
   "source": [
    "def MVA(data, r):\n",
    "    aux = []\n",
    "    for i in np.arange(0, len(data)):\n",
    "        aux.append(np.sum(data[i-r:i+r+1]) / (2*r + 1))\n",
    "    return np.array(aux)"
   ]
  },
  {
   "cell_type": "markdown",
   "id": "42210f94",
   "metadata": {},
   "source": [
    "# IMPORTACIÓN DE LOS DATOS"
   ]
  },
  {
   "cell_type": "code",
   "execution_count": null,
   "id": "d24b42bd",
   "metadata": {},
   "outputs": [],
   "source": [
    "data=pd.read_csv(r'C:\\Users\\alexb\\Documents\\Facultad\\UBA\\Modelo_PGSM_3T\\Datos\\20210811 - Segunda corrida de datos\\To_FE_20210811_2320_3T.csv', delimiter=',', sep='\\n', decimal='.', index_col='Time')\n",
    "data.head()"
   ]
  },
  {
   "cell_type": "code",
   "execution_count": null,
   "id": "6b09d681",
   "metadata": {},
   "outputs": [],
   "source": [
    "data.tail()"
   ]
  },
  {
   "cell_type": "code",
   "execution_count": null,
   "id": "fd4e12f3",
   "metadata": {},
   "outputs": [],
   "source": [
    "data.info()"
   ]
  },
  {
   "cell_type": "code",
   "execution_count": null,
   "id": "96980e53",
   "metadata": {},
   "outputs": [],
   "source": [
    "#plot_corrMatrix(data, 'pearson')"
   ]
  },
  {
   "cell_type": "code",
   "execution_count": null,
   "id": "8c9a8148",
   "metadata": {},
   "outputs": [],
   "source": [
    "#data[['Conc_P3-1','Conc_P3-2','Conc_P3-3','Conc_P3-4','MG_NIR_Salida_Ext']].plot()"
   ]
  },
  {
   "cell_type": "markdown",
   "id": "a8f69b55",
   "metadata": {},
   "source": [
    "Descarto los valores del 27 Jul 2021 16:00:00 en adelante porque se pierde valor de Conc_P3-4"
   ]
  },
  {
   "cell_type": "code",
   "execution_count": null,
   "id": "327b0a45",
   "metadata": {},
   "outputs": [],
   "source": [
    "dataCrop = data.loc['2021-07-25 00:00:00':'2021-07-27 16:00:00']"
   ]
  },
  {
   "cell_type": "code",
   "execution_count": null,
   "id": "76b42a8b",
   "metadata": {},
   "outputs": [],
   "source": [
    "#dataCrop.plot()"
   ]
  },
  {
   "cell_type": "code",
   "execution_count": null,
   "id": "4f609e99",
   "metadata": {},
   "outputs": [],
   "source": [
    "plot_corrMatrix(dataCrop, 'pearson')"
   ]
  },
  {
   "cell_type": "markdown",
   "id": "f6cf27a1",
   "metadata": {},
   "source": [
    "Verifiqué que aún incluyendo retardo a todas las P3 la que mayor correlación obtiene es la Conc_P3-4 y la Conc_P3-5. Como entre ellas la correlación lineal también es alta, me quedo solo con la Conc_P3-4 para no incluir información redundante al modelo."
   ]
  },
  {
   "cell_type": "code",
   "execution_count": null,
   "id": "0bce4ba4",
   "metadata": {},
   "outputs": [],
   "source": [
    "dataCrop.drop(columns=['Conc_P3-1','Conc_P3-2','Conc_P3-3','Conc_P3-5','Conc_P3-6','Conc_P3-7','Conc_P3-8','Conc_P3-9','Conc_P3-10','Conc_P3-11'], inplace = True)"
   ]
  },
  {
   "cell_type": "markdown",
   "id": "c47650fe",
   "metadata": {},
   "source": [
    "Descarto los TT-35-GO ya que está correlacionada linealmente con TT-35-GI."
   ]
  },
  {
   "cell_type": "code",
   "execution_count": null,
   "id": "c4f61f5b",
   "metadata": {},
   "outputs": [],
   "source": [
    "dataCrop.drop(columns = ['TT-35-GO'], inplace = True)"
   ]
  },
  {
   "cell_type": "markdown",
   "id": "39807465",
   "metadata": {},
   "source": [
    "Elimino Valid_NIR_Salida_Ext ya que parecen estar representando situaciones reales. Se deben muestrear con mayor frecuencia. "
   ]
  },
  {
   "cell_type": "code",
   "execution_count": null,
   "id": "26c1bceb",
   "metadata": {},
   "outputs": [],
   "source": [
    "dataCrop.drop(columns = ['Valid_NIR_Salida_Ext', 'Planta_Marcha'], inplace = True)"
   ]
  },
  {
   "cell_type": "code",
   "execution_count": null,
   "id": "17da6f3e",
   "metadata": {},
   "outputs": [],
   "source": [
    "plot_corrMatrix(dataCrop, 'pearson')"
   ]
  },
  {
   "cell_type": "code",
   "execution_count": null,
   "id": "3876a344",
   "metadata": {},
   "outputs": [],
   "source": [
    "make_mi_scores(dataCrop.drop(columns = 'MG_NIR_Salida_Ext'), dataCrop['MG_NIR_Salida_Ext'])"
   ]
  },
  {
   "cell_type": "markdown",
   "id": "8b432a06",
   "metadata": {},
   "source": [
    "# CÁLCULO DE MEDIA MÓVIL"
   ]
  },
  {
   "cell_type": "code",
   "execution_count": null,
   "id": "26b98780",
   "metadata": {},
   "outputs": [],
   "source": [
    "dataCrop['MG_NIR_Salida_Ext_MVA'] = MVA(dataCrop.MG_NIR_Salida_Ext, 250) "
   ]
  },
  {
   "cell_type": "code",
   "execution_count": null,
   "id": "1a5d8ba7",
   "metadata": {},
   "outputs": [],
   "source": [
    "dataCrop[['MG_NIR_Salida_Ext','MG_NIR_Salida_Ext_MVA']].plot()"
   ]
  },
  {
   "cell_type": "code",
   "execution_count": null,
   "id": "b2bf5233",
   "metadata": {},
   "outputs": [],
   "source": [
    "dataCrop['Vel_Extractor_MVA'] = MVA(dataCrop.Vel_Extractor, 100) "
   ]
  },
  {
   "cell_type": "code",
   "execution_count": null,
   "id": "fa045df3",
   "metadata": {},
   "outputs": [],
   "source": [
    "dataCrop[['Vel_Extractor','Vel_Extractor_MVA']].plot()"
   ]
  },
  {
   "cell_type": "code",
   "execution_count": null,
   "id": "9f1b6148",
   "metadata": {},
   "outputs": [],
   "source": [
    "dataCrop['Humedad_Semilla_MVA'] = MVA(dataCrop.Humedad_Semilla, 100) "
   ]
  },
  {
   "cell_type": "code",
   "execution_count": null,
   "id": "25575337",
   "metadata": {},
   "outputs": [],
   "source": [
    "dataCrop[['Humedad_Semilla','Humedad_Semilla_MVA']].plot()"
   ]
  },
  {
   "cell_type": "code",
   "execution_count": null,
   "id": "f73cfcee",
   "metadata": {},
   "outputs": [],
   "source": [
    "dataCrop['TT-35-GI_MVA'] = MVA(dataCrop['TT-35-GI'], 100) "
   ]
  },
  {
   "cell_type": "code",
   "execution_count": null,
   "id": "0bbe1677",
   "metadata": {},
   "outputs": [],
   "source": [
    "dataCrop[['TT-35-GI','TT-35-GI_MVA']].plot()"
   ]
  },
  {
   "cell_type": "code",
   "execution_count": null,
   "id": "bdd63a84",
   "metadata": {},
   "outputs": [],
   "source": [
    "dataCrop['T_Lam_9_MVA'] = MVA(dataCrop['T_Lam_9'], 100) "
   ]
  },
  {
   "cell_type": "code",
   "execution_count": null,
   "id": "4ff9466a",
   "metadata": {},
   "outputs": [],
   "source": [
    "dataCrop[['T_Lam_9_MVA','T_Lam_9']].plot()"
   ]
  },
  {
   "cell_type": "code",
   "execution_count": null,
   "id": "d9d18965",
   "metadata": {},
   "outputs": [],
   "source": [
    "dataCrop['T_Mat_entrada_MVA'] = MVA(dataCrop['T_Mat_entrada'], 100) "
   ]
  },
  {
   "cell_type": "code",
   "execution_count": null,
   "id": "b9776309",
   "metadata": {},
   "outputs": [],
   "source": [
    "dataCrop[['T_Mat_entrada_MVA','T_Mat_entrada']].plot()"
   ]
  },
  {
   "cell_type": "code",
   "execution_count": null,
   "id": "9cc0d878",
   "metadata": {},
   "outputs": [],
   "source": [
    "dataCrop['T_Solvente_MVA'] = MVA(dataCrop['T_Solvente'], 100) "
   ]
  },
  {
   "cell_type": "code",
   "execution_count": null,
   "id": "e20cccd6",
   "metadata": {},
   "outputs": [],
   "source": [
    "dataCrop[['T_Solvente','T_Solvente_MVA']].plot()"
   ]
  },
  {
   "cell_type": "code",
   "execution_count": null,
   "id": "30a041f8",
   "metadata": {},
   "outputs": [],
   "source": [
    "dataCrop['Conc_P3-4_MVA'] = MVA(dataCrop['Conc_P3-4'], 300) "
   ]
  },
  {
   "cell_type": "code",
   "execution_count": null,
   "id": "e69fd060",
   "metadata": {},
   "outputs": [],
   "source": [
    "dataCrop[['Conc_P3-4_MVA','Conc_P3-4']].plot()"
   ]
  },
  {
   "cell_type": "code",
   "execution_count": null,
   "id": "c5bfea34",
   "metadata": {},
   "outputs": [],
   "source": [
    "plot_corrMatrix(dataCrop, 'pearson')"
   ]
  },
  {
   "cell_type": "code",
   "execution_count": null,
   "id": "4a3ec931",
   "metadata": {},
   "outputs": [],
   "source": [
    "make_mi_scores(dataCrop.drop(columns = 'MG_NIR_Salida_Ext_MVA'), dataCrop['MG_NIR_Salida_Ext_MVA'])"
   ]
  },
  {
   "cell_type": "markdown",
   "id": "023358c4",
   "metadata": {},
   "source": [
    "# DEFINICIÓN DE DATASET"
   ]
  },
  {
   "cell_type": "markdown",
   "id": "223cbf3c",
   "metadata": {},
   "source": [
    "En base a los resultados obtenidos por correlación (Pearson, Kendall y Spearman) y el criterio de la información mutua, selecciono el siguiente conjunto de variables:\n",
    "\n",
    "\n",
    "**LT - 17**\n",
    "\n",
    "**Concentración P3-4 MVA**\n",
    "\n",
    "**Concentración P-1**\n",
    "\n",
    "**Temperatura laminado 9 MVA**\n",
    "\n",
    "**Humedad de semilla MVA**\n",
    "\n",
    "**Velocidad del extractor**\n",
    "\n",
    "**Temperatura del material de entrada MVA**\n",
    "\n",
    "**Temperatura del solvente**"
   ]
  },
  {
   "cell_type": "code",
   "execution_count": null,
   "id": "42e79c50",
   "metadata": {},
   "outputs": [],
   "source": [
    "data_set = dataCrop[['LT-17','Conc_P3-4_MVA','T_Lam_9_MVA','Conc_P1','Humedad_Semilla_MVA','Vel_Extractor','T_Mat_entrada_MVA','TT-35-GI','MG_NIR_Salida_Ext_MVA','T_Solvente_MVA']][301:-301]"
   ]
  },
  {
   "cell_type": "code",
   "execution_count": null,
   "id": "eb82b031",
   "metadata": {},
   "outputs": [],
   "source": [
    "plot_corrMatrix(data_set, 'pearson')"
   ]
  },
  {
   "cell_type": "markdown",
   "id": "8c0f47e4",
   "metadata": {},
   "source": [
    "## Estandarización"
   ]
  },
  {
   "cell_type": "code",
   "execution_count": null,
   "id": "2eeb70fc",
   "metadata": {},
   "outputs": [],
   "source": [
    "from sklearn.preprocessing import StandardScaler"
   ]
  },
  {
   "cell_type": "code",
   "execution_count": null,
   "id": "1bb0d792",
   "metadata": {},
   "outputs": [],
   "source": [
    "scaler = StandardScaler()"
   ]
  },
  {
   "cell_type": "code",
   "execution_count": null,
   "id": "60e1d69a",
   "metadata": {},
   "outputs": [],
   "source": [
    "# Guardo el índice\n",
    "index = data_set.index"
   ]
  },
  {
   "cell_type": "code",
   "execution_count": null,
   "id": "3e5317f7",
   "metadata": {},
   "outputs": [],
   "source": [
    "data_set = pd.DataFrame(scaler.fit_transform(data_set), columns = data_set.columns)"
   ]
  },
  {
   "cell_type": "code",
   "execution_count": null,
   "id": "899f86c1",
   "metadata": {},
   "outputs": [],
   "source": [
    "data_set['Time'] = index"
   ]
  },
  {
   "cell_type": "code",
   "execution_count": null,
   "id": "299540e9",
   "metadata": {},
   "outputs": [],
   "source": [
    "make_mi_scores(data_set.drop(columns = 'MG_NIR_Salida_Ext_MVA'), data_set['MG_NIR_Salida_Ext_MVA'])"
   ]
  },
  {
   "cell_type": "markdown",
   "id": "ee6b3014",
   "metadata": {},
   "source": [
    "## Creación de nuevas features"
   ]
  },
  {
   "cell_type": "code",
   "execution_count": null,
   "id": "ca617399",
   "metadata": {},
   "outputs": [],
   "source": [
    "#data_set['TempMat_/_HumedadMat'] = data_set['T_Mat_entrada_MVA'] / data_set['Humedad_Semilla_MVA']\n",
    "#data_set['TempSol_/_HumedadMat'] = data_set['T_Solvente_MVA'] / data_set['Humedad_Semilla_MVA']\n",
    "data_set['CP1_/_HumedadMat'] = data_set['Conc_P1'] / data_set['Humedad_Semilla_MVA']\n",
    "data_set['CP1_/_TLam'] = data_set['Conc_P1'] / data_set['T_Lam_9_MVA']\n",
    "data_set['CP34_/_CP1'] = data_set['Conc_P3-4_MVA'] / data_set['Conc_P1'] \n",
    "#data_set['CP34_/_TLam'] = data_set['Conc_P3-4_MVA'] / data_set['T_Lam_9_MVA']\n",
    "#data_set['TT-35-GI_2'] = data_set['TT-35-GI'] ** 2\n",
    "#data_set['TempMat_/_TempSol'] = data_set['T_Mat_entrada_MVA'] / data_set['T_Solvente_MVA']"
   ]
  },
  {
   "cell_type": "code",
   "execution_count": null,
   "id": "7d459acc",
   "metadata": {},
   "outputs": [],
   "source": [
    "plot_corrMatrix(data_set, 'pearson')"
   ]
  },
  {
   "cell_type": "code",
   "execution_count": null,
   "id": "ba540d97",
   "metadata": {},
   "outputs": [],
   "source": [
    "make_mi_scores(data_set.drop(columns = 'MG_NIR_Salida_Ext_MVA'), data_set['MG_NIR_Salida_Ext_MVA'])"
   ]
  },
  {
   "cell_type": "code",
   "execution_count": null,
   "id": "40eec51d",
   "metadata": {},
   "outputs": [],
   "source": [
    "pd.plotting.scatter_matrix(data_set, figsize=(24,16))"
   ]
  },
  {
   "cell_type": "code",
   "execution_count": null,
   "id": "847852bd",
   "metadata": {},
   "outputs": [],
   "source": [
    "data_set.plot()"
   ]
  },
  {
   "cell_type": "code",
   "execution_count": null,
   "id": "e5a3f9a0",
   "metadata": {},
   "outputs": [],
   "source": [
    "data_set.to_csv('To_FS_20210913_2137_3T.csv')"
   ]
  },
  {
   "cell_type": "markdown",
   "id": "e296e938",
   "metadata": {},
   "source": [
    "# CORRIMIENTOS TEMPORALES"
   ]
  },
  {
   "cell_type": "code",
   "execution_count": null,
   "id": "4de02516",
   "metadata": {},
   "outputs": [],
   "source": [
    "graficos = True"
   ]
  },
  {
   "cell_type": "code",
   "execution_count": null,
   "id": "c1fe0a0d",
   "metadata": {},
   "outputs": [],
   "source": [
    "maximize_correlation(dataCrop['MG_NIR_Salida_Ext_MVA'], dataCrop['Humedad_Semilla_MVA'], 120)"
   ]
  },
  {
   "cell_type": "code",
   "execution_count": null,
   "id": "912455d0",
   "metadata": {},
   "outputs": [],
   "source": [
    "maximize_correlation(dataCrop['MG_NIR_Salida_Ext'], dataCrop['Q_Miscela'], 90)"
   ]
  },
  {
   "cell_type": "code",
   "execution_count": null,
   "id": "610bb596",
   "metadata": {},
   "outputs": [],
   "source": []
  },
  {
   "cell_type": "code",
   "execution_count": null,
   "id": "93377805",
   "metadata": {},
   "outputs": [],
   "source": []
  }
 ],
 "metadata": {
  "kernelspec": {
   "display_name": "Python 3",
   "language": "python",
   "name": "python3"
  },
  "language_info": {
   "codemirror_mode": {
    "name": "ipython",
    "version": 3
   },
   "file_extension": ".py",
   "mimetype": "text/x-python",
   "name": "python",
   "nbconvert_exporter": "python",
   "pygments_lexer": "ipython3",
   "version": "3.8.8"
  }
 },
 "nbformat": 4,
 "nbformat_minor": 5
}
