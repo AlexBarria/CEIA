{
 "cells": [
  {
   "cell_type": "code",
   "execution_count": 1,
   "id": "b907b5fc",
   "metadata": {},
   "outputs": [
    {
     "data": {
      "text/html": [
       "<style>.container { width:100% !important; }</style>"
      ],
      "text/plain": [
       "<IPython.core.display.HTML object>"
      ]
     },
     "metadata": {},
     "output_type": "display_data"
    }
   ],
   "source": [
    "# Importaciones\n",
    "import pandas as pd\n",
    "import matplotlib.pyplot as plt\n",
    "pd.options.plotting.backend = \"plotly\"\n",
    "import numpy as np\n",
    "from sklearn import preprocessing\n",
    "import seaborn as sns\n",
    "from datetime import datetime\n",
    "from IPython.core.display import display, HTML\n",
    "from scipy import stats\n",
    "display(HTML(\"<style>.container { width:100% !important; }</style>\"))"
   ]
  },
  {
   "cell_type": "code",
   "execution_count": 3,
   "id": "26b309df",
   "metadata": {
    "collapsed": true
   },
   "outputs": [
    {
     "data": {
      "text/html": [
       "<div>\n",
       "<style scoped>\n",
       "    .dataframe tbody tr th:only-of-type {\n",
       "        vertical-align: middle;\n",
       "    }\n",
       "\n",
       "    .dataframe tbody tr th {\n",
       "        vertical-align: top;\n",
       "    }\n",
       "\n",
       "    .dataframe thead th {\n",
       "        text-align: right;\n",
       "    }\n",
       "</style>\n",
       "<table border=\"1\" class=\"dataframe\">\n",
       "  <thead>\n",
       "    <tr style=\"text-align: right;\">\n",
       "      <th></th>\n",
       "      <th>T_Lam_9</th>\n",
       "      <th>MG_NIR_Salida_Ext</th>\n",
       "      <th>Conc_P3-11</th>\n",
       "      <th>TT-35-GO</th>\n",
       "      <th>T_Lam_9_55</th>\n",
       "      <th>Humedad_Semilla</th>\n",
       "      <th>T_Mat_entrada</th>\n",
       "      <th>T_Solvente</th>\n",
       "      <th>Q_Solvente</th>\n",
       "      <th>Ritmo_Molienda</th>\n",
       "      <th>Q_Miscela</th>\n",
       "      <th>Vel_Extractor</th>\n",
       "      <th>Conc_Miscela</th>\n",
       "      <th>Solvente_NIR_Salida_Ext</th>\n",
       "      <th>LT-17</th>\n",
       "      <th>TT-35-GI</th>\n",
       "    </tr>\n",
       "    <tr>\n",
       "      <th>Time</th>\n",
       "      <th></th>\n",
       "      <th></th>\n",
       "      <th></th>\n",
       "      <th></th>\n",
       "      <th></th>\n",
       "      <th></th>\n",
       "      <th></th>\n",
       "      <th></th>\n",
       "      <th></th>\n",
       "      <th></th>\n",
       "      <th></th>\n",
       "      <th></th>\n",
       "      <th></th>\n",
       "      <th></th>\n",
       "      <th></th>\n",
       "      <th></th>\n",
       "    </tr>\n",
       "  </thead>\n",
       "  <tbody>\n",
       "    <tr>\n",
       "      <th>2021-10-07 15:00:00</th>\n",
       "      <td>0.086037</td>\n",
       "      <td>0.725236</td>\n",
       "      <td>0.02962</td>\n",
       "      <td>0.108910</td>\n",
       "      <td>0.0</td>\n",
       "      <td>0.534636</td>\n",
       "      <td>0.324695</td>\n",
       "      <td>0.443189</td>\n",
       "      <td>0.325671</td>\n",
       "      <td>0.329397</td>\n",
       "      <td>0.282113</td>\n",
       "      <td>0.328315</td>\n",
       "      <td>0.312149</td>\n",
       "      <td>0.605080</td>\n",
       "      <td>0.505380</td>\n",
       "      <td>0.269928</td>\n",
       "    </tr>\n",
       "    <tr>\n",
       "      <th>2021-10-07 15:03:00</th>\n",
       "      <td>0.089563</td>\n",
       "      <td>0.726583</td>\n",
       "      <td>0.02962</td>\n",
       "      <td>0.102093</td>\n",
       "      <td>0.0</td>\n",
       "      <td>0.534636</td>\n",
       "      <td>0.340239</td>\n",
       "      <td>0.313222</td>\n",
       "      <td>0.307250</td>\n",
       "      <td>0.329384</td>\n",
       "      <td>0.281493</td>\n",
       "      <td>0.327030</td>\n",
       "      <td>0.318091</td>\n",
       "      <td>0.591038</td>\n",
       "      <td>0.496463</td>\n",
       "      <td>0.281288</td>\n",
       "    </tr>\n",
       "    <tr>\n",
       "      <th>2021-10-07 15:06:00</th>\n",
       "      <td>0.093035</td>\n",
       "      <td>0.826301</td>\n",
       "      <td>0.02962</td>\n",
       "      <td>0.078385</td>\n",
       "      <td>0.0</td>\n",
       "      <td>0.533409</td>\n",
       "      <td>0.385105</td>\n",
       "      <td>0.314746</td>\n",
       "      <td>0.333278</td>\n",
       "      <td>0.329414</td>\n",
       "      <td>0.280784</td>\n",
       "      <td>0.327030</td>\n",
       "      <td>0.325121</td>\n",
       "      <td>0.584253</td>\n",
       "      <td>0.498974</td>\n",
       "      <td>0.269985</td>\n",
       "    </tr>\n",
       "    <tr>\n",
       "      <th>2021-10-07 15:09:00</th>\n",
       "      <td>0.096127</td>\n",
       "      <td>0.783242</td>\n",
       "      <td>0.02962</td>\n",
       "      <td>0.078234</td>\n",
       "      <td>0.0</td>\n",
       "      <td>0.533918</td>\n",
       "      <td>0.442633</td>\n",
       "      <td>0.293762</td>\n",
       "      <td>0.317303</td>\n",
       "      <td>0.329656</td>\n",
       "      <td>0.280892</td>\n",
       "      <td>0.327030</td>\n",
       "      <td>0.328268</td>\n",
       "      <td>0.586444</td>\n",
       "      <td>0.510685</td>\n",
       "      <td>0.277349</td>\n",
       "    </tr>\n",
       "    <tr>\n",
       "      <th>2021-10-07 15:12:00</th>\n",
       "      <td>0.098893</td>\n",
       "      <td>0.785093</td>\n",
       "      <td>0.02962</td>\n",
       "      <td>0.077646</td>\n",
       "      <td>0.0</td>\n",
       "      <td>0.534636</td>\n",
       "      <td>0.460639</td>\n",
       "      <td>0.531045</td>\n",
       "      <td>0.309744</td>\n",
       "      <td>0.330145</td>\n",
       "      <td>0.281104</td>\n",
       "      <td>0.327030</td>\n",
       "      <td>0.328484</td>\n",
       "      <td>0.611053</td>\n",
       "      <td>0.531662</td>\n",
       "      <td>0.279702</td>\n",
       "    </tr>\n",
       "  </tbody>\n",
       "</table>\n",
       "</div>"
      ],
      "text/plain": [
       "                      T_Lam_9  MG_NIR_Salida_Ext  Conc_P3-11  TT-35-GO  \\\n",
       "Time                                                                     \n",
       "2021-10-07 15:00:00  0.086037           0.725236     0.02962  0.108910   \n",
       "2021-10-07 15:03:00  0.089563           0.726583     0.02962  0.102093   \n",
       "2021-10-07 15:06:00  0.093035           0.826301     0.02962  0.078385   \n",
       "2021-10-07 15:09:00  0.096127           0.783242     0.02962  0.078234   \n",
       "2021-10-07 15:12:00  0.098893           0.785093     0.02962  0.077646   \n",
       "\n",
       "                     T_Lam_9_55  Humedad_Semilla  T_Mat_entrada  T_Solvente  \\\n",
       "Time                                                                          \n",
       "2021-10-07 15:00:00         0.0         0.534636       0.324695    0.443189   \n",
       "2021-10-07 15:03:00         0.0         0.534636       0.340239    0.313222   \n",
       "2021-10-07 15:06:00         0.0         0.533409       0.385105    0.314746   \n",
       "2021-10-07 15:09:00         0.0         0.533918       0.442633    0.293762   \n",
       "2021-10-07 15:12:00         0.0         0.534636       0.460639    0.531045   \n",
       "\n",
       "                     Q_Solvente  Ritmo_Molienda  Q_Miscela  Vel_Extractor  \\\n",
       "Time                                                                        \n",
       "2021-10-07 15:00:00    0.325671        0.329397   0.282113       0.328315   \n",
       "2021-10-07 15:03:00    0.307250        0.329384   0.281493       0.327030   \n",
       "2021-10-07 15:06:00    0.333278        0.329414   0.280784       0.327030   \n",
       "2021-10-07 15:09:00    0.317303        0.329656   0.280892       0.327030   \n",
       "2021-10-07 15:12:00    0.309744        0.330145   0.281104       0.327030   \n",
       "\n",
       "                     Conc_Miscela  Solvente_NIR_Salida_Ext     LT-17  TT-35-GI  \n",
       "Time                                                                            \n",
       "2021-10-07 15:00:00      0.312149                 0.605080  0.505380  0.269928  \n",
       "2021-10-07 15:03:00      0.318091                 0.591038  0.496463  0.281288  \n",
       "2021-10-07 15:06:00      0.325121                 0.584253  0.498974  0.269985  \n",
       "2021-10-07 15:09:00      0.328268                 0.586444  0.510685  0.277349  \n",
       "2021-10-07 15:12:00      0.328484                 0.611053  0.531662  0.279702  "
      ]
     },
     "execution_count": 3,
     "metadata": {},
     "output_type": "execute_result"
    }
   ],
   "source": [
    "# data=pd.read_csv(r'C:\\Users\\alexb\\Documents\\Facultad\\UBA\\Modelo_PGSM_3T\\Datos\\20210811 - Segunda corrida de datos\\To_FS_20210913_2137_3T.csv', delimiter=',', sep='\\n', decimal='.', index_col='Time')\n",
    "data = pd.read_pickle('./To_FS_20211121.pkl')\n",
    "data.head()"
   ]
  },
  {
   "cell_type": "code",
   "execution_count": 5,
   "id": "6f9b2f60",
   "metadata": {},
   "outputs": [],
   "source": [
    "X = data.drop(columns = 'MG_NIR_Salida_Ext')\n",
    "y = data.MG_NIR_Salida_Ext"
   ]
  },
  {
   "cell_type": "markdown",
   "id": "75f5d04e",
   "metadata": {},
   "source": [
    "# SELECT FROM MODEL (SFM)"
   ]
  },
  {
   "cell_type": "markdown",
   "id": "fca93e03",
   "metadata": {},
   "source": [
    "**SFM** o **SELECT FROM MODEL** es un método de selección de features que utiliza las estimaciones de un modelo (al igual que RFE). La diferencia es que en este caso la selección de las features se hace estableciendo un umbral para el atributo que se está evaluando (coeficientes o feature importances).\n",
    "\n",
    "*Primer conjunto de variables seleccionado: Index(['Conc_P3-4_MVA', 'T_Lam_9_MVA', 'Conc_P1', 'T_Mat_entrada_MVA'], dtype='object')*"
   ]
  },
  {
   "cell_type": "code",
   "execution_count": 6,
   "id": "147d517b",
   "metadata": {},
   "outputs": [],
   "source": [
    "from sklearn.ensemble import GradientBoostingRegressor"
   ]
  },
  {
   "cell_type": "code",
   "execution_count": 7,
   "id": "7da79b5d",
   "metadata": {},
   "outputs": [],
   "source": [
    "from sklearn.feature_selection import SelectFromModel"
   ]
  },
  {
   "cell_type": "code",
   "execution_count": 8,
   "id": "2c12cb62",
   "metadata": {},
   "outputs": [],
   "source": [
    "sfm_selector = SelectFromModel(estimator = GradientBoostingRegressor())"
   ]
  },
  {
   "cell_type": "code",
   "execution_count": 9,
   "id": "193f1dd9",
   "metadata": {},
   "outputs": [
    {
     "data": {
      "text/plain": [
       "SelectFromModel(estimator=GradientBoostingRegressor())"
      ]
     },
     "execution_count": 9,
     "metadata": {},
     "output_type": "execute_result"
    }
   ],
   "source": [
    "sfm_selector.fit(X, y)"
   ]
  },
  {
   "cell_type": "code",
   "execution_count": 10,
   "id": "a5e01524",
   "metadata": {},
   "outputs": [
    {
     "data": {
      "text/plain": [
       "Index(['T_Lam_9', 'Conc_P3-11', 'TT-35-GO', 'Q_Miscela', 'LT-17'], dtype='object')"
      ]
     },
     "execution_count": 10,
     "metadata": {},
     "output_type": "execute_result"
    }
   ],
   "source": [
    "X.columns[sfm_selector.get_support()]"
   ]
  },
  {
   "cell_type": "markdown",
   "id": "84a60fc4",
   "metadata": {},
   "source": [
    "# RECURSIVE FEATURE ELIMINATION (RFE)"
   ]
  },
  {
   "cell_type": "markdown",
   "id": "7264c914",
   "metadata": {},
   "source": [
    "**RFE** o **RECURSIVE FEATURE ELIMINATION** es un método de selección de características utilizado en ML en donde se elimina la característica menos importantes luego de entrenar de forma recursiva.\n",
    "\n",
    "Se comienza entrenando en el conjunto completo de features y se obtiene la importancia de cada feature mediante los coeficientes del modelo. En base a eso, la feature con menos importancia es eliminada.\n",
    "El proceso se repite hasta alcanzar el numero deseado de características.\n",
    "\n",
    "*Primer conjunto de variables seleccionado: Index(['Conc_P3-4_MVA', 'T_Lam_9_MVA', 'Conc_P1', 'T_Mat_entrada_MVA'], dtype='object')*"
   ]
  },
  {
   "cell_type": "code",
   "execution_count": 11,
   "id": "8c592009",
   "metadata": {},
   "outputs": [],
   "source": [
    "from sklearn.feature_selection import RFE"
   ]
  },
  {
   "cell_type": "code",
   "execution_count": 15,
   "id": "47ee4946",
   "metadata": {},
   "outputs": [],
   "source": [
    "rfe_selector = RFE(estimator = GradientBoostingRegressor(), n_features_to_select = 6, step = 1) # step es la cantidad de features que se descartan por iteración"
   ]
  },
  {
   "cell_type": "code",
   "execution_count": 16,
   "id": "31f3f223",
   "metadata": {},
   "outputs": [
    {
     "data": {
      "text/plain": [
       "RFE(estimator=GradientBoostingRegressor(), n_features_to_select=6)"
      ]
     },
     "execution_count": 16,
     "metadata": {},
     "output_type": "execute_result"
    }
   ],
   "source": [
    "rfe_selector.fit(X, y)"
   ]
  },
  {
   "cell_type": "code",
   "execution_count": 17,
   "id": "304f1079",
   "metadata": {},
   "outputs": [
    {
     "data": {
      "text/plain": [
       "Index(['T_Lam_9', 'Conc_P3-11', 'TT-35-GO', 'T_Mat_entrada', 'Q_Miscela',\n",
       "       'LT-17'],\n",
       "      dtype='object')"
      ]
     },
     "execution_count": 17,
     "metadata": {},
     "output_type": "execute_result"
    }
   ],
   "source": [
    "X.columns[rfe_selector.get_support()]"
   ]
  },
  {
   "cell_type": "markdown",
   "id": "854aa632",
   "metadata": {},
   "source": [
    "# SEQUENTIAL FEATURE SELECTION (SFS)"
   ]
  },
  {
   "cell_type": "markdown",
   "id": "7b106e9b",
   "metadata": {},
   "source": [
    "**SFE** o **SEQUENTIAL FEATURE SELECTION** es un algorítmo de selección de features que utiliza el puntaje obtenido con el CV set como estimador para seleccionar las mejores features.\n",
    "Existen dos variantes de este algorítmo: SFS-Forward y SFS-Backward.\n",
    "\n",
    "En el caso de SFS-Forward, se comienza con una única feature (la que mejor resultado brinda por si sola en el CV set). Luego se van seleccionando de a una, las variables que mejor se desempeñan, hasta alcanzar el numero de características deseadas.\n",
    "\n",
    "Notar que en este caso **no se usan los atributos del modelo: coef_ ni feature_importances_**. Por otro lado, este algorítmo es más lento, ya que resulta de entrenar el modelo múltiples veces.\n",
    "\n",
    "*Primer conjunto de variables seleccionado: Index(['Vel_Extractor', 'T_Mat_entrada_MVA', 'TT-35-GI', 'T_Solvente_MVA'], dtype='object')*"
   ]
  },
  {
   "cell_type": "code",
   "execution_count": 18,
   "id": "6ecc59ab",
   "metadata": {},
   "outputs": [],
   "source": [
    "from sklearn.feature_selection import SequentialFeatureSelector"
   ]
  },
  {
   "cell_type": "code",
   "execution_count": 19,
   "id": "403179ff",
   "metadata": {},
   "outputs": [],
   "source": [
    "sfs_selector = SequentialFeatureSelector(estimator = GradientBoostingRegressor(), n_features_to_select = 6, cv = 4, direction = 'forward')"
   ]
  },
  {
   "cell_type": "code",
   "execution_count": 20,
   "id": "71e3354e",
   "metadata": {},
   "outputs": [
    {
     "data": {
      "text/plain": [
       "SequentialFeatureSelector(cv=4, estimator=GradientBoostingRegressor(),\n",
       "                          n_features_to_select=6)"
      ]
     },
     "execution_count": 20,
     "metadata": {},
     "output_type": "execute_result"
    }
   ],
   "source": [
    "sfs_selector.fit(X, y)"
   ]
  },
  {
   "cell_type": "code",
   "execution_count": 21,
   "id": "39404463",
   "metadata": {},
   "outputs": [
    {
     "data": {
      "text/plain": [
       "Index(['Conc_P3-11', 'T_Lam_9_55', 'Humedad_Semilla', 'T_Solvente',\n",
       "       'Ritmo_Molienda', 'TT-35-GI'],\n",
       "      dtype='object')"
      ]
     },
     "execution_count": 21,
     "metadata": {},
     "output_type": "execute_result"
    }
   ],
   "source": [
    "X.columns[sfs_selector.get_support()]"
   ]
  },
  {
   "cell_type": "code",
   "execution_count": 42,
   "id": "d0ed65f9",
   "metadata": {},
   "outputs": [
    {
     "data": {
      "text/plain": [
       "{'cv': 4,\n",
       " 'direction': 'forward',\n",
       " 'estimator__alpha': 0.9,\n",
       " 'estimator__ccp_alpha': 0.0,\n",
       " 'estimator__criterion': 'friedman_mse',\n",
       " 'estimator__init': None,\n",
       " 'estimator__learning_rate': 0.1,\n",
       " 'estimator__loss': 'ls',\n",
       " 'estimator__max_depth': 3,\n",
       " 'estimator__max_features': None,\n",
       " 'estimator__max_leaf_nodes': None,\n",
       " 'estimator__min_impurity_decrease': 0.0,\n",
       " 'estimator__min_impurity_split': None,\n",
       " 'estimator__min_samples_leaf': 1,\n",
       " 'estimator__min_samples_split': 2,\n",
       " 'estimator__min_weight_fraction_leaf': 0.0,\n",
       " 'estimator__n_estimators': 100,\n",
       " 'estimator__n_iter_no_change': None,\n",
       " 'estimator__random_state': None,\n",
       " 'estimator__subsample': 1.0,\n",
       " 'estimator__tol': 0.0001,\n",
       " 'estimator__validation_fraction': 0.1,\n",
       " 'estimator__verbose': 0,\n",
       " 'estimator__warm_start': False,\n",
       " 'estimator': GradientBoostingRegressor(),\n",
       " 'n_features_to_select': 4,\n",
       " 'n_jobs': None,\n",
       " 'scoring': None}"
      ]
     },
     "execution_count": 42,
     "metadata": {},
     "output_type": "execute_result"
    }
   ],
   "source": [
    "sfs_selector.get_params()"
   ]
  }
 ],
 "metadata": {
  "kernelspec": {
   "display_name": "Python 3",
   "language": "python",
   "name": "python3"
  },
  "language_info": {
   "codemirror_mode": {
    "name": "ipython",
    "version": 3
   },
   "file_extension": ".py",
   "mimetype": "text/x-python",
   "name": "python",
   "nbconvert_exporter": "python",
   "pygments_lexer": "ipython3",
   "version": "3.8.8"
  }
 },
 "nbformat": 4,
 "nbformat_minor": 5
}
