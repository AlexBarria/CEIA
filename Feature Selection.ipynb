{
 "cells": [
  {
   "cell_type": "code",
   "execution_count": 1,
   "id": "b907b5fc",
   "metadata": {},
   "outputs": [
    {
     "data": {
      "text/html": [
       "<style>.container { width:100% !important; }</style>"
      ],
      "text/plain": [
       "<IPython.core.display.HTML object>"
      ]
     },
     "metadata": {},
     "output_type": "display_data"
    }
   ],
   "source": [
    "# Importaciones\n",
    "import pandas as pd\n",
    "import matplotlib.pyplot as plt\n",
    "pd.options.plotting.backend = \"plotly\"\n",
    "import numpy as np\n",
    "from sklearn import preprocessing\n",
    "import seaborn as sns\n",
    "from datetime import datetime\n",
    "from IPython.core.display import display, HTML\n",
    "from scipy import stats\n",
    "display(HTML(\"<style>.container { width:100% !important; }</style>\"))"
   ]
  },
  {
   "cell_type": "code",
   "execution_count": 8,
   "id": "26b309df",
   "metadata": {
    "collapsed": true
   },
   "outputs": [
    {
     "data": {
      "text/html": [
       "<div>\n",
       "<style scoped>\n",
       "    .dataframe tbody tr th:only-of-type {\n",
       "        vertical-align: middle;\n",
       "    }\n",
       "\n",
       "    .dataframe tbody tr th {\n",
       "        vertical-align: top;\n",
       "    }\n",
       "\n",
       "    .dataframe thead th {\n",
       "        text-align: right;\n",
       "    }\n",
       "</style>\n",
       "<table border=\"1\" class=\"dataframe\">\n",
       "  <thead>\n",
       "    <tr style=\"text-align: right;\">\n",
       "      <th></th>\n",
       "      <th>Unnamed: 0</th>\n",
       "      <th>LT-17</th>\n",
       "      <th>Conc_P3-4_MVA</th>\n",
       "      <th>T_Lam_9_MVA</th>\n",
       "      <th>Conc_P1</th>\n",
       "      <th>Humedad_Semilla_MVA</th>\n",
       "      <th>Vel_Extractor</th>\n",
       "      <th>T_Mat_entrada_MVA</th>\n",
       "      <th>TT-35-GI</th>\n",
       "      <th>MG_NIR_Salida_Ext_MVA</th>\n",
       "      <th>T_Solvente_MVA</th>\n",
       "      <th>CP1_/_HumedadMat</th>\n",
       "      <th>CP1_/_TLam</th>\n",
       "      <th>CP34_/_CP1</th>\n",
       "    </tr>\n",
       "    <tr>\n",
       "      <th>Time</th>\n",
       "      <th></th>\n",
       "      <th></th>\n",
       "      <th></th>\n",
       "      <th></th>\n",
       "      <th></th>\n",
       "      <th></th>\n",
       "      <th></th>\n",
       "      <th></th>\n",
       "      <th></th>\n",
       "      <th></th>\n",
       "      <th></th>\n",
       "      <th></th>\n",
       "      <th></th>\n",
       "      <th></th>\n",
       "    </tr>\n",
       "  </thead>\n",
       "  <tbody>\n",
       "    <tr>\n",
       "      <th>2021-07-25 00:05:01</th>\n",
       "      <td>0</td>\n",
       "      <td>-0.459938</td>\n",
       "      <td>0.3857</td>\n",
       "      <td>2.091497</td>\n",
       "      <td>0.192989</td>\n",
       "      <td>0.926836</td>\n",
       "      <td>0.036691</td>\n",
       "      <td>-0.360824</td>\n",
       "      <td>1.133000</td>\n",
       "      <td>-1.167139</td>\n",
       "      <td>0.407761</td>\n",
       "      <td>0.208224</td>\n",
       "      <td>0.092273</td>\n",
       "      <td>1.998557</td>\n",
       "    </tr>\n",
       "    <tr>\n",
       "      <th>2021-07-25 00:05:02</th>\n",
       "      <td>1</td>\n",
       "      <td>-0.459938</td>\n",
       "      <td>0.3857</td>\n",
       "      <td>2.091240</td>\n",
       "      <td>0.192989</td>\n",
       "      <td>0.926836</td>\n",
       "      <td>0.036691</td>\n",
       "      <td>-0.359523</td>\n",
       "      <td>1.088869</td>\n",
       "      <td>-1.166637</td>\n",
       "      <td>0.412988</td>\n",
       "      <td>0.208224</td>\n",
       "      <td>0.092285</td>\n",
       "      <td>1.998557</td>\n",
       "    </tr>\n",
       "    <tr>\n",
       "      <th>2021-07-25 00:05:03</th>\n",
       "      <td>2</td>\n",
       "      <td>-0.460231</td>\n",
       "      <td>0.3857</td>\n",
       "      <td>2.090983</td>\n",
       "      <td>0.192989</td>\n",
       "      <td>0.927124</td>\n",
       "      <td>0.036691</td>\n",
       "      <td>-0.358376</td>\n",
       "      <td>1.133000</td>\n",
       "      <td>-1.166051</td>\n",
       "      <td>0.417819</td>\n",
       "      <td>0.208159</td>\n",
       "      <td>0.092296</td>\n",
       "      <td>1.998557</td>\n",
       "    </tr>\n",
       "    <tr>\n",
       "      <th>2021-07-25 00:05:04</th>\n",
       "      <td>3</td>\n",
       "      <td>-0.460231</td>\n",
       "      <td>0.3857</td>\n",
       "      <td>2.090725</td>\n",
       "      <td>0.192989</td>\n",
       "      <td>0.927989</td>\n",
       "      <td>0.036691</td>\n",
       "      <td>-0.357764</td>\n",
       "      <td>1.133000</td>\n",
       "      <td>-1.165389</td>\n",
       "      <td>0.422649</td>\n",
       "      <td>0.207965</td>\n",
       "      <td>0.092307</td>\n",
       "      <td>1.998557</td>\n",
       "    </tr>\n",
       "    <tr>\n",
       "      <th>2021-07-25 00:05:05</th>\n",
       "      <td>4</td>\n",
       "      <td>-0.459938</td>\n",
       "      <td>0.3857</td>\n",
       "      <td>2.090468</td>\n",
       "      <td>0.192989</td>\n",
       "      <td>0.928853</td>\n",
       "      <td>0.036691</td>\n",
       "      <td>-0.357382</td>\n",
       "      <td>1.133000</td>\n",
       "      <td>-1.164659</td>\n",
       "      <td>0.427479</td>\n",
       "      <td>0.207772</td>\n",
       "      <td>0.092319</td>\n",
       "      <td>1.998557</td>\n",
       "    </tr>\n",
       "  </tbody>\n",
       "</table>\n",
       "</div>"
      ],
      "text/plain": [
       "                     Unnamed: 0     LT-17  Conc_P3-4_MVA  T_Lam_9_MVA  \\\n",
       "Time                                                                    \n",
       "2021-07-25 00:05:01           0 -0.459938         0.3857     2.091497   \n",
       "2021-07-25 00:05:02           1 -0.459938         0.3857     2.091240   \n",
       "2021-07-25 00:05:03           2 -0.460231         0.3857     2.090983   \n",
       "2021-07-25 00:05:04           3 -0.460231         0.3857     2.090725   \n",
       "2021-07-25 00:05:05           4 -0.459938         0.3857     2.090468   \n",
       "\n",
       "                      Conc_P1  Humedad_Semilla_MVA  Vel_Extractor  \\\n",
       "Time                                                                \n",
       "2021-07-25 00:05:01  0.192989             0.926836       0.036691   \n",
       "2021-07-25 00:05:02  0.192989             0.926836       0.036691   \n",
       "2021-07-25 00:05:03  0.192989             0.927124       0.036691   \n",
       "2021-07-25 00:05:04  0.192989             0.927989       0.036691   \n",
       "2021-07-25 00:05:05  0.192989             0.928853       0.036691   \n",
       "\n",
       "                     T_Mat_entrada_MVA  TT-35-GI  MG_NIR_Salida_Ext_MVA  \\\n",
       "Time                                                                      \n",
       "2021-07-25 00:05:01          -0.360824  1.133000              -1.167139   \n",
       "2021-07-25 00:05:02          -0.359523  1.088869              -1.166637   \n",
       "2021-07-25 00:05:03          -0.358376  1.133000              -1.166051   \n",
       "2021-07-25 00:05:04          -0.357764  1.133000              -1.165389   \n",
       "2021-07-25 00:05:05          -0.357382  1.133000              -1.164659   \n",
       "\n",
       "                     T_Solvente_MVA  CP1_/_HumedadMat  CP1_/_TLam  CP34_/_CP1  \n",
       "Time                                                                           \n",
       "2021-07-25 00:05:01        0.407761          0.208224    0.092273    1.998557  \n",
       "2021-07-25 00:05:02        0.412988          0.208224    0.092285    1.998557  \n",
       "2021-07-25 00:05:03        0.417819          0.208159    0.092296    1.998557  \n",
       "2021-07-25 00:05:04        0.422649          0.207965    0.092307    1.998557  \n",
       "2021-07-25 00:05:05        0.427479          0.207772    0.092319    1.998557  "
      ]
     },
     "execution_count": 8,
     "metadata": {},
     "output_type": "execute_result"
    }
   ],
   "source": [
    "data=pd.read_csv(r'C:\\Users\\alexb\\Documents\\Facultad\\UBA\\Modelo_PGSM_3T\\Datos\\20210811 - Segunda corrida de datos\\To_FS_20210913_2137_3T.csv', delimiter=',', sep='\\n', decimal='.', index_col='Time')\n",
    "data.head()"
   ]
  },
  {
   "cell_type": "code",
   "execution_count": 12,
   "id": "4d3e7b9f",
   "metadata": {},
   "outputs": [],
   "source": [
    "data.drop(columns = 'Unnamed: 0', inplace = True)"
   ]
  },
  {
   "cell_type": "code",
   "execution_count": 19,
   "id": "6f9b2f60",
   "metadata": {},
   "outputs": [],
   "source": [
    "X = data.drop(columns = 'MG_NIR_Salida_Ext_MVA')\n",
    "y = data.MG_NIR_Salida_Ext_MVA"
   ]
  },
  {
   "cell_type": "markdown",
   "id": "75f5d04e",
   "metadata": {},
   "source": [
    "# SELECT FROM MODEL (SFM)"
   ]
  },
  {
   "cell_type": "markdown",
   "id": "fca93e03",
   "metadata": {},
   "source": [
    "**SFM** o **SELECT FROM MODEL** es un método de selección de features que utiliza las estimaciones de un modelo (al igual que RFE). La diferencia es que en este caso la selección de las features se hace estableciendo un umbral para el atributo que se está evaluando (coeficientes o feature importances)."
   ]
  },
  {
   "cell_type": "code",
   "execution_count": 21,
   "id": "147d517b",
   "metadata": {},
   "outputs": [],
   "source": [
    "from sklearn.ensemble import GradientBoostingRegressor"
   ]
  },
  {
   "cell_type": "code",
   "execution_count": 16,
   "id": "7da79b5d",
   "metadata": {},
   "outputs": [],
   "source": [
    "from sklearn.feature_selection import SelectFromModel"
   ]
  },
  {
   "cell_type": "code",
   "execution_count": 22,
   "id": "2c12cb62",
   "metadata": {},
   "outputs": [],
   "source": [
    "sfm_selector = SelectFromModel(estimator = GradientBoostingRegressor())"
   ]
  },
  {
   "cell_type": "code",
   "execution_count": 23,
   "id": "193f1dd9",
   "metadata": {},
   "outputs": [
    {
     "data": {
      "text/plain": [
       "SelectFromModel(estimator=GradientBoostingRegressor())"
      ]
     },
     "execution_count": 23,
     "metadata": {},
     "output_type": "execute_result"
    }
   ],
   "source": [
    "sfm_selector.fit(X, y)"
   ]
  },
  {
   "cell_type": "code",
   "execution_count": 24,
   "id": "a5e01524",
   "metadata": {},
   "outputs": [
    {
     "data": {
      "text/plain": [
       "Index(['Conc_P3-4_MVA', 'T_Lam_9_MVA', 'Conc_P1', 'T_Mat_entrada_MVA'], dtype='object')"
      ]
     },
     "execution_count": 24,
     "metadata": {},
     "output_type": "execute_result"
    }
   ],
   "source": [
    "X.columns[sfm_selector.get_support()]"
   ]
  },
  {
   "cell_type": "markdown",
   "id": "84a60fc4",
   "metadata": {},
   "source": [
    "# RECURSIVE FEATURE ELIMINATION (RFE)"
   ]
  },
  {
   "cell_type": "markdown",
   "id": "7264c914",
   "metadata": {},
   "source": [
    "**RFE** o **RECURSIVE FEATURE ELIMINATION** es un método de selección de características utilizado en ML en donde se elimina la característica menos importantes luego de entrenar de forma recursiva.\n",
    "\n",
    "Se comienza entrenando en el conjunto completo de features y se obtiene la importancia de cada feature mediante los coeficientes del modelo. En base a eso, la feature con menos importancia es eliminada.\n",
    "El proceso se repite hasta alcanzar el numero deseado de características."
   ]
  },
  {
   "cell_type": "code",
   "execution_count": 25,
   "id": "8c592009",
   "metadata": {},
   "outputs": [],
   "source": [
    "from sklearn.feature_selection import RFE"
   ]
  },
  {
   "cell_type": "code",
   "execution_count": 26,
   "id": "47ee4946",
   "metadata": {},
   "outputs": [],
   "source": [
    "rfe_selector = RFE(estimator = GradientBoostingRegressor(), n_features_to_select = 4, step = 1) # step es la cantidad de features que se descartan por iteración"
   ]
  },
  {
   "cell_type": "code",
   "execution_count": 27,
   "id": "31f3f223",
   "metadata": {},
   "outputs": [
    {
     "data": {
      "text/plain": [
       "RFE(estimator=GradientBoostingRegressor(), n_features_to_select=4)"
      ]
     },
     "execution_count": 27,
     "metadata": {},
     "output_type": "execute_result"
    }
   ],
   "source": [
    "rfe_selector.fit(X, y)"
   ]
  },
  {
   "cell_type": "code",
   "execution_count": 28,
   "id": "304f1079",
   "metadata": {},
   "outputs": [
    {
     "data": {
      "text/plain": [
       "Index(['Conc_P3-4_MVA', 'T_Lam_9_MVA', 'Conc_P1', 'T_Mat_entrada_MVA'], dtype='object')"
      ]
     },
     "execution_count": 28,
     "metadata": {},
     "output_type": "execute_result"
    }
   ],
   "source": [
    "X.columns[rfe_selector.get_support()]"
   ]
  },
  {
   "cell_type": "markdown",
   "id": "854aa632",
   "metadata": {},
   "source": [
    "# SEQUENTIAL FEATURE SELECTION (SFS)"
   ]
  },
  {
   "cell_type": "markdown",
   "id": "7b106e9b",
   "metadata": {},
   "source": [
    "**SFE** o **SEQUENTIAL FEATURE SELECTION** es un algorítmo de selección de features que utiliza el puntaje obtenido con el CV set como estimador para seleccionar las mejores features.\n",
    "Existen dos variantes de este algorítmo: SFS-Forward y SFS-Backward.\n",
    "\n",
    "En el caso de SFS-Forward, se comienza con una única feature (la que mejor resultado brinda por si sola en el CV set). Luego se van seleccionando de a una, las variables que mejor se desempeñan, hasta alcanzar el numero de características deseadas.\n",
    "\n",
    "Notar que en este caso **no se usan los atributos del modelo: coef_ ni feature_importances_**. Por otro lado, este algorítmo es más lento, ya que resulta de entrenar el modelo múltiples veces."
   ]
  },
  {
   "cell_type": "code",
   "execution_count": 30,
   "id": "6ecc59ab",
   "metadata": {},
   "outputs": [],
   "source": [
    "from sklearn.feature_selection import SequentialFeatureSelector"
   ]
  },
  {
   "cell_type": "code",
   "execution_count": 37,
   "id": "403179ff",
   "metadata": {},
   "outputs": [],
   "source": [
    "sfs_selector = SequentialFeatureSelector(estimator = GradientBoostingRegressor(), n_features_to_select = 4, cv = 4, direction = 'forward')"
   ]
  },
  {
   "cell_type": "code",
   "execution_count": 38,
   "id": "71e3354e",
   "metadata": {},
   "outputs": [
    {
     "data": {
      "text/plain": [
       "SequentialFeatureSelector(cv=4, estimator=GradientBoostingRegressor(),\n",
       "                          n_features_to_select=4)"
      ]
     },
     "execution_count": 38,
     "metadata": {},
     "output_type": "execute_result"
    }
   ],
   "source": [
    "sfs_selector.fit(X, y)"
   ]
  },
  {
   "cell_type": "code",
   "execution_count": 39,
   "id": "39404463",
   "metadata": {},
   "outputs": [
    {
     "data": {
      "text/plain": [
       "Index(['Vel_Extractor', 'T_Mat_entrada_MVA', 'TT-35-GI', 'T_Solvente_MVA'], dtype='object')"
      ]
     },
     "execution_count": 39,
     "metadata": {},
     "output_type": "execute_result"
    }
   ],
   "source": [
    "X.columns[sfs_selector.get_support()]"
   ]
  },
  {
   "cell_type": "code",
   "execution_count": 42,
   "id": "d0ed65f9",
   "metadata": {},
   "outputs": [
    {
     "data": {
      "text/plain": [
       "{'cv': 4,\n",
       " 'direction': 'forward',\n",
       " 'estimator__alpha': 0.9,\n",
       " 'estimator__ccp_alpha': 0.0,\n",
       " 'estimator__criterion': 'friedman_mse',\n",
       " 'estimator__init': None,\n",
       " 'estimator__learning_rate': 0.1,\n",
       " 'estimator__loss': 'ls',\n",
       " 'estimator__max_depth': 3,\n",
       " 'estimator__max_features': None,\n",
       " 'estimator__max_leaf_nodes': None,\n",
       " 'estimator__min_impurity_decrease': 0.0,\n",
       " 'estimator__min_impurity_split': None,\n",
       " 'estimator__min_samples_leaf': 1,\n",
       " 'estimator__min_samples_split': 2,\n",
       " 'estimator__min_weight_fraction_leaf': 0.0,\n",
       " 'estimator__n_estimators': 100,\n",
       " 'estimator__n_iter_no_change': None,\n",
       " 'estimator__random_state': None,\n",
       " 'estimator__subsample': 1.0,\n",
       " 'estimator__tol': 0.0001,\n",
       " 'estimator__validation_fraction': 0.1,\n",
       " 'estimator__verbose': 0,\n",
       " 'estimator__warm_start': False,\n",
       " 'estimator': GradientBoostingRegressor(),\n",
       " 'n_features_to_select': 4,\n",
       " 'n_jobs': None,\n",
       " 'scoring': None}"
      ]
     },
     "execution_count": 42,
     "metadata": {},
     "output_type": "execute_result"
    }
   ],
   "source": [
    "sfs_selector.get_params()"
   ]
  }
 ],
 "metadata": {
  "kernelspec": {
   "display_name": "Python 3",
   "language": "python",
   "name": "python3"
  },
  "language_info": {
   "codemirror_mode": {
    "name": "ipython",
    "version": 3
   },
   "file_extension": ".py",
   "mimetype": "text/x-python",
   "name": "python",
   "nbconvert_exporter": "python",
   "pygments_lexer": "ipython3",
   "version": "3.8.8"
  }
 },
 "nbformat": 4,
 "nbformat_minor": 5
}
