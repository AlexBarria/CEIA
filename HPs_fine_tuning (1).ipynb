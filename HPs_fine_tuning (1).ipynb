{
  "cells": [
    {
      "cell_type": "markdown",
      "metadata": {
        "id": "kifyQO_kCC3u"
      },
      "source": [
        "# HYPER PARAMETERS FINE TUNING USING OPTUNA"
      ]
    },
    {
      "cell_type": "code",
      "source": [
        "!pip install optuna"
      ],
      "metadata": {
        "colab": {
          "base_uri": "https://localhost:8080/"
        },
        "id": "mAHAmknBCScj",
        "outputId": "d4a93ee3-7201-448b-9d9e-86812770537f"
      },
      "execution_count": null,
      "outputs": [
        {
          "output_type": "stream",
          "name": "stdout",
          "text": [
            "Collecting optuna\n",
            "  Downloading optuna-2.10.0-py3-none-any.whl (308 kB)\n",
            "\u001b[?25l\r\u001b[K     |█                               | 10 kB 22.9 MB/s eta 0:00:01\r\u001b[K     |██▏                             | 20 kB 8.8 MB/s eta 0:00:01\r\u001b[K     |███▏                            | 30 kB 7.6 MB/s eta 0:00:01\r\u001b[K     |████▎                           | 40 kB 3.6 MB/s eta 0:00:01\r\u001b[K     |█████▎                          | 51 kB 3.6 MB/s eta 0:00:01\r\u001b[K     |██████▍                         | 61 kB 4.3 MB/s eta 0:00:01\r\u001b[K     |███████▍                        | 71 kB 4.5 MB/s eta 0:00:01\r\u001b[K     |████████▌                       | 81 kB 4.8 MB/s eta 0:00:01\r\u001b[K     |█████████▋                      | 92 kB 5.3 MB/s eta 0:00:01\r\u001b[K     |██████████▋                     | 102 kB 4.3 MB/s eta 0:00:01\r\u001b[K     |███████████▊                    | 112 kB 4.3 MB/s eta 0:00:01\r\u001b[K     |████████████▊                   | 122 kB 4.3 MB/s eta 0:00:01\r\u001b[K     |█████████████▉                  | 133 kB 4.3 MB/s eta 0:00:01\r\u001b[K     |██████████████▉                 | 143 kB 4.3 MB/s eta 0:00:01\r\u001b[K     |████████████████                | 153 kB 4.3 MB/s eta 0:00:01\r\u001b[K     |█████████████████               | 163 kB 4.3 MB/s eta 0:00:01\r\u001b[K     |██████████████████              | 174 kB 4.3 MB/s eta 0:00:01\r\u001b[K     |███████████████████▏            | 184 kB 4.3 MB/s eta 0:00:01\r\u001b[K     |████████████████████▏           | 194 kB 4.3 MB/s eta 0:00:01\r\u001b[K     |█████████████████████▎          | 204 kB 4.3 MB/s eta 0:00:01\r\u001b[K     |██████████████████████▎         | 215 kB 4.3 MB/s eta 0:00:01\r\u001b[K     |███████████████████████▍        | 225 kB 4.3 MB/s eta 0:00:01\r\u001b[K     |████████████████████████▌       | 235 kB 4.3 MB/s eta 0:00:01\r\u001b[K     |█████████████████████████▌      | 245 kB 4.3 MB/s eta 0:00:01\r\u001b[K     |██████████████████████████▋     | 256 kB 4.3 MB/s eta 0:00:01\r\u001b[K     |███████████████████████████▋    | 266 kB 4.3 MB/s eta 0:00:01\r\u001b[K     |████████████████████████████▊   | 276 kB 4.3 MB/s eta 0:00:01\r\u001b[K     |█████████████████████████████▊  | 286 kB 4.3 MB/s eta 0:00:01\r\u001b[K     |██████████████████████████████▉ | 296 kB 4.3 MB/s eta 0:00:01\r\u001b[K     |████████████████████████████████| 307 kB 4.3 MB/s eta 0:00:01\r\u001b[K     |████████████████████████████████| 308 kB 4.3 MB/s \n",
            "\u001b[?25hCollecting cmaes>=0.8.2\n",
            "  Downloading cmaes-0.8.2-py3-none-any.whl (15 kB)\n",
            "Requirement already satisfied: scipy!=1.4.0 in /usr/local/lib/python3.7/dist-packages (from optuna) (1.4.1)\n",
            "Collecting colorlog\n",
            "  Downloading colorlog-6.6.0-py2.py3-none-any.whl (11 kB)\n",
            "Collecting cliff\n",
            "  Downloading cliff-3.10.1-py3-none-any.whl (81 kB)\n",
            "\u001b[K     |████████████████████████████████| 81 kB 8.5 MB/s \n",
            "\u001b[?25hRequirement already satisfied: packaging>=20.0 in /usr/local/lib/python3.7/dist-packages (from optuna) (21.3)\n",
            "Requirement already satisfied: tqdm in /usr/local/lib/python3.7/dist-packages (from optuna) (4.64.0)\n",
            "Requirement already satisfied: PyYAML in /usr/local/lib/python3.7/dist-packages (from optuna) (3.13)\n",
            "Collecting alembic\n",
            "  Downloading alembic-1.7.7-py3-none-any.whl (210 kB)\n",
            "\u001b[K     |████████████████████████████████| 210 kB 47.4 MB/s \n",
            "\u001b[?25hRequirement already satisfied: sqlalchemy>=1.1.0 in /usr/local/lib/python3.7/dist-packages (from optuna) (1.4.35)\n",
            "Requirement already satisfied: numpy in /usr/local/lib/python3.7/dist-packages (from optuna) (1.21.5)\n",
            "Requirement already satisfied: pyparsing!=3.0.5,>=2.0.2 in /usr/local/lib/python3.7/dist-packages (from packaging>=20.0->optuna) (3.0.8)\n",
            "Requirement already satisfied: importlib-metadata in /usr/local/lib/python3.7/dist-packages (from sqlalchemy>=1.1.0->optuna) (4.11.3)\n",
            "Requirement already satisfied: greenlet!=0.4.17 in /usr/local/lib/python3.7/dist-packages (from sqlalchemy>=1.1.0->optuna) (1.1.2)\n",
            "Requirement already satisfied: importlib-resources in /usr/local/lib/python3.7/dist-packages (from alembic->optuna) (5.6.0)\n",
            "Collecting Mako\n",
            "  Downloading Mako-1.2.0-py3-none-any.whl (78 kB)\n",
            "\u001b[K     |████████████████████████████████| 78 kB 5.6 MB/s \n",
            "\u001b[?25hCollecting stevedore>=2.0.1\n",
            "  Downloading stevedore-3.5.0-py3-none-any.whl (49 kB)\n",
            "\u001b[K     |████████████████████████████████| 49 kB 5.8 MB/s \n",
            "\u001b[?25hCollecting cmd2>=1.0.0\n",
            "  Downloading cmd2-2.4.1-py3-none-any.whl (146 kB)\n",
            "\u001b[K     |████████████████████████████████| 146 kB 47.8 MB/s \n",
            "\u001b[?25hCollecting autopage>=0.4.0\n",
            "  Downloading autopage-0.5.0-py3-none-any.whl (29 kB)\n",
            "Requirement already satisfied: PrettyTable>=0.7.2 in /usr/local/lib/python3.7/dist-packages (from cliff->optuna) (3.2.0)\n",
            "Collecting pbr!=2.1.0,>=2.0.0\n",
            "  Downloading pbr-5.8.1-py2.py3-none-any.whl (113 kB)\n",
            "\u001b[K     |████████████████████████████████| 113 kB 44.5 MB/s \n",
            "\u001b[?25hRequirement already satisfied: typing-extensions in /usr/local/lib/python3.7/dist-packages (from cmd2>=1.0.0->cliff->optuna) (4.1.1)\n",
            "Requirement already satisfied: wcwidth>=0.1.7 in /usr/local/lib/python3.7/dist-packages (from cmd2>=1.0.0->cliff->optuna) (0.2.5)\n",
            "Collecting pyperclip>=1.6\n",
            "  Downloading pyperclip-1.8.2.tar.gz (20 kB)\n",
            "Requirement already satisfied: attrs>=16.3.0 in /usr/local/lib/python3.7/dist-packages (from cmd2>=1.0.0->cliff->optuna) (21.4.0)\n",
            "Requirement already satisfied: zipp>=0.5 in /usr/local/lib/python3.7/dist-packages (from importlib-metadata->sqlalchemy>=1.1.0->optuna) (3.8.0)\n",
            "Requirement already satisfied: MarkupSafe>=0.9.2 in /usr/local/lib/python3.7/dist-packages (from Mako->alembic->optuna) (2.0.1)\n",
            "Building wheels for collected packages: pyperclip\n",
            "  Building wheel for pyperclip (setup.py) ... \u001b[?25l\u001b[?25hdone\n",
            "  Created wheel for pyperclip: filename=pyperclip-1.8.2-py3-none-any.whl size=11137 sha256=5faddd150096bcd732d2f1568496dc96b64b2fa9179839d313ba12ce684906d1\n",
            "  Stored in directory: /root/.cache/pip/wheels/9f/18/84/8f69f8b08169c7bae2dde6bd7daf0c19fca8c8e500ee620a28\n",
            "Successfully built pyperclip\n",
            "Installing collected packages: pyperclip, pbr, stevedore, Mako, cmd2, autopage, colorlog, cmaes, cliff, alembic, optuna\n",
            "Successfully installed Mako-1.2.0 alembic-1.7.7 autopage-0.5.0 cliff-3.10.1 cmaes-0.8.2 cmd2-2.4.1 colorlog-6.6.0 optuna-2.10.0 pbr-5.8.1 pyperclip-1.8.2 stevedore-3.5.0\n"
          ]
        }
      ]
    },
    {
      "cell_type": "code",
      "execution_count": null,
      "metadata": {
        "colab": {
          "base_uri": "https://localhost:8080/",
          "height": 17
        },
        "id": "lxLrejUECC3y",
        "outputId": "c92166c2-b0c1-4fc8-cfe3-a2929f107927"
      },
      "outputs": [
        {
          "output_type": "display_data",
          "data": {
            "text/plain": [
              "<IPython.core.display.HTML object>"
            ],
            "text/html": [
              "<style>.container { width:100% !important; }</style>"
            ]
          },
          "metadata": {}
        }
      ],
      "source": [
        "# LIBRARIES\n",
        "\n",
        "import numpy as np\n",
        "import pandas as pd\n",
        "#import matplotlib.pyplot as plt\n",
        "import xgboost as xgb\n",
        "import optuna\n",
        "from sklearn.metrics import mean_squared_error\n",
        "\n",
        "\n",
        "from IPython.core.display import display, HTML\n",
        "display(HTML(\"<style>.container { width:100% !important; }</style>\"))"
      ]
    },
    {
      "cell_type": "code",
      "source": [
        "from google.colab import drive\n",
        "drive.mount('/content/drive')\n",
        "%cd \"/content/drive/MyDrive/Colab_Notebooks/Proyecto_final\""
      ],
      "metadata": {
        "colab": {
          "base_uri": "https://localhost:8080/"
        },
        "id": "pG7Zj25MCq3V",
        "outputId": "43f6d912-122a-41da-d112-e7d56b0bf906"
      },
      "execution_count": null,
      "outputs": [
        {
          "output_type": "stream",
          "name": "stdout",
          "text": [
            "Mounted at /content/drive\n",
            "/content/drive/MyDrive/Colab_Notebooks/Proyecto_final\n"
          ]
        }
      ]
    },
    {
      "cell_type": "code",
      "execution_count": null,
      "metadata": {
        "id": "d-F_Mw-ECC3z"
      },
      "outputs": [],
      "source": [
        "# !pip install xgboost"
      ]
    },
    {
      "cell_type": "code",
      "execution_count": null,
      "metadata": {
        "id": "r9HYESyeCC30"
      },
      "outputs": [],
      "source": [
        "# DEFINE METRICS\n",
        "from sklearn.metrics import mean_squared_error, mean_absolute_error, explained_variance_score, r2_score"
      ]
    },
    {
      "cell_type": "code",
      "execution_count": null,
      "metadata": {
        "id": "VsNHHD0tCC30"
      },
      "outputs": [],
      "source": [
        "def get_metrics(y_true, y_pred, model_name):\n",
        "\n",
        "    RMSE = mean_squared_error(y_true, y_pred, squared=False)\n",
        "    MAE = mean_absolute_error(y_true, y_pred)\n",
        "    EVS = explained_variance_score(y_true, y_pred)\n",
        "    R2 = r2_score(y_true, y_pred)\n",
        "    print('El MSE obtenido con ' + model_name + ' es: ' + str(RMSE))\n",
        "    print('El MAE obtenido con ' + model_name + ' es: ' + str(MAE))\n",
        "    print('El EVS obtenido con ' + model_name + ' es: ' + str(EVS))\n",
        "    print('El R2 obtenido con ' + model_name + ' es: ' + str(R2))\n",
        "    \n",
        "    return [model_name, RMSE, MAE, EVS, R2]"
      ]
    },
    {
      "cell_type": "code",
      "source": [
        "!pip3 install pickle5\n",
        "import pickle5 as pickle"
      ],
      "metadata": {
        "colab": {
          "base_uri": "https://localhost:8080/"
        },
        "id": "4RGi9Oa8D8yt",
        "outputId": "56d634bb-791e-4488-acfe-0c101528b471"
      },
      "execution_count": null,
      "outputs": [
        {
          "output_type": "stream",
          "name": "stdout",
          "text": [
            "Collecting pickle5\n",
            "  Downloading pickle5-0.0.12-cp37-cp37m-manylinux_2_5_x86_64.manylinux1_x86_64.whl (256 kB)\n",
            "\u001b[?25l\r\u001b[K     |█▎                              | 10 kB 16.5 MB/s eta 0:00:01\r\u001b[K     |██▋                             | 20 kB 10.7 MB/s eta 0:00:01\r\u001b[K     |███▉                            | 30 kB 8.4 MB/s eta 0:00:01\r\u001b[K     |█████▏                          | 40 kB 3.8 MB/s eta 0:00:01\r\u001b[K     |██████▍                         | 51 kB 3.7 MB/s eta 0:00:01\r\u001b[K     |███████▊                        | 61 kB 4.4 MB/s eta 0:00:01\r\u001b[K     |█████████                       | 71 kB 4.7 MB/s eta 0:00:01\r\u001b[K     |██████████▎                     | 81 kB 3.5 MB/s eta 0:00:01\r\u001b[K     |███████████▌                    | 92 kB 3.9 MB/s eta 0:00:01\r\u001b[K     |████████████▉                   | 102 kB 4.4 MB/s eta 0:00:01\r\u001b[K     |██████████████                  | 112 kB 4.4 MB/s eta 0:00:01\r\u001b[K     |███████████████▍                | 122 kB 4.4 MB/s eta 0:00:01\r\u001b[K     |████████████████▋               | 133 kB 4.4 MB/s eta 0:00:01\r\u001b[K     |██████████████████              | 143 kB 4.4 MB/s eta 0:00:01\r\u001b[K     |███████████████████▏            | 153 kB 4.4 MB/s eta 0:00:01\r\u001b[K     |████████████████████▌           | 163 kB 4.4 MB/s eta 0:00:01\r\u001b[K     |█████████████████████▊          | 174 kB 4.4 MB/s eta 0:00:01\r\u001b[K     |███████████████████████         | 184 kB 4.4 MB/s eta 0:00:01\r\u001b[K     |████████████████████████▎       | 194 kB 4.4 MB/s eta 0:00:01\r\u001b[K     |█████████████████████████▋      | 204 kB 4.4 MB/s eta 0:00:01\r\u001b[K     |██████████████████████████▉     | 215 kB 4.4 MB/s eta 0:00:01\r\u001b[K     |████████████████████████████▏   | 225 kB 4.4 MB/s eta 0:00:01\r\u001b[K     |█████████████████████████████▍  | 235 kB 4.4 MB/s eta 0:00:01\r\u001b[K     |██████████████████████████████▊ | 245 kB 4.4 MB/s eta 0:00:01\r\u001b[K     |████████████████████████████████| 256 kB 4.4 MB/s eta 0:00:01\r\u001b[K     |████████████████████████████████| 256 kB 4.4 MB/s \n",
            "\u001b[?25hInstalling collected packages: pickle5\n",
            "Successfully installed pickle5-0.0.12\n"
          ]
        }
      ]
    },
    {
      "cell_type": "code",
      "execution_count": null,
      "metadata": {
        "id": "DgwMmDY3CC31"
      },
      "outputs": [],
      "source": [
        "# IMPORT DATA\n",
        "\n",
        "# train_set = pd.read_pickle('./TRAIN_TO_MODEL_20220212.pkl')\n",
        "# test_set = pd.read_pickle('./TEST_TO_MODEL_20220212.pkl')\n",
        "\n",
        "with open('./TRAIN_TO_MODEL_20220212.pkl', \"rb\") as fh:\n",
        "  train_set = pickle.load(fh)\n",
        "with open('./TEST_TO_MODEL_20220212.pkl', \"rb\") as fh:\n",
        "  test_set = pickle.load(fh)\n",
        "\n",
        "# Split train and test datasets\n",
        "\n",
        "X = train_set.drop(columns = ['MG_NIR_Salida_Ext_FUT30', 'MG_NIR_Salida_Ext_FUT15', 'MG_NIR_Salida_Ext_FUT3','Humedad_Semilla_LAG_FUT3', 'T_Lam_9_LAG_FUT3',\n",
        "       'Humedad_Semilla_LAG_FUT15', 'T_Lam_9_LAG_FUT15'])\n",
        "y = train_set['MG_NIR_Salida_Ext_FUT30']\n",
        "\n",
        "X_test = test_set.drop(columns = ['MG_NIR_Salida_Ext_FUT30', 'MG_NIR_Salida_Ext_FUT15', 'MG_NIR_Salida_Ext_FUT3','Humedad_Semilla_LAG_FUT3', 'T_Lam_9_LAG_FUT3',\n",
        "       'Humedad_Semilla_LAG_FUT15', 'T_Lam_9_LAG_FUT15'])\n",
        "y_test = test_set['MG_NIR_Salida_Ext_FUT30']\n",
        "\n",
        "\n",
        "# Split train and validation datasets\n",
        "from sklearn.model_selection import train_test_split\n",
        "X_train, X_val, y_train, y_val = train_test_split(X, y, test_size = 0.20, random_state = 42)"
      ]
    },
    {
      "cell_type": "code",
      "execution_count": null,
      "metadata": {
        "colab": {
          "base_uri": "https://localhost:8080/",
          "height": 287
        },
        "id": "dQLYh6vqCC31",
        "outputId": "5a425dc2-71a5-4bcb-d59d-5bf58456c6b9"
      },
      "outputs": [
        {
          "output_type": "execute_result",
          "data": {
            "text/plain": [
              "      TT-35-GI  Humedad_Semilla  T_Mat_entrada  T_Solvente  Q_Solvente  \\\n",
              "2887  0.509415         0.638268       0.664635    0.373273    0.750889   \n",
              "2715  0.231501         0.278769       0.205871    0.265344    0.234343   \n",
              "818   0.408723         0.298984       0.374659    0.717798    0.635906   \n",
              "3559  0.485359         0.856388       0.431049    0.620287    0.599326   \n",
              "2578  0.309565         0.575917       0.142758    0.652683    0.790588   \n",
              "\n",
              "       T_Lam_9  Ritmo_Molienda  Q_Miscela  Vel_Extractor  Conc_Miscela  \\\n",
              "2887  0.503741        0.100160   0.830802       0.797707      0.647806   \n",
              "2715  0.483056        0.728122   0.284815       0.334171      0.438703   \n",
              "818   0.434130        0.330496   0.292308       0.576712      0.589926   \n",
              "3559  0.587839        0.666808   0.709947       0.652226      0.240418   \n",
              "2578  0.498621        0.607786   0.735618       0.702019      0.421516   \n",
              "\n",
              "      MG_NIR_Salida_Ext  Solvente_NIR_Salida_Ext     LT-17  Conc_P3-11  \\\n",
              "2887           0.494274                 0.383620  0.264080    0.502716   \n",
              "2715           0.476502                 0.521832  0.667808    0.561199   \n",
              "818            0.408342                 0.563025  0.587833    0.486247   \n",
              "3559           0.624979                 0.475601  0.474736    0.458049   \n",
              "2578           0.433869                 0.559271  0.533003    0.669441   \n",
              "\n",
              "      Humedad_Semilla_LAG  T_Lam_9_LAG  MG_NIR_Salida_Ext_LAG3  \\\n",
              "2887             0.501086     0.682260                0.490006   \n",
              "2715             0.441831     0.457732                0.497817   \n",
              "818              0.410062     0.425975                0.385737   \n",
              "3559             0.637721     0.672518                0.631905   \n",
              "2578             0.559145     0.447872                0.420163   \n",
              "\n",
              "      MG_NIR_Salida_Ext_LAG15  MG_NIR_Salida_Ext_LAG30  \n",
              "2887                 0.494618                 0.458558  \n",
              "2715                 0.527552                 0.550907  \n",
              "818                  0.381034                 0.424934  \n",
              "3559                 0.596820                 0.539860  \n",
              "2578                 0.427312                 0.437913  "
            ],
            "text/html": [
              "\n",
              "  <div id=\"df-a3d89a71-b7a2-4359-853a-ecf176127e53\">\n",
              "    <div class=\"colab-df-container\">\n",
              "      <div>\n",
              "<style scoped>\n",
              "    .dataframe tbody tr th:only-of-type {\n",
              "        vertical-align: middle;\n",
              "    }\n",
              "\n",
              "    .dataframe tbody tr th {\n",
              "        vertical-align: top;\n",
              "    }\n",
              "\n",
              "    .dataframe thead th {\n",
              "        text-align: right;\n",
              "    }\n",
              "</style>\n",
              "<table border=\"1\" class=\"dataframe\">\n",
              "  <thead>\n",
              "    <tr style=\"text-align: right;\">\n",
              "      <th></th>\n",
              "      <th>TT-35-GI</th>\n",
              "      <th>Humedad_Semilla</th>\n",
              "      <th>T_Mat_entrada</th>\n",
              "      <th>T_Solvente</th>\n",
              "      <th>Q_Solvente</th>\n",
              "      <th>T_Lam_9</th>\n",
              "      <th>Ritmo_Molienda</th>\n",
              "      <th>Q_Miscela</th>\n",
              "      <th>Vel_Extractor</th>\n",
              "      <th>Conc_Miscela</th>\n",
              "      <th>MG_NIR_Salida_Ext</th>\n",
              "      <th>Solvente_NIR_Salida_Ext</th>\n",
              "      <th>LT-17</th>\n",
              "      <th>Conc_P3-11</th>\n",
              "      <th>Humedad_Semilla_LAG</th>\n",
              "      <th>T_Lam_9_LAG</th>\n",
              "      <th>MG_NIR_Salida_Ext_LAG3</th>\n",
              "      <th>MG_NIR_Salida_Ext_LAG15</th>\n",
              "      <th>MG_NIR_Salida_Ext_LAG30</th>\n",
              "    </tr>\n",
              "  </thead>\n",
              "  <tbody>\n",
              "    <tr>\n",
              "      <th>2887</th>\n",
              "      <td>0.509415</td>\n",
              "      <td>0.638268</td>\n",
              "      <td>0.664635</td>\n",
              "      <td>0.373273</td>\n",
              "      <td>0.750889</td>\n",
              "      <td>0.503741</td>\n",
              "      <td>0.100160</td>\n",
              "      <td>0.830802</td>\n",
              "      <td>0.797707</td>\n",
              "      <td>0.647806</td>\n",
              "      <td>0.494274</td>\n",
              "      <td>0.383620</td>\n",
              "      <td>0.264080</td>\n",
              "      <td>0.502716</td>\n",
              "      <td>0.501086</td>\n",
              "      <td>0.682260</td>\n",
              "      <td>0.490006</td>\n",
              "      <td>0.494618</td>\n",
              "      <td>0.458558</td>\n",
              "    </tr>\n",
              "    <tr>\n",
              "      <th>2715</th>\n",
              "      <td>0.231501</td>\n",
              "      <td>0.278769</td>\n",
              "      <td>0.205871</td>\n",
              "      <td>0.265344</td>\n",
              "      <td>0.234343</td>\n",
              "      <td>0.483056</td>\n",
              "      <td>0.728122</td>\n",
              "      <td>0.284815</td>\n",
              "      <td>0.334171</td>\n",
              "      <td>0.438703</td>\n",
              "      <td>0.476502</td>\n",
              "      <td>0.521832</td>\n",
              "      <td>0.667808</td>\n",
              "      <td>0.561199</td>\n",
              "      <td>0.441831</td>\n",
              "      <td>0.457732</td>\n",
              "      <td>0.497817</td>\n",
              "      <td>0.527552</td>\n",
              "      <td>0.550907</td>\n",
              "    </tr>\n",
              "    <tr>\n",
              "      <th>818</th>\n",
              "      <td>0.408723</td>\n",
              "      <td>0.298984</td>\n",
              "      <td>0.374659</td>\n",
              "      <td>0.717798</td>\n",
              "      <td>0.635906</td>\n",
              "      <td>0.434130</td>\n",
              "      <td>0.330496</td>\n",
              "      <td>0.292308</td>\n",
              "      <td>0.576712</td>\n",
              "      <td>0.589926</td>\n",
              "      <td>0.408342</td>\n",
              "      <td>0.563025</td>\n",
              "      <td>0.587833</td>\n",
              "      <td>0.486247</td>\n",
              "      <td>0.410062</td>\n",
              "      <td>0.425975</td>\n",
              "      <td>0.385737</td>\n",
              "      <td>0.381034</td>\n",
              "      <td>0.424934</td>\n",
              "    </tr>\n",
              "    <tr>\n",
              "      <th>3559</th>\n",
              "      <td>0.485359</td>\n",
              "      <td>0.856388</td>\n",
              "      <td>0.431049</td>\n",
              "      <td>0.620287</td>\n",
              "      <td>0.599326</td>\n",
              "      <td>0.587839</td>\n",
              "      <td>0.666808</td>\n",
              "      <td>0.709947</td>\n",
              "      <td>0.652226</td>\n",
              "      <td>0.240418</td>\n",
              "      <td>0.624979</td>\n",
              "      <td>0.475601</td>\n",
              "      <td>0.474736</td>\n",
              "      <td>0.458049</td>\n",
              "      <td>0.637721</td>\n",
              "      <td>0.672518</td>\n",
              "      <td>0.631905</td>\n",
              "      <td>0.596820</td>\n",
              "      <td>0.539860</td>\n",
              "    </tr>\n",
              "    <tr>\n",
              "      <th>2578</th>\n",
              "      <td>0.309565</td>\n",
              "      <td>0.575917</td>\n",
              "      <td>0.142758</td>\n",
              "      <td>0.652683</td>\n",
              "      <td>0.790588</td>\n",
              "      <td>0.498621</td>\n",
              "      <td>0.607786</td>\n",
              "      <td>0.735618</td>\n",
              "      <td>0.702019</td>\n",
              "      <td>0.421516</td>\n",
              "      <td>0.433869</td>\n",
              "      <td>0.559271</td>\n",
              "      <td>0.533003</td>\n",
              "      <td>0.669441</td>\n",
              "      <td>0.559145</td>\n",
              "      <td>0.447872</td>\n",
              "      <td>0.420163</td>\n",
              "      <td>0.427312</td>\n",
              "      <td>0.437913</td>\n",
              "    </tr>\n",
              "  </tbody>\n",
              "</table>\n",
              "</div>\n",
              "      <button class=\"colab-df-convert\" onclick=\"convertToInteractive('df-a3d89a71-b7a2-4359-853a-ecf176127e53')\"\n",
              "              title=\"Convert this dataframe to an interactive table.\"\n",
              "              style=\"display:none;\">\n",
              "        \n",
              "  <svg xmlns=\"http://www.w3.org/2000/svg\" height=\"24px\"viewBox=\"0 0 24 24\"\n",
              "       width=\"24px\">\n",
              "    <path d=\"M0 0h24v24H0V0z\" fill=\"none\"/>\n",
              "    <path d=\"M18.56 5.44l.94 2.06.94-2.06 2.06-.94-2.06-.94-.94-2.06-.94 2.06-2.06.94zm-11 1L8.5 8.5l.94-2.06 2.06-.94-2.06-.94L8.5 2.5l-.94 2.06-2.06.94zm10 10l.94 2.06.94-2.06 2.06-.94-2.06-.94-.94-2.06-.94 2.06-2.06.94z\"/><path d=\"M17.41 7.96l-1.37-1.37c-.4-.4-.92-.59-1.43-.59-.52 0-1.04.2-1.43.59L10.3 9.45l-7.72 7.72c-.78.78-.78 2.05 0 2.83L4 21.41c.39.39.9.59 1.41.59.51 0 1.02-.2 1.41-.59l7.78-7.78 2.81-2.81c.8-.78.8-2.07 0-2.86zM5.41 20L4 18.59l7.72-7.72 1.47 1.35L5.41 20z\"/>\n",
              "  </svg>\n",
              "      </button>\n",
              "      \n",
              "  <style>\n",
              "    .colab-df-container {\n",
              "      display:flex;\n",
              "      flex-wrap:wrap;\n",
              "      gap: 12px;\n",
              "    }\n",
              "\n",
              "    .colab-df-convert {\n",
              "      background-color: #E8F0FE;\n",
              "      border: none;\n",
              "      border-radius: 50%;\n",
              "      cursor: pointer;\n",
              "      display: none;\n",
              "      fill: #1967D2;\n",
              "      height: 32px;\n",
              "      padding: 0 0 0 0;\n",
              "      width: 32px;\n",
              "    }\n",
              "\n",
              "    .colab-df-convert:hover {\n",
              "      background-color: #E2EBFA;\n",
              "      box-shadow: 0px 1px 2px rgba(60, 64, 67, 0.3), 0px 1px 3px 1px rgba(60, 64, 67, 0.15);\n",
              "      fill: #174EA6;\n",
              "    }\n",
              "\n",
              "    [theme=dark] .colab-df-convert {\n",
              "      background-color: #3B4455;\n",
              "      fill: #D2E3FC;\n",
              "    }\n",
              "\n",
              "    [theme=dark] .colab-df-convert:hover {\n",
              "      background-color: #434B5C;\n",
              "      box-shadow: 0px 1px 3px 1px rgba(0, 0, 0, 0.15);\n",
              "      filter: drop-shadow(0px 1px 2px rgba(0, 0, 0, 0.3));\n",
              "      fill: #FFFFFF;\n",
              "    }\n",
              "  </style>\n",
              "\n",
              "      <script>\n",
              "        const buttonEl =\n",
              "          document.querySelector('#df-a3d89a71-b7a2-4359-853a-ecf176127e53 button.colab-df-convert');\n",
              "        buttonEl.style.display =\n",
              "          google.colab.kernel.accessAllowed ? 'block' : 'none';\n",
              "\n",
              "        async function convertToInteractive(key) {\n",
              "          const element = document.querySelector('#df-a3d89a71-b7a2-4359-853a-ecf176127e53');\n",
              "          const dataTable =\n",
              "            await google.colab.kernel.invokeFunction('convertToInteractive',\n",
              "                                                     [key], {});\n",
              "          if (!dataTable) return;\n",
              "\n",
              "          const docLinkHtml = 'Like what you see? Visit the ' +\n",
              "            '<a target=\"_blank\" href=https://colab.research.google.com/notebooks/data_table.ipynb>data table notebook</a>'\n",
              "            + ' to learn more about interactive tables.';\n",
              "          element.innerHTML = '';\n",
              "          dataTable['output_type'] = 'display_data';\n",
              "          await google.colab.output.renderOutput(dataTable, element);\n",
              "          const docLink = document.createElement('div');\n",
              "          docLink.innerHTML = docLinkHtml;\n",
              "          element.appendChild(docLink);\n",
              "        }\n",
              "      </script>\n",
              "    </div>\n",
              "  </div>\n",
              "  "
            ]
          },
          "metadata": {},
          "execution_count": 9
        }
      ],
      "source": [
        "X_train.head()"
      ]
    },
    {
      "cell_type": "code",
      "execution_count": null,
      "metadata": {
        "id": "HxqPTEn9CC32"
      },
      "outputs": [],
      "source": [
        "def objective(trial, X_train = X_train, X_val = X_val, y_train = y_train, y_val = y_val, es_n_rounds = 10, target = y_train):\n",
        "\n",
        "    param = {\n",
        "        'tree_method':'gpu_hist',  # this parameter means using the GPU when training our model to speedup the training process\n",
        "\n",
        "        'booster' : 'dart',       # DART HPs\n",
        "        'sample_type' : trial.suggest_categorical('sample_type', ['uniform' , 'weighted']),\n",
        "        'normalize_type' : trial.suggest_categorical('normalize_type', ['tree' , 'forest']),\n",
        "        'rate_drop' : trial.suggest_loguniform('rate_drop', 1e-3, 1.0),\n",
        "        'one_drop': trial.suggest_categorical('one_drop', [0, 1]),\n",
        "\n",
        "        'lambda': trial.suggest_loguniform('lambda', 1e-3, 10.0),\n",
        "        'alpha': trial.suggest_loguniform('alpha', 1e-3, 10.0),\n",
        "        'colsample_bytree': trial.suggest_categorical('colsample_bytree', [0.3,0.4,0.5,0.6,0.7,0.8,0.9, 1.0]),\n",
        "        'subsample': trial.suggest_categorical('subsample', [0.4,0.5,0.6,0.7,0.8,1.0]),\n",
        "        'learning_rate': trial.suggest_categorical('learning_rate', [0.008,0.009,0.01,0.012,0.014,0.016,0.018, 0.02]),\n",
        "        'n_estimators': trial.suggest_categorical('n_estimators', [10, 100, 500, 1000, 2000]),\n",
        "        'max_depth': trial.suggest_categorical('max_depth', [5,7,9,11,13,15,17,20]),\n",
        "        'random_state': trial.suggest_categorical('random_state', [24, 48,2020]),\n",
        "        'min_child_weight': trial.suggest_int('min_child_weight', 1, 300),\n",
        "    }\n",
        "    model = xgb.XGBRegressor(**param)  \n",
        "    \n",
        "    model.fit(X_train, y_train, eval_set = [(X_val, y_val)], early_stopping_rounds = es_n_rounds, verbose = False)\n",
        "    \n",
        "    preds = model.predict(X_val)\n",
        "    \n",
        "    rmse = mean_squared_error(y_val, preds,squared=False)\n",
        "    \n",
        "    return rmse"
      ]
    },
    {
      "cell_type": "code",
      "execution_count": null,
      "metadata": {
        "colab": {
          "base_uri": "https://localhost:8080/"
        },
        "id": "u7z2J5voCC33",
        "outputId": "8e52ab7c-aaaf-4563-92e1-9b61b981a04d"
      },
      "outputs": [
        {
          "output_type": "stream",
          "name": "stderr",
          "text": [
            "\u001b[32m[I 2022-04-17 21:32:44,981]\u001b[0m A new study created in memory with name: no-name-f9e59ee2-cffa-4486-990a-c9f67ef6067e\u001b[0m\n"
          ]
        },
        {
          "output_type": "stream",
          "name": "stdout",
          "text": [
            "[21:32:45] WARNING: /workspace/src/objective/regression_obj.cu:152: reg:linear is now deprecated in favor of reg:squarederror.\n"
          ]
        },
        {
          "output_type": "stream",
          "name": "stderr",
          "text": [
            "\u001b[32m[I 2022-04-17 21:32:45,840]\u001b[0m Trial 0 finished with value: 0.09667570419858533 and parameters: {'sample_type': 'uniform', 'normalize_type': 'forest', 'rate_drop': 0.001826445796852355, 'one_drop': 0, 'lambda': 0.09540139451025204, 'alpha': 0.05796873858768422, 'colsample_bytree': 1.0, 'subsample': 1.0, 'learning_rate': 0.008, 'n_estimators': 10, 'max_depth': 15, 'random_state': 24, 'min_child_weight': 203}. Best is trial 0 with value: 0.09667570419858533.\u001b[0m\n"
          ]
        },
        {
          "output_type": "stream",
          "name": "stdout",
          "text": [
            "[21:32:45] WARNING: /workspace/src/objective/regression_obj.cu:152: reg:linear is now deprecated in favor of reg:squarederror.\n"
          ]
        },
        {
          "output_type": "stream",
          "name": "stderr",
          "text": [
            "\u001b[32m[I 2022-04-17 21:32:46,291]\u001b[0m Trial 1 finished with value: 0.07825386122735052 and parameters: {'sample_type': 'uniform', 'normalize_type': 'forest', 'rate_drop': 0.3371307464668547, 'one_drop': 1, 'lambda': 0.02730882023994712, 'alpha': 0.019129512241816398, 'colsample_bytree': 0.9, 'subsample': 0.4, 'learning_rate': 0.02, 'n_estimators': 2000, 'max_depth': 5, 'random_state': 2020, 'min_child_weight': 168}. Best is trial 1 with value: 0.07825386122735052.\u001b[0m\n"
          ]
        },
        {
          "output_type": "stream",
          "name": "stdout",
          "text": [
            "[21:32:46] WARNING: /workspace/src/objective/regression_obj.cu:152: reg:linear is now deprecated in favor of reg:squarederror.\n"
          ]
        },
        {
          "output_type": "stream",
          "name": "stderr",
          "text": [
            "\u001b[32m[I 2022-04-17 21:32:46,527]\u001b[0m Trial 2 finished with value: 0.09319992451330944 and parameters: {'sample_type': 'weighted', 'normalize_type': 'forest', 'rate_drop': 0.08825134646961047, 'one_drop': 1, 'lambda': 9.646129247608489, 'alpha': 0.00836977589727871, 'colsample_bytree': 0.7, 'subsample': 0.5, 'learning_rate': 0.016, 'n_estimators': 10, 'max_depth': 15, 'random_state': 48, 'min_child_weight': 97}. Best is trial 1 with value: 0.07825386122735052.\u001b[0m\n"
          ]
        },
        {
          "output_type": "stream",
          "name": "stdout",
          "text": [
            "[21:32:46] WARNING: /workspace/src/objective/regression_obj.cu:152: reg:linear is now deprecated in favor of reg:squarederror.\n"
          ]
        },
        {
          "output_type": "stream",
          "name": "stderr",
          "text": [
            "\u001b[32m[I 2022-04-17 21:32:47,686]\u001b[0m Trial 3 finished with value: 0.060299587467961505 and parameters: {'sample_type': 'weighted', 'normalize_type': 'forest', 'rate_drop': 0.19622270604521252, 'one_drop': 1, 'lambda': 0.0018072788674350939, 'alpha': 0.002643726502991101, 'colsample_bytree': 0.7, 'subsample': 0.6, 'learning_rate': 0.02, 'n_estimators': 2000, 'max_depth': 7, 'random_state': 24, 'min_child_weight': 177}. Best is trial 3 with value: 0.060299587467961505.\u001b[0m\n"
          ]
        },
        {
          "output_type": "stream",
          "name": "stdout",
          "text": [
            "[21:32:47] WARNING: /workspace/src/objective/regression_obj.cu:152: reg:linear is now deprecated in favor of reg:squarederror.\n"
          ]
        },
        {
          "output_type": "stream",
          "name": "stderr",
          "text": [
            "\u001b[32m[I 2022-04-17 21:33:46,129]\u001b[0m Trial 4 finished with value: 0.040715039736740205 and parameters: {'sample_type': 'uniform', 'normalize_type': 'tree', 'rate_drop': 0.005429907164765784, 'one_drop': 0, 'lambda': 0.002299862529756351, 'alpha': 0.03443432596465158, 'colsample_bytree': 0.4, 'subsample': 0.7, 'learning_rate': 0.01, 'n_estimators': 1000, 'max_depth': 7, 'random_state': 24, 'min_child_weight': 20}. Best is trial 4 with value: 0.040715039736740205.\u001b[0m\n"
          ]
        },
        {
          "output_type": "stream",
          "name": "stdout",
          "text": [
            "[21:33:46] WARNING: /workspace/src/objective/regression_obj.cu:152: reg:linear is now deprecated in favor of reg:squarederror.\n"
          ]
        },
        {
          "output_type": "stream",
          "name": "stderr",
          "text": [
            "\u001b[32m[I 2022-04-17 21:34:02,598]\u001b[0m Trial 5 finished with value: 0.04832627668296463 and parameters: {'sample_type': 'uniform', 'normalize_type': 'forest', 'rate_drop': 0.027725706480647448, 'one_drop': 1, 'lambda': 0.15243504971830646, 'alpha': 0.0015560310024858605, 'colsample_bytree': 0.6, 'subsample': 0.8, 'learning_rate': 0.008, 'n_estimators': 2000, 'max_depth': 5, 'random_state': 48, 'min_child_weight': 55}. Best is trial 4 with value: 0.040715039736740205.\u001b[0m\n"
          ]
        },
        {
          "output_type": "stream",
          "name": "stdout",
          "text": [
            "[21:34:02] WARNING: /workspace/src/objective/regression_obj.cu:152: reg:linear is now deprecated in favor of reg:squarederror.\n"
          ]
        },
        {
          "output_type": "stream",
          "name": "stderr",
          "text": [
            "\u001b[32m[I 2022-04-17 21:34:09,666]\u001b[0m Trial 6 finished with value: 0.061351622922406646 and parameters: {'sample_type': 'uniform', 'normalize_type': 'tree', 'rate_drop': 0.025100123620513542, 'one_drop': 1, 'lambda': 6.92888598448881, 'alpha': 0.21538188826734248, 'colsample_bytree': 0.3, 'subsample': 1.0, 'learning_rate': 0.012, 'n_estimators': 500, 'max_depth': 13, 'random_state': 48, 'min_child_weight': 215}. Best is trial 4 with value: 0.040715039736740205.\u001b[0m\n"
          ]
        },
        {
          "output_type": "stream",
          "name": "stdout",
          "text": [
            "[21:34:09] WARNING: /workspace/src/objective/regression_obj.cu:152: reg:linear is now deprecated in favor of reg:squarederror.\n"
          ]
        },
        {
          "output_type": "stream",
          "name": "stderr",
          "text": [
            "\u001b[32m[I 2022-04-17 21:34:11,300]\u001b[0m Trial 7 finished with value: 0.05950855980639238 and parameters: {'sample_type': 'weighted', 'normalize_type': 'forest', 'rate_drop': 0.2222294828279026, 'one_drop': 0, 'lambda': 3.8278930870798593, 'alpha': 2.60335614766087, 'colsample_bytree': 0.4, 'subsample': 0.6, 'learning_rate': 0.02, 'n_estimators': 2000, 'max_depth': 11, 'random_state': 24, 'min_child_weight': 136}. Best is trial 4 with value: 0.040715039736740205.\u001b[0m\n"
          ]
        },
        {
          "output_type": "stream",
          "name": "stdout",
          "text": [
            "[21:34:11] WARNING: /workspace/src/objective/regression_obj.cu:152: reg:linear is now deprecated in favor of reg:squarederror.\n"
          ]
        },
        {
          "output_type": "stream",
          "name": "stderr",
          "text": [
            "\u001b[32m[I 2022-04-17 21:34:11,557]\u001b[0m Trial 8 finished with value: 0.09271834276687434 and parameters: {'sample_type': 'weighted', 'normalize_type': 'tree', 'rate_drop': 0.0016826398143897465, 'one_drop': 0, 'lambda': 2.8095620100320136, 'alpha': 0.010440617731780887, 'colsample_bytree': 0.6, 'subsample': 0.7, 'learning_rate': 0.016, 'n_estimators': 10, 'max_depth': 17, 'random_state': 24, 'min_child_weight': 191}. Best is trial 4 with value: 0.040715039736740205.\u001b[0m\n"
          ]
        },
        {
          "output_type": "stream",
          "name": "stdout",
          "text": [
            "[21:34:11] WARNING: /workspace/src/objective/regression_obj.cu:152: reg:linear is now deprecated in favor of reg:squarederror.\n"
          ]
        },
        {
          "output_type": "stream",
          "name": "stderr",
          "text": [
            "\u001b[32m[I 2022-04-17 21:34:11,905]\u001b[0m Trial 9 finished with value: 0.09936321424598943 and parameters: {'sample_type': 'weighted', 'normalize_type': 'tree', 'rate_drop': 0.4080544780237343, 'one_drop': 1, 'lambda': 0.08236260551630892, 'alpha': 1.9616715904158528, 'colsample_bytree': 0.4, 'subsample': 0.5, 'learning_rate': 0.008, 'n_estimators': 10, 'max_depth': 20, 'random_state': 48, 'min_child_weight': 50}. Best is trial 4 with value: 0.040715039736740205.\u001b[0m\n"
          ]
        },
        {
          "output_type": "stream",
          "name": "stdout",
          "text": [
            "[21:34:11] WARNING: /workspace/src/objective/regression_obj.cu:152: reg:linear is now deprecated in favor of reg:squarederror.\n"
          ]
        },
        {
          "output_type": "stream",
          "name": "stderr",
          "text": [
            "\u001b[32m[I 2022-04-17 21:34:28,618]\u001b[0m Trial 10 finished with value: 0.05575098449600167 and parameters: {'sample_type': 'uniform', 'normalize_type': 'tree', 'rate_drop': 0.007764280651443056, 'one_drop': 0, 'lambda': 0.0015097903718263325, 'alpha': 0.3108674790634411, 'colsample_bytree': 0.5, 'subsample': 0.7, 'learning_rate': 0.01, 'n_estimators': 1000, 'max_depth': 9, 'random_state': 2020, 'min_child_weight': 288}. Best is trial 4 with value: 0.040715039736740205.\u001b[0m\n"
          ]
        },
        {
          "output_type": "stream",
          "name": "stdout",
          "text": [
            "[21:34:28] WARNING: /workspace/src/objective/regression_obj.cu:152: reg:linear is now deprecated in favor of reg:squarederror.\n"
          ]
        },
        {
          "output_type": "stream",
          "name": "stderr",
          "text": [
            "\u001b[32m[I 2022-04-17 21:34:30,500]\u001b[0m Trial 11 finished with value: 0.06085826333305186 and parameters: {'sample_type': 'uniform', 'normalize_type': 'tree', 'rate_drop': 0.009117365395538531, 'one_drop': 0, 'lambda': 0.013174884847232927, 'alpha': 0.002331501866251623, 'colsample_bytree': 0.6, 'subsample': 0.8, 'learning_rate': 0.01, 'n_estimators': 100, 'max_depth': 5, 'random_state': 48, 'min_child_weight': 7}. Best is trial 4 with value: 0.040715039736740205.\u001b[0m\n"
          ]
        },
        {
          "output_type": "stream",
          "name": "stdout",
          "text": [
            "[21:34:30] WARNING: /workspace/src/objective/regression_obj.cu:152: reg:linear is now deprecated in favor of reg:squarederror.\n"
          ]
        },
        {
          "output_type": "stream",
          "name": "stderr",
          "text": [
            "\u001b[32m[I 2022-04-17 21:34:44,052]\u001b[0m Trial 12 finished with value: 0.050276246018630844 and parameters: {'sample_type': 'uniform', 'normalize_type': 'tree', 'rate_drop': 0.020565926551072766, 'one_drop': 1, 'lambda': 0.6755224179658504, 'alpha': 0.00122135561007703, 'colsample_bytree': 0.8, 'subsample': 0.8, 'learning_rate': 0.009, 'n_estimators': 1000, 'max_depth': 7, 'random_state': 48, 'min_child_weight': 12}. Best is trial 4 with value: 0.040715039736740205.\u001b[0m\n"
          ]
        },
        {
          "output_type": "stream",
          "name": "stdout",
          "text": [
            "[21:34:44] WARNING: /workspace/src/objective/regression_obj.cu:152: reg:linear is now deprecated in favor of reg:squarederror.\n"
          ]
        },
        {
          "output_type": "stream",
          "name": "stderr",
          "text": [
            "\u001b[32m[I 2022-04-17 21:36:35,321]\u001b[0m Trial 13 finished with value: 0.0424155587077637 and parameters: {'sample_type': 'uniform', 'normalize_type': 'forest', 'rate_drop': 0.0056715782217341085, 'one_drop': 0, 'lambda': 0.45811020777727485, 'alpha': 0.06086259056476664, 'colsample_bytree': 0.4, 'subsample': 0.7, 'learning_rate': 0.014, 'n_estimators': 1000, 'max_depth': 5, 'random_state': 24, 'min_child_weight': 68}. Best is trial 4 with value: 0.040715039736740205.\u001b[0m\n"
          ]
        },
        {
          "output_type": "stream",
          "name": "stdout",
          "text": [
            "[21:36:35] WARNING: /workspace/src/objective/regression_obj.cu:152: reg:linear is now deprecated in favor of reg:squarederror.\n"
          ]
        },
        {
          "output_type": "stream",
          "name": "stderr",
          "text": [
            "\u001b[32m[I 2022-04-17 21:37:19,994]\u001b[0m Trial 14 finished with value: 0.0467434622217903 and parameters: {'sample_type': 'uniform', 'normalize_type': 'tree', 'rate_drop': 0.0056924354423453375, 'one_drop': 0, 'lambda': 0.5839290159531255, 'alpha': 0.05352406785405829, 'colsample_bytree': 0.4, 'subsample': 0.7, 'learning_rate': 0.014, 'n_estimators': 1000, 'max_depth': 7, 'random_state': 24, 'min_child_weight': 89}. Best is trial 4 with value: 0.040715039736740205.\u001b[0m\n"
          ]
        },
        {
          "output_type": "stream",
          "name": "stdout",
          "text": [
            "[21:37:20] WARNING: /workspace/src/objective/regression_obj.cu:152: reg:linear is now deprecated in favor of reg:squarederror.\n"
          ]
        },
        {
          "output_type": "stream",
          "name": "stderr",
          "text": [
            "\u001b[32m[I 2022-04-17 21:40:17,727]\u001b[0m Trial 15 finished with value: 0.037735122170496876 and parameters: {'sample_type': 'uniform', 'normalize_type': 'forest', 'rate_drop': 0.003575735745823295, 'one_drop': 0, 'lambda': 0.006033769707104936, 'alpha': 0.7077942702235918, 'colsample_bytree': 0.4, 'subsample': 0.7, 'learning_rate': 0.018, 'n_estimators': 1000, 'max_depth': 9, 'random_state': 24, 'min_child_weight': 65}. Best is trial 15 with value: 0.037735122170496876.\u001b[0m\n"
          ]
        },
        {
          "output_type": "stream",
          "name": "stdout",
          "text": [
            "[21:40:17] WARNING: /workspace/src/objective/regression_obj.cu:152: reg:linear is now deprecated in favor of reg:squarederror.\n"
          ]
        },
        {
          "output_type": "stream",
          "name": "stderr",
          "text": [
            "\u001b[32m[I 2022-04-17 21:42:48,713]\u001b[0m Trial 16 finished with value: 0.04101265147799871 and parameters: {'sample_type': 'uniform', 'normalize_type': 'forest', 'rate_drop': 0.0011267288794842344, 'one_drop': 0, 'lambda': 0.007107614880575557, 'alpha': 9.8145252521292, 'colsample_bytree': 0.4, 'subsample': 0.7, 'learning_rate': 0.018, 'n_estimators': 1000, 'max_depth': 9, 'random_state': 24, 'min_child_weight': 109}. Best is trial 15 with value: 0.037735122170496876.\u001b[0m\n"
          ]
        },
        {
          "output_type": "stream",
          "name": "stdout",
          "text": [
            "[21:42:48] WARNING: /workspace/src/objective/regression_obj.cu:152: reg:linear is now deprecated in favor of reg:squarederror.\n"
          ]
        },
        {
          "output_type": "stream",
          "name": "stderr",
          "text": [
            "\u001b[32m[I 2022-04-17 21:42:51,137]\u001b[0m Trial 17 finished with value: 0.053712553439566275 and parameters: {'sample_type': 'uniform', 'normalize_type': 'tree', 'rate_drop': 0.003191110944995859, 'one_drop': 0, 'lambda': 0.004348125410286562, 'alpha': 0.6233622913282834, 'colsample_bytree': 0.5, 'subsample': 0.4, 'learning_rate': 0.018, 'n_estimators': 100, 'max_depth': 9, 'random_state': 24, 'min_child_weight': 38}. Best is trial 15 with value: 0.037735122170496876.\u001b[0m\n"
          ]
        },
        {
          "output_type": "stream",
          "name": "stdout",
          "text": [
            "[21:42:51] WARNING: /workspace/src/objective/regression_obj.cu:152: reg:linear is now deprecated in favor of reg:squarederror.\n"
          ]
        },
        {
          "output_type": "stream",
          "name": "stderr",
          "text": [
            "\u001b[32m[I 2022-04-17 21:42:53,916]\u001b[0m Trial 18 finished with value: 0.053567820118520654 and parameters: {'sample_type': 'uniform', 'normalize_type': 'forest', 'rate_drop': 0.07556896017927996, 'one_drop': 0, 'lambda': 0.02439001608477416, 'alpha': 0.9509584717826807, 'colsample_bytree': 1.0, 'subsample': 0.7, 'learning_rate': 0.018, 'n_estimators': 500, 'max_depth': 11, 'random_state': 2020, 'min_child_weight': 127}. Best is trial 15 with value: 0.037735122170496876.\u001b[0m\n"
          ]
        },
        {
          "output_type": "stream",
          "name": "stdout",
          "text": [
            "[21:42:53] WARNING: /workspace/src/objective/regression_obj.cu:152: reg:linear is now deprecated in favor of reg:squarederror.\n"
          ]
        },
        {
          "output_type": "stream",
          "name": "stderr",
          "text": [
            "\u001b[32m[I 2022-04-17 21:43:15,250]\u001b[0m Trial 19 finished with value: 0.04692765444332004 and parameters: {'sample_type': 'uniform', 'normalize_type': 'tree', 'rate_drop': 0.013514491035068852, 'one_drop': 0, 'lambda': 0.002824686582228949, 'alpha': 0.11719986937478363, 'colsample_bytree': 0.9, 'subsample': 0.7, 'learning_rate': 0.01, 'n_estimators': 1000, 'max_depth': 17, 'random_state': 24, 'min_child_weight': 29}. Best is trial 15 with value: 0.037735122170496876.\u001b[0m\n"
          ]
        },
        {
          "output_type": "stream",
          "name": "stdout",
          "text": [
            "[21:43:15] WARNING: /workspace/src/objective/regression_obj.cu:152: reg:linear is now deprecated in favor of reg:squarederror.\n"
          ]
        },
        {
          "output_type": "stream",
          "name": "stderr",
          "text": [
            "\u001b[32m[I 2022-04-17 21:48:37,356]\u001b[0m Trial 20 finished with value: 0.03267241078213884 and parameters: {'sample_type': 'uniform', 'normalize_type': 'forest', 'rate_drop': 0.003190949487887908, 'one_drop': 0, 'lambda': 0.0010236348086105852, 'alpha': 0.024849065370830637, 'colsample_bytree': 0.3, 'subsample': 0.7, 'learning_rate': 0.009, 'n_estimators': 1000, 'max_depth': 13, 'random_state': 24, 'min_child_weight': 3}. Best is trial 20 with value: 0.03267241078213884.\u001b[0m\n"
          ]
        },
        {
          "output_type": "stream",
          "name": "stdout",
          "text": [
            "[21:48:37] WARNING: /workspace/src/objective/regression_obj.cu:152: reg:linear is now deprecated in favor of reg:squarederror.\n"
          ]
        },
        {
          "output_type": "stream",
          "name": "stderr",
          "text": [
            "\u001b[32m[I 2022-04-17 21:53:16,906]\u001b[0m Trial 21 finished with value: 0.0326532375561884 and parameters: {'sample_type': 'uniform', 'normalize_type': 'forest', 'rate_drop': 0.0033681936632674442, 'one_drop': 0, 'lambda': 0.0013776246362593974, 'alpha': 0.009577373870014602, 'colsample_bytree': 0.3, 'subsample': 0.7, 'learning_rate': 0.009, 'n_estimators': 1000, 'max_depth': 13, 'random_state': 24, 'min_child_weight': 6}. Best is trial 21 with value: 0.0326532375561884.\u001b[0m\n"
          ]
        },
        {
          "output_type": "stream",
          "name": "stdout",
          "text": [
            "[21:53:16] WARNING: /workspace/src/objective/regression_obj.cu:152: reg:linear is now deprecated in favor of reg:squarederror.\n"
          ]
        },
        {
          "output_type": "stream",
          "name": "stderr",
          "text": [
            "\u001b[32m[I 2022-04-17 21:57:04,082]\u001b[0m Trial 22 finished with value: 0.03421951505254927 and parameters: {'sample_type': 'uniform', 'normalize_type': 'forest', 'rate_drop': 0.0031292666951806213, 'one_drop': 0, 'lambda': 0.0010388708557661985, 'alpha': 0.005510539133726018, 'colsample_bytree': 0.3, 'subsample': 0.7, 'learning_rate': 0.009, 'n_estimators': 1000, 'max_depth': 13, 'random_state': 24, 'min_child_weight': 1}. Best is trial 21 with value: 0.0326532375561884.\u001b[0m\n"
          ]
        },
        {
          "output_type": "stream",
          "name": "stdout",
          "text": [
            "[21:57:04] WARNING: /workspace/src/objective/regression_obj.cu:152: reg:linear is now deprecated in favor of reg:squarederror.\n"
          ]
        },
        {
          "output_type": "stream",
          "name": "stderr",
          "text": [
            "\u001b[32m[I 2022-04-17 22:01:54,645]\u001b[0m Trial 23 finished with value: 0.03271798261707286 and parameters: {'sample_type': 'uniform', 'normalize_type': 'forest', 'rate_drop': 0.0023637513453192973, 'one_drop': 0, 'lambda': 0.0014567938328297885, 'alpha': 0.0054139601303763146, 'colsample_bytree': 0.3, 'subsample': 0.7, 'learning_rate': 0.009, 'n_estimators': 1000, 'max_depth': 13, 'random_state': 24, 'min_child_weight': 5}. Best is trial 21 with value: 0.0326532375561884.\u001b[0m\n"
          ]
        },
        {
          "output_type": "stream",
          "name": "stdout",
          "text": [
            "[22:01:54] WARNING: /workspace/src/objective/regression_obj.cu:152: reg:linear is now deprecated in favor of reg:squarederror.\n"
          ]
        },
        {
          "output_type": "stream",
          "name": "stderr",
          "text": [
            "\u001b[32m[I 2022-04-17 22:03:26,044]\u001b[0m Trial 24 finished with value: 0.05172550299083608 and parameters: {'sample_type': 'uniform', 'normalize_type': 'forest', 'rate_drop': 0.0011846604183575673, 'one_drop': 0, 'lambda': 0.011975865650030058, 'alpha': 0.018391944166787372, 'colsample_bytree': 0.3, 'subsample': 0.7, 'learning_rate': 0.009, 'n_estimators': 1000, 'max_depth': 13, 'random_state': 24, 'min_child_weight': 262}. Best is trial 21 with value: 0.0326532375561884.\u001b[0m\n"
          ]
        },
        {
          "output_type": "stream",
          "name": "stdout",
          "text": [
            "[22:03:26] WARNING: /workspace/src/objective/regression_obj.cu:152: reg:linear is now deprecated in favor of reg:squarederror.\n"
          ]
        },
        {
          "output_type": "stream",
          "name": "stderr",
          "text": [
            "\u001b[32m[I 2022-04-17 22:03:28,659]\u001b[0m Trial 25 finished with value: 0.0674947690153112 and parameters: {'sample_type': 'uniform', 'normalize_type': 'forest', 'rate_drop': 0.0021659089961213593, 'one_drop': 0, 'lambda': 0.0010027996185215087, 'alpha': 0.0048489628434565234, 'colsample_bytree': 0.3, 'subsample': 1.0, 'learning_rate': 0.009, 'n_estimators': 100, 'max_depth': 13, 'random_state': 2020, 'min_child_weight': 78}. Best is trial 21 with value: 0.0326532375561884.\u001b[0m\n"
          ]
        },
        {
          "output_type": "stream",
          "name": "stdout",
          "text": [
            "[22:03:28] WARNING: /workspace/src/objective/regression_obj.cu:152: reg:linear is now deprecated in favor of reg:squarederror.\n"
          ]
        },
        {
          "output_type": "stream",
          "name": "stderr",
          "text": [
            "\u001b[32m[I 2022-04-17 22:03:28,961]\u001b[0m Trial 26 finished with value: 0.10172491649424825 and parameters: {'sample_type': 'weighted', 'normalize_type': 'forest', 'rate_drop': 0.9835119446016184, 'one_drop': 0, 'lambda': 0.0035250790458547236, 'alpha': 0.023497061386652605, 'colsample_bytree': 0.3, 'subsample': 0.4, 'learning_rate': 0.009, 'n_estimators': 500, 'max_depth': 13, 'random_state': 24, 'min_child_weight': 37}. Best is trial 21 with value: 0.0326532375561884.\u001b[0m\n"
          ]
        },
        {
          "output_type": "stream",
          "name": "stdout",
          "text": [
            "[22:03:28] WARNING: /workspace/src/objective/regression_obj.cu:152: reg:linear is now deprecated in favor of reg:squarederror.\n"
          ]
        },
        {
          "output_type": "stream",
          "name": "stderr",
          "text": [
            "\u001b[32m[I 2022-04-17 22:03:52,189]\u001b[0m Trial 27 finished with value: 0.05189899891473171 and parameters: {'sample_type': 'uniform', 'normalize_type': 'forest', 'rate_drop': 0.052067941638234555, 'one_drop': 0, 'lambda': 0.010428121288044642, 'alpha': 0.011830460968456375, 'colsample_bytree': 0.3, 'subsample': 0.6, 'learning_rate': 0.009, 'n_estimators': 1000, 'max_depth': 13, 'random_state': 24, 'min_child_weight': 1}. Best is trial 21 with value: 0.0326532375561884.\u001b[0m\n"
          ]
        },
        {
          "output_type": "stream",
          "name": "stdout",
          "text": [
            "[22:03:52] WARNING: /workspace/src/objective/regression_obj.cu:152: reg:linear is now deprecated in favor of reg:squarederror.\n"
          ]
        },
        {
          "output_type": "stream",
          "name": "stderr",
          "text": [
            "\u001b[32m[I 2022-04-17 22:04:24,711]\u001b[0m Trial 28 finished with value: 0.04668457003583483 and parameters: {'sample_type': 'uniform', 'normalize_type': 'forest', 'rate_drop': 0.012013106983385292, 'one_drop': 0, 'lambda': 0.04618276469689208, 'alpha': 0.005405956057208778, 'colsample_bytree': 0.3, 'subsample': 0.5, 'learning_rate': 0.009, 'n_estimators': 1000, 'max_depth': 13, 'random_state': 24, 'min_child_weight': 36}. Best is trial 21 with value: 0.0326532375561884.\u001b[0m\n"
          ]
        },
        {
          "output_type": "stream",
          "name": "stdout",
          "text": [
            "[22:04:24] WARNING: /workspace/src/objective/regression_obj.cu:152: reg:linear is now deprecated in favor of reg:squarederror.\n"
          ]
        },
        {
          "output_type": "stream",
          "name": "stderr",
          "text": [
            "\u001b[32m[I 2022-04-17 22:07:08,927]\u001b[0m Trial 29 finished with value: 0.040668218029929794 and parameters: {'sample_type': 'uniform', 'normalize_type': 'forest', 'rate_drop': 0.0017114441844130032, 'one_drop': 0, 'lambda': 0.002245589846803223, 'alpha': 0.11738456428833151, 'colsample_bytree': 0.8, 'subsample': 1.0, 'learning_rate': 0.009, 'n_estimators': 1000, 'max_depth': 20, 'random_state': 24, 'min_child_weight': 111}. Best is trial 21 with value: 0.0326532375561884.\u001b[0m\n"
          ]
        },
        {
          "output_type": "stream",
          "name": "stdout",
          "text": [
            "[22:07:08] WARNING: /workspace/src/objective/regression_obj.cu:152: reg:linear is now deprecated in favor of reg:squarederror.\n"
          ]
        },
        {
          "output_type": "stream",
          "name": "stderr",
          "text": [
            "\u001b[32m[I 2022-04-17 22:08:53,301]\u001b[0m Trial 30 finished with value: 0.04693059750045346 and parameters: {'sample_type': 'uniform', 'normalize_type': 'forest', 'rate_drop': 0.002863361387824974, 'one_drop': 0, 'lambda': 0.004663536715419548, 'alpha': 0.003764101935473298, 'colsample_bytree': 1.0, 'subsample': 0.7, 'learning_rate': 0.012, 'n_estimators': 1000, 'max_depth': 15, 'random_state': 2020, 'min_child_weight': 224}. Best is trial 21 with value: 0.0326532375561884.\u001b[0m\n"
          ]
        },
        {
          "output_type": "stream",
          "name": "stdout",
          "text": [
            "[22:08:53] WARNING: /workspace/src/objective/regression_obj.cu:152: reg:linear is now deprecated in favor of reg:squarederror.\n"
          ]
        },
        {
          "output_type": "stream",
          "name": "stderr",
          "text": [
            "\u001b[32m[I 2022-04-17 22:12:24,140]\u001b[0m Trial 31 finished with value: 0.03348782948030481 and parameters: {'sample_type': 'uniform', 'normalize_type': 'forest', 'rate_drop': 0.003866041921924994, 'one_drop': 0, 'lambda': 0.0010109648747806453, 'alpha': 0.009498561867109748, 'colsample_bytree': 0.3, 'subsample': 0.7, 'learning_rate': 0.009, 'n_estimators': 1000, 'max_depth': 13, 'random_state': 24, 'min_child_weight': 2}. Best is trial 21 with value: 0.0326532375561884.\u001b[0m\n"
          ]
        },
        {
          "output_type": "stream",
          "name": "stdout",
          "text": [
            "[22:12:24] WARNING: /workspace/src/objective/regression_obj.cu:152: reg:linear is now deprecated in favor of reg:squarederror.\n"
          ]
        },
        {
          "output_type": "stream",
          "name": "stderr",
          "text": [
            "\u001b[32m[I 2022-04-17 22:17:01,415]\u001b[0m Trial 32 finished with value: 0.03528199175579366 and parameters: {'sample_type': 'uniform', 'normalize_type': 'forest', 'rate_drop': 0.0021431367879381686, 'one_drop': 0, 'lambda': 0.0010003562297860578, 'alpha': 0.014807275915815009, 'colsample_bytree': 0.3, 'subsample': 0.7, 'learning_rate': 0.009, 'n_estimators': 1000, 'max_depth': 13, 'random_state': 24, 'min_child_weight': 23}. Best is trial 21 with value: 0.0326532375561884.\u001b[0m\n"
          ]
        },
        {
          "output_type": "stream",
          "name": "stdout",
          "text": [
            "[22:17:01] WARNING: /workspace/src/objective/regression_obj.cu:152: reg:linear is now deprecated in favor of reg:squarederror.\n"
          ]
        },
        {
          "output_type": "stream",
          "name": "stderr",
          "text": [
            "\u001b[32m[I 2022-04-17 22:20:35,779]\u001b[0m Trial 33 finished with value: 0.03911782882764561 and parameters: {'sample_type': 'uniform', 'normalize_type': 'forest', 'rate_drop': 0.0045065306310466385, 'one_drop': 0, 'lambda': 0.0017602293655291693, 'alpha': 0.03327785007386875, 'colsample_bytree': 0.3, 'subsample': 0.7, 'learning_rate': 0.009, 'n_estimators': 1000, 'max_depth': 13, 'random_state': 24, 'min_child_weight': 43}. Best is trial 21 with value: 0.0326532375561884.\u001b[0m\n"
          ]
        },
        {
          "output_type": "stream",
          "name": "stdout",
          "text": [
            "[22:20:35] WARNING: /workspace/src/objective/regression_obj.cu:152: reg:linear is now deprecated in favor of reg:squarederror.\n"
          ]
        },
        {
          "output_type": "stream",
          "name": "stderr",
          "text": [
            "\u001b[32m[I 2022-04-17 22:20:36,152]\u001b[0m Trial 34 finished with value: 0.09713092049704901 and parameters: {'sample_type': 'uniform', 'normalize_type': 'forest', 'rate_drop': 0.001004677127471513, 'one_drop': 0, 'lambda': 0.003109272092135501, 'alpha': 0.008606759914076719, 'colsample_bytree': 0.3, 'subsample': 0.4, 'learning_rate': 0.009, 'n_estimators': 10, 'max_depth': 13, 'random_state': 24, 'min_child_weight': 20}. Best is trial 21 with value: 0.0326532375561884.\u001b[0m\n"
          ]
        },
        {
          "output_type": "stream",
          "name": "stdout",
          "text": [
            "[22:20:36] WARNING: /workspace/src/objective/regression_obj.cu:152: reg:linear is now deprecated in favor of reg:squarederror.\n"
          ]
        },
        {
          "output_type": "stream",
          "name": "stderr",
          "text": [
            "\u001b[32m[I 2022-04-17 22:22:05,990]\u001b[0m Trial 35 finished with value: 0.03829693304342989 and parameters: {'sample_type': 'weighted', 'normalize_type': 'forest', 'rate_drop': 0.007473739107856996, 'one_drop': 0, 'lambda': 0.001638559778070573, 'alpha': 0.0031042348323417086, 'colsample_bytree': 0.7, 'subsample': 0.7, 'learning_rate': 0.016, 'n_estimators': 1000, 'max_depth': 13, 'random_state': 24, 'min_child_weight': 58}. Best is trial 21 with value: 0.0326532375561884.\u001b[0m\n"
          ]
        },
        {
          "output_type": "stream",
          "name": "stdout",
          "text": [
            "[22:22:06] WARNING: /workspace/src/objective/regression_obj.cu:152: reg:linear is now deprecated in favor of reg:squarederror.\n"
          ]
        },
        {
          "output_type": "stream",
          "name": "stderr",
          "text": [
            "\u001b[32m[I 2022-04-17 22:23:01,485]\u001b[0m Trial 36 finished with value: 0.03897531602252291 and parameters: {'sample_type': 'uniform', 'normalize_type': 'forest', 'rate_drop': 0.016256774974636956, 'one_drop': 1, 'lambda': 0.01902943978810046, 'alpha': 0.02958677467465552, 'colsample_bytree': 0.9, 'subsample': 0.5, 'learning_rate': 0.009, 'n_estimators': 2000, 'max_depth': 15, 'random_state': 24, 'min_child_weight': 19}. Best is trial 21 with value: 0.0326532375561884.\u001b[0m\n"
          ]
        },
        {
          "output_type": "stream",
          "name": "stdout",
          "text": [
            "[22:23:01] WARNING: /workspace/src/objective/regression_obj.cu:152: reg:linear is now deprecated in favor of reg:squarederror.\n"
          ]
        },
        {
          "output_type": "stream",
          "name": "stderr",
          "text": [
            "\u001b[32m[I 2022-04-17 22:23:06,544]\u001b[0m Trial 37 finished with value: 0.05142108886672966 and parameters: {'sample_type': 'uniform', 'normalize_type': 'forest', 'rate_drop': 0.044082846667318334, 'one_drop': 0, 'lambda': 0.006974488551468439, 'alpha': 0.061578662981550326, 'colsample_bytree': 0.3, 'subsample': 0.6, 'learning_rate': 0.02, 'n_estimators': 500, 'max_depth': 13, 'random_state': 24, 'min_child_weight': 74}. Best is trial 21 with value: 0.0326532375561884.\u001b[0m\n"
          ]
        },
        {
          "output_type": "stream",
          "name": "stdout",
          "text": [
            "[22:23:06] WARNING: /workspace/src/objective/regression_obj.cu:152: reg:linear is now deprecated in favor of reg:squarederror.\n"
          ]
        },
        {
          "output_type": "stream",
          "name": "stderr",
          "text": [
            "\u001b[32m[I 2022-04-17 22:25:05,077]\u001b[0m Trial 38 finished with value: 0.0488791075283045 and parameters: {'sample_type': 'weighted', 'normalize_type': 'forest', 'rate_drop': 0.0016466405603266612, 'one_drop': 1, 'lambda': 0.0016381626325680772, 'alpha': 0.001694361615793946, 'colsample_bytree': 0.3, 'subsample': 0.7, 'learning_rate': 0.008, 'n_estimators': 1000, 'max_depth': 13, 'random_state': 2020, 'min_child_weight': 157}. Best is trial 21 with value: 0.0326532375561884.\u001b[0m\n"
          ]
        },
        {
          "output_type": "stream",
          "name": "stdout",
          "text": [
            "[22:25:05] WARNING: /workspace/src/objective/regression_obj.cu:152: reg:linear is now deprecated in favor of reg:squarederror.\n"
          ]
        },
        {
          "output_type": "stream",
          "name": "stderr",
          "text": [
            "\u001b[32m[I 2022-04-17 22:31:26,660]\u001b[0m Trial 39 finished with value: 0.035458459103321516 and parameters: {'sample_type': 'uniform', 'normalize_type': 'forest', 'rate_drop': 0.004084639380912185, 'one_drop': 0, 'lambda': 0.0024828924266066944, 'alpha': 0.006923598155225962, 'colsample_bytree': 0.7, 'subsample': 0.8, 'learning_rate': 0.009, 'n_estimators': 2000, 'max_depth': 17, 'random_state': 24, 'min_child_weight': 52}. Best is trial 21 with value: 0.0326532375561884.\u001b[0m\n"
          ]
        },
        {
          "output_type": "stream",
          "name": "stdout",
          "text": [
            "[22:31:26] WARNING: /workspace/src/objective/regression_obj.cu:152: reg:linear is now deprecated in favor of reg:squarederror.\n"
          ]
        },
        {
          "output_type": "stream",
          "name": "stderr",
          "text": [
            "\u001b[32m[I 2022-04-17 22:31:27,172]\u001b[0m Trial 40 finished with value: 0.09485129409693693 and parameters: {'sample_type': 'uniform', 'normalize_type': 'forest', 'rate_drop': 0.0026332892919752717, 'one_drop': 1, 'lambda': 0.04321738576582567, 'alpha': 0.0157650837963219, 'colsample_bytree': 0.3, 'subsample': 1.0, 'learning_rate': 0.012, 'n_estimators': 10, 'max_depth': 11, 'random_state': 48, 'min_child_weight': 15}. Best is trial 21 with value: 0.0326532375561884.\u001b[0m\n"
          ]
        },
        {
          "output_type": "stream",
          "name": "stdout",
          "text": [
            "[22:31:27] WARNING: /workspace/src/objective/regression_obj.cu:152: reg:linear is now deprecated in favor of reg:squarederror.\n"
          ]
        },
        {
          "output_type": "stream",
          "name": "stderr",
          "text": [
            "\u001b[32m[I 2022-04-17 22:34:41,356]\u001b[0m Trial 41 finished with value: 0.03369925626236664 and parameters: {'sample_type': 'uniform', 'normalize_type': 'forest', 'rate_drop': 0.004604902521947751, 'one_drop': 0, 'lambda': 0.001327909951623462, 'alpha': 0.007365050360231963, 'colsample_bytree': 0.3, 'subsample': 0.7, 'learning_rate': 0.009, 'n_estimators': 1000, 'max_depth': 13, 'random_state': 24, 'min_child_weight': 3}. Best is trial 21 with value: 0.0326532375561884.\u001b[0m\n"
          ]
        },
        {
          "output_type": "stream",
          "name": "stdout",
          "text": [
            "[22:34:41] WARNING: /workspace/src/objective/regression_obj.cu:152: reg:linear is now deprecated in favor of reg:squarederror.\n"
          ]
        },
        {
          "output_type": "stream",
          "name": "stderr",
          "text": [
            "\u001b[32m[I 2022-04-17 22:36:17,411]\u001b[0m Trial 42 finished with value: 0.03613285501329498 and parameters: {'sample_type': 'uniform', 'normalize_type': 'forest', 'rate_drop': 0.008997577497630785, 'one_drop': 0, 'lambda': 0.0013639968655617416, 'alpha': 0.007745183131422508, 'colsample_bytree': 0.3, 'subsample': 0.7, 'learning_rate': 0.009, 'n_estimators': 1000, 'max_depth': 13, 'random_state': 24, 'min_child_weight': 3}. Best is trial 21 with value: 0.0326532375561884.\u001b[0m\n"
          ]
        },
        {
          "output_type": "stream",
          "name": "stdout",
          "text": [
            "[22:36:17] WARNING: /workspace/src/objective/regression_obj.cu:152: reg:linear is now deprecated in favor of reg:squarederror.\n"
          ]
        },
        {
          "output_type": "stream",
          "name": "stderr",
          "text": [
            "\u001b[32m[I 2022-04-17 22:40:26,080]\u001b[0m Trial 43 finished with value: 0.03685374152115134 and parameters: {'sample_type': 'uniform', 'normalize_type': 'forest', 'rate_drop': 0.005139229551541786, 'one_drop': 0, 'lambda': 0.0025097788827359853, 'alpha': 0.01129688962001696, 'colsample_bytree': 0.3, 'subsample': 0.7, 'learning_rate': 0.009, 'n_estimators': 1000, 'max_depth': 13, 'random_state': 24, 'min_child_weight': 29}. Best is trial 21 with value: 0.0326532375561884.\u001b[0m\n"
          ]
        },
        {
          "output_type": "stream",
          "name": "stdout",
          "text": [
            "[22:40:26] WARNING: /workspace/src/objective/regression_obj.cu:152: reg:linear is now deprecated in favor of reg:squarederror.\n"
          ]
        },
        {
          "output_type": "stream",
          "name": "stderr",
          "text": [
            "\u001b[32m[I 2022-04-17 22:40:31,873]\u001b[0m Trial 44 finished with value: 0.047807940824595954 and parameters: {'sample_type': 'uniform', 'normalize_type': 'forest', 'rate_drop': 0.0014711282673552928, 'one_drop': 0, 'lambda': 0.00461464786174177, 'alpha': 0.0032484881713669847, 'colsample_bytree': 0.5, 'subsample': 0.7, 'learning_rate': 0.016, 'n_estimators': 100, 'max_depth': 20, 'random_state': 24, 'min_child_weight': 16}. Best is trial 21 with value: 0.0326532375561884.\u001b[0m\n"
          ]
        },
        {
          "output_type": "stream",
          "name": "stdout",
          "text": [
            "[22:40:31] WARNING: /workspace/src/objective/regression_obj.cu:152: reg:linear is now deprecated in favor of reg:squarederror.\n"
          ]
        },
        {
          "output_type": "stream",
          "name": "stderr",
          "text": [
            "\u001b[32m[I 2022-04-17 22:44:29,125]\u001b[0m Trial 45 finished with value: 0.03343082380620049 and parameters: {'sample_type': 'weighted', 'normalize_type': 'forest', 'rate_drop': 0.002219944971642962, 'one_drop': 0, 'lambda': 0.1992098806667071, 'alpha': 0.002091012006904531, 'colsample_bytree': 0.6, 'subsample': 0.7, 'learning_rate': 0.02, 'n_estimators': 1000, 'max_depth': 13, 'random_state': 24, 'min_child_weight': 44}. Best is trial 21 with value: 0.0326532375561884.\u001b[0m\n"
          ]
        },
        {
          "output_type": "stream",
          "name": "stdout",
          "text": [
            "[22:44:29] WARNING: /workspace/src/objective/regression_obj.cu:152: reg:linear is now deprecated in favor of reg:squarederror.\n"
          ]
        },
        {
          "output_type": "stream",
          "name": "stderr",
          "text": [
            "\u001b[32m[I 2022-04-17 22:46:42,793]\u001b[0m Trial 46 finished with value: 0.03826112627239165 and parameters: {'sample_type': 'weighted', 'normalize_type': 'forest', 'rate_drop': 0.0026511503035531792, 'one_drop': 0, 'lambda': 0.24344494737380015, 'alpha': 0.0020288569339405368, 'colsample_bytree': 0.6, 'subsample': 0.7, 'learning_rate': 0.02, 'n_estimators': 1000, 'max_depth': 5, 'random_state': 48, 'min_child_weight': 48}. Best is trial 21 with value: 0.0326532375561884.\u001b[0m\n"
          ]
        },
        {
          "output_type": "stream",
          "name": "stdout",
          "text": [
            "[22:46:42] WARNING: /workspace/src/objective/regression_obj.cu:152: reg:linear is now deprecated in favor of reg:squarederror.\n"
          ]
        },
        {
          "output_type": "stream",
          "name": "stderr",
          "text": [
            "\u001b[32m[I 2022-04-17 22:52:51,021]\u001b[0m Trial 47 finished with value: 0.03716646932574172 and parameters: {'sample_type': 'weighted', 'normalize_type': 'forest', 'rate_drop': 0.002244259802307937, 'one_drop': 1, 'lambda': 1.6606206180250607, 'alpha': 0.0013300698573546195, 'colsample_bytree': 0.6, 'subsample': 0.6, 'learning_rate': 0.02, 'n_estimators': 2000, 'max_depth': 13, 'random_state': 24, 'min_child_weight': 91}. Best is trial 21 with value: 0.0326532375561884.\u001b[0m\n"
          ]
        },
        {
          "output_type": "stream",
          "name": "stdout",
          "text": [
            "[22:52:51] WARNING: /workspace/src/objective/regression_obj.cu:152: reg:linear is now deprecated in favor of reg:squarederror.\n"
          ]
        },
        {
          "output_type": "stream",
          "name": "stderr",
          "text": [
            "\u001b[32m[I 2022-04-17 22:54:44,395]\u001b[0m Trial 48 finished with value: 0.03534755157855055 and parameters: {'sample_type': 'weighted', 'normalize_type': 'forest', 'rate_drop': 0.006595655434053008, 'one_drop': 0, 'lambda': 0.18763439590418682, 'alpha': 0.0041931768421324105, 'colsample_bytree': 0.6, 'subsample': 0.5, 'learning_rate': 0.02, 'n_estimators': 1000, 'max_depth': 15, 'random_state': 24, 'min_child_weight': 28}. Best is trial 21 with value: 0.0326532375561884.\u001b[0m\n"
          ]
        },
        {
          "output_type": "stream",
          "name": "stdout",
          "text": [
            "[22:54:44] WARNING: /workspace/src/objective/regression_obj.cu:152: reg:linear is now deprecated in favor of reg:squarederror.\n"
          ]
        },
        {
          "output_type": "stream",
          "name": "stderr",
          "text": [
            "\u001b[32m[I 2022-04-17 22:54:44,749]\u001b[0m Trial 49 finished with value: 0.09674880764439905 and parameters: {'sample_type': 'weighted', 'normalize_type': 'forest', 'rate_drop': 0.009857039903555248, 'one_drop': 0, 'lambda': 0.3698605421258651, 'alpha': 0.0011041610868283973, 'colsample_bytree': 0.6, 'subsample': 0.8, 'learning_rate': 0.008, 'n_estimators': 10, 'max_depth': 7, 'random_state': 24, 'min_child_weight': 63}. Best is trial 21 with value: 0.0326532375561884.\u001b[0m\n"
          ]
        },
        {
          "output_type": "stream",
          "name": "stdout",
          "text": [
            "Number of finished trials: 50\n",
            "Best trial: {'sample_type': 'uniform', 'normalize_type': 'forest', 'rate_drop': 0.0033681936632674442, 'one_drop': 0, 'lambda': 0.0013776246362593974, 'alpha': 0.009577373870014602, 'colsample_bytree': 0.3, 'subsample': 0.7, 'learning_rate': 0.009, 'n_estimators': 1000, 'max_depth': 13, 'random_state': 24, 'min_child_weight': 6}\n"
          ]
        }
      ],
      "source": [
        "study = optuna.create_study(direction='minimize')\n",
        "study.optimize(objective, n_trials=50)\n",
        "print('Number of finished trials:', len(study.trials))\n",
        "print('Best trial:', study.best_trial.params)"
      ]
    },
    {
      "cell_type": "code",
      "execution_count": null,
      "metadata": {
        "colab": {
          "base_uri": "https://localhost:8080/",
          "height": 1000
        },
        "id": "RI8O7S6MCC34",
        "outputId": "ee3ced1c-1e09-4f36-ec35-0b93d3ab787d"
      },
      "outputs": [
        {
          "output_type": "execute_result",
          "data": {
            "text/plain": [
              "    number     value             datetime_start          datetime_complete  \\\n",
              "0        0  0.096676 2022-04-17 21:32:45.001988 2022-04-17 21:32:45.839889   \n",
              "1        1  0.078254 2022-04-17 21:32:45.843628 2022-04-17 21:32:46.290597   \n",
              "2        2  0.093200 2022-04-17 21:32:46.297129 2022-04-17 21:32:46.527056   \n",
              "3        3  0.060300 2022-04-17 21:32:46.530113 2022-04-17 21:32:47.685848   \n",
              "4        4  0.040715 2022-04-17 21:32:47.689314 2022-04-17 21:33:46.129214   \n",
              "5        5  0.048326 2022-04-17 21:33:46.132984 2022-04-17 21:34:02.598122   \n",
              "6        6  0.061352 2022-04-17 21:34:02.600360 2022-04-17 21:34:09.665279   \n",
              "7        7  0.059509 2022-04-17 21:34:09.667558 2022-04-17 21:34:11.299815   \n",
              "8        8  0.092718 2022-04-17 21:34:11.302729 2022-04-17 21:34:11.556668   \n",
              "9        9  0.099363 2022-04-17 21:34:11.561584 2022-04-17 21:34:11.905209   \n",
              "10      10  0.055751 2022-04-17 21:34:11.907492 2022-04-17 21:34:28.617818   \n",
              "11      11  0.060858 2022-04-17 21:34:28.621579 2022-04-17 21:34:30.500089   \n",
              "12      12  0.050276 2022-04-17 21:34:30.507907 2022-04-17 21:34:44.051743   \n",
              "13      13  0.042416 2022-04-17 21:34:44.054930 2022-04-17 21:36:35.320517   \n",
              "14      14  0.046743 2022-04-17 21:36:35.323021 2022-04-17 21:37:19.993448   \n",
              "15      15  0.037735 2022-04-17 21:37:19.996738 2022-04-17 21:40:17.726649   \n",
              "16      16  0.041013 2022-04-17 21:40:17.729858 2022-04-17 21:42:48.713182   \n",
              "17      17  0.053713 2022-04-17 21:42:48.715796 2022-04-17 21:42:51.136920   \n",
              "18      18  0.053568 2022-04-17 21:42:51.139934 2022-04-17 21:42:53.915610   \n",
              "19      19  0.046928 2022-04-17 21:42:53.922996 2022-04-17 21:43:15.250024   \n",
              "20      20  0.032672 2022-04-17 21:43:15.253067 2022-04-17 21:48:37.356055   \n",
              "21      21  0.032653 2022-04-17 21:48:37.364020 2022-04-17 21:53:16.905903   \n",
              "22      22  0.034220 2022-04-17 21:53:16.909367 2022-04-17 21:57:04.081668   \n",
              "23      23  0.032718 2022-04-17 21:57:04.084818 2022-04-17 22:01:54.644919   \n",
              "24      24  0.051726 2022-04-17 22:01:54.647298 2022-04-17 22:03:26.043653   \n",
              "25      25  0.067495 2022-04-17 22:03:26.046266 2022-04-17 22:03:28.658583   \n",
              "26      26  0.101725 2022-04-17 22:03:28.660938 2022-04-17 22:03:28.961246   \n",
              "27      27  0.051899 2022-04-17 22:03:28.963388 2022-04-17 22:03:52.188796   \n",
              "28      28  0.046685 2022-04-17 22:03:52.191065 2022-04-17 22:04:24.710879   \n",
              "29      29  0.040668 2022-04-17 22:04:24.718683 2022-04-17 22:07:08.926952   \n",
              "30      30  0.046931 2022-04-17 22:07:08.929278 2022-04-17 22:08:53.300588   \n",
              "31      31  0.033488 2022-04-17 22:08:53.303587 2022-04-17 22:12:24.139464   \n",
              "32      32  0.035282 2022-04-17 22:12:24.141539 2022-04-17 22:17:01.414849   \n",
              "33      33  0.039118 2022-04-17 22:17:01.418272 2022-04-17 22:20:35.778391   \n",
              "34      34  0.097131 2022-04-17 22:20:35.780731 2022-04-17 22:20:36.151919   \n",
              "35      35  0.038297 2022-04-17 22:20:36.156264 2022-04-17 22:22:05.989955   \n",
              "36      36  0.038975 2022-04-17 22:22:05.992290 2022-04-17 22:23:01.485103   \n",
              "37      37  0.051421 2022-04-17 22:23:01.487300 2022-04-17 22:23:06.543707   \n",
              "38      38  0.048879 2022-04-17 22:23:06.551362 2022-04-17 22:25:05.076365   \n",
              "39      39  0.035458 2022-04-17 22:25:05.082754 2022-04-17 22:31:26.659311   \n",
              "40      40  0.094851 2022-04-17 22:31:26.661703 2022-04-17 22:31:27.172086   \n",
              "41      41  0.033699 2022-04-17 22:31:27.174301 2022-04-17 22:34:41.355945   \n",
              "42      42  0.036133 2022-04-17 22:34:41.360237 2022-04-17 22:36:17.410530   \n",
              "43      43  0.036854 2022-04-17 22:36:17.413299 2022-04-17 22:40:26.079664   \n",
              "44      44  0.047808 2022-04-17 22:40:26.082872 2022-04-17 22:40:31.872709   \n",
              "45      45  0.033431 2022-04-17 22:40:31.874916 2022-04-17 22:44:29.125170   \n",
              "46      46  0.038261 2022-04-17 22:44:29.127642 2022-04-17 22:46:42.793109   \n",
              "47      47  0.037166 2022-04-17 22:46:42.796652 2022-04-17 22:52:51.021202   \n",
              "48      48  0.035348 2022-04-17 22:52:51.027443 2022-04-17 22:54:44.395008   \n",
              "49      49  0.096749 2022-04-17 22:54:44.397984 2022-04-17 22:54:44.748394   \n",
              "\n",
              "                 duration  params_alpha  params_colsample_bytree  \\\n",
              "0  0 days 00:00:00.837901      0.057969                      1.0   \n",
              "1  0 days 00:00:00.446969      0.019130                      0.9   \n",
              "2  0 days 00:00:00.229927      0.008370                      0.7   \n",
              "3  0 days 00:00:01.155735      0.002644                      0.7   \n",
              "4  0 days 00:00:58.439900      0.034434                      0.4   \n",
              "5  0 days 00:00:16.465138      0.001556                      0.6   \n",
              "6  0 days 00:00:07.064919      0.215382                      0.3   \n",
              "7  0 days 00:00:01.632257      2.603356                      0.4   \n",
              "8  0 days 00:00:00.253939      0.010441                      0.6   \n",
              "9  0 days 00:00:00.343625      1.961672                      0.4   \n",
              "10 0 days 00:00:16.710326      0.310867                      0.5   \n",
              "11 0 days 00:00:01.878510      0.002332                      0.6   \n",
              "12 0 days 00:00:13.543836      0.001221                      0.8   \n",
              "13 0 days 00:01:51.265587      0.060863                      0.4   \n",
              "14 0 days 00:00:44.670427      0.053524                      0.4   \n",
              "15 0 days 00:02:57.729911      0.707794                      0.4   \n",
              "16 0 days 00:02:30.983324      9.814525                      0.4   \n",
              "17 0 days 00:00:02.421124      0.623362                      0.5   \n",
              "18 0 days 00:00:02.775676      0.950958                      1.0   \n",
              "19 0 days 00:00:21.327028      0.117200                      0.9   \n",
              "20 0 days 00:05:22.102988      0.024849                      0.3   \n",
              "21 0 days 00:04:39.541883      0.009577                      0.3   \n",
              "22 0 days 00:03:47.172301      0.005511                      0.3   \n",
              "23 0 days 00:04:50.560101      0.005414                      0.3   \n",
              "24 0 days 00:01:31.396355      0.018392                      0.3   \n",
              "25 0 days 00:00:02.612317      0.004849                      0.3   \n",
              "26 0 days 00:00:00.300308      0.023497                      0.3   \n",
              "27 0 days 00:00:23.225408      0.011830                      0.3   \n",
              "28 0 days 00:00:32.519814      0.005406                      0.3   \n",
              "29 0 days 00:02:44.208269      0.117385                      0.8   \n",
              "30 0 days 00:01:44.371310      0.003764                      1.0   \n",
              "31 0 days 00:03:30.835877      0.009499                      0.3   \n",
              "32 0 days 00:04:37.273310      0.014807                      0.3   \n",
              "33 0 days 00:03:34.360119      0.033278                      0.3   \n",
              "34 0 days 00:00:00.371188      0.008607                      0.3   \n",
              "35 0 days 00:01:29.833691      0.003104                      0.7   \n",
              "36 0 days 00:00:55.492813      0.029587                      0.9   \n",
              "37 0 days 00:00:05.056407      0.061579                      0.3   \n",
              "38 0 days 00:01:58.525003      0.001694                      0.3   \n",
              "39 0 days 00:06:21.576557      0.006924                      0.7   \n",
              "40 0 days 00:00:00.510383      0.015765                      0.3   \n",
              "41 0 days 00:03:14.181644      0.007365                      0.3   \n",
              "42 0 days 00:01:36.050293      0.007745                      0.3   \n",
              "43 0 days 00:04:08.666365      0.011297                      0.3   \n",
              "44 0 days 00:00:05.789837      0.003248                      0.5   \n",
              "45 0 days 00:03:57.250254      0.002091                      0.6   \n",
              "46 0 days 00:02:13.665467      0.002029                      0.6   \n",
              "47 0 days 00:06:08.224550      0.001330                      0.6   \n",
              "48 0 days 00:01:53.367565      0.004193                      0.6   \n",
              "49 0 days 00:00:00.350410      0.001104                      0.6   \n",
              "\n",
              "    params_lambda  params_learning_rate  params_max_depth  \\\n",
              "0        0.095401                 0.008                15   \n",
              "1        0.027309                 0.020                 5   \n",
              "2        9.646129                 0.016                15   \n",
              "3        0.001807                 0.020                 7   \n",
              "4        0.002300                 0.010                 7   \n",
              "5        0.152435                 0.008                 5   \n",
              "6        6.928886                 0.012                13   \n",
              "7        3.827893                 0.020                11   \n",
              "8        2.809562                 0.016                17   \n",
              "9        0.082363                 0.008                20   \n",
              "10       0.001510                 0.010                 9   \n",
              "11       0.013175                 0.010                 5   \n",
              "12       0.675522                 0.009                 7   \n",
              "13       0.458110                 0.014                 5   \n",
              "14       0.583929                 0.014                 7   \n",
              "15       0.006034                 0.018                 9   \n",
              "16       0.007108                 0.018                 9   \n",
              "17       0.004348                 0.018                 9   \n",
              "18       0.024390                 0.018                11   \n",
              "19       0.002825                 0.010                17   \n",
              "20       0.001024                 0.009                13   \n",
              "21       0.001378                 0.009                13   \n",
              "22       0.001039                 0.009                13   \n",
              "23       0.001457                 0.009                13   \n",
              "24       0.011976                 0.009                13   \n",
              "25       0.001003                 0.009                13   \n",
              "26       0.003525                 0.009                13   \n",
              "27       0.010428                 0.009                13   \n",
              "28       0.046183                 0.009                13   \n",
              "29       0.002246                 0.009                20   \n",
              "30       0.004664                 0.012                15   \n",
              "31       0.001011                 0.009                13   \n",
              "32       0.001000                 0.009                13   \n",
              "33       0.001760                 0.009                13   \n",
              "34       0.003109                 0.009                13   \n",
              "35       0.001639                 0.016                13   \n",
              "36       0.019029                 0.009                15   \n",
              "37       0.006974                 0.020                13   \n",
              "38       0.001638                 0.008                13   \n",
              "39       0.002483                 0.009                17   \n",
              "40       0.043217                 0.012                11   \n",
              "41       0.001328                 0.009                13   \n",
              "42       0.001364                 0.009                13   \n",
              "43       0.002510                 0.009                13   \n",
              "44       0.004615                 0.016                20   \n",
              "45       0.199210                 0.020                13   \n",
              "46       0.243445                 0.020                 5   \n",
              "47       1.660621                 0.020                13   \n",
              "48       0.187634                 0.020                15   \n",
              "49       0.369861                 0.008                 7   \n",
              "\n",
              "    params_min_child_weight  params_n_estimators params_normalize_type  \\\n",
              "0                       203                   10                forest   \n",
              "1                       168                 2000                forest   \n",
              "2                        97                   10                forest   \n",
              "3                       177                 2000                forest   \n",
              "4                        20                 1000                  tree   \n",
              "5                        55                 2000                forest   \n",
              "6                       215                  500                  tree   \n",
              "7                       136                 2000                forest   \n",
              "8                       191                   10                  tree   \n",
              "9                        50                   10                  tree   \n",
              "10                      288                 1000                  tree   \n",
              "11                        7                  100                  tree   \n",
              "12                       12                 1000                  tree   \n",
              "13                       68                 1000                forest   \n",
              "14                       89                 1000                  tree   \n",
              "15                       65                 1000                forest   \n",
              "16                      109                 1000                forest   \n",
              "17                       38                  100                  tree   \n",
              "18                      127                  500                forest   \n",
              "19                       29                 1000                  tree   \n",
              "20                        3                 1000                forest   \n",
              "21                        6                 1000                forest   \n",
              "22                        1                 1000                forest   \n",
              "23                        5                 1000                forest   \n",
              "24                      262                 1000                forest   \n",
              "25                       78                  100                forest   \n",
              "26                       37                  500                forest   \n",
              "27                        1                 1000                forest   \n",
              "28                       36                 1000                forest   \n",
              "29                      111                 1000                forest   \n",
              "30                      224                 1000                forest   \n",
              "31                        2                 1000                forest   \n",
              "32                       23                 1000                forest   \n",
              "33                       43                 1000                forest   \n",
              "34                       20                   10                forest   \n",
              "35                       58                 1000                forest   \n",
              "36                       19                 2000                forest   \n",
              "37                       74                  500                forest   \n",
              "38                      157                 1000                forest   \n",
              "39                       52                 2000                forest   \n",
              "40                       15                   10                forest   \n",
              "41                        3                 1000                forest   \n",
              "42                        3                 1000                forest   \n",
              "43                       29                 1000                forest   \n",
              "44                       16                  100                forest   \n",
              "45                       44                 1000                forest   \n",
              "46                       48                 1000                forest   \n",
              "47                       91                 2000                forest   \n",
              "48                       28                 1000                forest   \n",
              "49                       63                   10                forest   \n",
              "\n",
              "    params_one_drop  params_random_state  params_rate_drop params_sample_type  \\\n",
              "0                 0                   24          0.001826            uniform   \n",
              "1                 1                 2020          0.337131            uniform   \n",
              "2                 1                   48          0.088251           weighted   \n",
              "3                 1                   24          0.196223           weighted   \n",
              "4                 0                   24          0.005430            uniform   \n",
              "5                 1                   48          0.027726            uniform   \n",
              "6                 1                   48          0.025100            uniform   \n",
              "7                 0                   24          0.222229           weighted   \n",
              "8                 0                   24          0.001683           weighted   \n",
              "9                 1                   48          0.408054           weighted   \n",
              "10                0                 2020          0.007764            uniform   \n",
              "11                0                   48          0.009117            uniform   \n",
              "12                1                   48          0.020566            uniform   \n",
              "13                0                   24          0.005672            uniform   \n",
              "14                0                   24          0.005692            uniform   \n",
              "15                0                   24          0.003576            uniform   \n",
              "16                0                   24          0.001127            uniform   \n",
              "17                0                   24          0.003191            uniform   \n",
              "18                0                 2020          0.075569            uniform   \n",
              "19                0                   24          0.013514            uniform   \n",
              "20                0                   24          0.003191            uniform   \n",
              "21                0                   24          0.003368            uniform   \n",
              "22                0                   24          0.003129            uniform   \n",
              "23                0                   24          0.002364            uniform   \n",
              "24                0                   24          0.001185            uniform   \n",
              "25                0                 2020          0.002166            uniform   \n",
              "26                0                   24          0.983512           weighted   \n",
              "27                0                   24          0.052068            uniform   \n",
              "28                0                   24          0.012013            uniform   \n",
              "29                0                   24          0.001711            uniform   \n",
              "30                0                 2020          0.002863            uniform   \n",
              "31                0                   24          0.003866            uniform   \n",
              "32                0                   24          0.002143            uniform   \n",
              "33                0                   24          0.004507            uniform   \n",
              "34                0                   24          0.001005            uniform   \n",
              "35                0                   24          0.007474           weighted   \n",
              "36                1                   24          0.016257            uniform   \n",
              "37                0                   24          0.044083            uniform   \n",
              "38                1                 2020          0.001647           weighted   \n",
              "39                0                   24          0.004085            uniform   \n",
              "40                1                   48          0.002633            uniform   \n",
              "41                0                   24          0.004605            uniform   \n",
              "42                0                   24          0.008998            uniform   \n",
              "43                0                   24          0.005139            uniform   \n",
              "44                0                   24          0.001471            uniform   \n",
              "45                0                   24          0.002220           weighted   \n",
              "46                0                   48          0.002651           weighted   \n",
              "47                1                   24          0.002244           weighted   \n",
              "48                0                   24          0.006596           weighted   \n",
              "49                0                   24          0.009857           weighted   \n",
              "\n",
              "    params_subsample     state  \n",
              "0                1.0  COMPLETE  \n",
              "1                0.4  COMPLETE  \n",
              "2                0.5  COMPLETE  \n",
              "3                0.6  COMPLETE  \n",
              "4                0.7  COMPLETE  \n",
              "5                0.8  COMPLETE  \n",
              "6                1.0  COMPLETE  \n",
              "7                0.6  COMPLETE  \n",
              "8                0.7  COMPLETE  \n",
              "9                0.5  COMPLETE  \n",
              "10               0.7  COMPLETE  \n",
              "11               0.8  COMPLETE  \n",
              "12               0.8  COMPLETE  \n",
              "13               0.7  COMPLETE  \n",
              "14               0.7  COMPLETE  \n",
              "15               0.7  COMPLETE  \n",
              "16               0.7  COMPLETE  \n",
              "17               0.4  COMPLETE  \n",
              "18               0.7  COMPLETE  \n",
              "19               0.7  COMPLETE  \n",
              "20               0.7  COMPLETE  \n",
              "21               0.7  COMPLETE  \n",
              "22               0.7  COMPLETE  \n",
              "23               0.7  COMPLETE  \n",
              "24               0.7  COMPLETE  \n",
              "25               1.0  COMPLETE  \n",
              "26               0.4  COMPLETE  \n",
              "27               0.6  COMPLETE  \n",
              "28               0.5  COMPLETE  \n",
              "29               1.0  COMPLETE  \n",
              "30               0.7  COMPLETE  \n",
              "31               0.7  COMPLETE  \n",
              "32               0.7  COMPLETE  \n",
              "33               0.7  COMPLETE  \n",
              "34               0.4  COMPLETE  \n",
              "35               0.7  COMPLETE  \n",
              "36               0.5  COMPLETE  \n",
              "37               0.6  COMPLETE  \n",
              "38               0.7  COMPLETE  \n",
              "39               0.8  COMPLETE  \n",
              "40               1.0  COMPLETE  \n",
              "41               0.7  COMPLETE  \n",
              "42               0.7  COMPLETE  \n",
              "43               0.7  COMPLETE  \n",
              "44               0.7  COMPLETE  \n",
              "45               0.7  COMPLETE  \n",
              "46               0.7  COMPLETE  \n",
              "47               0.6  COMPLETE  \n",
              "48               0.5  COMPLETE  \n",
              "49               0.8  COMPLETE  "
            ],
            "text/html": [
              "\n",
              "  <div id=\"df-19d28940-6ddb-416c-be36-facc5ec78ad9\">\n",
              "    <div class=\"colab-df-container\">\n",
              "      <div>\n",
              "<style scoped>\n",
              "    .dataframe tbody tr th:only-of-type {\n",
              "        vertical-align: middle;\n",
              "    }\n",
              "\n",
              "    .dataframe tbody tr th {\n",
              "        vertical-align: top;\n",
              "    }\n",
              "\n",
              "    .dataframe thead th {\n",
              "        text-align: right;\n",
              "    }\n",
              "</style>\n",
              "<table border=\"1\" class=\"dataframe\">\n",
              "  <thead>\n",
              "    <tr style=\"text-align: right;\">\n",
              "      <th></th>\n",
              "      <th>number</th>\n",
              "      <th>value</th>\n",
              "      <th>datetime_start</th>\n",
              "      <th>datetime_complete</th>\n",
              "      <th>duration</th>\n",
              "      <th>params_alpha</th>\n",
              "      <th>params_colsample_bytree</th>\n",
              "      <th>params_lambda</th>\n",
              "      <th>params_learning_rate</th>\n",
              "      <th>params_max_depth</th>\n",
              "      <th>params_min_child_weight</th>\n",
              "      <th>params_n_estimators</th>\n",
              "      <th>params_normalize_type</th>\n",
              "      <th>params_one_drop</th>\n",
              "      <th>params_random_state</th>\n",
              "      <th>params_rate_drop</th>\n",
              "      <th>params_sample_type</th>\n",
              "      <th>params_subsample</th>\n",
              "      <th>state</th>\n",
              "    </tr>\n",
              "  </thead>\n",
              "  <tbody>\n",
              "    <tr>\n",
              "      <th>0</th>\n",
              "      <td>0</td>\n",
              "      <td>0.096676</td>\n",
              "      <td>2022-04-17 21:32:45.001988</td>\n",
              "      <td>2022-04-17 21:32:45.839889</td>\n",
              "      <td>0 days 00:00:00.837901</td>\n",
              "      <td>0.057969</td>\n",
              "      <td>1.0</td>\n",
              "      <td>0.095401</td>\n",
              "      <td>0.008</td>\n",
              "      <td>15</td>\n",
              "      <td>203</td>\n",
              "      <td>10</td>\n",
              "      <td>forest</td>\n",
              "      <td>0</td>\n",
              "      <td>24</td>\n",
              "      <td>0.001826</td>\n",
              "      <td>uniform</td>\n",
              "      <td>1.0</td>\n",
              "      <td>COMPLETE</td>\n",
              "    </tr>\n",
              "    <tr>\n",
              "      <th>1</th>\n",
              "      <td>1</td>\n",
              "      <td>0.078254</td>\n",
              "      <td>2022-04-17 21:32:45.843628</td>\n",
              "      <td>2022-04-17 21:32:46.290597</td>\n",
              "      <td>0 days 00:00:00.446969</td>\n",
              "      <td>0.019130</td>\n",
              "      <td>0.9</td>\n",
              "      <td>0.027309</td>\n",
              "      <td>0.020</td>\n",
              "      <td>5</td>\n",
              "      <td>168</td>\n",
              "      <td>2000</td>\n",
              "      <td>forest</td>\n",
              "      <td>1</td>\n",
              "      <td>2020</td>\n",
              "      <td>0.337131</td>\n",
              "      <td>uniform</td>\n",
              "      <td>0.4</td>\n",
              "      <td>COMPLETE</td>\n",
              "    </tr>\n",
              "    <tr>\n",
              "      <th>2</th>\n",
              "      <td>2</td>\n",
              "      <td>0.093200</td>\n",
              "      <td>2022-04-17 21:32:46.297129</td>\n",
              "      <td>2022-04-17 21:32:46.527056</td>\n",
              "      <td>0 days 00:00:00.229927</td>\n",
              "      <td>0.008370</td>\n",
              "      <td>0.7</td>\n",
              "      <td>9.646129</td>\n",
              "      <td>0.016</td>\n",
              "      <td>15</td>\n",
              "      <td>97</td>\n",
              "      <td>10</td>\n",
              "      <td>forest</td>\n",
              "      <td>1</td>\n",
              "      <td>48</td>\n",
              "      <td>0.088251</td>\n",
              "      <td>weighted</td>\n",
              "      <td>0.5</td>\n",
              "      <td>COMPLETE</td>\n",
              "    </tr>\n",
              "    <tr>\n",
              "      <th>3</th>\n",
              "      <td>3</td>\n",
              "      <td>0.060300</td>\n",
              "      <td>2022-04-17 21:32:46.530113</td>\n",
              "      <td>2022-04-17 21:32:47.685848</td>\n",
              "      <td>0 days 00:00:01.155735</td>\n",
              "      <td>0.002644</td>\n",
              "      <td>0.7</td>\n",
              "      <td>0.001807</td>\n",
              "      <td>0.020</td>\n",
              "      <td>7</td>\n",
              "      <td>177</td>\n",
              "      <td>2000</td>\n",
              "      <td>forest</td>\n",
              "      <td>1</td>\n",
              "      <td>24</td>\n",
              "      <td>0.196223</td>\n",
              "      <td>weighted</td>\n",
              "      <td>0.6</td>\n",
              "      <td>COMPLETE</td>\n",
              "    </tr>\n",
              "    <tr>\n",
              "      <th>4</th>\n",
              "      <td>4</td>\n",
              "      <td>0.040715</td>\n",
              "      <td>2022-04-17 21:32:47.689314</td>\n",
              "      <td>2022-04-17 21:33:46.129214</td>\n",
              "      <td>0 days 00:00:58.439900</td>\n",
              "      <td>0.034434</td>\n",
              "      <td>0.4</td>\n",
              "      <td>0.002300</td>\n",
              "      <td>0.010</td>\n",
              "      <td>7</td>\n",
              "      <td>20</td>\n",
              "      <td>1000</td>\n",
              "      <td>tree</td>\n",
              "      <td>0</td>\n",
              "      <td>24</td>\n",
              "      <td>0.005430</td>\n",
              "      <td>uniform</td>\n",
              "      <td>0.7</td>\n",
              "      <td>COMPLETE</td>\n",
              "    </tr>\n",
              "    <tr>\n",
              "      <th>5</th>\n",
              "      <td>5</td>\n",
              "      <td>0.048326</td>\n",
              "      <td>2022-04-17 21:33:46.132984</td>\n",
              "      <td>2022-04-17 21:34:02.598122</td>\n",
              "      <td>0 days 00:00:16.465138</td>\n",
              "      <td>0.001556</td>\n",
              "      <td>0.6</td>\n",
              "      <td>0.152435</td>\n",
              "      <td>0.008</td>\n",
              "      <td>5</td>\n",
              "      <td>55</td>\n",
              "      <td>2000</td>\n",
              "      <td>forest</td>\n",
              "      <td>1</td>\n",
              "      <td>48</td>\n",
              "      <td>0.027726</td>\n",
              "      <td>uniform</td>\n",
              "      <td>0.8</td>\n",
              "      <td>COMPLETE</td>\n",
              "    </tr>\n",
              "    <tr>\n",
              "      <th>6</th>\n",
              "      <td>6</td>\n",
              "      <td>0.061352</td>\n",
              "      <td>2022-04-17 21:34:02.600360</td>\n",
              "      <td>2022-04-17 21:34:09.665279</td>\n",
              "      <td>0 days 00:00:07.064919</td>\n",
              "      <td>0.215382</td>\n",
              "      <td>0.3</td>\n",
              "      <td>6.928886</td>\n",
              "      <td>0.012</td>\n",
              "      <td>13</td>\n",
              "      <td>215</td>\n",
              "      <td>500</td>\n",
              "      <td>tree</td>\n",
              "      <td>1</td>\n",
              "      <td>48</td>\n",
              "      <td>0.025100</td>\n",
              "      <td>uniform</td>\n",
              "      <td>1.0</td>\n",
              "      <td>COMPLETE</td>\n",
              "    </tr>\n",
              "    <tr>\n",
              "      <th>7</th>\n",
              "      <td>7</td>\n",
              "      <td>0.059509</td>\n",
              "      <td>2022-04-17 21:34:09.667558</td>\n",
              "      <td>2022-04-17 21:34:11.299815</td>\n",
              "      <td>0 days 00:00:01.632257</td>\n",
              "      <td>2.603356</td>\n",
              "      <td>0.4</td>\n",
              "      <td>3.827893</td>\n",
              "      <td>0.020</td>\n",
              "      <td>11</td>\n",
              "      <td>136</td>\n",
              "      <td>2000</td>\n",
              "      <td>forest</td>\n",
              "      <td>0</td>\n",
              "      <td>24</td>\n",
              "      <td>0.222229</td>\n",
              "      <td>weighted</td>\n",
              "      <td>0.6</td>\n",
              "      <td>COMPLETE</td>\n",
              "    </tr>\n",
              "    <tr>\n",
              "      <th>8</th>\n",
              "      <td>8</td>\n",
              "      <td>0.092718</td>\n",
              "      <td>2022-04-17 21:34:11.302729</td>\n",
              "      <td>2022-04-17 21:34:11.556668</td>\n",
              "      <td>0 days 00:00:00.253939</td>\n",
              "      <td>0.010441</td>\n",
              "      <td>0.6</td>\n",
              "      <td>2.809562</td>\n",
              "      <td>0.016</td>\n",
              "      <td>17</td>\n",
              "      <td>191</td>\n",
              "      <td>10</td>\n",
              "      <td>tree</td>\n",
              "      <td>0</td>\n",
              "      <td>24</td>\n",
              "      <td>0.001683</td>\n",
              "      <td>weighted</td>\n",
              "      <td>0.7</td>\n",
              "      <td>COMPLETE</td>\n",
              "    </tr>\n",
              "    <tr>\n",
              "      <th>9</th>\n",
              "      <td>9</td>\n",
              "      <td>0.099363</td>\n",
              "      <td>2022-04-17 21:34:11.561584</td>\n",
              "      <td>2022-04-17 21:34:11.905209</td>\n",
              "      <td>0 days 00:00:00.343625</td>\n",
              "      <td>1.961672</td>\n",
              "      <td>0.4</td>\n",
              "      <td>0.082363</td>\n",
              "      <td>0.008</td>\n",
              "      <td>20</td>\n",
              "      <td>50</td>\n",
              "      <td>10</td>\n",
              "      <td>tree</td>\n",
              "      <td>1</td>\n",
              "      <td>48</td>\n",
              "      <td>0.408054</td>\n",
              "      <td>weighted</td>\n",
              "      <td>0.5</td>\n",
              "      <td>COMPLETE</td>\n",
              "    </tr>\n",
              "    <tr>\n",
              "      <th>10</th>\n",
              "      <td>10</td>\n",
              "      <td>0.055751</td>\n",
              "      <td>2022-04-17 21:34:11.907492</td>\n",
              "      <td>2022-04-17 21:34:28.617818</td>\n",
              "      <td>0 days 00:00:16.710326</td>\n",
              "      <td>0.310867</td>\n",
              "      <td>0.5</td>\n",
              "      <td>0.001510</td>\n",
              "      <td>0.010</td>\n",
              "      <td>9</td>\n",
              "      <td>288</td>\n",
              "      <td>1000</td>\n",
              "      <td>tree</td>\n",
              "      <td>0</td>\n",
              "      <td>2020</td>\n",
              "      <td>0.007764</td>\n",
              "      <td>uniform</td>\n",
              "      <td>0.7</td>\n",
              "      <td>COMPLETE</td>\n",
              "    </tr>\n",
              "    <tr>\n",
              "      <th>11</th>\n",
              "      <td>11</td>\n",
              "      <td>0.060858</td>\n",
              "      <td>2022-04-17 21:34:28.621579</td>\n",
              "      <td>2022-04-17 21:34:30.500089</td>\n",
              "      <td>0 days 00:00:01.878510</td>\n",
              "      <td>0.002332</td>\n",
              "      <td>0.6</td>\n",
              "      <td>0.013175</td>\n",
              "      <td>0.010</td>\n",
              "      <td>5</td>\n",
              "      <td>7</td>\n",
              "      <td>100</td>\n",
              "      <td>tree</td>\n",
              "      <td>0</td>\n",
              "      <td>48</td>\n",
              "      <td>0.009117</td>\n",
              "      <td>uniform</td>\n",
              "      <td>0.8</td>\n",
              "      <td>COMPLETE</td>\n",
              "    </tr>\n",
              "    <tr>\n",
              "      <th>12</th>\n",
              "      <td>12</td>\n",
              "      <td>0.050276</td>\n",
              "      <td>2022-04-17 21:34:30.507907</td>\n",
              "      <td>2022-04-17 21:34:44.051743</td>\n",
              "      <td>0 days 00:00:13.543836</td>\n",
              "      <td>0.001221</td>\n",
              "      <td>0.8</td>\n",
              "      <td>0.675522</td>\n",
              "      <td>0.009</td>\n",
              "      <td>7</td>\n",
              "      <td>12</td>\n",
              "      <td>1000</td>\n",
              "      <td>tree</td>\n",
              "      <td>1</td>\n",
              "      <td>48</td>\n",
              "      <td>0.020566</td>\n",
              "      <td>uniform</td>\n",
              "      <td>0.8</td>\n",
              "      <td>COMPLETE</td>\n",
              "    </tr>\n",
              "    <tr>\n",
              "      <th>13</th>\n",
              "      <td>13</td>\n",
              "      <td>0.042416</td>\n",
              "      <td>2022-04-17 21:34:44.054930</td>\n",
              "      <td>2022-04-17 21:36:35.320517</td>\n",
              "      <td>0 days 00:01:51.265587</td>\n",
              "      <td>0.060863</td>\n",
              "      <td>0.4</td>\n",
              "      <td>0.458110</td>\n",
              "      <td>0.014</td>\n",
              "      <td>5</td>\n",
              "      <td>68</td>\n",
              "      <td>1000</td>\n",
              "      <td>forest</td>\n",
              "      <td>0</td>\n",
              "      <td>24</td>\n",
              "      <td>0.005672</td>\n",
              "      <td>uniform</td>\n",
              "      <td>0.7</td>\n",
              "      <td>COMPLETE</td>\n",
              "    </tr>\n",
              "    <tr>\n",
              "      <th>14</th>\n",
              "      <td>14</td>\n",
              "      <td>0.046743</td>\n",
              "      <td>2022-04-17 21:36:35.323021</td>\n",
              "      <td>2022-04-17 21:37:19.993448</td>\n",
              "      <td>0 days 00:00:44.670427</td>\n",
              "      <td>0.053524</td>\n",
              "      <td>0.4</td>\n",
              "      <td>0.583929</td>\n",
              "      <td>0.014</td>\n",
              "      <td>7</td>\n",
              "      <td>89</td>\n",
              "      <td>1000</td>\n",
              "      <td>tree</td>\n",
              "      <td>0</td>\n",
              "      <td>24</td>\n",
              "      <td>0.005692</td>\n",
              "      <td>uniform</td>\n",
              "      <td>0.7</td>\n",
              "      <td>COMPLETE</td>\n",
              "    </tr>\n",
              "    <tr>\n",
              "      <th>15</th>\n",
              "      <td>15</td>\n",
              "      <td>0.037735</td>\n",
              "      <td>2022-04-17 21:37:19.996738</td>\n",
              "      <td>2022-04-17 21:40:17.726649</td>\n",
              "      <td>0 days 00:02:57.729911</td>\n",
              "      <td>0.707794</td>\n",
              "      <td>0.4</td>\n",
              "      <td>0.006034</td>\n",
              "      <td>0.018</td>\n",
              "      <td>9</td>\n",
              "      <td>65</td>\n",
              "      <td>1000</td>\n",
              "      <td>forest</td>\n",
              "      <td>0</td>\n",
              "      <td>24</td>\n",
              "      <td>0.003576</td>\n",
              "      <td>uniform</td>\n",
              "      <td>0.7</td>\n",
              "      <td>COMPLETE</td>\n",
              "    </tr>\n",
              "    <tr>\n",
              "      <th>16</th>\n",
              "      <td>16</td>\n",
              "      <td>0.041013</td>\n",
              "      <td>2022-04-17 21:40:17.729858</td>\n",
              "      <td>2022-04-17 21:42:48.713182</td>\n",
              "      <td>0 days 00:02:30.983324</td>\n",
              "      <td>9.814525</td>\n",
              "      <td>0.4</td>\n",
              "      <td>0.007108</td>\n",
              "      <td>0.018</td>\n",
              "      <td>9</td>\n",
              "      <td>109</td>\n",
              "      <td>1000</td>\n",
              "      <td>forest</td>\n",
              "      <td>0</td>\n",
              "      <td>24</td>\n",
              "      <td>0.001127</td>\n",
              "      <td>uniform</td>\n",
              "      <td>0.7</td>\n",
              "      <td>COMPLETE</td>\n",
              "    </tr>\n",
              "    <tr>\n",
              "      <th>17</th>\n",
              "      <td>17</td>\n",
              "      <td>0.053713</td>\n",
              "      <td>2022-04-17 21:42:48.715796</td>\n",
              "      <td>2022-04-17 21:42:51.136920</td>\n",
              "      <td>0 days 00:00:02.421124</td>\n",
              "      <td>0.623362</td>\n",
              "      <td>0.5</td>\n",
              "      <td>0.004348</td>\n",
              "      <td>0.018</td>\n",
              "      <td>9</td>\n",
              "      <td>38</td>\n",
              "      <td>100</td>\n",
              "      <td>tree</td>\n",
              "      <td>0</td>\n",
              "      <td>24</td>\n",
              "      <td>0.003191</td>\n",
              "      <td>uniform</td>\n",
              "      <td>0.4</td>\n",
              "      <td>COMPLETE</td>\n",
              "    </tr>\n",
              "    <tr>\n",
              "      <th>18</th>\n",
              "      <td>18</td>\n",
              "      <td>0.053568</td>\n",
              "      <td>2022-04-17 21:42:51.139934</td>\n",
              "      <td>2022-04-17 21:42:53.915610</td>\n",
              "      <td>0 days 00:00:02.775676</td>\n",
              "      <td>0.950958</td>\n",
              "      <td>1.0</td>\n",
              "      <td>0.024390</td>\n",
              "      <td>0.018</td>\n",
              "      <td>11</td>\n",
              "      <td>127</td>\n",
              "      <td>500</td>\n",
              "      <td>forest</td>\n",
              "      <td>0</td>\n",
              "      <td>2020</td>\n",
              "      <td>0.075569</td>\n",
              "      <td>uniform</td>\n",
              "      <td>0.7</td>\n",
              "      <td>COMPLETE</td>\n",
              "    </tr>\n",
              "    <tr>\n",
              "      <th>19</th>\n",
              "      <td>19</td>\n",
              "      <td>0.046928</td>\n",
              "      <td>2022-04-17 21:42:53.922996</td>\n",
              "      <td>2022-04-17 21:43:15.250024</td>\n",
              "      <td>0 days 00:00:21.327028</td>\n",
              "      <td>0.117200</td>\n",
              "      <td>0.9</td>\n",
              "      <td>0.002825</td>\n",
              "      <td>0.010</td>\n",
              "      <td>17</td>\n",
              "      <td>29</td>\n",
              "      <td>1000</td>\n",
              "      <td>tree</td>\n",
              "      <td>0</td>\n",
              "      <td>24</td>\n",
              "      <td>0.013514</td>\n",
              "      <td>uniform</td>\n",
              "      <td>0.7</td>\n",
              "      <td>COMPLETE</td>\n",
              "    </tr>\n",
              "    <tr>\n",
              "      <th>20</th>\n",
              "      <td>20</td>\n",
              "      <td>0.032672</td>\n",
              "      <td>2022-04-17 21:43:15.253067</td>\n",
              "      <td>2022-04-17 21:48:37.356055</td>\n",
              "      <td>0 days 00:05:22.102988</td>\n",
              "      <td>0.024849</td>\n",
              "      <td>0.3</td>\n",
              "      <td>0.001024</td>\n",
              "      <td>0.009</td>\n",
              "      <td>13</td>\n",
              "      <td>3</td>\n",
              "      <td>1000</td>\n",
              "      <td>forest</td>\n",
              "      <td>0</td>\n",
              "      <td>24</td>\n",
              "      <td>0.003191</td>\n",
              "      <td>uniform</td>\n",
              "      <td>0.7</td>\n",
              "      <td>COMPLETE</td>\n",
              "    </tr>\n",
              "    <tr>\n",
              "      <th>21</th>\n",
              "      <td>21</td>\n",
              "      <td>0.032653</td>\n",
              "      <td>2022-04-17 21:48:37.364020</td>\n",
              "      <td>2022-04-17 21:53:16.905903</td>\n",
              "      <td>0 days 00:04:39.541883</td>\n",
              "      <td>0.009577</td>\n",
              "      <td>0.3</td>\n",
              "      <td>0.001378</td>\n",
              "      <td>0.009</td>\n",
              "      <td>13</td>\n",
              "      <td>6</td>\n",
              "      <td>1000</td>\n",
              "      <td>forest</td>\n",
              "      <td>0</td>\n",
              "      <td>24</td>\n",
              "      <td>0.003368</td>\n",
              "      <td>uniform</td>\n",
              "      <td>0.7</td>\n",
              "      <td>COMPLETE</td>\n",
              "    </tr>\n",
              "    <tr>\n",
              "      <th>22</th>\n",
              "      <td>22</td>\n",
              "      <td>0.034220</td>\n",
              "      <td>2022-04-17 21:53:16.909367</td>\n",
              "      <td>2022-04-17 21:57:04.081668</td>\n",
              "      <td>0 days 00:03:47.172301</td>\n",
              "      <td>0.005511</td>\n",
              "      <td>0.3</td>\n",
              "      <td>0.001039</td>\n",
              "      <td>0.009</td>\n",
              "      <td>13</td>\n",
              "      <td>1</td>\n",
              "      <td>1000</td>\n",
              "      <td>forest</td>\n",
              "      <td>0</td>\n",
              "      <td>24</td>\n",
              "      <td>0.003129</td>\n",
              "      <td>uniform</td>\n",
              "      <td>0.7</td>\n",
              "      <td>COMPLETE</td>\n",
              "    </tr>\n",
              "    <tr>\n",
              "      <th>23</th>\n",
              "      <td>23</td>\n",
              "      <td>0.032718</td>\n",
              "      <td>2022-04-17 21:57:04.084818</td>\n",
              "      <td>2022-04-17 22:01:54.644919</td>\n",
              "      <td>0 days 00:04:50.560101</td>\n",
              "      <td>0.005414</td>\n",
              "      <td>0.3</td>\n",
              "      <td>0.001457</td>\n",
              "      <td>0.009</td>\n",
              "      <td>13</td>\n",
              "      <td>5</td>\n",
              "      <td>1000</td>\n",
              "      <td>forest</td>\n",
              "      <td>0</td>\n",
              "      <td>24</td>\n",
              "      <td>0.002364</td>\n",
              "      <td>uniform</td>\n",
              "      <td>0.7</td>\n",
              "      <td>COMPLETE</td>\n",
              "    </tr>\n",
              "    <tr>\n",
              "      <th>24</th>\n",
              "      <td>24</td>\n",
              "      <td>0.051726</td>\n",
              "      <td>2022-04-17 22:01:54.647298</td>\n",
              "      <td>2022-04-17 22:03:26.043653</td>\n",
              "      <td>0 days 00:01:31.396355</td>\n",
              "      <td>0.018392</td>\n",
              "      <td>0.3</td>\n",
              "      <td>0.011976</td>\n",
              "      <td>0.009</td>\n",
              "      <td>13</td>\n",
              "      <td>262</td>\n",
              "      <td>1000</td>\n",
              "      <td>forest</td>\n",
              "      <td>0</td>\n",
              "      <td>24</td>\n",
              "      <td>0.001185</td>\n",
              "      <td>uniform</td>\n",
              "      <td>0.7</td>\n",
              "      <td>COMPLETE</td>\n",
              "    </tr>\n",
              "    <tr>\n",
              "      <th>25</th>\n",
              "      <td>25</td>\n",
              "      <td>0.067495</td>\n",
              "      <td>2022-04-17 22:03:26.046266</td>\n",
              "      <td>2022-04-17 22:03:28.658583</td>\n",
              "      <td>0 days 00:00:02.612317</td>\n",
              "      <td>0.004849</td>\n",
              "      <td>0.3</td>\n",
              "      <td>0.001003</td>\n",
              "      <td>0.009</td>\n",
              "      <td>13</td>\n",
              "      <td>78</td>\n",
              "      <td>100</td>\n",
              "      <td>forest</td>\n",
              "      <td>0</td>\n",
              "      <td>2020</td>\n",
              "      <td>0.002166</td>\n",
              "      <td>uniform</td>\n",
              "      <td>1.0</td>\n",
              "      <td>COMPLETE</td>\n",
              "    </tr>\n",
              "    <tr>\n",
              "      <th>26</th>\n",
              "      <td>26</td>\n",
              "      <td>0.101725</td>\n",
              "      <td>2022-04-17 22:03:28.660938</td>\n",
              "      <td>2022-04-17 22:03:28.961246</td>\n",
              "      <td>0 days 00:00:00.300308</td>\n",
              "      <td>0.023497</td>\n",
              "      <td>0.3</td>\n",
              "      <td>0.003525</td>\n",
              "      <td>0.009</td>\n",
              "      <td>13</td>\n",
              "      <td>37</td>\n",
              "      <td>500</td>\n",
              "      <td>forest</td>\n",
              "      <td>0</td>\n",
              "      <td>24</td>\n",
              "      <td>0.983512</td>\n",
              "      <td>weighted</td>\n",
              "      <td>0.4</td>\n",
              "      <td>COMPLETE</td>\n",
              "    </tr>\n",
              "    <tr>\n",
              "      <th>27</th>\n",
              "      <td>27</td>\n",
              "      <td>0.051899</td>\n",
              "      <td>2022-04-17 22:03:28.963388</td>\n",
              "      <td>2022-04-17 22:03:52.188796</td>\n",
              "      <td>0 days 00:00:23.225408</td>\n",
              "      <td>0.011830</td>\n",
              "      <td>0.3</td>\n",
              "      <td>0.010428</td>\n",
              "      <td>0.009</td>\n",
              "      <td>13</td>\n",
              "      <td>1</td>\n",
              "      <td>1000</td>\n",
              "      <td>forest</td>\n",
              "      <td>0</td>\n",
              "      <td>24</td>\n",
              "      <td>0.052068</td>\n",
              "      <td>uniform</td>\n",
              "      <td>0.6</td>\n",
              "      <td>COMPLETE</td>\n",
              "    </tr>\n",
              "    <tr>\n",
              "      <th>28</th>\n",
              "      <td>28</td>\n",
              "      <td>0.046685</td>\n",
              "      <td>2022-04-17 22:03:52.191065</td>\n",
              "      <td>2022-04-17 22:04:24.710879</td>\n",
              "      <td>0 days 00:00:32.519814</td>\n",
              "      <td>0.005406</td>\n",
              "      <td>0.3</td>\n",
              "      <td>0.046183</td>\n",
              "      <td>0.009</td>\n",
              "      <td>13</td>\n",
              "      <td>36</td>\n",
              "      <td>1000</td>\n",
              "      <td>forest</td>\n",
              "      <td>0</td>\n",
              "      <td>24</td>\n",
              "      <td>0.012013</td>\n",
              "      <td>uniform</td>\n",
              "      <td>0.5</td>\n",
              "      <td>COMPLETE</td>\n",
              "    </tr>\n",
              "    <tr>\n",
              "      <th>29</th>\n",
              "      <td>29</td>\n",
              "      <td>0.040668</td>\n",
              "      <td>2022-04-17 22:04:24.718683</td>\n",
              "      <td>2022-04-17 22:07:08.926952</td>\n",
              "      <td>0 days 00:02:44.208269</td>\n",
              "      <td>0.117385</td>\n",
              "      <td>0.8</td>\n",
              "      <td>0.002246</td>\n",
              "      <td>0.009</td>\n",
              "      <td>20</td>\n",
              "      <td>111</td>\n",
              "      <td>1000</td>\n",
              "      <td>forest</td>\n",
              "      <td>0</td>\n",
              "      <td>24</td>\n",
              "      <td>0.001711</td>\n",
              "      <td>uniform</td>\n",
              "      <td>1.0</td>\n",
              "      <td>COMPLETE</td>\n",
              "    </tr>\n",
              "    <tr>\n",
              "      <th>30</th>\n",
              "      <td>30</td>\n",
              "      <td>0.046931</td>\n",
              "      <td>2022-04-17 22:07:08.929278</td>\n",
              "      <td>2022-04-17 22:08:53.300588</td>\n",
              "      <td>0 days 00:01:44.371310</td>\n",
              "      <td>0.003764</td>\n",
              "      <td>1.0</td>\n",
              "      <td>0.004664</td>\n",
              "      <td>0.012</td>\n",
              "      <td>15</td>\n",
              "      <td>224</td>\n",
              "      <td>1000</td>\n",
              "      <td>forest</td>\n",
              "      <td>0</td>\n",
              "      <td>2020</td>\n",
              "      <td>0.002863</td>\n",
              "      <td>uniform</td>\n",
              "      <td>0.7</td>\n",
              "      <td>COMPLETE</td>\n",
              "    </tr>\n",
              "    <tr>\n",
              "      <th>31</th>\n",
              "      <td>31</td>\n",
              "      <td>0.033488</td>\n",
              "      <td>2022-04-17 22:08:53.303587</td>\n",
              "      <td>2022-04-17 22:12:24.139464</td>\n",
              "      <td>0 days 00:03:30.835877</td>\n",
              "      <td>0.009499</td>\n",
              "      <td>0.3</td>\n",
              "      <td>0.001011</td>\n",
              "      <td>0.009</td>\n",
              "      <td>13</td>\n",
              "      <td>2</td>\n",
              "      <td>1000</td>\n",
              "      <td>forest</td>\n",
              "      <td>0</td>\n",
              "      <td>24</td>\n",
              "      <td>0.003866</td>\n",
              "      <td>uniform</td>\n",
              "      <td>0.7</td>\n",
              "      <td>COMPLETE</td>\n",
              "    </tr>\n",
              "    <tr>\n",
              "      <th>32</th>\n",
              "      <td>32</td>\n",
              "      <td>0.035282</td>\n",
              "      <td>2022-04-17 22:12:24.141539</td>\n",
              "      <td>2022-04-17 22:17:01.414849</td>\n",
              "      <td>0 days 00:04:37.273310</td>\n",
              "      <td>0.014807</td>\n",
              "      <td>0.3</td>\n",
              "      <td>0.001000</td>\n",
              "      <td>0.009</td>\n",
              "      <td>13</td>\n",
              "      <td>23</td>\n",
              "      <td>1000</td>\n",
              "      <td>forest</td>\n",
              "      <td>0</td>\n",
              "      <td>24</td>\n",
              "      <td>0.002143</td>\n",
              "      <td>uniform</td>\n",
              "      <td>0.7</td>\n",
              "      <td>COMPLETE</td>\n",
              "    </tr>\n",
              "    <tr>\n",
              "      <th>33</th>\n",
              "      <td>33</td>\n",
              "      <td>0.039118</td>\n",
              "      <td>2022-04-17 22:17:01.418272</td>\n",
              "      <td>2022-04-17 22:20:35.778391</td>\n",
              "      <td>0 days 00:03:34.360119</td>\n",
              "      <td>0.033278</td>\n",
              "      <td>0.3</td>\n",
              "      <td>0.001760</td>\n",
              "      <td>0.009</td>\n",
              "      <td>13</td>\n",
              "      <td>43</td>\n",
              "      <td>1000</td>\n",
              "      <td>forest</td>\n",
              "      <td>0</td>\n",
              "      <td>24</td>\n",
              "      <td>0.004507</td>\n",
              "      <td>uniform</td>\n",
              "      <td>0.7</td>\n",
              "      <td>COMPLETE</td>\n",
              "    </tr>\n",
              "    <tr>\n",
              "      <th>34</th>\n",
              "      <td>34</td>\n",
              "      <td>0.097131</td>\n",
              "      <td>2022-04-17 22:20:35.780731</td>\n",
              "      <td>2022-04-17 22:20:36.151919</td>\n",
              "      <td>0 days 00:00:00.371188</td>\n",
              "      <td>0.008607</td>\n",
              "      <td>0.3</td>\n",
              "      <td>0.003109</td>\n",
              "      <td>0.009</td>\n",
              "      <td>13</td>\n",
              "      <td>20</td>\n",
              "      <td>10</td>\n",
              "      <td>forest</td>\n",
              "      <td>0</td>\n",
              "      <td>24</td>\n",
              "      <td>0.001005</td>\n",
              "      <td>uniform</td>\n",
              "      <td>0.4</td>\n",
              "      <td>COMPLETE</td>\n",
              "    </tr>\n",
              "    <tr>\n",
              "      <th>35</th>\n",
              "      <td>35</td>\n",
              "      <td>0.038297</td>\n",
              "      <td>2022-04-17 22:20:36.156264</td>\n",
              "      <td>2022-04-17 22:22:05.989955</td>\n",
              "      <td>0 days 00:01:29.833691</td>\n",
              "      <td>0.003104</td>\n",
              "      <td>0.7</td>\n",
              "      <td>0.001639</td>\n",
              "      <td>0.016</td>\n",
              "      <td>13</td>\n",
              "      <td>58</td>\n",
              "      <td>1000</td>\n",
              "      <td>forest</td>\n",
              "      <td>0</td>\n",
              "      <td>24</td>\n",
              "      <td>0.007474</td>\n",
              "      <td>weighted</td>\n",
              "      <td>0.7</td>\n",
              "      <td>COMPLETE</td>\n",
              "    </tr>\n",
              "    <tr>\n",
              "      <th>36</th>\n",
              "      <td>36</td>\n",
              "      <td>0.038975</td>\n",
              "      <td>2022-04-17 22:22:05.992290</td>\n",
              "      <td>2022-04-17 22:23:01.485103</td>\n",
              "      <td>0 days 00:00:55.492813</td>\n",
              "      <td>0.029587</td>\n",
              "      <td>0.9</td>\n",
              "      <td>0.019029</td>\n",
              "      <td>0.009</td>\n",
              "      <td>15</td>\n",
              "      <td>19</td>\n",
              "      <td>2000</td>\n",
              "      <td>forest</td>\n",
              "      <td>1</td>\n",
              "      <td>24</td>\n",
              "      <td>0.016257</td>\n",
              "      <td>uniform</td>\n",
              "      <td>0.5</td>\n",
              "      <td>COMPLETE</td>\n",
              "    </tr>\n",
              "    <tr>\n",
              "      <th>37</th>\n",
              "      <td>37</td>\n",
              "      <td>0.051421</td>\n",
              "      <td>2022-04-17 22:23:01.487300</td>\n",
              "      <td>2022-04-17 22:23:06.543707</td>\n",
              "      <td>0 days 00:00:05.056407</td>\n",
              "      <td>0.061579</td>\n",
              "      <td>0.3</td>\n",
              "      <td>0.006974</td>\n",
              "      <td>0.020</td>\n",
              "      <td>13</td>\n",
              "      <td>74</td>\n",
              "      <td>500</td>\n",
              "      <td>forest</td>\n",
              "      <td>0</td>\n",
              "      <td>24</td>\n",
              "      <td>0.044083</td>\n",
              "      <td>uniform</td>\n",
              "      <td>0.6</td>\n",
              "      <td>COMPLETE</td>\n",
              "    </tr>\n",
              "    <tr>\n",
              "      <th>38</th>\n",
              "      <td>38</td>\n",
              "      <td>0.048879</td>\n",
              "      <td>2022-04-17 22:23:06.551362</td>\n",
              "      <td>2022-04-17 22:25:05.076365</td>\n",
              "      <td>0 days 00:01:58.525003</td>\n",
              "      <td>0.001694</td>\n",
              "      <td>0.3</td>\n",
              "      <td>0.001638</td>\n",
              "      <td>0.008</td>\n",
              "      <td>13</td>\n",
              "      <td>157</td>\n",
              "      <td>1000</td>\n",
              "      <td>forest</td>\n",
              "      <td>1</td>\n",
              "      <td>2020</td>\n",
              "      <td>0.001647</td>\n",
              "      <td>weighted</td>\n",
              "      <td>0.7</td>\n",
              "      <td>COMPLETE</td>\n",
              "    </tr>\n",
              "    <tr>\n",
              "      <th>39</th>\n",
              "      <td>39</td>\n",
              "      <td>0.035458</td>\n",
              "      <td>2022-04-17 22:25:05.082754</td>\n",
              "      <td>2022-04-17 22:31:26.659311</td>\n",
              "      <td>0 days 00:06:21.576557</td>\n",
              "      <td>0.006924</td>\n",
              "      <td>0.7</td>\n",
              "      <td>0.002483</td>\n",
              "      <td>0.009</td>\n",
              "      <td>17</td>\n",
              "      <td>52</td>\n",
              "      <td>2000</td>\n",
              "      <td>forest</td>\n",
              "      <td>0</td>\n",
              "      <td>24</td>\n",
              "      <td>0.004085</td>\n",
              "      <td>uniform</td>\n",
              "      <td>0.8</td>\n",
              "      <td>COMPLETE</td>\n",
              "    </tr>\n",
              "    <tr>\n",
              "      <th>40</th>\n",
              "      <td>40</td>\n",
              "      <td>0.094851</td>\n",
              "      <td>2022-04-17 22:31:26.661703</td>\n",
              "      <td>2022-04-17 22:31:27.172086</td>\n",
              "      <td>0 days 00:00:00.510383</td>\n",
              "      <td>0.015765</td>\n",
              "      <td>0.3</td>\n",
              "      <td>0.043217</td>\n",
              "      <td>0.012</td>\n",
              "      <td>11</td>\n",
              "      <td>15</td>\n",
              "      <td>10</td>\n",
              "      <td>forest</td>\n",
              "      <td>1</td>\n",
              "      <td>48</td>\n",
              "      <td>0.002633</td>\n",
              "      <td>uniform</td>\n",
              "      <td>1.0</td>\n",
              "      <td>COMPLETE</td>\n",
              "    </tr>\n",
              "    <tr>\n",
              "      <th>41</th>\n",
              "      <td>41</td>\n",
              "      <td>0.033699</td>\n",
              "      <td>2022-04-17 22:31:27.174301</td>\n",
              "      <td>2022-04-17 22:34:41.355945</td>\n",
              "      <td>0 days 00:03:14.181644</td>\n",
              "      <td>0.007365</td>\n",
              "      <td>0.3</td>\n",
              "      <td>0.001328</td>\n",
              "      <td>0.009</td>\n",
              "      <td>13</td>\n",
              "      <td>3</td>\n",
              "      <td>1000</td>\n",
              "      <td>forest</td>\n",
              "      <td>0</td>\n",
              "      <td>24</td>\n",
              "      <td>0.004605</td>\n",
              "      <td>uniform</td>\n",
              "      <td>0.7</td>\n",
              "      <td>COMPLETE</td>\n",
              "    </tr>\n",
              "    <tr>\n",
              "      <th>42</th>\n",
              "      <td>42</td>\n",
              "      <td>0.036133</td>\n",
              "      <td>2022-04-17 22:34:41.360237</td>\n",
              "      <td>2022-04-17 22:36:17.410530</td>\n",
              "      <td>0 days 00:01:36.050293</td>\n",
              "      <td>0.007745</td>\n",
              "      <td>0.3</td>\n",
              "      <td>0.001364</td>\n",
              "      <td>0.009</td>\n",
              "      <td>13</td>\n",
              "      <td>3</td>\n",
              "      <td>1000</td>\n",
              "      <td>forest</td>\n",
              "      <td>0</td>\n",
              "      <td>24</td>\n",
              "      <td>0.008998</td>\n",
              "      <td>uniform</td>\n",
              "      <td>0.7</td>\n",
              "      <td>COMPLETE</td>\n",
              "    </tr>\n",
              "    <tr>\n",
              "      <th>43</th>\n",
              "      <td>43</td>\n",
              "      <td>0.036854</td>\n",
              "      <td>2022-04-17 22:36:17.413299</td>\n",
              "      <td>2022-04-17 22:40:26.079664</td>\n",
              "      <td>0 days 00:04:08.666365</td>\n",
              "      <td>0.011297</td>\n",
              "      <td>0.3</td>\n",
              "      <td>0.002510</td>\n",
              "      <td>0.009</td>\n",
              "      <td>13</td>\n",
              "      <td>29</td>\n",
              "      <td>1000</td>\n",
              "      <td>forest</td>\n",
              "      <td>0</td>\n",
              "      <td>24</td>\n",
              "      <td>0.005139</td>\n",
              "      <td>uniform</td>\n",
              "      <td>0.7</td>\n",
              "      <td>COMPLETE</td>\n",
              "    </tr>\n",
              "    <tr>\n",
              "      <th>44</th>\n",
              "      <td>44</td>\n",
              "      <td>0.047808</td>\n",
              "      <td>2022-04-17 22:40:26.082872</td>\n",
              "      <td>2022-04-17 22:40:31.872709</td>\n",
              "      <td>0 days 00:00:05.789837</td>\n",
              "      <td>0.003248</td>\n",
              "      <td>0.5</td>\n",
              "      <td>0.004615</td>\n",
              "      <td>0.016</td>\n",
              "      <td>20</td>\n",
              "      <td>16</td>\n",
              "      <td>100</td>\n",
              "      <td>forest</td>\n",
              "      <td>0</td>\n",
              "      <td>24</td>\n",
              "      <td>0.001471</td>\n",
              "      <td>uniform</td>\n",
              "      <td>0.7</td>\n",
              "      <td>COMPLETE</td>\n",
              "    </tr>\n",
              "    <tr>\n",
              "      <th>45</th>\n",
              "      <td>45</td>\n",
              "      <td>0.033431</td>\n",
              "      <td>2022-04-17 22:40:31.874916</td>\n",
              "      <td>2022-04-17 22:44:29.125170</td>\n",
              "      <td>0 days 00:03:57.250254</td>\n",
              "      <td>0.002091</td>\n",
              "      <td>0.6</td>\n",
              "      <td>0.199210</td>\n",
              "      <td>0.020</td>\n",
              "      <td>13</td>\n",
              "      <td>44</td>\n",
              "      <td>1000</td>\n",
              "      <td>forest</td>\n",
              "      <td>0</td>\n",
              "      <td>24</td>\n",
              "      <td>0.002220</td>\n",
              "      <td>weighted</td>\n",
              "      <td>0.7</td>\n",
              "      <td>COMPLETE</td>\n",
              "    </tr>\n",
              "    <tr>\n",
              "      <th>46</th>\n",
              "      <td>46</td>\n",
              "      <td>0.038261</td>\n",
              "      <td>2022-04-17 22:44:29.127642</td>\n",
              "      <td>2022-04-17 22:46:42.793109</td>\n",
              "      <td>0 days 00:02:13.665467</td>\n",
              "      <td>0.002029</td>\n",
              "      <td>0.6</td>\n",
              "      <td>0.243445</td>\n",
              "      <td>0.020</td>\n",
              "      <td>5</td>\n",
              "      <td>48</td>\n",
              "      <td>1000</td>\n",
              "      <td>forest</td>\n",
              "      <td>0</td>\n",
              "      <td>48</td>\n",
              "      <td>0.002651</td>\n",
              "      <td>weighted</td>\n",
              "      <td>0.7</td>\n",
              "      <td>COMPLETE</td>\n",
              "    </tr>\n",
              "    <tr>\n",
              "      <th>47</th>\n",
              "      <td>47</td>\n",
              "      <td>0.037166</td>\n",
              "      <td>2022-04-17 22:46:42.796652</td>\n",
              "      <td>2022-04-17 22:52:51.021202</td>\n",
              "      <td>0 days 00:06:08.224550</td>\n",
              "      <td>0.001330</td>\n",
              "      <td>0.6</td>\n",
              "      <td>1.660621</td>\n",
              "      <td>0.020</td>\n",
              "      <td>13</td>\n",
              "      <td>91</td>\n",
              "      <td>2000</td>\n",
              "      <td>forest</td>\n",
              "      <td>1</td>\n",
              "      <td>24</td>\n",
              "      <td>0.002244</td>\n",
              "      <td>weighted</td>\n",
              "      <td>0.6</td>\n",
              "      <td>COMPLETE</td>\n",
              "    </tr>\n",
              "    <tr>\n",
              "      <th>48</th>\n",
              "      <td>48</td>\n",
              "      <td>0.035348</td>\n",
              "      <td>2022-04-17 22:52:51.027443</td>\n",
              "      <td>2022-04-17 22:54:44.395008</td>\n",
              "      <td>0 days 00:01:53.367565</td>\n",
              "      <td>0.004193</td>\n",
              "      <td>0.6</td>\n",
              "      <td>0.187634</td>\n",
              "      <td>0.020</td>\n",
              "      <td>15</td>\n",
              "      <td>28</td>\n",
              "      <td>1000</td>\n",
              "      <td>forest</td>\n",
              "      <td>0</td>\n",
              "      <td>24</td>\n",
              "      <td>0.006596</td>\n",
              "      <td>weighted</td>\n",
              "      <td>0.5</td>\n",
              "      <td>COMPLETE</td>\n",
              "    </tr>\n",
              "    <tr>\n",
              "      <th>49</th>\n",
              "      <td>49</td>\n",
              "      <td>0.096749</td>\n",
              "      <td>2022-04-17 22:54:44.397984</td>\n",
              "      <td>2022-04-17 22:54:44.748394</td>\n",
              "      <td>0 days 00:00:00.350410</td>\n",
              "      <td>0.001104</td>\n",
              "      <td>0.6</td>\n",
              "      <td>0.369861</td>\n",
              "      <td>0.008</td>\n",
              "      <td>7</td>\n",
              "      <td>63</td>\n",
              "      <td>10</td>\n",
              "      <td>forest</td>\n",
              "      <td>0</td>\n",
              "      <td>24</td>\n",
              "      <td>0.009857</td>\n",
              "      <td>weighted</td>\n",
              "      <td>0.8</td>\n",
              "      <td>COMPLETE</td>\n",
              "    </tr>\n",
              "  </tbody>\n",
              "</table>\n",
              "</div>\n",
              "      <button class=\"colab-df-convert\" onclick=\"convertToInteractive('df-19d28940-6ddb-416c-be36-facc5ec78ad9')\"\n",
              "              title=\"Convert this dataframe to an interactive table.\"\n",
              "              style=\"display:none;\">\n",
              "        \n",
              "  <svg xmlns=\"http://www.w3.org/2000/svg\" height=\"24px\"viewBox=\"0 0 24 24\"\n",
              "       width=\"24px\">\n",
              "    <path d=\"M0 0h24v24H0V0z\" fill=\"none\"/>\n",
              "    <path d=\"M18.56 5.44l.94 2.06.94-2.06 2.06-.94-2.06-.94-.94-2.06-.94 2.06-2.06.94zm-11 1L8.5 8.5l.94-2.06 2.06-.94-2.06-.94L8.5 2.5l-.94 2.06-2.06.94zm10 10l.94 2.06.94-2.06 2.06-.94-2.06-.94-.94-2.06-.94 2.06-2.06.94z\"/><path d=\"M17.41 7.96l-1.37-1.37c-.4-.4-.92-.59-1.43-.59-.52 0-1.04.2-1.43.59L10.3 9.45l-7.72 7.72c-.78.78-.78 2.05 0 2.83L4 21.41c.39.39.9.59 1.41.59.51 0 1.02-.2 1.41-.59l7.78-7.78 2.81-2.81c.8-.78.8-2.07 0-2.86zM5.41 20L4 18.59l7.72-7.72 1.47 1.35L5.41 20z\"/>\n",
              "  </svg>\n",
              "      </button>\n",
              "      \n",
              "  <style>\n",
              "    .colab-df-container {\n",
              "      display:flex;\n",
              "      flex-wrap:wrap;\n",
              "      gap: 12px;\n",
              "    }\n",
              "\n",
              "    .colab-df-convert {\n",
              "      background-color: #E8F0FE;\n",
              "      border: none;\n",
              "      border-radius: 50%;\n",
              "      cursor: pointer;\n",
              "      display: none;\n",
              "      fill: #1967D2;\n",
              "      height: 32px;\n",
              "      padding: 0 0 0 0;\n",
              "      width: 32px;\n",
              "    }\n",
              "\n",
              "    .colab-df-convert:hover {\n",
              "      background-color: #E2EBFA;\n",
              "      box-shadow: 0px 1px 2px rgba(60, 64, 67, 0.3), 0px 1px 3px 1px rgba(60, 64, 67, 0.15);\n",
              "      fill: #174EA6;\n",
              "    }\n",
              "\n",
              "    [theme=dark] .colab-df-convert {\n",
              "      background-color: #3B4455;\n",
              "      fill: #D2E3FC;\n",
              "    }\n",
              "\n",
              "    [theme=dark] .colab-df-convert:hover {\n",
              "      background-color: #434B5C;\n",
              "      box-shadow: 0px 1px 3px 1px rgba(0, 0, 0, 0.15);\n",
              "      filter: drop-shadow(0px 1px 2px rgba(0, 0, 0, 0.3));\n",
              "      fill: #FFFFFF;\n",
              "    }\n",
              "  </style>\n",
              "\n",
              "      <script>\n",
              "        const buttonEl =\n",
              "          document.querySelector('#df-19d28940-6ddb-416c-be36-facc5ec78ad9 button.colab-df-convert');\n",
              "        buttonEl.style.display =\n",
              "          google.colab.kernel.accessAllowed ? 'block' : 'none';\n",
              "\n",
              "        async function convertToInteractive(key) {\n",
              "          const element = document.querySelector('#df-19d28940-6ddb-416c-be36-facc5ec78ad9');\n",
              "          const dataTable =\n",
              "            await google.colab.kernel.invokeFunction('convertToInteractive',\n",
              "                                                     [key], {});\n",
              "          if (!dataTable) return;\n",
              "\n",
              "          const docLinkHtml = 'Like what you see? Visit the ' +\n",
              "            '<a target=\"_blank\" href=https://colab.research.google.com/notebooks/data_table.ipynb>data table notebook</a>'\n",
              "            + ' to learn more about interactive tables.';\n",
              "          element.innerHTML = '';\n",
              "          dataTable['output_type'] = 'display_data';\n",
              "          await google.colab.output.renderOutput(dataTable, element);\n",
              "          const docLink = document.createElement('div');\n",
              "          docLink.innerHTML = docLinkHtml;\n",
              "          element.appendChild(docLink);\n",
              "        }\n",
              "      </script>\n",
              "    </div>\n",
              "  </div>\n",
              "  "
            ]
          },
          "metadata": {},
          "execution_count": 12
        }
      ],
      "source": [
        "study.trials_dataframe()"
      ]
    },
    {
      "cell_type": "code",
      "execution_count": null,
      "metadata": {
        "colab": {
          "base_uri": "https://localhost:8080/",
          "height": 542
        },
        "id": "oxWDmLWxCC34",
        "outputId": "b375acde-fb08-404e-b7e2-28437c2e3cc6"
      },
      "outputs": [
        {
          "output_type": "display_data",
          "data": {
            "text/html": [
              "<html>\n",
              "<head><meta charset=\"utf-8\" /></head>\n",
              "<body>\n",
              "    <div>            <script src=\"https://cdnjs.cloudflare.com/ajax/libs/mathjax/2.7.5/MathJax.js?config=TeX-AMS-MML_SVG\"></script><script type=\"text/javascript\">if (window.MathJax) {MathJax.Hub.Config({SVG: {font: \"STIX-Web\"}});}</script>                <script type=\"text/javascript\">window.PlotlyConfig = {MathJaxConfig: 'local'};</script>\n",
              "        <script src=\"https://cdn.plot.ly/plotly-2.8.3.min.js\"></script>                <div id=\"e768e1ec-2240-4897-a637-ee2a1c8cb5ed\" class=\"plotly-graph-div\" style=\"height:525px; width:100%;\"></div>            <script type=\"text/javascript\">                                    window.PLOTLYENV=window.PLOTLYENV || {};                                    if (document.getElementById(\"e768e1ec-2240-4897-a637-ee2a1c8cb5ed\")) {                    Plotly.newPlot(                        \"e768e1ec-2240-4897-a637-ee2a1c8cb5ed\",                        [{\"mode\":\"markers\",\"name\":\"Objective Value\",\"x\":[0,1,2,3,4,5,6,7,8,9,10,11,12,13,14,15,16,17,18,19,20,21,22,23,24,25,26,27,28,29,30,31,32,33,34,35,36,37,38,39,40,41,42,43,44,45,46,47,48,49],\"y\":[0.09667570419858533,0.07825386122735052,0.09319992451330944,0.060299587467961505,0.040715039736740205,0.04832627668296463,0.061351622922406646,0.05950855980639238,0.09271834276687434,0.09936321424598943,0.05575098449600167,0.06085826333305186,0.050276246018630844,0.0424155587077637,0.0467434622217903,0.037735122170496876,0.04101265147799871,0.053712553439566275,0.053567820118520654,0.04692765444332004,0.03267241078213884,0.0326532375561884,0.03421951505254927,0.03271798261707286,0.05172550299083608,0.0674947690153112,0.10172491649424825,0.05189899891473171,0.04668457003583483,0.040668218029929794,0.04693059750045346,0.03348782948030481,0.03528199175579366,0.03911782882764561,0.09713092049704901,0.03829693304342989,0.03897531602252291,0.05142108886672966,0.0488791075283045,0.035458459103321516,0.09485129409693693,0.03369925626236664,0.03613285501329498,0.03685374152115134,0.047807940824595954,0.03343082380620049,0.03826112627239165,0.03716646932574172,0.03534755157855055,0.09674880764439905],\"type\":\"scatter\"},{\"name\":\"Best Value\",\"x\":[0,1,2,3,4,5,6,7,8,9,10,11,12,13,14,15,16,17,18,19,20,21,22,23,24,25,26,27,28,29,30,31,32,33,34,35,36,37,38,39,40,41,42,43,44,45,46,47,48,49],\"y\":[0.09667570419858533,0.07825386122735052,0.07825386122735052,0.060299587467961505,0.040715039736740205,0.040715039736740205,0.040715039736740205,0.040715039736740205,0.040715039736740205,0.040715039736740205,0.040715039736740205,0.040715039736740205,0.040715039736740205,0.040715039736740205,0.040715039736740205,0.037735122170496876,0.037735122170496876,0.037735122170496876,0.037735122170496876,0.037735122170496876,0.03267241078213884,0.0326532375561884,0.0326532375561884,0.0326532375561884,0.0326532375561884,0.0326532375561884,0.0326532375561884,0.0326532375561884,0.0326532375561884,0.0326532375561884,0.0326532375561884,0.0326532375561884,0.0326532375561884,0.0326532375561884,0.0326532375561884,0.0326532375561884,0.0326532375561884,0.0326532375561884,0.0326532375561884,0.0326532375561884,0.0326532375561884,0.0326532375561884,0.0326532375561884,0.0326532375561884,0.0326532375561884,0.0326532375561884,0.0326532375561884,0.0326532375561884,0.0326532375561884,0.0326532375561884],\"type\":\"scatter\"}],                        {\"title\":{\"text\":\"Optimization History Plot\"},\"xaxis\":{\"title\":{\"text\":\"#Trials\"}},\"yaxis\":{\"title\":{\"text\":\"Objective Value\"}},\"template\":{\"data\":{\"bar\":[{\"error_x\":{\"color\":\"#2a3f5f\"},\"error_y\":{\"color\":\"#2a3f5f\"},\"marker\":{\"line\":{\"color\":\"#E5ECF6\",\"width\":0.5},\"pattern\":{\"fillmode\":\"overlay\",\"size\":10,\"solidity\":0.2}},\"type\":\"bar\"}],\"barpolar\":[{\"marker\":{\"line\":{\"color\":\"#E5ECF6\",\"width\":0.5},\"pattern\":{\"fillmode\":\"overlay\",\"size\":10,\"solidity\":0.2}},\"type\":\"barpolar\"}],\"carpet\":[{\"aaxis\":{\"endlinecolor\":\"#2a3f5f\",\"gridcolor\":\"white\",\"linecolor\":\"white\",\"minorgridcolor\":\"white\",\"startlinecolor\":\"#2a3f5f\"},\"baxis\":{\"endlinecolor\":\"#2a3f5f\",\"gridcolor\":\"white\",\"linecolor\":\"white\",\"minorgridcolor\":\"white\",\"startlinecolor\":\"#2a3f5f\"},\"type\":\"carpet\"}],\"choropleth\":[{\"colorbar\":{\"outlinewidth\":0,\"ticks\":\"\"},\"type\":\"choropleth\"}],\"contour\":[{\"colorbar\":{\"outlinewidth\":0,\"ticks\":\"\"},\"colorscale\":[[0.0,\"#0d0887\"],[0.1111111111111111,\"#46039f\"],[0.2222222222222222,\"#7201a8\"],[0.3333333333333333,\"#9c179e\"],[0.4444444444444444,\"#bd3786\"],[0.5555555555555556,\"#d8576b\"],[0.6666666666666666,\"#ed7953\"],[0.7777777777777778,\"#fb9f3a\"],[0.8888888888888888,\"#fdca26\"],[1.0,\"#f0f921\"]],\"type\":\"contour\"}],\"contourcarpet\":[{\"colorbar\":{\"outlinewidth\":0,\"ticks\":\"\"},\"type\":\"contourcarpet\"}],\"heatmap\":[{\"colorbar\":{\"outlinewidth\":0,\"ticks\":\"\"},\"colorscale\":[[0.0,\"#0d0887\"],[0.1111111111111111,\"#46039f\"],[0.2222222222222222,\"#7201a8\"],[0.3333333333333333,\"#9c179e\"],[0.4444444444444444,\"#bd3786\"],[0.5555555555555556,\"#d8576b\"],[0.6666666666666666,\"#ed7953\"],[0.7777777777777778,\"#fb9f3a\"],[0.8888888888888888,\"#fdca26\"],[1.0,\"#f0f921\"]],\"type\":\"heatmap\"}],\"heatmapgl\":[{\"colorbar\":{\"outlinewidth\":0,\"ticks\":\"\"},\"colorscale\":[[0.0,\"#0d0887\"],[0.1111111111111111,\"#46039f\"],[0.2222222222222222,\"#7201a8\"],[0.3333333333333333,\"#9c179e\"],[0.4444444444444444,\"#bd3786\"],[0.5555555555555556,\"#d8576b\"],[0.6666666666666666,\"#ed7953\"],[0.7777777777777778,\"#fb9f3a\"],[0.8888888888888888,\"#fdca26\"],[1.0,\"#f0f921\"]],\"type\":\"heatmapgl\"}],\"histogram\":[{\"marker\":{\"pattern\":{\"fillmode\":\"overlay\",\"size\":10,\"solidity\":0.2}},\"type\":\"histogram\"}],\"histogram2d\":[{\"colorbar\":{\"outlinewidth\":0,\"ticks\":\"\"},\"colorscale\":[[0.0,\"#0d0887\"],[0.1111111111111111,\"#46039f\"],[0.2222222222222222,\"#7201a8\"],[0.3333333333333333,\"#9c179e\"],[0.4444444444444444,\"#bd3786\"],[0.5555555555555556,\"#d8576b\"],[0.6666666666666666,\"#ed7953\"],[0.7777777777777778,\"#fb9f3a\"],[0.8888888888888888,\"#fdca26\"],[1.0,\"#f0f921\"]],\"type\":\"histogram2d\"}],\"histogram2dcontour\":[{\"colorbar\":{\"outlinewidth\":0,\"ticks\":\"\"},\"colorscale\":[[0.0,\"#0d0887\"],[0.1111111111111111,\"#46039f\"],[0.2222222222222222,\"#7201a8\"],[0.3333333333333333,\"#9c179e\"],[0.4444444444444444,\"#bd3786\"],[0.5555555555555556,\"#d8576b\"],[0.6666666666666666,\"#ed7953\"],[0.7777777777777778,\"#fb9f3a\"],[0.8888888888888888,\"#fdca26\"],[1.0,\"#f0f921\"]],\"type\":\"histogram2dcontour\"}],\"mesh3d\":[{\"colorbar\":{\"outlinewidth\":0,\"ticks\":\"\"},\"type\":\"mesh3d\"}],\"parcoords\":[{\"line\":{\"colorbar\":{\"outlinewidth\":0,\"ticks\":\"\"}},\"type\":\"parcoords\"}],\"pie\":[{\"automargin\":true,\"type\":\"pie\"}],\"scatter\":[{\"marker\":{\"colorbar\":{\"outlinewidth\":0,\"ticks\":\"\"}},\"type\":\"scatter\"}],\"scatter3d\":[{\"line\":{\"colorbar\":{\"outlinewidth\":0,\"ticks\":\"\"}},\"marker\":{\"colorbar\":{\"outlinewidth\":0,\"ticks\":\"\"}},\"type\":\"scatter3d\"}],\"scattercarpet\":[{\"marker\":{\"colorbar\":{\"outlinewidth\":0,\"ticks\":\"\"}},\"type\":\"scattercarpet\"}],\"scattergeo\":[{\"marker\":{\"colorbar\":{\"outlinewidth\":0,\"ticks\":\"\"}},\"type\":\"scattergeo\"}],\"scattergl\":[{\"marker\":{\"colorbar\":{\"outlinewidth\":0,\"ticks\":\"\"}},\"type\":\"scattergl\"}],\"scattermapbox\":[{\"marker\":{\"colorbar\":{\"outlinewidth\":0,\"ticks\":\"\"}},\"type\":\"scattermapbox\"}],\"scatterpolar\":[{\"marker\":{\"colorbar\":{\"outlinewidth\":0,\"ticks\":\"\"}},\"type\":\"scatterpolar\"}],\"scatterpolargl\":[{\"marker\":{\"colorbar\":{\"outlinewidth\":0,\"ticks\":\"\"}},\"type\":\"scatterpolargl\"}],\"scatterternary\":[{\"marker\":{\"colorbar\":{\"outlinewidth\":0,\"ticks\":\"\"}},\"type\":\"scatterternary\"}],\"surface\":[{\"colorbar\":{\"outlinewidth\":0,\"ticks\":\"\"},\"colorscale\":[[0.0,\"#0d0887\"],[0.1111111111111111,\"#46039f\"],[0.2222222222222222,\"#7201a8\"],[0.3333333333333333,\"#9c179e\"],[0.4444444444444444,\"#bd3786\"],[0.5555555555555556,\"#d8576b\"],[0.6666666666666666,\"#ed7953\"],[0.7777777777777778,\"#fb9f3a\"],[0.8888888888888888,\"#fdca26\"],[1.0,\"#f0f921\"]],\"type\":\"surface\"}],\"table\":[{\"cells\":{\"fill\":{\"color\":\"#EBF0F8\"},\"line\":{\"color\":\"white\"}},\"header\":{\"fill\":{\"color\":\"#C8D4E3\"},\"line\":{\"color\":\"white\"}},\"type\":\"table\"}]},\"layout\":{\"annotationdefaults\":{\"arrowcolor\":\"#2a3f5f\",\"arrowhead\":0,\"arrowwidth\":1},\"autotypenumbers\":\"strict\",\"coloraxis\":{\"colorbar\":{\"outlinewidth\":0,\"ticks\":\"\"}},\"colorscale\":{\"diverging\":[[0,\"#8e0152\"],[0.1,\"#c51b7d\"],[0.2,\"#de77ae\"],[0.3,\"#f1b6da\"],[0.4,\"#fde0ef\"],[0.5,\"#f7f7f7\"],[0.6,\"#e6f5d0\"],[0.7,\"#b8e186\"],[0.8,\"#7fbc41\"],[0.9,\"#4d9221\"],[1,\"#276419\"]],\"sequential\":[[0.0,\"#0d0887\"],[0.1111111111111111,\"#46039f\"],[0.2222222222222222,\"#7201a8\"],[0.3333333333333333,\"#9c179e\"],[0.4444444444444444,\"#bd3786\"],[0.5555555555555556,\"#d8576b\"],[0.6666666666666666,\"#ed7953\"],[0.7777777777777778,\"#fb9f3a\"],[0.8888888888888888,\"#fdca26\"],[1.0,\"#f0f921\"]],\"sequentialminus\":[[0.0,\"#0d0887\"],[0.1111111111111111,\"#46039f\"],[0.2222222222222222,\"#7201a8\"],[0.3333333333333333,\"#9c179e\"],[0.4444444444444444,\"#bd3786\"],[0.5555555555555556,\"#d8576b\"],[0.6666666666666666,\"#ed7953\"],[0.7777777777777778,\"#fb9f3a\"],[0.8888888888888888,\"#fdca26\"],[1.0,\"#f0f921\"]]},\"colorway\":[\"#636efa\",\"#EF553B\",\"#00cc96\",\"#ab63fa\",\"#FFA15A\",\"#19d3f3\",\"#FF6692\",\"#B6E880\",\"#FF97FF\",\"#FECB52\"],\"font\":{\"color\":\"#2a3f5f\"},\"geo\":{\"bgcolor\":\"white\",\"lakecolor\":\"white\",\"landcolor\":\"#E5ECF6\",\"showlakes\":true,\"showland\":true,\"subunitcolor\":\"white\"},\"hoverlabel\":{\"align\":\"left\"},\"hovermode\":\"closest\",\"mapbox\":{\"style\":\"light\"},\"paper_bgcolor\":\"white\",\"plot_bgcolor\":\"#E5ECF6\",\"polar\":{\"angularaxis\":{\"gridcolor\":\"white\",\"linecolor\":\"white\",\"ticks\":\"\"},\"bgcolor\":\"#E5ECF6\",\"radialaxis\":{\"gridcolor\":\"white\",\"linecolor\":\"white\",\"ticks\":\"\"}},\"scene\":{\"xaxis\":{\"backgroundcolor\":\"#E5ECF6\",\"gridcolor\":\"white\",\"gridwidth\":2,\"linecolor\":\"white\",\"showbackground\":true,\"ticks\":\"\",\"zerolinecolor\":\"white\"},\"yaxis\":{\"backgroundcolor\":\"#E5ECF6\",\"gridcolor\":\"white\",\"gridwidth\":2,\"linecolor\":\"white\",\"showbackground\":true,\"ticks\":\"\",\"zerolinecolor\":\"white\"},\"zaxis\":{\"backgroundcolor\":\"#E5ECF6\",\"gridcolor\":\"white\",\"gridwidth\":2,\"linecolor\":\"white\",\"showbackground\":true,\"ticks\":\"\",\"zerolinecolor\":\"white\"}},\"shapedefaults\":{\"line\":{\"color\":\"#2a3f5f\"}},\"ternary\":{\"aaxis\":{\"gridcolor\":\"white\",\"linecolor\":\"white\",\"ticks\":\"\"},\"baxis\":{\"gridcolor\":\"white\",\"linecolor\":\"white\",\"ticks\":\"\"},\"bgcolor\":\"#E5ECF6\",\"caxis\":{\"gridcolor\":\"white\",\"linecolor\":\"white\",\"ticks\":\"\"}},\"title\":{\"x\":0.05},\"xaxis\":{\"automargin\":true,\"gridcolor\":\"white\",\"linecolor\":\"white\",\"ticks\":\"\",\"title\":{\"standoff\":15},\"zerolinecolor\":\"white\",\"zerolinewidth\":2},\"yaxis\":{\"automargin\":true,\"gridcolor\":\"white\",\"linecolor\":\"white\",\"ticks\":\"\",\"title\":{\"standoff\":15},\"zerolinecolor\":\"white\",\"zerolinewidth\":2}}}},                        {\"responsive\": true}                    ).then(function(){\n",
              "                            \n",
              "var gd = document.getElementById('e768e1ec-2240-4897-a637-ee2a1c8cb5ed');\n",
              "var x = new MutationObserver(function (mutations, observer) {{\n",
              "        var display = window.getComputedStyle(gd).display;\n",
              "        if (!display || display === 'none') {{\n",
              "            console.log([gd, 'removed!']);\n",
              "            Plotly.purge(gd);\n",
              "            observer.disconnect();\n",
              "        }}\n",
              "}});\n",
              "\n",
              "// Listen for the removal of the full notebook cells\n",
              "var notebookContainer = gd.closest('#notebook-container');\n",
              "if (notebookContainer) {{\n",
              "    x.observe(notebookContainer, {childList: true});\n",
              "}}\n",
              "\n",
              "// Listen for the clearing of the current output cell\n",
              "var outputEl = gd.closest('.output');\n",
              "if (outputEl) {{\n",
              "    x.observe(outputEl, {childList: true});\n",
              "}}\n",
              "\n",
              "                        })                };                            </script>        </div>\n",
              "</body>\n",
              "</html>"
            ]
          },
          "metadata": {}
        }
      ],
      "source": [
        "#plot_optimization_histor: shows the scores from all trials as well as the best score so far at each point.\n",
        "optuna.visualization.plot_optimization_history(study)"
      ]
    },
    {
      "cell_type": "code",
      "execution_count": null,
      "metadata": {
        "colab": {
          "base_uri": "https://localhost:8080/",
          "height": 542
        },
        "id": "95jh-ddTCC34",
        "outputId": "c81d3c75-95db-4576-db6d-3dc7820a69ae"
      },
      "outputs": [
        {
          "output_type": "display_data",
          "data": {
            "text/html": [
              "<html>\n",
              "<head><meta charset=\"utf-8\" /></head>\n",
              "<body>\n",
              "    <div>            <script src=\"https://cdnjs.cloudflare.com/ajax/libs/mathjax/2.7.5/MathJax.js?config=TeX-AMS-MML_SVG\"></script><script type=\"text/javascript\">if (window.MathJax) {MathJax.Hub.Config({SVG: {font: \"STIX-Web\"}});}</script>                <script type=\"text/javascript\">window.PlotlyConfig = {MathJaxConfig: 'local'};</script>\n",
              "        <script src=\"https://cdn.plot.ly/plotly-2.8.3.min.js\"></script>                <div id=\"8bf01d8f-2fa7-46df-a458-394cec0a07ba\" class=\"plotly-graph-div\" style=\"height:525px; width:100%;\"></div>            <script type=\"text/javascript\">                                    window.PLOTLYENV=window.PLOTLYENV || {};                                    if (document.getElementById(\"8bf01d8f-2fa7-46df-a458-394cec0a07ba\")) {                    Plotly.newPlot(                        \"8bf01d8f-2fa7-46df-a458-394cec0a07ba\",                        [{\"dimensions\":[{\"label\":\"Objective Value\",\"range\":[0.0326532375561884,0.10172491649424825],\"values\":[0.0488791075283045,0.09713092049704901,0.0674947690153112,0.10172491649424825,0.04668457003583483,0.05189899891473171,0.03267241078213884,0.0326532375561884,0.03421951505254927,0.03271798261707286,0.05172550299083608,0.03348782948030481,0.03528199175579366,0.03911782882764561,0.03369925626236664,0.03613285501329498,0.03685374152115134,0.09485129409693693,0.061351622922406646,0.05142108886672966,0.09936321424598943,0.040715039736740205,0.0424155587077637,0.0467434622217903,0.037735122170496876,0.04101265147799871,0.05950855980639238,0.05575098449600167,0.047807940824595954,0.053712553439566275,0.04832627668296463,0.09674880764439905,0.06085826333305186,0.09271834276687434,0.03826112627239165,0.03343082380620049,0.03716646932574172,0.03534755157855055,0.035458459103321516,0.03829693304342989,0.09319992451330944,0.060299587467961505,0.050276246018630844,0.040668218029929794,0.03897531602252291,0.04692765444332004,0.07825386122735052,0.09667570419858533,0.04693059750045346,0.053567820118520654]},{\"label\":\"alpha\",\"range\":[-2.956967562460769,0.9918692967666742],\"ticktext\":[\"0.0011\",\"0.01\",\"0.1\",\"1\",\"9.81\"],\"tickvals\":[-2.956967562460769,-2,-1,0,0.9918692967666742],\"values\":[-2.7709938956677176,-2.0651603115278827,-2.31435114377551,-1.6289864485096288,-2.2671274888239954,-1.926998332958155,-1.604689941414523,-2.0187535587828758,-2.2588059090705475,-2.2664849467962696,-1.7353723601431357,-2.0223421442330416,-1.829524830982234,-1.477844739208708,-2.1328242792224263,-2.1109683090828266,-1.9470411146411277,-1.8023037164997437,-0.6667908198693517,-1.2105697448910637,0.2926263025300127,-1.4630084137008021,-1.2156495662065891,-1.2714508874032373,-0.1500929574096494,0.9918692967666742,0.4155335850833009,-0.5074247086484488,-2.488318710280604,-0.20525947277359716,-2.807981754342215,-2.956967562460769,-2.632364232578154,-1.9812738050150691,-2.6927485764219456,-2.6796434733911223,-2.876125548606673,-2.377456821368732,-2.159668146462787,-2.5080454322165253,-2.0772861701881253,-2.5777834752020756,-2.913157868398551,-0.9303890077318195,-1.528902375743245,-0.931072872360951,-1.7182961033333009,-1.2368061498684642,-2.424338623976417,-0.021838448224965272]},{\"label\":\"colsample_bytree\",\"range\":[0,7],\"ticktext\":[0.3,0.4,0.5,0.6,0.7,0.8,0.9,1.0],\"tickvals\":[0,1,2,3,4,5,6,7],\"values\":[0,0,0,0,0,0,0,0,0,0,0,0,0,0,0,0,0,0,0,0,1,1,1,1,1,1,1,2,2,2,3,3,3,3,3,3,3,3,4,4,4,4,5,5,6,6,6,7,7,7]},{\"label\":\"lambda\",\"range\":[-2.9998453189189944,0.9843530766971134],\"ticktext\":[\"0.001\",\"0.01\",\"0.1\",\"1\",\"9.65\"],\"tickvals\":[-2.9998453189189944,-2,-1,0,0.9843530766971134],\"values\":[-2.78564298479735,-2.507341271220743,-2.9987858399252643,-2.4528311400077243,-1.3355200719241616,-1.981793926254938,-2.9898549543885373,-2.8608690992703267,-2.9834384371532066,-2.8366019057453036,-1.9216930847239446,-2.995263933384216,-2.9998453189189944,-2.7544307380418585,-2.876831374394949,-2.865186627678663,-2.600364539171441,-1.364341507277266,0.8406634150331121,-2.1564876342793093,-1.084269923061085,-2.6382981223965443,-0.3390300310094398,-0.23363994373272484,-2.2194112697066344,-2.1482761120670895,0.5829597994444944,-2.821083348520786,-2.3358614338660835,-2.3616979383185006,-0.8169151632515586,-0.43196199810080166,-1.8802531719734703,0.44863862187940773,-0.6135992346750754,-0.700689124684366,0.22027042575808814,-0.7266875466491654,-2.605042096209897,-2.7855377100261145,0.9843530766971134,-2.7429748295951626,-0.1703602338554035,-2.6486695639857043,-1.7205739968163882,-2.5490297330338114,-1.5636970612790877,-1.0204452770392898,-2.3312845997435536,-1.6127879132768246]},{\"label\":\"learning_rate\",\"range\":[0,7],\"ticktext\":[0.008,0.009,0.01,0.012,0.014,0.016,0.018,0.02],\"tickvals\":[0,1,2,3,4,5,6,7],\"values\":[0,1,1,1,1,1,1,1,1,1,1,1,1,1,1,1,1,3,3,7,0,2,4,4,6,6,7,2,5,6,0,0,2,5,7,7,7,7,1,5,5,7,1,1,1,2,7,0,3,6]},{\"label\":\"max_depth\",\"range\":[0,7],\"ticktext\":[5,7,9,11,13,15,17,20],\"tickvals\":[0,1,2,3,4,5,6,7],\"values\":[4,4,4,4,4,4,4,4,4,4,4,4,4,4,4,4,4,3,4,4,7,1,0,1,2,2,3,2,7,2,0,1,0,6,0,4,4,5,6,4,5,1,1,7,5,6,0,5,5,3]},{\"label\":\"min_child_weight\",\"range\":[1,288],\"values\":[157,20,78,37,36,1,3,6,1,5,262,2,23,43,3,3,29,15,215,74,50,20,68,89,65,109,136,288,16,38,55,63,7,191,48,44,91,28,52,58,97,177,12,111,19,29,168,203,224,127]},{\"label\":\"n_estimators\",\"range\":[0,4],\"ticktext\":[10,100,500,1000,2000],\"tickvals\":[0,1,2,3,4],\"values\":[3,0,1,2,3,3,3,3,3,3,3,3,3,3,3,3,3,0,2,2,0,3,3,3,3,3,4,3,1,1,4,0,1,0,3,3,4,3,4,3,0,4,3,3,4,3,4,0,3,2]},{\"label\":\"normalize_type\",\"range\":[0,1],\"ticktext\":[\"forest\",\"tree\"],\"tickvals\":[0,1],\"values\":[0,0,0,0,0,0,0,0,0,0,0,0,0,0,0,0,0,0,1,0,1,1,0,1,0,0,0,1,0,1,0,0,1,1,0,0,0,0,0,0,0,0,1,0,0,1,0,0,0,0]},{\"label\":\"one_drop\",\"range\":[0,1],\"ticktext\":[0,1],\"tickvals\":[0,1],\"values\":[1,0,0,0,0,0,0,0,0,0,0,0,0,0,0,0,0,1,1,0,1,0,0,0,0,0,0,0,0,0,1,0,0,0,0,0,1,0,0,0,1,1,1,0,1,0,1,0,0,0]},{\"label\":\"random_state\",\"range\":[0,2],\"ticktext\":[24,48,2020],\"tickvals\":[0,1,2],\"values\":[2,0,2,0,0,0,0,0,0,0,0,0,0,0,0,0,0,1,1,0,1,0,0,0,0,0,0,2,0,0,1,0,1,0,1,0,0,0,0,0,1,0,1,0,0,0,2,0,2,2]},{\"label\":\"rate_drop\",\"range\":[-2.997973484797284,-0.0072203612727881105],\"ticktext\":[\"0.001\",\"0.01\",\"0.1\",\"0.984\"],\"tickvals\":[-2.997973484797284,-2,-1,-0.0072203612727881105],\"values\":[-2.7834011911781715,-2.997973484797284,-2.664359794854102,-0.0072203612727881105,-1.9203446552755266,-1.2834295906136468,-2.4960800705495734,-2.4726029455362903,-2.5045574220537015,-2.626398210969926,-2.9264061218637614,-2.412733440953616,-2.66895010877578,-2.3461576726726565,-2.3367795586545954,-2.04587440400837,-2.2891019834548527,-2.5795014268768393,-1.6003241395717638,-1.3557303685122086,-0.38928185179818187,-2.2652075954893487,-2.2462960738024966,-2.2447018859991026,-2.4466345839396855,-2.9481805740241653,-0.6531983244227246,-2.1098987747815925,-2.832349459579708,-2.496058096476529,-1.5571173787500316,-2.006253485318443,-2.040130639684746,-2.774008839083076,-2.5765656498024208,-2.6536577907781935,-2.6489268692618393,-2.1807420405651388,-2.3888462798398167,-2.1264620665072074,-1.0542786597660785,-0.7072507393639343,-1.6868517195633426,-2.7666372600065077,-1.7889656057060854,-1.8692003054830728,-0.47220163783211644,-2.7383932117505694,-2.5431238357599364,-1.1216565535862177]},{\"label\":\"sample_type\",\"range\":[0,1],\"ticktext\":[\"uniform\",\"weighted\"],\"tickvals\":[0,1],\"values\":[1,0,0,1,0,0,0,0,0,0,0,0,0,0,0,0,0,0,0,0,1,0,0,0,0,0,1,0,0,0,0,1,0,1,1,1,1,1,0,1,1,1,0,0,0,0,0,0,0,0]},{\"label\":\"subsample\",\"range\":[0,5],\"ticktext\":[0.4,0.5,0.6,0.7,0.8,1.0],\"tickvals\":[0,1,2,3,4,5],\"values\":[3,0,5,0,1,2,3,3,3,3,3,3,3,3,3,3,3,5,5,2,1,3,3,3,3,3,2,3,3,0,4,4,4,3,3,3,2,1,4,3,1,2,4,5,1,3,0,5,3,3]}],\"labelangle\":30,\"labelside\":\"bottom\",\"line\":{\"color\":[0.0488791075283045,0.09713092049704901,0.0674947690153112,0.10172491649424825,0.04668457003583483,0.05189899891473171,0.03267241078213884,0.0326532375561884,0.03421951505254927,0.03271798261707286,0.05172550299083608,0.03348782948030481,0.03528199175579366,0.03911782882764561,0.03369925626236664,0.03613285501329498,0.03685374152115134,0.09485129409693693,0.061351622922406646,0.05142108886672966,0.09936321424598943,0.040715039736740205,0.0424155587077637,0.0467434622217903,0.037735122170496876,0.04101265147799871,0.05950855980639238,0.05575098449600167,0.047807940824595954,0.053712553439566275,0.04832627668296463,0.09674880764439905,0.06085826333305186,0.09271834276687434,0.03826112627239165,0.03343082380620049,0.03716646932574172,0.03534755157855055,0.035458459103321516,0.03829693304342989,0.09319992451330944,0.060299587467961505,0.050276246018630844,0.040668218029929794,0.03897531602252291,0.04692765444332004,0.07825386122735052,0.09667570419858533,0.04693059750045346,0.053567820118520654],\"colorbar\":{\"title\":{\"text\":\"Objective Value\"}},\"colorscale\":[[0.0,\"rgb(247,251,255)\"],[0.125,\"rgb(222,235,247)\"],[0.25,\"rgb(198,219,239)\"],[0.375,\"rgb(158,202,225)\"],[0.5,\"rgb(107,174,214)\"],[0.625,\"rgb(66,146,198)\"],[0.75,\"rgb(33,113,181)\"],[0.875,\"rgb(8,81,156)\"],[1.0,\"rgb(8,48,107)\"]],\"reversescale\":true,\"showscale\":true},\"type\":\"parcoords\"}],                        {\"title\":{\"text\":\"Parallel Coordinate Plot\"},\"template\":{\"data\":{\"bar\":[{\"error_x\":{\"color\":\"#2a3f5f\"},\"error_y\":{\"color\":\"#2a3f5f\"},\"marker\":{\"line\":{\"color\":\"#E5ECF6\",\"width\":0.5},\"pattern\":{\"fillmode\":\"overlay\",\"size\":10,\"solidity\":0.2}},\"type\":\"bar\"}],\"barpolar\":[{\"marker\":{\"line\":{\"color\":\"#E5ECF6\",\"width\":0.5},\"pattern\":{\"fillmode\":\"overlay\",\"size\":10,\"solidity\":0.2}},\"type\":\"barpolar\"}],\"carpet\":[{\"aaxis\":{\"endlinecolor\":\"#2a3f5f\",\"gridcolor\":\"white\",\"linecolor\":\"white\",\"minorgridcolor\":\"white\",\"startlinecolor\":\"#2a3f5f\"},\"baxis\":{\"endlinecolor\":\"#2a3f5f\",\"gridcolor\":\"white\",\"linecolor\":\"white\",\"minorgridcolor\":\"white\",\"startlinecolor\":\"#2a3f5f\"},\"type\":\"carpet\"}],\"choropleth\":[{\"colorbar\":{\"outlinewidth\":0,\"ticks\":\"\"},\"type\":\"choropleth\"}],\"contour\":[{\"colorbar\":{\"outlinewidth\":0,\"ticks\":\"\"},\"colorscale\":[[0.0,\"#0d0887\"],[0.1111111111111111,\"#46039f\"],[0.2222222222222222,\"#7201a8\"],[0.3333333333333333,\"#9c179e\"],[0.4444444444444444,\"#bd3786\"],[0.5555555555555556,\"#d8576b\"],[0.6666666666666666,\"#ed7953\"],[0.7777777777777778,\"#fb9f3a\"],[0.8888888888888888,\"#fdca26\"],[1.0,\"#f0f921\"]],\"type\":\"contour\"}],\"contourcarpet\":[{\"colorbar\":{\"outlinewidth\":0,\"ticks\":\"\"},\"type\":\"contourcarpet\"}],\"heatmap\":[{\"colorbar\":{\"outlinewidth\":0,\"ticks\":\"\"},\"colorscale\":[[0.0,\"#0d0887\"],[0.1111111111111111,\"#46039f\"],[0.2222222222222222,\"#7201a8\"],[0.3333333333333333,\"#9c179e\"],[0.4444444444444444,\"#bd3786\"],[0.5555555555555556,\"#d8576b\"],[0.6666666666666666,\"#ed7953\"],[0.7777777777777778,\"#fb9f3a\"],[0.8888888888888888,\"#fdca26\"],[1.0,\"#f0f921\"]],\"type\":\"heatmap\"}],\"heatmapgl\":[{\"colorbar\":{\"outlinewidth\":0,\"ticks\":\"\"},\"colorscale\":[[0.0,\"#0d0887\"],[0.1111111111111111,\"#46039f\"],[0.2222222222222222,\"#7201a8\"],[0.3333333333333333,\"#9c179e\"],[0.4444444444444444,\"#bd3786\"],[0.5555555555555556,\"#d8576b\"],[0.6666666666666666,\"#ed7953\"],[0.7777777777777778,\"#fb9f3a\"],[0.8888888888888888,\"#fdca26\"],[1.0,\"#f0f921\"]],\"type\":\"heatmapgl\"}],\"histogram\":[{\"marker\":{\"pattern\":{\"fillmode\":\"overlay\",\"size\":10,\"solidity\":0.2}},\"type\":\"histogram\"}],\"histogram2d\":[{\"colorbar\":{\"outlinewidth\":0,\"ticks\":\"\"},\"colorscale\":[[0.0,\"#0d0887\"],[0.1111111111111111,\"#46039f\"],[0.2222222222222222,\"#7201a8\"],[0.3333333333333333,\"#9c179e\"],[0.4444444444444444,\"#bd3786\"],[0.5555555555555556,\"#d8576b\"],[0.6666666666666666,\"#ed7953\"],[0.7777777777777778,\"#fb9f3a\"],[0.8888888888888888,\"#fdca26\"],[1.0,\"#f0f921\"]],\"type\":\"histogram2d\"}],\"histogram2dcontour\":[{\"colorbar\":{\"outlinewidth\":0,\"ticks\":\"\"},\"colorscale\":[[0.0,\"#0d0887\"],[0.1111111111111111,\"#46039f\"],[0.2222222222222222,\"#7201a8\"],[0.3333333333333333,\"#9c179e\"],[0.4444444444444444,\"#bd3786\"],[0.5555555555555556,\"#d8576b\"],[0.6666666666666666,\"#ed7953\"],[0.7777777777777778,\"#fb9f3a\"],[0.8888888888888888,\"#fdca26\"],[1.0,\"#f0f921\"]],\"type\":\"histogram2dcontour\"}],\"mesh3d\":[{\"colorbar\":{\"outlinewidth\":0,\"ticks\":\"\"},\"type\":\"mesh3d\"}],\"parcoords\":[{\"line\":{\"colorbar\":{\"outlinewidth\":0,\"ticks\":\"\"}},\"type\":\"parcoords\"}],\"pie\":[{\"automargin\":true,\"type\":\"pie\"}],\"scatter\":[{\"marker\":{\"colorbar\":{\"outlinewidth\":0,\"ticks\":\"\"}},\"type\":\"scatter\"}],\"scatter3d\":[{\"line\":{\"colorbar\":{\"outlinewidth\":0,\"ticks\":\"\"}},\"marker\":{\"colorbar\":{\"outlinewidth\":0,\"ticks\":\"\"}},\"type\":\"scatter3d\"}],\"scattercarpet\":[{\"marker\":{\"colorbar\":{\"outlinewidth\":0,\"ticks\":\"\"}},\"type\":\"scattercarpet\"}],\"scattergeo\":[{\"marker\":{\"colorbar\":{\"outlinewidth\":0,\"ticks\":\"\"}},\"type\":\"scattergeo\"}],\"scattergl\":[{\"marker\":{\"colorbar\":{\"outlinewidth\":0,\"ticks\":\"\"}},\"type\":\"scattergl\"}],\"scattermapbox\":[{\"marker\":{\"colorbar\":{\"outlinewidth\":0,\"ticks\":\"\"}},\"type\":\"scattermapbox\"}],\"scatterpolar\":[{\"marker\":{\"colorbar\":{\"outlinewidth\":0,\"ticks\":\"\"}},\"type\":\"scatterpolar\"}],\"scatterpolargl\":[{\"marker\":{\"colorbar\":{\"outlinewidth\":0,\"ticks\":\"\"}},\"type\":\"scatterpolargl\"}],\"scatterternary\":[{\"marker\":{\"colorbar\":{\"outlinewidth\":0,\"ticks\":\"\"}},\"type\":\"scatterternary\"}],\"surface\":[{\"colorbar\":{\"outlinewidth\":0,\"ticks\":\"\"},\"colorscale\":[[0.0,\"#0d0887\"],[0.1111111111111111,\"#46039f\"],[0.2222222222222222,\"#7201a8\"],[0.3333333333333333,\"#9c179e\"],[0.4444444444444444,\"#bd3786\"],[0.5555555555555556,\"#d8576b\"],[0.6666666666666666,\"#ed7953\"],[0.7777777777777778,\"#fb9f3a\"],[0.8888888888888888,\"#fdca26\"],[1.0,\"#f0f921\"]],\"type\":\"surface\"}],\"table\":[{\"cells\":{\"fill\":{\"color\":\"#EBF0F8\"},\"line\":{\"color\":\"white\"}},\"header\":{\"fill\":{\"color\":\"#C8D4E3\"},\"line\":{\"color\":\"white\"}},\"type\":\"table\"}]},\"layout\":{\"annotationdefaults\":{\"arrowcolor\":\"#2a3f5f\",\"arrowhead\":0,\"arrowwidth\":1},\"autotypenumbers\":\"strict\",\"coloraxis\":{\"colorbar\":{\"outlinewidth\":0,\"ticks\":\"\"}},\"colorscale\":{\"diverging\":[[0,\"#8e0152\"],[0.1,\"#c51b7d\"],[0.2,\"#de77ae\"],[0.3,\"#f1b6da\"],[0.4,\"#fde0ef\"],[0.5,\"#f7f7f7\"],[0.6,\"#e6f5d0\"],[0.7,\"#b8e186\"],[0.8,\"#7fbc41\"],[0.9,\"#4d9221\"],[1,\"#276419\"]],\"sequential\":[[0.0,\"#0d0887\"],[0.1111111111111111,\"#46039f\"],[0.2222222222222222,\"#7201a8\"],[0.3333333333333333,\"#9c179e\"],[0.4444444444444444,\"#bd3786\"],[0.5555555555555556,\"#d8576b\"],[0.6666666666666666,\"#ed7953\"],[0.7777777777777778,\"#fb9f3a\"],[0.8888888888888888,\"#fdca26\"],[1.0,\"#f0f921\"]],\"sequentialminus\":[[0.0,\"#0d0887\"],[0.1111111111111111,\"#46039f\"],[0.2222222222222222,\"#7201a8\"],[0.3333333333333333,\"#9c179e\"],[0.4444444444444444,\"#bd3786\"],[0.5555555555555556,\"#d8576b\"],[0.6666666666666666,\"#ed7953\"],[0.7777777777777778,\"#fb9f3a\"],[0.8888888888888888,\"#fdca26\"],[1.0,\"#f0f921\"]]},\"colorway\":[\"#636efa\",\"#EF553B\",\"#00cc96\",\"#ab63fa\",\"#FFA15A\",\"#19d3f3\",\"#FF6692\",\"#B6E880\",\"#FF97FF\",\"#FECB52\"],\"font\":{\"color\":\"#2a3f5f\"},\"geo\":{\"bgcolor\":\"white\",\"lakecolor\":\"white\",\"landcolor\":\"#E5ECF6\",\"showlakes\":true,\"showland\":true,\"subunitcolor\":\"white\"},\"hoverlabel\":{\"align\":\"left\"},\"hovermode\":\"closest\",\"mapbox\":{\"style\":\"light\"},\"paper_bgcolor\":\"white\",\"plot_bgcolor\":\"#E5ECF6\",\"polar\":{\"angularaxis\":{\"gridcolor\":\"white\",\"linecolor\":\"white\",\"ticks\":\"\"},\"bgcolor\":\"#E5ECF6\",\"radialaxis\":{\"gridcolor\":\"white\",\"linecolor\":\"white\",\"ticks\":\"\"}},\"scene\":{\"xaxis\":{\"backgroundcolor\":\"#E5ECF6\",\"gridcolor\":\"white\",\"gridwidth\":2,\"linecolor\":\"white\",\"showbackground\":true,\"ticks\":\"\",\"zerolinecolor\":\"white\"},\"yaxis\":{\"backgroundcolor\":\"#E5ECF6\",\"gridcolor\":\"white\",\"gridwidth\":2,\"linecolor\":\"white\",\"showbackground\":true,\"ticks\":\"\",\"zerolinecolor\":\"white\"},\"zaxis\":{\"backgroundcolor\":\"#E5ECF6\",\"gridcolor\":\"white\",\"gridwidth\":2,\"linecolor\":\"white\",\"showbackground\":true,\"ticks\":\"\",\"zerolinecolor\":\"white\"}},\"shapedefaults\":{\"line\":{\"color\":\"#2a3f5f\"}},\"ternary\":{\"aaxis\":{\"gridcolor\":\"white\",\"linecolor\":\"white\",\"ticks\":\"\"},\"baxis\":{\"gridcolor\":\"white\",\"linecolor\":\"white\",\"ticks\":\"\"},\"bgcolor\":\"#E5ECF6\",\"caxis\":{\"gridcolor\":\"white\",\"linecolor\":\"white\",\"ticks\":\"\"}},\"title\":{\"x\":0.05},\"xaxis\":{\"automargin\":true,\"gridcolor\":\"white\",\"linecolor\":\"white\",\"ticks\":\"\",\"title\":{\"standoff\":15},\"zerolinecolor\":\"white\",\"zerolinewidth\":2},\"yaxis\":{\"automargin\":true,\"gridcolor\":\"white\",\"linecolor\":\"white\",\"ticks\":\"\",\"title\":{\"standoff\":15},\"zerolinecolor\":\"white\",\"zerolinewidth\":2}}}},                        {\"responsive\": true}                    ).then(function(){\n",
              "                            \n",
              "var gd = document.getElementById('8bf01d8f-2fa7-46df-a458-394cec0a07ba');\n",
              "var x = new MutationObserver(function (mutations, observer) {{\n",
              "        var display = window.getComputedStyle(gd).display;\n",
              "        if (!display || display === 'none') {{\n",
              "            console.log([gd, 'removed!']);\n",
              "            Plotly.purge(gd);\n",
              "            observer.disconnect();\n",
              "        }}\n",
              "}});\n",
              "\n",
              "// Listen for the removal of the full notebook cells\n",
              "var notebookContainer = gd.closest('#notebook-container');\n",
              "if (notebookContainer) {{\n",
              "    x.observe(notebookContainer, {childList: true});\n",
              "}}\n",
              "\n",
              "// Listen for the clearing of the current output cell\n",
              "var outputEl = gd.closest('.output');\n",
              "if (outputEl) {{\n",
              "    x.observe(outputEl, {childList: true});\n",
              "}}\n",
              "\n",
              "                        })                };                            </script>        </div>\n",
              "</body>\n",
              "</html>"
            ]
          },
          "metadata": {}
        }
      ],
      "source": [
        "#plot_parallel_coordinate: interactively visualizes the hyperparameters and scores\n",
        "optuna.visualization.plot_parallel_coordinate(study)"
      ]
    },
    {
      "cell_type": "code",
      "execution_count": null,
      "metadata": {
        "colab": {
          "base_uri": "https://localhost:8080/",
          "height": 542
        },
        "id": "zkU-pgWyCC35",
        "outputId": "6bbbf047-e1c1-48f9-fa04-cf14ba131b1b"
      },
      "outputs": [
        {
          "output_type": "display_data",
          "data": {
            "text/html": [
              "<html>\n",
              "<head><meta charset=\"utf-8\" /></head>\n",
              "<body>\n",
              "    <div>            <script src=\"https://cdnjs.cloudflare.com/ajax/libs/mathjax/2.7.5/MathJax.js?config=TeX-AMS-MML_SVG\"></script><script type=\"text/javascript\">if (window.MathJax) {MathJax.Hub.Config({SVG: {font: \"STIX-Web\"}});}</script>                <script type=\"text/javascript\">window.PlotlyConfig = {MathJaxConfig: 'local'};</script>\n",
              "        <script src=\"https://cdn.plot.ly/plotly-2.8.3.min.js\"></script>                <div id=\"5c4ac31b-73c7-45e6-b57c-39dff820abcd\" class=\"plotly-graph-div\" style=\"height:525px; width:100%;\"></div>            <script type=\"text/javascript\">                                    window.PLOTLYENV=window.PLOTLYENV || {};                                    if (document.getElementById(\"5c4ac31b-73c7-45e6-b57c-39dff820abcd\")) {                    Plotly.newPlot(                        \"5c4ac31b-73c7-45e6-b57c-39dff820abcd\",                        [{\"type\":\"scatter\",\"xaxis\":\"x\",\"yaxis\":\"y\"},{\"colorbar\":{\"title\":{\"text\":\"Objective Value\"}},\"colorscale\":[[0,\"rgb(5,10,172)\"],[0.35,\"rgb(40,60,190)\"],[0.5,\"rgb(70,100,245)\"],[0.6,\"rgb(90,120,245)\"],[0.7,\"rgb(106,137,247)\"],[1,\"rgb(220,220,220)\"]],\"connectgaps\":true,\"contours\":{\"coloring\":\"heatmap\"},\"hoverinfo\":\"none\",\"line\":{\"smoothing\":1.3},\"reversescale\":true,\"showscale\":true,\"x\":[4.25,5,7,9,11,13,15,17,20,20.75],\"y\":[-89.5,10,100,500,1000,2000,2099.5],\"z\":[[null,null,null,null,null,null,null,null,null,null],[null,null,0.09674880764439905,null,0.09485129409693693,0.09713092049704901,0.09319992451330944,0.09271834276687434,0.09936321424598943,null],[null,0.06085826333305186,null,0.053712553439566275,null,0.0674947690153112,null,null,0.047807940824595954,null],[null,null,null,null,0.053567820118520654,0.05142108886672966,null,null,null,null],[null,0.03826112627239165,0.0467434622217903,0.04101265147799871,null,0.03343082380620049,0.03534755157855055,0.04692765444332004,0.040668218029929794,null],[null,0.04832627668296463,0.060299587467961505,null,0.05950855980639238,0.03716646932574172,0.03897531602252291,0.035458459103321516,null,null],[null,null,null,null,null,null,null,null,null,null]],\"type\":\"contour\",\"xaxis\":\"x4\",\"yaxis\":\"y4\"},{\"marker\":{\"color\":\"black\",\"line\":{\"color\":\"Grey\",\"width\":0.5}},\"mode\":\"markers\",\"showlegend\":false,\"x\":[15,5,15,7,7,5,13,11,17,20,9,5,7,5,7,9,9,9,11,17,13,13,13,13,13,13,13,13,13,20,15,13,13,13,13,13,15,13,13,17,11,13,13,13,20,13,5,13,15,7],\"y\":[10,2000,10,2000,1000,2000,500,2000,10,10,1000,100,1000,1000,1000,1000,1000,100,500,1000,1000,1000,1000,1000,1000,100,500,1000,1000,1000,1000,1000,1000,1000,10,1000,2000,500,1000,2000,10,1000,1000,1000,100,1000,1000,2000,1000,10],\"type\":\"scatter\",\"xaxis\":\"x4\",\"yaxis\":\"y4\"},{\"colorbar\":{\"title\":{\"text\":\"Objective Value\"}},\"colorscale\":[[0,\"rgb(5,10,172)\"],[0.35,\"rgb(40,60,190)\"],[0.5,\"rgb(70,100,245)\"],[0.6,\"rgb(90,120,245)\"],[0.7,\"rgb(106,137,247)\"],[1,\"rgb(220,220,220)\"]],\"connectgaps\":true,\"contours\":{\"coloring\":\"heatmap\"},\"hoverinfo\":\"none\",\"line\":{\"smoothing\":1.3},\"reversescale\":true,\"showscale\":false,\"x\":[4.25,5,7,9,11,13,15,17,20,20.75],\"y\":[0.0007120145344279269,0.001004677127471513,0.0011267288794842344,0.0011846604183575673,0.0014711282673552928,0.0016466405603266612,0.0016826398143897465,0.0017114441844130032,0.001826445796852355,0.0021431367879381686,0.0021659089961213593,0.002219944971642962,0.002244259802307937,0.0023637513453192973,0.0026332892919752717,0.0026511503035531792,0.002863361387824974,0.0031292666951806213,0.003190949487887908,0.003191110944995859,0.0033681936632674442,0.003575735745823295,0.003866041921924994,0.004084639380912185,0.0045065306310466385,0.004604902521947751,0.005139229551541786,0.005429907164765784,0.0056715782217341085,0.0056924354423453375,0.006595655434053008,0.007473739107856996,0.007764280651443056,0.008997577497630785,0.009117365395538531,0.009857039903555248,0.012013106983385292,0.013514491035068852,0.016256774974636956,0.020565926551072766,0.025100123620513542,0.027725706480647448,0.044082846667318334,0.052067941638234555,0.07556896017927996,0.08825134646961047,0.19622270604521252,0.2222294828279026,0.3371307464668547,0.4080544780237343,0.9835119446016184,1.3877693608181485],\"z\":[[null,null,null,null,null,null,null,null,null,null],[null,null,null,null,null,0.09713092049704901,null,null,null,null],[null,null,null,0.04101265147799871,null,null,null,null,null,null],[null,null,null,null,null,0.05172550299083608,null,null,null,null],[null,null,null,null,null,null,null,null,0.047807940824595954,null],[null,null,null,null,null,0.0488791075283045,null,null,null,null],[null,null,null,null,null,null,null,0.09271834276687434,null,null],[null,null,null,null,null,null,null,null,0.040668218029929794,null],[null,null,null,null,null,null,0.09667570419858533,null,null,null],[null,null,null,null,null,0.03528199175579366,null,null,null,null],[null,null,null,null,null,0.0674947690153112,null,null,null,null],[null,null,null,null,null,0.03343082380620049,null,null,null,null],[null,null,null,null,null,0.03716646932574172,null,null,null,null],[null,null,null,null,null,0.03271798261707286,null,null,null,null],[null,null,null,null,0.09485129409693693,null,null,null,null,null],[null,0.03826112627239165,null,null,null,null,null,null,null,null],[null,null,null,null,null,null,0.04693059750045346,null,null,null],[null,null,null,null,null,0.03421951505254927,null,null,null,null],[null,null,null,null,null,0.03267241078213884,null,null,null,null],[null,null,null,0.053712553439566275,null,null,null,null,null,null],[null,null,null,null,null,0.0326532375561884,null,null,null,null],[null,null,null,0.037735122170496876,null,null,null,null,null,null],[null,null,null,null,null,0.03348782948030481,null,null,null,null],[null,null,null,null,null,null,null,0.035458459103321516,null,null],[null,null,null,null,null,0.03911782882764561,null,null,null,null],[null,null,null,null,null,0.03369925626236664,null,null,null,null],[null,null,null,null,null,0.03685374152115134,null,null,null,null],[null,null,0.040715039736740205,null,null,null,null,null,null,null],[null,0.0424155587077637,null,null,null,null,null,null,null,null],[null,null,0.0467434622217903,null,null,null,null,null,null,null],[null,null,null,null,null,null,0.03534755157855055,null,null,null],[null,null,null,null,null,0.03829693304342989,null,null,null,null],[null,null,null,0.05575098449600167,null,null,null,null,null,null],[null,null,null,null,null,0.03613285501329498,null,null,null,null],[null,0.06085826333305186,null,null,null,null,null,null,null,null],[null,null,0.09674880764439905,null,null,null,null,null,null,null],[null,null,null,null,null,0.04668457003583483,null,null,null,null],[null,null,null,null,null,null,null,0.04692765444332004,null,null],[null,null,null,null,null,null,0.03897531602252291,null,null,null],[null,null,0.050276246018630844,null,null,null,null,null,null,null],[null,null,null,null,null,0.061351622922406646,null,null,null,null],[null,0.04832627668296463,null,null,null,null,null,null,null,null],[null,null,null,null,null,0.05142108886672966,null,null,null,null],[null,null,null,null,null,0.05189899891473171,null,null,null,null],[null,null,null,null,0.053567820118520654,null,null,null,null,null],[null,null,null,null,null,null,0.09319992451330944,null,null,null],[null,null,0.060299587467961505,null,null,null,null,null,null,null],[null,null,null,null,0.05950855980639238,null,null,null,null,null],[null,0.07825386122735052,null,null,null,null,null,null,null,null],[null,null,null,null,null,null,null,null,0.09936321424598943,null],[null,null,null,null,null,0.10172491649424825,null,null,null,null],[null,null,null,null,null,null,null,null,null,null]],\"type\":\"contour\",\"xaxis\":\"x7\",\"yaxis\":\"y7\"},{\"marker\":{\"color\":\"black\",\"line\":{\"color\":\"Grey\",\"width\":0.5}},\"mode\":\"markers\",\"showlegend\":false,\"x\":[15,5,15,7,7,5,13,11,17,20,9,5,7,5,7,9,9,9,11,17,13,13,13,13,13,13,13,13,13,20,15,13,13,13,13,13,15,13,13,17,11,13,13,13,20,13,5,13,15,7],\"y\":[0.001826445796852355,0.3371307464668547,0.08825134646961047,0.19622270604521252,0.005429907164765784,0.027725706480647448,0.025100123620513542,0.2222294828279026,0.0016826398143897465,0.4080544780237343,0.007764280651443056,0.009117365395538531,0.020565926551072766,0.0056715782217341085,0.0056924354423453375,0.003575735745823295,0.0011267288794842344,0.003191110944995859,0.07556896017927996,0.013514491035068852,0.003190949487887908,0.0033681936632674442,0.0031292666951806213,0.0023637513453192973,0.0011846604183575673,0.0021659089961213593,0.9835119446016184,0.052067941638234555,0.012013106983385292,0.0017114441844130032,0.002863361387824974,0.003866041921924994,0.0021431367879381686,0.0045065306310466385,0.001004677127471513,0.007473739107856996,0.016256774974636956,0.044082846667318334,0.0016466405603266612,0.004084639380912185,0.0026332892919752717,0.004604902521947751,0.008997577497630785,0.005139229551541786,0.0014711282673552928,0.002219944971642962,0.0026511503035531792,0.002244259802307937,0.006595655434053008,0.009857039903555248],\"type\":\"scatter\",\"xaxis\":\"x7\",\"yaxis\":\"y7\"},{\"colorbar\":{\"title\":{\"text\":\"Objective Value\"}},\"colorscale\":[[0,\"rgb(5,10,172)\"],[0.35,\"rgb(40,60,190)\"],[0.5,\"rgb(70,100,245)\"],[0.6,\"rgb(90,120,245)\"],[0.7,\"rgb(106,137,247)\"],[1,\"rgb(220,220,220)\"]],\"connectgaps\":true,\"contours\":{\"coloring\":\"heatmap\"},\"hoverinfo\":\"none\",\"line\":{\"smoothing\":1.3},\"reversescale\":true,\"showscale\":false,\"x\":[-89.5,10,100,500,1000,2000,2099.5],\"y\":[4.25,5,7,9,11,13,15,17,20,20.75],\"z\":[[null,null,null,null,null,null,null],[null,null,0.06085826333305186,null,0.03826112627239165,0.04832627668296463,null],[null,0.09674880764439905,null,null,0.0467434622217903,0.060299587467961505,null],[null,null,0.053712553439566275,null,0.04101265147799871,null,null],[null,0.09485129409693693,null,0.053567820118520654,null,0.05950855980639238,null],[null,0.09713092049704901,0.0674947690153112,0.05142108886672966,0.03343082380620049,0.03716646932574172,null],[null,0.09319992451330944,null,null,0.03534755157855055,0.03897531602252291,null],[null,0.09271834276687434,null,null,0.04692765444332004,0.035458459103321516,null],[null,0.09936321424598943,0.047807940824595954,null,0.040668218029929794,null,null],[null,null,null,null,null,null,null]],\"type\":\"contour\",\"xaxis\":\"x2\",\"yaxis\":\"y2\"},{\"marker\":{\"color\":\"black\",\"line\":{\"color\":\"Grey\",\"width\":0.5}},\"mode\":\"markers\",\"showlegend\":false,\"x\":[10,2000,10,2000,1000,2000,500,2000,10,10,1000,100,1000,1000,1000,1000,1000,100,500,1000,1000,1000,1000,1000,1000,100,500,1000,1000,1000,1000,1000,1000,1000,10,1000,2000,500,1000,2000,10,1000,1000,1000,100,1000,1000,2000,1000,10],\"y\":[15,5,15,7,7,5,13,11,17,20,9,5,7,5,7,9,9,9,11,17,13,13,13,13,13,13,13,13,13,20,15,13,13,13,13,13,15,13,13,17,11,13,13,13,20,13,5,13,15,7],\"type\":\"scatter\",\"xaxis\":\"x2\",\"yaxis\":\"y2\"},{\"type\":\"scatter\",\"xaxis\":\"x5\",\"yaxis\":\"y5\"},{\"colorbar\":{\"title\":{\"text\":\"Objective Value\"}},\"colorscale\":[[0,\"rgb(5,10,172)\"],[0.35,\"rgb(40,60,190)\"],[0.5,\"rgb(70,100,245)\"],[0.6,\"rgb(90,120,245)\"],[0.7,\"rgb(106,137,247)\"],[1,\"rgb(220,220,220)\"]],\"connectgaps\":true,\"contours\":{\"coloring\":\"heatmap\"},\"hoverinfo\":\"none\",\"line\":{\"smoothing\":1.3},\"reversescale\":true,\"showscale\":false,\"x\":[-89.5,10,100,500,1000,2000,2099.5],\"y\":[0.0007120145344279269,0.001004677127471513,0.0011267288794842344,0.0011846604183575673,0.0014711282673552928,0.0016466405603266612,0.0016826398143897465,0.0017114441844130032,0.001826445796852355,0.0021431367879381686,0.0021659089961213593,0.002219944971642962,0.002244259802307937,0.0023637513453192973,0.0026332892919752717,0.0026511503035531792,0.002863361387824974,0.0031292666951806213,0.003190949487887908,0.003191110944995859,0.0033681936632674442,0.003575735745823295,0.003866041921924994,0.004084639380912185,0.0045065306310466385,0.004604902521947751,0.005139229551541786,0.005429907164765784,0.0056715782217341085,0.0056924354423453375,0.006595655434053008,0.007473739107856996,0.007764280651443056,0.008997577497630785,0.009117365395538531,0.009857039903555248,0.012013106983385292,0.013514491035068852,0.016256774974636956,0.020565926551072766,0.025100123620513542,0.027725706480647448,0.044082846667318334,0.052067941638234555,0.07556896017927996,0.08825134646961047,0.19622270604521252,0.2222294828279026,0.3371307464668547,0.4080544780237343,0.9835119446016184,1.3877693608181485],\"z\":[[null,null,null,null,null,null,null],[null,0.09713092049704901,null,null,null,null,null],[null,null,null,null,0.04101265147799871,null,null],[null,null,null,null,0.05172550299083608,null,null],[null,null,0.047807940824595954,null,null,null,null],[null,null,null,null,0.0488791075283045,null,null],[null,0.09271834276687434,null,null,null,null,null],[null,null,null,null,0.040668218029929794,null,null],[null,0.09667570419858533,null,null,null,null,null],[null,null,null,null,0.03528199175579366,null,null],[null,null,0.0674947690153112,null,null,null,null],[null,null,null,null,0.03343082380620049,null,null],[null,null,null,null,null,0.03716646932574172,null],[null,null,null,null,0.03271798261707286,null,null],[null,0.09485129409693693,null,null,null,null,null],[null,null,null,null,0.03826112627239165,null,null],[null,null,null,null,0.04693059750045346,null,null],[null,null,null,null,0.03421951505254927,null,null],[null,null,null,null,0.03267241078213884,null,null],[null,null,0.053712553439566275,null,null,null,null],[null,null,null,null,0.0326532375561884,null,null],[null,null,null,null,0.037735122170496876,null,null],[null,null,null,null,0.03348782948030481,null,null],[null,null,null,null,null,0.035458459103321516,null],[null,null,null,null,0.03911782882764561,null,null],[null,null,null,null,0.03369925626236664,null,null],[null,null,null,null,0.03685374152115134,null,null],[null,null,null,null,0.040715039736740205,null,null],[null,null,null,null,0.0424155587077637,null,null],[null,null,null,null,0.0467434622217903,null,null],[null,null,null,null,0.03534755157855055,null,null],[null,null,null,null,0.03829693304342989,null,null],[null,null,null,null,0.05575098449600167,null,null],[null,null,null,null,0.03613285501329498,null,null],[null,null,0.06085826333305186,null,null,null,null],[null,0.09674880764439905,null,null,null,null,null],[null,null,null,null,0.04668457003583483,null,null],[null,null,null,null,0.04692765444332004,null,null],[null,null,null,null,null,0.03897531602252291,null],[null,null,null,null,0.050276246018630844,null,null],[null,null,null,0.061351622922406646,null,null,null],[null,null,null,null,null,0.04832627668296463,null],[null,null,null,0.05142108886672966,null,null,null],[null,null,null,null,0.05189899891473171,null,null],[null,null,null,0.053567820118520654,null,null,null],[null,0.09319992451330944,null,null,null,null,null],[null,null,null,null,null,0.060299587467961505,null],[null,null,null,null,null,0.05950855980639238,null],[null,null,null,null,null,0.07825386122735052,null],[null,0.09936321424598943,null,null,null,null,null],[null,null,null,0.10172491649424825,null,null,null],[null,null,null,null,null,null,null]],\"type\":\"contour\",\"xaxis\":\"x8\",\"yaxis\":\"y8\"},{\"marker\":{\"color\":\"black\",\"line\":{\"color\":\"Grey\",\"width\":0.5}},\"mode\":\"markers\",\"showlegend\":false,\"x\":[10,2000,10,2000,1000,2000,500,2000,10,10,1000,100,1000,1000,1000,1000,1000,100,500,1000,1000,1000,1000,1000,1000,100,500,1000,1000,1000,1000,1000,1000,1000,10,1000,2000,500,1000,2000,10,1000,1000,1000,100,1000,1000,2000,1000,10],\"y\":[0.001826445796852355,0.3371307464668547,0.08825134646961047,0.19622270604521252,0.005429907164765784,0.027725706480647448,0.025100123620513542,0.2222294828279026,0.0016826398143897465,0.4080544780237343,0.007764280651443056,0.009117365395538531,0.020565926551072766,0.0056715782217341085,0.0056924354423453375,0.003575735745823295,0.0011267288794842344,0.003191110944995859,0.07556896017927996,0.013514491035068852,0.003190949487887908,0.0033681936632674442,0.0031292666951806213,0.0023637513453192973,0.0011846604183575673,0.0021659089961213593,0.9835119446016184,0.052067941638234555,0.012013106983385292,0.0017114441844130032,0.002863361387824974,0.003866041921924994,0.0021431367879381686,0.0045065306310466385,0.001004677127471513,0.007473739107856996,0.016256774974636956,0.044082846667318334,0.0016466405603266612,0.004084639380912185,0.0026332892919752717,0.004604902521947751,0.008997577497630785,0.005139229551541786,0.0014711282673552928,0.002219944971642962,0.0026511503035531792,0.002244259802307937,0.006595655434053008,0.009857039903555248],\"type\":\"scatter\",\"xaxis\":\"x8\",\"yaxis\":\"y8\"},{\"colorbar\":{\"title\":{\"text\":\"Objective Value\"}},\"colorscale\":[[0,\"rgb(5,10,172)\"],[0.35,\"rgb(40,60,190)\"],[0.5,\"rgb(70,100,245)\"],[0.6,\"rgb(90,120,245)\"],[0.7,\"rgb(106,137,247)\"],[1,\"rgb(220,220,220)\"]],\"connectgaps\":true,\"contours\":{\"coloring\":\"heatmap\"},\"hoverinfo\":\"none\",\"line\":{\"smoothing\":1.3},\"reversescale\":true,\"showscale\":false,\"x\":[0.0007120145344279269,0.001004677127471513,0.0011267288794842344,0.0011846604183575673,0.0014711282673552928,0.0016466405603266612,0.0016826398143897465,0.0017114441844130032,0.001826445796852355,0.0021431367879381686,0.0021659089961213593,0.002219944971642962,0.002244259802307937,0.0023637513453192973,0.0026332892919752717,0.0026511503035531792,0.002863361387824974,0.0031292666951806213,0.003190949487887908,0.003191110944995859,0.0033681936632674442,0.003575735745823295,0.003866041921924994,0.004084639380912185,0.0045065306310466385,0.004604902521947751,0.005139229551541786,0.005429907164765784,0.0056715782217341085,0.0056924354423453375,0.006595655434053008,0.007473739107856996,0.007764280651443056,0.008997577497630785,0.009117365395538531,0.009857039903555248,0.012013106983385292,0.013514491035068852,0.016256774974636956,0.020565926551072766,0.025100123620513542,0.027725706480647448,0.044082846667318334,0.052067941638234555,0.07556896017927996,0.08825134646961047,0.19622270604521252,0.2222294828279026,0.3371307464668547,0.4080544780237343,0.9835119446016184,1.3877693608181485],\"y\":[4.25,5,7,9,11,13,15,17,20,20.75],\"z\":[[null,null,null,null,null,null,null,null,null,null,null,null,null,null,null,null,null,null,null,null,null,null,null,null,null,null,null,null,null,null,null,null,null,null,null,null,null,null,null,null,null,null,null,null,null,null,null,null,null,null,null,null],[null,null,null,null,null,null,null,null,null,null,null,null,null,null,null,0.03826112627239165,null,null,null,null,null,null,null,null,null,null,null,null,0.0424155587077637,null,null,null,null,null,0.06085826333305186,null,null,null,null,null,null,0.04832627668296463,null,null,null,null,null,null,0.07825386122735052,null,null,null],[null,null,null,null,null,null,null,null,null,null,null,null,null,null,null,null,null,null,null,null,null,null,null,null,null,null,null,0.040715039736740205,null,0.0467434622217903,null,null,null,null,null,0.09674880764439905,null,null,null,0.050276246018630844,null,null,null,null,null,null,0.060299587467961505,null,null,null,null,null],[null,null,0.04101265147799871,null,null,null,null,null,null,null,null,null,null,null,null,null,null,null,null,0.053712553439566275,null,0.037735122170496876,null,null,null,null,null,null,null,null,null,null,0.05575098449600167,null,null,null,null,null,null,null,null,null,null,null,null,null,null,null,null,null,null,null],[null,null,null,null,null,null,null,null,null,null,null,null,null,null,0.09485129409693693,null,null,null,null,null,null,null,null,null,null,null,null,null,null,null,null,null,null,null,null,null,null,null,null,null,null,null,null,null,0.053567820118520654,null,null,0.05950855980639238,null,null,null,null],[null,0.09713092049704901,null,0.05172550299083608,null,0.0488791075283045,null,null,null,0.03528199175579366,0.0674947690153112,0.03343082380620049,0.03716646932574172,0.03271798261707286,null,null,null,0.03421951505254927,0.03267241078213884,null,0.0326532375561884,null,0.03348782948030481,null,0.03911782882764561,0.03369925626236664,0.03685374152115134,null,null,null,null,0.03829693304342989,null,0.03613285501329498,null,null,0.04668457003583483,null,null,null,0.061351622922406646,null,0.05142108886672966,0.05189899891473171,null,null,null,null,null,null,0.10172491649424825,null],[null,null,null,null,null,null,null,null,0.09667570419858533,null,null,null,null,null,null,null,0.04693059750045346,null,null,null,null,null,null,null,null,null,null,null,null,null,0.03534755157855055,null,null,null,null,null,null,null,0.03897531602252291,null,null,null,null,null,null,0.09319992451330944,null,null,null,null,null,null],[null,null,null,null,null,null,0.09271834276687434,null,null,null,null,null,null,null,null,null,null,null,null,null,null,null,null,0.035458459103321516,null,null,null,null,null,null,null,null,null,null,null,null,null,0.04692765444332004,null,null,null,null,null,null,null,null,null,null,null,null,null,null],[null,null,null,null,0.047807940824595954,null,null,0.040668218029929794,null,null,null,null,null,null,null,null,null,null,null,null,null,null,null,null,null,null,null,null,null,null,null,null,null,null,null,null,null,null,null,null,null,null,null,null,null,null,null,null,null,0.09936321424598943,null,null],[null,null,null,null,null,null,null,null,null,null,null,null,null,null,null,null,null,null,null,null,null,null,null,null,null,null,null,null,null,null,null,null,null,null,null,null,null,null,null,null,null,null,null,null,null,null,null,null,null,null,null,null]],\"type\":\"contour\",\"xaxis\":\"x3\",\"yaxis\":\"y3\"},{\"marker\":{\"color\":\"black\",\"line\":{\"color\":\"Grey\",\"width\":0.5}},\"mode\":\"markers\",\"showlegend\":false,\"x\":[0.001826445796852355,0.3371307464668547,0.08825134646961047,0.19622270604521252,0.005429907164765784,0.027725706480647448,0.025100123620513542,0.2222294828279026,0.0016826398143897465,0.4080544780237343,0.007764280651443056,0.009117365395538531,0.020565926551072766,0.0056715782217341085,0.0056924354423453375,0.003575735745823295,0.0011267288794842344,0.003191110944995859,0.07556896017927996,0.013514491035068852,0.003190949487887908,0.0033681936632674442,0.0031292666951806213,0.0023637513453192973,0.0011846604183575673,0.0021659089961213593,0.9835119446016184,0.052067941638234555,0.012013106983385292,0.0017114441844130032,0.002863361387824974,0.003866041921924994,0.0021431367879381686,0.0045065306310466385,0.001004677127471513,0.007473739107856996,0.016256774974636956,0.044082846667318334,0.0016466405603266612,0.004084639380912185,0.0026332892919752717,0.004604902521947751,0.008997577497630785,0.005139229551541786,0.0014711282673552928,0.002219944971642962,0.0026511503035531792,0.002244259802307937,0.006595655434053008,0.009857039903555248],\"y\":[15,5,15,7,7,5,13,11,17,20,9,5,7,5,7,9,9,9,11,17,13,13,13,13,13,13,13,13,13,20,15,13,13,13,13,13,15,13,13,17,11,13,13,13,20,13,5,13,15,7],\"type\":\"scatter\",\"xaxis\":\"x3\",\"yaxis\":\"y3\"},{\"colorbar\":{\"title\":{\"text\":\"Objective Value\"}},\"colorscale\":[[0,\"rgb(5,10,172)\"],[0.35,\"rgb(40,60,190)\"],[0.5,\"rgb(70,100,245)\"],[0.6,\"rgb(90,120,245)\"],[0.7,\"rgb(106,137,247)\"],[1,\"rgb(220,220,220)\"]],\"connectgaps\":true,\"contours\":{\"coloring\":\"heatmap\"},\"hoverinfo\":\"none\",\"line\":{\"smoothing\":1.3},\"reversescale\":true,\"showscale\":false,\"x\":[0.0007120145344279269,0.001004677127471513,0.0011267288794842344,0.0011846604183575673,0.0014711282673552928,0.0016466405603266612,0.0016826398143897465,0.0017114441844130032,0.001826445796852355,0.0021431367879381686,0.0021659089961213593,0.002219944971642962,0.002244259802307937,0.0023637513453192973,0.0026332892919752717,0.0026511503035531792,0.002863361387824974,0.0031292666951806213,0.003190949487887908,0.003191110944995859,0.0033681936632674442,0.003575735745823295,0.003866041921924994,0.004084639380912185,0.0045065306310466385,0.004604902521947751,0.005139229551541786,0.005429907164765784,0.0056715782217341085,0.0056924354423453375,0.006595655434053008,0.007473739107856996,0.007764280651443056,0.008997577497630785,0.009117365395538531,0.009857039903555248,0.012013106983385292,0.013514491035068852,0.016256774974636956,0.020565926551072766,0.025100123620513542,0.027725706480647448,0.044082846667318334,0.052067941638234555,0.07556896017927996,0.08825134646961047,0.19622270604521252,0.2222294828279026,0.3371307464668547,0.4080544780237343,0.9835119446016184,1.3877693608181485],\"y\":[-89.5,10,100,500,1000,2000,2099.5],\"z\":[[null,null,null,null,null,null,null,null,null,null,null,null,null,null,null,null,null,null,null,null,null,null,null,null,null,null,null,null,null,null,null,null,null,null,null,null,null,null,null,null,null,null,null,null,null,null,null,null,null,null,null,null],[null,0.09713092049704901,null,null,null,null,0.09271834276687434,null,0.09667570419858533,null,null,null,null,null,0.09485129409693693,null,null,null,null,null,null,null,null,null,null,null,null,null,null,null,null,null,null,null,null,0.09674880764439905,null,null,null,null,null,null,null,null,null,0.09319992451330944,null,null,null,0.09936321424598943,null,null],[null,null,null,null,0.047807940824595954,null,null,null,null,null,0.0674947690153112,null,null,null,null,null,null,null,null,0.053712553439566275,null,null,null,null,null,null,null,null,null,null,null,null,null,null,0.06085826333305186,null,null,null,null,null,null,null,null,null,null,null,null,null,null,null,null,null],[null,null,null,null,null,null,null,null,null,null,null,null,null,null,null,null,null,null,null,null,null,null,null,null,null,null,null,null,null,null,null,null,null,null,null,null,null,null,null,null,0.061351622922406646,null,0.05142108886672966,null,0.053567820118520654,null,null,null,null,null,0.10172491649424825,null],[null,null,0.04101265147799871,0.05172550299083608,null,0.0488791075283045,null,0.040668218029929794,null,0.03528199175579366,null,0.03343082380620049,null,0.03271798261707286,null,0.03826112627239165,0.04693059750045346,0.03421951505254927,0.03267241078213884,null,0.0326532375561884,0.037735122170496876,0.03348782948030481,null,0.03911782882764561,0.03369925626236664,0.03685374152115134,0.040715039736740205,0.0424155587077637,0.0467434622217903,0.03534755157855055,0.03829693304342989,0.05575098449600167,0.03613285501329498,null,null,0.04668457003583483,0.04692765444332004,null,0.050276246018630844,null,null,null,0.05189899891473171,null,null,null,null,null,null,null,null],[null,null,null,null,null,null,null,null,null,null,null,null,0.03716646932574172,null,null,null,null,null,null,null,null,null,null,0.035458459103321516,null,null,null,null,null,null,null,null,null,null,null,null,null,null,0.03897531602252291,null,null,0.04832627668296463,null,null,null,null,0.060299587467961505,0.05950855980639238,0.07825386122735052,null,null,null],[null,null,null,null,null,null,null,null,null,null,null,null,null,null,null,null,null,null,null,null,null,null,null,null,null,null,null,null,null,null,null,null,null,null,null,null,null,null,null,null,null,null,null,null,null,null,null,null,null,null,null,null]],\"type\":\"contour\",\"xaxis\":\"x6\",\"yaxis\":\"y6\"},{\"marker\":{\"color\":\"black\",\"line\":{\"color\":\"Grey\",\"width\":0.5}},\"mode\":\"markers\",\"showlegend\":false,\"x\":[0.001826445796852355,0.3371307464668547,0.08825134646961047,0.19622270604521252,0.005429907164765784,0.027725706480647448,0.025100123620513542,0.2222294828279026,0.0016826398143897465,0.4080544780237343,0.007764280651443056,0.009117365395538531,0.020565926551072766,0.0056715782217341085,0.0056924354423453375,0.003575735745823295,0.0011267288794842344,0.003191110944995859,0.07556896017927996,0.013514491035068852,0.003190949487887908,0.0033681936632674442,0.0031292666951806213,0.0023637513453192973,0.0011846604183575673,0.0021659089961213593,0.9835119446016184,0.052067941638234555,0.012013106983385292,0.0017114441844130032,0.002863361387824974,0.003866041921924994,0.0021431367879381686,0.0045065306310466385,0.001004677127471513,0.007473739107856996,0.016256774974636956,0.044082846667318334,0.0016466405603266612,0.004084639380912185,0.0026332892919752717,0.004604902521947751,0.008997577497630785,0.005139229551541786,0.0014711282673552928,0.002219944971642962,0.0026511503035531792,0.002244259802307937,0.006595655434053008,0.009857039903555248],\"y\":[10,2000,10,2000,1000,2000,500,2000,10,10,1000,100,1000,1000,1000,1000,1000,100,500,1000,1000,1000,1000,1000,1000,100,500,1000,1000,1000,1000,1000,1000,1000,10,1000,2000,500,1000,2000,10,1000,1000,1000,100,1000,1000,2000,1000,10],\"type\":\"scatter\",\"xaxis\":\"x6\",\"yaxis\":\"y6\"},{\"type\":\"scatter\",\"xaxis\":\"x9\",\"yaxis\":\"y9\"}],                        {\"template\":{\"data\":{\"bar\":[{\"error_x\":{\"color\":\"#2a3f5f\"},\"error_y\":{\"color\":\"#2a3f5f\"},\"marker\":{\"line\":{\"color\":\"#E5ECF6\",\"width\":0.5},\"pattern\":{\"fillmode\":\"overlay\",\"size\":10,\"solidity\":0.2}},\"type\":\"bar\"}],\"barpolar\":[{\"marker\":{\"line\":{\"color\":\"#E5ECF6\",\"width\":0.5},\"pattern\":{\"fillmode\":\"overlay\",\"size\":10,\"solidity\":0.2}},\"type\":\"barpolar\"}],\"carpet\":[{\"aaxis\":{\"endlinecolor\":\"#2a3f5f\",\"gridcolor\":\"white\",\"linecolor\":\"white\",\"minorgridcolor\":\"white\",\"startlinecolor\":\"#2a3f5f\"},\"baxis\":{\"endlinecolor\":\"#2a3f5f\",\"gridcolor\":\"white\",\"linecolor\":\"white\",\"minorgridcolor\":\"white\",\"startlinecolor\":\"#2a3f5f\"},\"type\":\"carpet\"}],\"choropleth\":[{\"colorbar\":{\"outlinewidth\":0,\"ticks\":\"\"},\"type\":\"choropleth\"}],\"contour\":[{\"colorbar\":{\"outlinewidth\":0,\"ticks\":\"\"},\"colorscale\":[[0.0,\"#0d0887\"],[0.1111111111111111,\"#46039f\"],[0.2222222222222222,\"#7201a8\"],[0.3333333333333333,\"#9c179e\"],[0.4444444444444444,\"#bd3786\"],[0.5555555555555556,\"#d8576b\"],[0.6666666666666666,\"#ed7953\"],[0.7777777777777778,\"#fb9f3a\"],[0.8888888888888888,\"#fdca26\"],[1.0,\"#f0f921\"]],\"type\":\"contour\"}],\"contourcarpet\":[{\"colorbar\":{\"outlinewidth\":0,\"ticks\":\"\"},\"type\":\"contourcarpet\"}],\"heatmap\":[{\"colorbar\":{\"outlinewidth\":0,\"ticks\":\"\"},\"colorscale\":[[0.0,\"#0d0887\"],[0.1111111111111111,\"#46039f\"],[0.2222222222222222,\"#7201a8\"],[0.3333333333333333,\"#9c179e\"],[0.4444444444444444,\"#bd3786\"],[0.5555555555555556,\"#d8576b\"],[0.6666666666666666,\"#ed7953\"],[0.7777777777777778,\"#fb9f3a\"],[0.8888888888888888,\"#fdca26\"],[1.0,\"#f0f921\"]],\"type\":\"heatmap\"}],\"heatmapgl\":[{\"colorbar\":{\"outlinewidth\":0,\"ticks\":\"\"},\"colorscale\":[[0.0,\"#0d0887\"],[0.1111111111111111,\"#46039f\"],[0.2222222222222222,\"#7201a8\"],[0.3333333333333333,\"#9c179e\"],[0.4444444444444444,\"#bd3786\"],[0.5555555555555556,\"#d8576b\"],[0.6666666666666666,\"#ed7953\"],[0.7777777777777778,\"#fb9f3a\"],[0.8888888888888888,\"#fdca26\"],[1.0,\"#f0f921\"]],\"type\":\"heatmapgl\"}],\"histogram\":[{\"marker\":{\"pattern\":{\"fillmode\":\"overlay\",\"size\":10,\"solidity\":0.2}},\"type\":\"histogram\"}],\"histogram2d\":[{\"colorbar\":{\"outlinewidth\":0,\"ticks\":\"\"},\"colorscale\":[[0.0,\"#0d0887\"],[0.1111111111111111,\"#46039f\"],[0.2222222222222222,\"#7201a8\"],[0.3333333333333333,\"#9c179e\"],[0.4444444444444444,\"#bd3786\"],[0.5555555555555556,\"#d8576b\"],[0.6666666666666666,\"#ed7953\"],[0.7777777777777778,\"#fb9f3a\"],[0.8888888888888888,\"#fdca26\"],[1.0,\"#f0f921\"]],\"type\":\"histogram2d\"}],\"histogram2dcontour\":[{\"colorbar\":{\"outlinewidth\":0,\"ticks\":\"\"},\"colorscale\":[[0.0,\"#0d0887\"],[0.1111111111111111,\"#46039f\"],[0.2222222222222222,\"#7201a8\"],[0.3333333333333333,\"#9c179e\"],[0.4444444444444444,\"#bd3786\"],[0.5555555555555556,\"#d8576b\"],[0.6666666666666666,\"#ed7953\"],[0.7777777777777778,\"#fb9f3a\"],[0.8888888888888888,\"#fdca26\"],[1.0,\"#f0f921\"]],\"type\":\"histogram2dcontour\"}],\"mesh3d\":[{\"colorbar\":{\"outlinewidth\":0,\"ticks\":\"\"},\"type\":\"mesh3d\"}],\"parcoords\":[{\"line\":{\"colorbar\":{\"outlinewidth\":0,\"ticks\":\"\"}},\"type\":\"parcoords\"}],\"pie\":[{\"automargin\":true,\"type\":\"pie\"}],\"scatter\":[{\"marker\":{\"colorbar\":{\"outlinewidth\":0,\"ticks\":\"\"}},\"type\":\"scatter\"}],\"scatter3d\":[{\"line\":{\"colorbar\":{\"outlinewidth\":0,\"ticks\":\"\"}},\"marker\":{\"colorbar\":{\"outlinewidth\":0,\"ticks\":\"\"}},\"type\":\"scatter3d\"}],\"scattercarpet\":[{\"marker\":{\"colorbar\":{\"outlinewidth\":0,\"ticks\":\"\"}},\"type\":\"scattercarpet\"}],\"scattergeo\":[{\"marker\":{\"colorbar\":{\"outlinewidth\":0,\"ticks\":\"\"}},\"type\":\"scattergeo\"}],\"scattergl\":[{\"marker\":{\"colorbar\":{\"outlinewidth\":0,\"ticks\":\"\"}},\"type\":\"scattergl\"}],\"scattermapbox\":[{\"marker\":{\"colorbar\":{\"outlinewidth\":0,\"ticks\":\"\"}},\"type\":\"scattermapbox\"}],\"scatterpolar\":[{\"marker\":{\"colorbar\":{\"outlinewidth\":0,\"ticks\":\"\"}},\"type\":\"scatterpolar\"}],\"scatterpolargl\":[{\"marker\":{\"colorbar\":{\"outlinewidth\":0,\"ticks\":\"\"}},\"type\":\"scatterpolargl\"}],\"scatterternary\":[{\"marker\":{\"colorbar\":{\"outlinewidth\":0,\"ticks\":\"\"}},\"type\":\"scatterternary\"}],\"surface\":[{\"colorbar\":{\"outlinewidth\":0,\"ticks\":\"\"},\"colorscale\":[[0.0,\"#0d0887\"],[0.1111111111111111,\"#46039f\"],[0.2222222222222222,\"#7201a8\"],[0.3333333333333333,\"#9c179e\"],[0.4444444444444444,\"#bd3786\"],[0.5555555555555556,\"#d8576b\"],[0.6666666666666666,\"#ed7953\"],[0.7777777777777778,\"#fb9f3a\"],[0.8888888888888888,\"#fdca26\"],[1.0,\"#f0f921\"]],\"type\":\"surface\"}],\"table\":[{\"cells\":{\"fill\":{\"color\":\"#EBF0F8\"},\"line\":{\"color\":\"white\"}},\"header\":{\"fill\":{\"color\":\"#C8D4E3\"},\"line\":{\"color\":\"white\"}},\"type\":\"table\"}]},\"layout\":{\"annotationdefaults\":{\"arrowcolor\":\"#2a3f5f\",\"arrowhead\":0,\"arrowwidth\":1},\"autotypenumbers\":\"strict\",\"coloraxis\":{\"colorbar\":{\"outlinewidth\":0,\"ticks\":\"\"}},\"colorscale\":{\"diverging\":[[0,\"#8e0152\"],[0.1,\"#c51b7d\"],[0.2,\"#de77ae\"],[0.3,\"#f1b6da\"],[0.4,\"#fde0ef\"],[0.5,\"#f7f7f7\"],[0.6,\"#e6f5d0\"],[0.7,\"#b8e186\"],[0.8,\"#7fbc41\"],[0.9,\"#4d9221\"],[1,\"#276419\"]],\"sequential\":[[0.0,\"#0d0887\"],[0.1111111111111111,\"#46039f\"],[0.2222222222222222,\"#7201a8\"],[0.3333333333333333,\"#9c179e\"],[0.4444444444444444,\"#bd3786\"],[0.5555555555555556,\"#d8576b\"],[0.6666666666666666,\"#ed7953\"],[0.7777777777777778,\"#fb9f3a\"],[0.8888888888888888,\"#fdca26\"],[1.0,\"#f0f921\"]],\"sequentialminus\":[[0.0,\"#0d0887\"],[0.1111111111111111,\"#46039f\"],[0.2222222222222222,\"#7201a8\"],[0.3333333333333333,\"#9c179e\"],[0.4444444444444444,\"#bd3786\"],[0.5555555555555556,\"#d8576b\"],[0.6666666666666666,\"#ed7953\"],[0.7777777777777778,\"#fb9f3a\"],[0.8888888888888888,\"#fdca26\"],[1.0,\"#f0f921\"]]},\"colorway\":[\"#636efa\",\"#EF553B\",\"#00cc96\",\"#ab63fa\",\"#FFA15A\",\"#19d3f3\",\"#FF6692\",\"#B6E880\",\"#FF97FF\",\"#FECB52\"],\"font\":{\"color\":\"#2a3f5f\"},\"geo\":{\"bgcolor\":\"white\",\"lakecolor\":\"white\",\"landcolor\":\"#E5ECF6\",\"showlakes\":true,\"showland\":true,\"subunitcolor\":\"white\"},\"hoverlabel\":{\"align\":\"left\"},\"hovermode\":\"closest\",\"mapbox\":{\"style\":\"light\"},\"paper_bgcolor\":\"white\",\"plot_bgcolor\":\"#E5ECF6\",\"polar\":{\"angularaxis\":{\"gridcolor\":\"white\",\"linecolor\":\"white\",\"ticks\":\"\"},\"bgcolor\":\"#E5ECF6\",\"radialaxis\":{\"gridcolor\":\"white\",\"linecolor\":\"white\",\"ticks\":\"\"}},\"scene\":{\"xaxis\":{\"backgroundcolor\":\"#E5ECF6\",\"gridcolor\":\"white\",\"gridwidth\":2,\"linecolor\":\"white\",\"showbackground\":true,\"ticks\":\"\",\"zerolinecolor\":\"white\"},\"yaxis\":{\"backgroundcolor\":\"#E5ECF6\",\"gridcolor\":\"white\",\"gridwidth\":2,\"linecolor\":\"white\",\"showbackground\":true,\"ticks\":\"\",\"zerolinecolor\":\"white\"},\"zaxis\":{\"backgroundcolor\":\"#E5ECF6\",\"gridcolor\":\"white\",\"gridwidth\":2,\"linecolor\":\"white\",\"showbackground\":true,\"ticks\":\"\",\"zerolinecolor\":\"white\"}},\"shapedefaults\":{\"line\":{\"color\":\"#2a3f5f\"}},\"ternary\":{\"aaxis\":{\"gridcolor\":\"white\",\"linecolor\":\"white\",\"ticks\":\"\"},\"baxis\":{\"gridcolor\":\"white\",\"linecolor\":\"white\",\"ticks\":\"\"},\"bgcolor\":\"#E5ECF6\",\"caxis\":{\"gridcolor\":\"white\",\"linecolor\":\"white\",\"ticks\":\"\"}},\"title\":{\"x\":0.05},\"xaxis\":{\"automargin\":true,\"gridcolor\":\"white\",\"linecolor\":\"white\",\"ticks\":\"\",\"title\":{\"standoff\":15},\"zerolinecolor\":\"white\",\"zerolinewidth\":2},\"yaxis\":{\"automargin\":true,\"gridcolor\":\"white\",\"linecolor\":\"white\",\"ticks\":\"\",\"title\":{\"standoff\":15},\"zerolinecolor\":\"white\",\"zerolinewidth\":2}}},\"xaxis\":{\"anchor\":\"y\",\"domain\":[0.0,0.2888888888888889],\"matches\":\"x7\",\"showticklabels\":false,\"range\":[4.25,20.75]},\"yaxis\":{\"anchor\":\"x\",\"domain\":[0.7333333333333333,1.0],\"range\":[4.25,20.75],\"title\":{\"text\":\"max_depth\"}},\"xaxis2\":{\"anchor\":\"y2\",\"domain\":[0.35555555555555557,0.6444444444444445],\"matches\":\"x8\",\"showticklabels\":false,\"range\":[-89.5,2099.5]},\"yaxis2\":{\"anchor\":\"x2\",\"domain\":[0.7333333333333333,1.0],\"matches\":\"y\",\"showticklabels\":false,\"range\":[4.25,20.75]},\"xaxis3\":{\"anchor\":\"y3\",\"domain\":[0.7111111111111111,1.0],\"matches\":\"x9\",\"showticklabels\":false,\"range\":[-3.147511140973509,0.14231729490343673],\"type\":\"log\"},\"yaxis3\":{\"anchor\":\"x3\",\"domain\":[0.7333333333333333,1.0],\"matches\":\"y\",\"showticklabels\":false,\"range\":[4.25,20.75]},\"xaxis4\":{\"anchor\":\"y4\",\"domain\":[0.0,0.2888888888888889],\"matches\":\"x7\",\"showticklabels\":false,\"range\":[4.25,20.75]},\"yaxis4\":{\"anchor\":\"x4\",\"domain\":[0.36666666666666664,0.6333333333333333],\"range\":[-89.5,2099.5],\"title\":{\"text\":\"n_estimators\"}},\"xaxis5\":{\"anchor\":\"y5\",\"domain\":[0.35555555555555557,0.6444444444444445],\"matches\":\"x8\",\"showticklabels\":false,\"range\":[-89.5,2099.5]},\"yaxis5\":{\"anchor\":\"x5\",\"domain\":[0.36666666666666664,0.6333333333333333],\"matches\":\"y4\",\"showticklabels\":false,\"range\":[-89.5,2099.5]},\"xaxis6\":{\"anchor\":\"y6\",\"domain\":[0.7111111111111111,1.0],\"matches\":\"x9\",\"showticklabels\":false,\"range\":[-3.147511140973509,0.14231729490343673],\"type\":\"log\"},\"yaxis6\":{\"anchor\":\"x6\",\"domain\":[0.36666666666666664,0.6333333333333333],\"matches\":\"y4\",\"showticklabels\":false,\"range\":[-89.5,2099.5]},\"xaxis7\":{\"anchor\":\"y7\",\"domain\":[0.0,0.2888888888888889],\"range\":[4.25,20.75],\"title\":{\"text\":\"max_depth\"}},\"yaxis7\":{\"anchor\":\"x7\",\"domain\":[0.0,0.26666666666666666],\"range\":[-3.147511140973509,0.14231729490343673],\"type\":\"log\",\"title\":{\"text\":\"rate_drop\"}},\"xaxis8\":{\"anchor\":\"y8\",\"domain\":[0.35555555555555557,0.6444444444444445],\"range\":[-89.5,2099.5],\"title\":{\"text\":\"n_estimators\"}},\"yaxis8\":{\"anchor\":\"x8\",\"domain\":[0.0,0.26666666666666666],\"matches\":\"y7\",\"showticklabels\":false,\"range\":[-3.147511140973509,0.14231729490343673],\"type\":\"log\"},\"xaxis9\":{\"anchor\":\"y9\",\"domain\":[0.7111111111111111,1.0],\"range\":[-3.147511140973509,0.14231729490343673],\"type\":\"log\",\"title\":{\"text\":\"rate_drop\"}},\"yaxis9\":{\"anchor\":\"x9\",\"domain\":[0.0,0.26666666666666666],\"matches\":\"y7\",\"showticklabels\":false,\"range\":[-3.147511140973509,0.14231729490343673],\"type\":\"log\"},\"title\":{\"text\":\"Contour Plot\"}},                        {\"responsive\": true}                    ).then(function(){\n",
              "                            \n",
              "var gd = document.getElementById('5c4ac31b-73c7-45e6-b57c-39dff820abcd');\n",
              "var x = new MutationObserver(function (mutations, observer) {{\n",
              "        var display = window.getComputedStyle(gd).display;\n",
              "        if (!display || display === 'none') {{\n",
              "            console.log([gd, 'removed!']);\n",
              "            Plotly.purge(gd);\n",
              "            observer.disconnect();\n",
              "        }}\n",
              "}});\n",
              "\n",
              "// Listen for the removal of the full notebook cells\n",
              "var notebookContainer = gd.closest('#notebook-container');\n",
              "if (notebookContainer) {{\n",
              "    x.observe(notebookContainer, {childList: true});\n",
              "}}\n",
              "\n",
              "// Listen for the clearing of the current output cell\n",
              "var outputEl = gd.closest('.output');\n",
              "if (outputEl) {{\n",
              "    x.observe(outputEl, {childList: true});\n",
              "}}\n",
              "\n",
              "                        })                };                            </script>        </div>\n",
              "</body>\n",
              "</html>"
            ]
          },
          "metadata": {}
        }
      ],
      "source": [
        "optuna.visualization.plot_contour(study, params = ['n_estimators', 'rate_drop', 'max_depth'])"
      ]
    },
    {
      "cell_type": "code",
      "execution_count": null,
      "metadata": {
        "colab": {
          "base_uri": "https://localhost:8080/",
          "height": 562
        },
        "id": "0lOC8232CC35",
        "outputId": "06f1f4a2-db09-4095-e917-f339c12d3304"
      },
      "outputs": [
        {
          "output_type": "display_data",
          "data": {
            "text/html": [
              "<html>\n",
              "<head><meta charset=\"utf-8\" /></head>\n",
              "<body>\n",
              "    <div>            <script src=\"https://cdnjs.cloudflare.com/ajax/libs/mathjax/2.7.5/MathJax.js?config=TeX-AMS-MML_SVG\"></script><script type=\"text/javascript\">if (window.MathJax) {MathJax.Hub.Config({SVG: {font: \"STIX-Web\"}});}</script>                <script type=\"text/javascript\">window.PlotlyConfig = {MathJaxConfig: 'local'};</script>\n",
              "        <script src=\"https://cdn.plot.ly/plotly-2.8.3.min.js\"></script>                <div id=\"59126ac2-75a5-47ea-b0ca-c98661554952\" class=\"plotly-graph-div\" style=\"height:525px; width:3900px;\"></div>            <script type=\"text/javascript\">                                    window.PLOTLYENV=window.PLOTLYENV || {};                                    if (document.getElementById(\"59126ac2-75a5-47ea-b0ca-c98661554952\")) {                    Plotly.newPlot(                        \"59126ac2-75a5-47ea-b0ca-c98661554952\",                        [{\"marker\":{\"color\":[0,1,2,3,4,5,6,7,8,9,10,11,12,13,14,15,16,17,18,19,20,21,22,23,24,25,26,27,28,29,30,31,32,33,34,35,36,37,38,39,40,41,42,43,44,45,46,47,48,49],\"colorbar\":{\"title\":{\"text\":\"#Trials\"},\"x\":1.0,\"xpad\":40},\"colorscale\":[[0.0,\"rgb(247,251,255)\"],[0.125,\"rgb(222,235,247)\"],[0.25,\"rgb(198,219,239)\"],[0.375,\"rgb(158,202,225)\"],[0.5,\"rgb(107,174,214)\"],[0.625,\"rgb(66,146,198)\"],[0.75,\"rgb(33,113,181)\"],[0.875,\"rgb(8,81,156)\"],[1.0,\"rgb(8,48,107)\"]],\"line\":{\"color\":\"Grey\",\"width\":0.5},\"showscale\":true},\"mode\":\"markers\",\"showlegend\":false,\"x\":[0.05796873858768422,0.019129512241816398,0.00836977589727871,0.002643726502991101,0.03443432596465158,0.0015560310024858605,0.21538188826734248,2.60335614766087,0.010440617731780887,1.9616715904158528,0.3108674790634411,0.002331501866251623,0.00122135561007703,0.06086259056476664,0.05352406785405829,0.7077942702235918,9.8145252521292,0.6233622913282834,0.9509584717826807,0.11719986937478363,0.024849065370830637,0.009577373870014602,0.005510539133726018,0.0054139601303763146,0.018391944166787372,0.0048489628434565234,0.023497061386652605,0.011830460968456375,0.005405956057208778,0.11738456428833151,0.003764101935473298,0.009498561867109748,0.014807275915815009,0.03327785007386875,0.008606759914076719,0.0031042348323417086,0.02958677467465552,0.061578662981550326,0.001694361615793946,0.006923598155225962,0.0157650837963219,0.007365050360231963,0.007745183131422508,0.01129688962001696,0.0032484881713669847,0.002091012006904531,0.0020288569339405368,0.0013300698573546195,0.0041931768421324105,0.0011041610868283973],\"y\":[0.09667570419858533,0.07825386122735052,0.09319992451330944,0.060299587467961505,0.040715039736740205,0.04832627668296463,0.061351622922406646,0.05950855980639238,0.09271834276687434,0.09936321424598943,0.05575098449600167,0.06085826333305186,0.050276246018630844,0.0424155587077637,0.0467434622217903,0.037735122170496876,0.04101265147799871,0.053712553439566275,0.053567820118520654,0.04692765444332004,0.03267241078213884,0.0326532375561884,0.03421951505254927,0.03271798261707286,0.05172550299083608,0.0674947690153112,0.10172491649424825,0.05189899891473171,0.04668457003583483,0.040668218029929794,0.04693059750045346,0.03348782948030481,0.03528199175579366,0.03911782882764561,0.09713092049704901,0.03829693304342989,0.03897531602252291,0.05142108886672966,0.0488791075283045,0.035458459103321516,0.09485129409693693,0.03369925626236664,0.03613285501329498,0.03685374152115134,0.047807940824595954,0.03343082380620049,0.03826112627239165,0.03716646932574172,0.03534755157855055,0.09674880764439905],\"type\":\"scatter\",\"xaxis\":\"x\",\"yaxis\":\"y\"},{\"marker\":{\"color\":[0,1,2,3,4,5,6,7,8,9,10,11,12,13,14,15,16,17,18,19,20,21,22,23,24,25,26,27,28,29,30,31,32,33,34,35,36,37,38,39,40,41,42,43,44,45,46,47,48,49],\"colorbar\":{\"title\":{\"text\":\"#Trials\"},\"x\":1.0,\"xpad\":40},\"colorscale\":[[0.0,\"rgb(247,251,255)\"],[0.125,\"rgb(222,235,247)\"],[0.25,\"rgb(198,219,239)\"],[0.375,\"rgb(158,202,225)\"],[0.5,\"rgb(107,174,214)\"],[0.625,\"rgb(66,146,198)\"],[0.75,\"rgb(33,113,181)\"],[0.875,\"rgb(8,81,156)\"],[1.0,\"rgb(8,48,107)\"]],\"line\":{\"color\":\"Grey\",\"width\":0.5},\"showscale\":false},\"mode\":\"markers\",\"showlegend\":false,\"x\":[1.0,0.9,0.7,0.7,0.4,0.6,0.3,0.4,0.6,0.4,0.5,0.6,0.8,0.4,0.4,0.4,0.4,0.5,1.0,0.9,0.3,0.3,0.3,0.3,0.3,0.3,0.3,0.3,0.3,0.8,1.0,0.3,0.3,0.3,0.3,0.7,0.9,0.3,0.3,0.7,0.3,0.3,0.3,0.3,0.5,0.6,0.6,0.6,0.6,0.6],\"y\":[0.09667570419858533,0.07825386122735052,0.09319992451330944,0.060299587467961505,0.040715039736740205,0.04832627668296463,0.061351622922406646,0.05950855980639238,0.09271834276687434,0.09936321424598943,0.05575098449600167,0.06085826333305186,0.050276246018630844,0.0424155587077637,0.0467434622217903,0.037735122170496876,0.04101265147799871,0.053712553439566275,0.053567820118520654,0.04692765444332004,0.03267241078213884,0.0326532375561884,0.03421951505254927,0.03271798261707286,0.05172550299083608,0.0674947690153112,0.10172491649424825,0.05189899891473171,0.04668457003583483,0.040668218029929794,0.04693059750045346,0.03348782948030481,0.03528199175579366,0.03911782882764561,0.09713092049704901,0.03829693304342989,0.03897531602252291,0.05142108886672966,0.0488791075283045,0.035458459103321516,0.09485129409693693,0.03369925626236664,0.03613285501329498,0.03685374152115134,0.047807940824595954,0.03343082380620049,0.03826112627239165,0.03716646932574172,0.03534755157855055,0.09674880764439905],\"type\":\"scatter\",\"xaxis\":\"x2\",\"yaxis\":\"y2\"},{\"marker\":{\"color\":[0,1,2,3,4,5,6,7,8,9,10,11,12,13,14,15,16,17,18,19,20,21,22,23,24,25,26,27,28,29,30,31,32,33,34,35,36,37,38,39,40,41,42,43,44,45,46,47,48,49],\"colorbar\":{\"title\":{\"text\":\"#Trials\"},\"x\":1.0,\"xpad\":40},\"colorscale\":[[0.0,\"rgb(247,251,255)\"],[0.125,\"rgb(222,235,247)\"],[0.25,\"rgb(198,219,239)\"],[0.375,\"rgb(158,202,225)\"],[0.5,\"rgb(107,174,214)\"],[0.625,\"rgb(66,146,198)\"],[0.75,\"rgb(33,113,181)\"],[0.875,\"rgb(8,81,156)\"],[1.0,\"rgb(8,48,107)\"]],\"line\":{\"color\":\"Grey\",\"width\":0.5},\"showscale\":false},\"mode\":\"markers\",\"showlegend\":false,\"x\":[0.09540139451025204,0.02730882023994712,9.646129247608489,0.0018072788674350939,0.002299862529756351,0.15243504971830646,6.92888598448881,3.8278930870798593,2.8095620100320136,0.08236260551630892,0.0015097903718263325,0.013174884847232927,0.6755224179658504,0.45811020777727485,0.5839290159531255,0.006033769707104936,0.007107614880575557,0.004348125410286562,0.02439001608477416,0.002824686582228949,0.0010236348086105852,0.0013776246362593974,0.0010388708557661985,0.0014567938328297885,0.011975865650030058,0.0010027996185215087,0.0035250790458547236,0.010428121288044642,0.04618276469689208,0.002245589846803223,0.004663536715419548,0.0010109648747806453,0.0010003562297860578,0.0017602293655291693,0.003109272092135501,0.001638559778070573,0.01902943978810046,0.006974488551468439,0.0016381626325680772,0.0024828924266066944,0.04321738576582567,0.001327909951623462,0.0013639968655617416,0.0025097788827359853,0.00461464786174177,0.1992098806667071,0.24344494737380015,1.6606206180250607,0.18763439590418682,0.3698605421258651],\"y\":[0.09667570419858533,0.07825386122735052,0.09319992451330944,0.060299587467961505,0.040715039736740205,0.04832627668296463,0.061351622922406646,0.05950855980639238,0.09271834276687434,0.09936321424598943,0.05575098449600167,0.06085826333305186,0.050276246018630844,0.0424155587077637,0.0467434622217903,0.037735122170496876,0.04101265147799871,0.053712553439566275,0.053567820118520654,0.04692765444332004,0.03267241078213884,0.0326532375561884,0.03421951505254927,0.03271798261707286,0.05172550299083608,0.0674947690153112,0.10172491649424825,0.05189899891473171,0.04668457003583483,0.040668218029929794,0.04693059750045346,0.03348782948030481,0.03528199175579366,0.03911782882764561,0.09713092049704901,0.03829693304342989,0.03897531602252291,0.05142108886672966,0.0488791075283045,0.035458459103321516,0.09485129409693693,0.03369925626236664,0.03613285501329498,0.03685374152115134,0.047807940824595954,0.03343082380620049,0.03826112627239165,0.03716646932574172,0.03534755157855055,0.09674880764439905],\"type\":\"scatter\",\"xaxis\":\"x3\",\"yaxis\":\"y3\"},{\"marker\":{\"color\":[0,1,2,3,4,5,6,7,8,9,10,11,12,13,14,15,16,17,18,19,20,21,22,23,24,25,26,27,28,29,30,31,32,33,34,35,36,37,38,39,40,41,42,43,44,45,46,47,48,49],\"colorbar\":{\"title\":{\"text\":\"#Trials\"},\"x\":1.0,\"xpad\":40},\"colorscale\":[[0.0,\"rgb(247,251,255)\"],[0.125,\"rgb(222,235,247)\"],[0.25,\"rgb(198,219,239)\"],[0.375,\"rgb(158,202,225)\"],[0.5,\"rgb(107,174,214)\"],[0.625,\"rgb(66,146,198)\"],[0.75,\"rgb(33,113,181)\"],[0.875,\"rgb(8,81,156)\"],[1.0,\"rgb(8,48,107)\"]],\"line\":{\"color\":\"Grey\",\"width\":0.5},\"showscale\":false},\"mode\":\"markers\",\"showlegend\":false,\"x\":[0.008,0.02,0.016,0.02,0.01,0.008,0.012,0.02,0.016,0.008,0.01,0.01,0.009,0.014,0.014,0.018,0.018,0.018,0.018,0.01,0.009,0.009,0.009,0.009,0.009,0.009,0.009,0.009,0.009,0.009,0.012,0.009,0.009,0.009,0.009,0.016,0.009,0.02,0.008,0.009,0.012,0.009,0.009,0.009,0.016,0.02,0.02,0.02,0.02,0.008],\"y\":[0.09667570419858533,0.07825386122735052,0.09319992451330944,0.060299587467961505,0.040715039736740205,0.04832627668296463,0.061351622922406646,0.05950855980639238,0.09271834276687434,0.09936321424598943,0.05575098449600167,0.06085826333305186,0.050276246018630844,0.0424155587077637,0.0467434622217903,0.037735122170496876,0.04101265147799871,0.053712553439566275,0.053567820118520654,0.04692765444332004,0.03267241078213884,0.0326532375561884,0.03421951505254927,0.03271798261707286,0.05172550299083608,0.0674947690153112,0.10172491649424825,0.05189899891473171,0.04668457003583483,0.040668218029929794,0.04693059750045346,0.03348782948030481,0.03528199175579366,0.03911782882764561,0.09713092049704901,0.03829693304342989,0.03897531602252291,0.05142108886672966,0.0488791075283045,0.035458459103321516,0.09485129409693693,0.03369925626236664,0.03613285501329498,0.03685374152115134,0.047807940824595954,0.03343082380620049,0.03826112627239165,0.03716646932574172,0.03534755157855055,0.09674880764439905],\"type\":\"scatter\",\"xaxis\":\"x4\",\"yaxis\":\"y4\"},{\"marker\":{\"color\":[0,1,2,3,4,5,6,7,8,9,10,11,12,13,14,15,16,17,18,19,20,21,22,23,24,25,26,27,28,29,30,31,32,33,34,35,36,37,38,39,40,41,42,43,44,45,46,47,48,49],\"colorbar\":{\"title\":{\"text\":\"#Trials\"},\"x\":1.0,\"xpad\":40},\"colorscale\":[[0.0,\"rgb(247,251,255)\"],[0.125,\"rgb(222,235,247)\"],[0.25,\"rgb(198,219,239)\"],[0.375,\"rgb(158,202,225)\"],[0.5,\"rgb(107,174,214)\"],[0.625,\"rgb(66,146,198)\"],[0.75,\"rgb(33,113,181)\"],[0.875,\"rgb(8,81,156)\"],[1.0,\"rgb(8,48,107)\"]],\"line\":{\"color\":\"Grey\",\"width\":0.5},\"showscale\":false},\"mode\":\"markers\",\"showlegend\":false,\"x\":[15,5,15,7,7,5,13,11,17,20,9,5,7,5,7,9,9,9,11,17,13,13,13,13,13,13,13,13,13,20,15,13,13,13,13,13,15,13,13,17,11,13,13,13,20,13,5,13,15,7],\"y\":[0.09667570419858533,0.07825386122735052,0.09319992451330944,0.060299587467961505,0.040715039736740205,0.04832627668296463,0.061351622922406646,0.05950855980639238,0.09271834276687434,0.09936321424598943,0.05575098449600167,0.06085826333305186,0.050276246018630844,0.0424155587077637,0.0467434622217903,0.037735122170496876,0.04101265147799871,0.053712553439566275,0.053567820118520654,0.04692765444332004,0.03267241078213884,0.0326532375561884,0.03421951505254927,0.03271798261707286,0.05172550299083608,0.0674947690153112,0.10172491649424825,0.05189899891473171,0.04668457003583483,0.040668218029929794,0.04693059750045346,0.03348782948030481,0.03528199175579366,0.03911782882764561,0.09713092049704901,0.03829693304342989,0.03897531602252291,0.05142108886672966,0.0488791075283045,0.035458459103321516,0.09485129409693693,0.03369925626236664,0.03613285501329498,0.03685374152115134,0.047807940824595954,0.03343082380620049,0.03826112627239165,0.03716646932574172,0.03534755157855055,0.09674880764439905],\"type\":\"scatter\",\"xaxis\":\"x5\",\"yaxis\":\"y5\"},{\"marker\":{\"color\":[0,1,2,3,4,5,6,7,8,9,10,11,12,13,14,15,16,17,18,19,20,21,22,23,24,25,26,27,28,29,30,31,32,33,34,35,36,37,38,39,40,41,42,43,44,45,46,47,48,49],\"colorbar\":{\"title\":{\"text\":\"#Trials\"},\"x\":1.0,\"xpad\":40},\"colorscale\":[[0.0,\"rgb(247,251,255)\"],[0.125,\"rgb(222,235,247)\"],[0.25,\"rgb(198,219,239)\"],[0.375,\"rgb(158,202,225)\"],[0.5,\"rgb(107,174,214)\"],[0.625,\"rgb(66,146,198)\"],[0.75,\"rgb(33,113,181)\"],[0.875,\"rgb(8,81,156)\"],[1.0,\"rgb(8,48,107)\"]],\"line\":{\"color\":\"Grey\",\"width\":0.5},\"showscale\":false},\"mode\":\"markers\",\"showlegend\":false,\"x\":[203,168,97,177,20,55,215,136,191,50,288,7,12,68,89,65,109,38,127,29,3,6,1,5,262,78,37,1,36,111,224,2,23,43,20,58,19,74,157,52,15,3,3,29,16,44,48,91,28,63],\"y\":[0.09667570419858533,0.07825386122735052,0.09319992451330944,0.060299587467961505,0.040715039736740205,0.04832627668296463,0.061351622922406646,0.05950855980639238,0.09271834276687434,0.09936321424598943,0.05575098449600167,0.06085826333305186,0.050276246018630844,0.0424155587077637,0.0467434622217903,0.037735122170496876,0.04101265147799871,0.053712553439566275,0.053567820118520654,0.04692765444332004,0.03267241078213884,0.0326532375561884,0.03421951505254927,0.03271798261707286,0.05172550299083608,0.0674947690153112,0.10172491649424825,0.05189899891473171,0.04668457003583483,0.040668218029929794,0.04693059750045346,0.03348782948030481,0.03528199175579366,0.03911782882764561,0.09713092049704901,0.03829693304342989,0.03897531602252291,0.05142108886672966,0.0488791075283045,0.035458459103321516,0.09485129409693693,0.03369925626236664,0.03613285501329498,0.03685374152115134,0.047807940824595954,0.03343082380620049,0.03826112627239165,0.03716646932574172,0.03534755157855055,0.09674880764439905],\"type\":\"scatter\",\"xaxis\":\"x6\",\"yaxis\":\"y6\"},{\"marker\":{\"color\":[0,1,2,3,4,5,6,7,8,9,10,11,12,13,14,15,16,17,18,19,20,21,22,23,24,25,26,27,28,29,30,31,32,33,34,35,36,37,38,39,40,41,42,43,44,45,46,47,48,49],\"colorbar\":{\"title\":{\"text\":\"#Trials\"},\"x\":1.0,\"xpad\":40},\"colorscale\":[[0.0,\"rgb(247,251,255)\"],[0.125,\"rgb(222,235,247)\"],[0.25,\"rgb(198,219,239)\"],[0.375,\"rgb(158,202,225)\"],[0.5,\"rgb(107,174,214)\"],[0.625,\"rgb(66,146,198)\"],[0.75,\"rgb(33,113,181)\"],[0.875,\"rgb(8,81,156)\"],[1.0,\"rgb(8,48,107)\"]],\"line\":{\"color\":\"Grey\",\"width\":0.5},\"showscale\":false},\"mode\":\"markers\",\"showlegend\":false,\"x\":[10,2000,10,2000,1000,2000,500,2000,10,10,1000,100,1000,1000,1000,1000,1000,100,500,1000,1000,1000,1000,1000,1000,100,500,1000,1000,1000,1000,1000,1000,1000,10,1000,2000,500,1000,2000,10,1000,1000,1000,100,1000,1000,2000,1000,10],\"y\":[0.09667570419858533,0.07825386122735052,0.09319992451330944,0.060299587467961505,0.040715039736740205,0.04832627668296463,0.061351622922406646,0.05950855980639238,0.09271834276687434,0.09936321424598943,0.05575098449600167,0.06085826333305186,0.050276246018630844,0.0424155587077637,0.0467434622217903,0.037735122170496876,0.04101265147799871,0.053712553439566275,0.053567820118520654,0.04692765444332004,0.03267241078213884,0.0326532375561884,0.03421951505254927,0.03271798261707286,0.05172550299083608,0.0674947690153112,0.10172491649424825,0.05189899891473171,0.04668457003583483,0.040668218029929794,0.04693059750045346,0.03348782948030481,0.03528199175579366,0.03911782882764561,0.09713092049704901,0.03829693304342989,0.03897531602252291,0.05142108886672966,0.0488791075283045,0.035458459103321516,0.09485129409693693,0.03369925626236664,0.03613285501329498,0.03685374152115134,0.047807940824595954,0.03343082380620049,0.03826112627239165,0.03716646932574172,0.03534755157855055,0.09674880764439905],\"type\":\"scatter\",\"xaxis\":\"x7\",\"yaxis\":\"y7\"},{\"marker\":{\"color\":[0,1,2,3,4,5,6,7,8,9,10,11,12,13,14,15,16,17,18,19,20,21,22,23,24,25,26,27,28,29,30,31,32,33,34,35,36,37,38,39,40,41,42,43,44,45,46,47,48,49],\"colorbar\":{\"title\":{\"text\":\"#Trials\"},\"x\":1.0,\"xpad\":40},\"colorscale\":[[0.0,\"rgb(247,251,255)\"],[0.125,\"rgb(222,235,247)\"],[0.25,\"rgb(198,219,239)\"],[0.375,\"rgb(158,202,225)\"],[0.5,\"rgb(107,174,214)\"],[0.625,\"rgb(66,146,198)\"],[0.75,\"rgb(33,113,181)\"],[0.875,\"rgb(8,81,156)\"],[1.0,\"rgb(8,48,107)\"]],\"line\":{\"color\":\"Grey\",\"width\":0.5},\"showscale\":false},\"mode\":\"markers\",\"showlegend\":false,\"x\":[\"forest\",\"forest\",\"forest\",\"forest\",\"tree\",\"forest\",\"tree\",\"forest\",\"tree\",\"tree\",\"tree\",\"tree\",\"tree\",\"forest\",\"tree\",\"forest\",\"forest\",\"tree\",\"forest\",\"tree\",\"forest\",\"forest\",\"forest\",\"forest\",\"forest\",\"forest\",\"forest\",\"forest\",\"forest\",\"forest\",\"forest\",\"forest\",\"forest\",\"forest\",\"forest\",\"forest\",\"forest\",\"forest\",\"forest\",\"forest\",\"forest\",\"forest\",\"forest\",\"forest\",\"forest\",\"forest\",\"forest\",\"forest\",\"forest\",\"forest\"],\"y\":[0.09667570419858533,0.07825386122735052,0.09319992451330944,0.060299587467961505,0.040715039736740205,0.04832627668296463,0.061351622922406646,0.05950855980639238,0.09271834276687434,0.09936321424598943,0.05575098449600167,0.06085826333305186,0.050276246018630844,0.0424155587077637,0.0467434622217903,0.037735122170496876,0.04101265147799871,0.053712553439566275,0.053567820118520654,0.04692765444332004,0.03267241078213884,0.0326532375561884,0.03421951505254927,0.03271798261707286,0.05172550299083608,0.0674947690153112,0.10172491649424825,0.05189899891473171,0.04668457003583483,0.040668218029929794,0.04693059750045346,0.03348782948030481,0.03528199175579366,0.03911782882764561,0.09713092049704901,0.03829693304342989,0.03897531602252291,0.05142108886672966,0.0488791075283045,0.035458459103321516,0.09485129409693693,0.03369925626236664,0.03613285501329498,0.03685374152115134,0.047807940824595954,0.03343082380620049,0.03826112627239165,0.03716646932574172,0.03534755157855055,0.09674880764439905],\"type\":\"scatter\",\"xaxis\":\"x8\",\"yaxis\":\"y8\"},{\"marker\":{\"color\":[0,1,2,3,4,5,6,7,8,9,10,11,12,13,14,15,16,17,18,19,20,21,22,23,24,25,26,27,28,29,30,31,32,33,34,35,36,37,38,39,40,41,42,43,44,45,46,47,48,49],\"colorbar\":{\"title\":{\"text\":\"#Trials\"},\"x\":1.0,\"xpad\":40},\"colorscale\":[[0.0,\"rgb(247,251,255)\"],[0.125,\"rgb(222,235,247)\"],[0.25,\"rgb(198,219,239)\"],[0.375,\"rgb(158,202,225)\"],[0.5,\"rgb(107,174,214)\"],[0.625,\"rgb(66,146,198)\"],[0.75,\"rgb(33,113,181)\"],[0.875,\"rgb(8,81,156)\"],[1.0,\"rgb(8,48,107)\"]],\"line\":{\"color\":\"Grey\",\"width\":0.5},\"showscale\":false},\"mode\":\"markers\",\"showlegend\":false,\"x\":[0,1,1,1,0,1,1,0,0,1,0,0,1,0,0,0,0,0,0,0,0,0,0,0,0,0,0,0,0,0,0,0,0,0,0,0,1,0,1,0,1,0,0,0,0,0,0,1,0,0],\"y\":[0.09667570419858533,0.07825386122735052,0.09319992451330944,0.060299587467961505,0.040715039736740205,0.04832627668296463,0.061351622922406646,0.05950855980639238,0.09271834276687434,0.09936321424598943,0.05575098449600167,0.06085826333305186,0.050276246018630844,0.0424155587077637,0.0467434622217903,0.037735122170496876,0.04101265147799871,0.053712553439566275,0.053567820118520654,0.04692765444332004,0.03267241078213884,0.0326532375561884,0.03421951505254927,0.03271798261707286,0.05172550299083608,0.0674947690153112,0.10172491649424825,0.05189899891473171,0.04668457003583483,0.040668218029929794,0.04693059750045346,0.03348782948030481,0.03528199175579366,0.03911782882764561,0.09713092049704901,0.03829693304342989,0.03897531602252291,0.05142108886672966,0.0488791075283045,0.035458459103321516,0.09485129409693693,0.03369925626236664,0.03613285501329498,0.03685374152115134,0.047807940824595954,0.03343082380620049,0.03826112627239165,0.03716646932574172,0.03534755157855055,0.09674880764439905],\"type\":\"scatter\",\"xaxis\":\"x9\",\"yaxis\":\"y9\"},{\"marker\":{\"color\":[0,1,2,3,4,5,6,7,8,9,10,11,12,13,14,15,16,17,18,19,20,21,22,23,24,25,26,27,28,29,30,31,32,33,34,35,36,37,38,39,40,41,42,43,44,45,46,47,48,49],\"colorbar\":{\"title\":{\"text\":\"#Trials\"},\"x\":1.0,\"xpad\":40},\"colorscale\":[[0.0,\"rgb(247,251,255)\"],[0.125,\"rgb(222,235,247)\"],[0.25,\"rgb(198,219,239)\"],[0.375,\"rgb(158,202,225)\"],[0.5,\"rgb(107,174,214)\"],[0.625,\"rgb(66,146,198)\"],[0.75,\"rgb(33,113,181)\"],[0.875,\"rgb(8,81,156)\"],[1.0,\"rgb(8,48,107)\"]],\"line\":{\"color\":\"Grey\",\"width\":0.5},\"showscale\":false},\"mode\":\"markers\",\"showlegend\":false,\"x\":[24,2020,48,24,24,48,48,24,24,48,2020,48,48,24,24,24,24,24,2020,24,24,24,24,24,24,2020,24,24,24,24,2020,24,24,24,24,24,24,24,2020,24,48,24,24,24,24,24,48,24,24,24],\"y\":[0.09667570419858533,0.07825386122735052,0.09319992451330944,0.060299587467961505,0.040715039736740205,0.04832627668296463,0.061351622922406646,0.05950855980639238,0.09271834276687434,0.09936321424598943,0.05575098449600167,0.06085826333305186,0.050276246018630844,0.0424155587077637,0.0467434622217903,0.037735122170496876,0.04101265147799871,0.053712553439566275,0.053567820118520654,0.04692765444332004,0.03267241078213884,0.0326532375561884,0.03421951505254927,0.03271798261707286,0.05172550299083608,0.0674947690153112,0.10172491649424825,0.05189899891473171,0.04668457003583483,0.040668218029929794,0.04693059750045346,0.03348782948030481,0.03528199175579366,0.03911782882764561,0.09713092049704901,0.03829693304342989,0.03897531602252291,0.05142108886672966,0.0488791075283045,0.035458459103321516,0.09485129409693693,0.03369925626236664,0.03613285501329498,0.03685374152115134,0.047807940824595954,0.03343082380620049,0.03826112627239165,0.03716646932574172,0.03534755157855055,0.09674880764439905],\"type\":\"scatter\",\"xaxis\":\"x10\",\"yaxis\":\"y10\"},{\"marker\":{\"color\":[0,1,2,3,4,5,6,7,8,9,10,11,12,13,14,15,16,17,18,19,20,21,22,23,24,25,26,27,28,29,30,31,32,33,34,35,36,37,38,39,40,41,42,43,44,45,46,47,48,49],\"colorbar\":{\"title\":{\"text\":\"#Trials\"},\"x\":1.0,\"xpad\":40},\"colorscale\":[[0.0,\"rgb(247,251,255)\"],[0.125,\"rgb(222,235,247)\"],[0.25,\"rgb(198,219,239)\"],[0.375,\"rgb(158,202,225)\"],[0.5,\"rgb(107,174,214)\"],[0.625,\"rgb(66,146,198)\"],[0.75,\"rgb(33,113,181)\"],[0.875,\"rgb(8,81,156)\"],[1.0,\"rgb(8,48,107)\"]],\"line\":{\"color\":\"Grey\",\"width\":0.5},\"showscale\":false},\"mode\":\"markers\",\"showlegend\":false,\"x\":[0.001826445796852355,0.3371307464668547,0.08825134646961047,0.19622270604521252,0.005429907164765784,0.027725706480647448,0.025100123620513542,0.2222294828279026,0.0016826398143897465,0.4080544780237343,0.007764280651443056,0.009117365395538531,0.020565926551072766,0.0056715782217341085,0.0056924354423453375,0.003575735745823295,0.0011267288794842344,0.003191110944995859,0.07556896017927996,0.013514491035068852,0.003190949487887908,0.0033681936632674442,0.0031292666951806213,0.0023637513453192973,0.0011846604183575673,0.0021659089961213593,0.9835119446016184,0.052067941638234555,0.012013106983385292,0.0017114441844130032,0.002863361387824974,0.003866041921924994,0.0021431367879381686,0.0045065306310466385,0.001004677127471513,0.007473739107856996,0.016256774974636956,0.044082846667318334,0.0016466405603266612,0.004084639380912185,0.0026332892919752717,0.004604902521947751,0.008997577497630785,0.005139229551541786,0.0014711282673552928,0.002219944971642962,0.0026511503035531792,0.002244259802307937,0.006595655434053008,0.009857039903555248],\"y\":[0.09667570419858533,0.07825386122735052,0.09319992451330944,0.060299587467961505,0.040715039736740205,0.04832627668296463,0.061351622922406646,0.05950855980639238,0.09271834276687434,0.09936321424598943,0.05575098449600167,0.06085826333305186,0.050276246018630844,0.0424155587077637,0.0467434622217903,0.037735122170496876,0.04101265147799871,0.053712553439566275,0.053567820118520654,0.04692765444332004,0.03267241078213884,0.0326532375561884,0.03421951505254927,0.03271798261707286,0.05172550299083608,0.0674947690153112,0.10172491649424825,0.05189899891473171,0.04668457003583483,0.040668218029929794,0.04693059750045346,0.03348782948030481,0.03528199175579366,0.03911782882764561,0.09713092049704901,0.03829693304342989,0.03897531602252291,0.05142108886672966,0.0488791075283045,0.035458459103321516,0.09485129409693693,0.03369925626236664,0.03613285501329498,0.03685374152115134,0.047807940824595954,0.03343082380620049,0.03826112627239165,0.03716646932574172,0.03534755157855055,0.09674880764439905],\"type\":\"scatter\",\"xaxis\":\"x11\",\"yaxis\":\"y11\"},{\"marker\":{\"color\":[0,1,2,3,4,5,6,7,8,9,10,11,12,13,14,15,16,17,18,19,20,21,22,23,24,25,26,27,28,29,30,31,32,33,34,35,36,37,38,39,40,41,42,43,44,45,46,47,48,49],\"colorbar\":{\"title\":{\"text\":\"#Trials\"},\"x\":1.0,\"xpad\":40},\"colorscale\":[[0.0,\"rgb(247,251,255)\"],[0.125,\"rgb(222,235,247)\"],[0.25,\"rgb(198,219,239)\"],[0.375,\"rgb(158,202,225)\"],[0.5,\"rgb(107,174,214)\"],[0.625,\"rgb(66,146,198)\"],[0.75,\"rgb(33,113,181)\"],[0.875,\"rgb(8,81,156)\"],[1.0,\"rgb(8,48,107)\"]],\"line\":{\"color\":\"Grey\",\"width\":0.5},\"showscale\":false},\"mode\":\"markers\",\"showlegend\":false,\"x\":[\"uniform\",\"uniform\",\"weighted\",\"weighted\",\"uniform\",\"uniform\",\"uniform\",\"weighted\",\"weighted\",\"weighted\",\"uniform\",\"uniform\",\"uniform\",\"uniform\",\"uniform\",\"uniform\",\"uniform\",\"uniform\",\"uniform\",\"uniform\",\"uniform\",\"uniform\",\"uniform\",\"uniform\",\"uniform\",\"uniform\",\"weighted\",\"uniform\",\"uniform\",\"uniform\",\"uniform\",\"uniform\",\"uniform\",\"uniform\",\"uniform\",\"weighted\",\"uniform\",\"uniform\",\"weighted\",\"uniform\",\"uniform\",\"uniform\",\"uniform\",\"uniform\",\"uniform\",\"weighted\",\"weighted\",\"weighted\",\"weighted\",\"weighted\"],\"y\":[0.09667570419858533,0.07825386122735052,0.09319992451330944,0.060299587467961505,0.040715039736740205,0.04832627668296463,0.061351622922406646,0.05950855980639238,0.09271834276687434,0.09936321424598943,0.05575098449600167,0.06085826333305186,0.050276246018630844,0.0424155587077637,0.0467434622217903,0.037735122170496876,0.04101265147799871,0.053712553439566275,0.053567820118520654,0.04692765444332004,0.03267241078213884,0.0326532375561884,0.03421951505254927,0.03271798261707286,0.05172550299083608,0.0674947690153112,0.10172491649424825,0.05189899891473171,0.04668457003583483,0.040668218029929794,0.04693059750045346,0.03348782948030481,0.03528199175579366,0.03911782882764561,0.09713092049704901,0.03829693304342989,0.03897531602252291,0.05142108886672966,0.0488791075283045,0.035458459103321516,0.09485129409693693,0.03369925626236664,0.03613285501329498,0.03685374152115134,0.047807940824595954,0.03343082380620049,0.03826112627239165,0.03716646932574172,0.03534755157855055,0.09674880764439905],\"type\":\"scatter\",\"xaxis\":\"x12\",\"yaxis\":\"y12\"},{\"marker\":{\"color\":[0,1,2,3,4,5,6,7,8,9,10,11,12,13,14,15,16,17,18,19,20,21,22,23,24,25,26,27,28,29,30,31,32,33,34,35,36,37,38,39,40,41,42,43,44,45,46,47,48,49],\"colorbar\":{\"title\":{\"text\":\"#Trials\"},\"x\":1.0,\"xpad\":40},\"colorscale\":[[0.0,\"rgb(247,251,255)\"],[0.125,\"rgb(222,235,247)\"],[0.25,\"rgb(198,219,239)\"],[0.375,\"rgb(158,202,225)\"],[0.5,\"rgb(107,174,214)\"],[0.625,\"rgb(66,146,198)\"],[0.75,\"rgb(33,113,181)\"],[0.875,\"rgb(8,81,156)\"],[1.0,\"rgb(8,48,107)\"]],\"line\":{\"color\":\"Grey\",\"width\":0.5},\"showscale\":false},\"mode\":\"markers\",\"showlegend\":false,\"x\":[1.0,0.4,0.5,0.6,0.7,0.8,1.0,0.6,0.7,0.5,0.7,0.8,0.8,0.7,0.7,0.7,0.7,0.4,0.7,0.7,0.7,0.7,0.7,0.7,0.7,1.0,0.4,0.6,0.5,1.0,0.7,0.7,0.7,0.7,0.4,0.7,0.5,0.6,0.7,0.8,1.0,0.7,0.7,0.7,0.7,0.7,0.7,0.6,0.5,0.8],\"y\":[0.09667570419858533,0.07825386122735052,0.09319992451330944,0.060299587467961505,0.040715039736740205,0.04832627668296463,0.061351622922406646,0.05950855980639238,0.09271834276687434,0.09936321424598943,0.05575098449600167,0.06085826333305186,0.050276246018630844,0.0424155587077637,0.0467434622217903,0.037735122170496876,0.04101265147799871,0.053712553439566275,0.053567820118520654,0.04692765444332004,0.03267241078213884,0.0326532375561884,0.03421951505254927,0.03271798261707286,0.05172550299083608,0.0674947690153112,0.10172491649424825,0.05189899891473171,0.04668457003583483,0.040668218029929794,0.04693059750045346,0.03348782948030481,0.03528199175579366,0.03911782882764561,0.09713092049704901,0.03829693304342989,0.03897531602252291,0.05142108886672966,0.0488791075283045,0.035458459103321516,0.09485129409693693,0.03369925626236664,0.03613285501329498,0.03685374152115134,0.047807940824595954,0.03343082380620049,0.03826112627239165,0.03716646932574172,0.03534755157855055,0.09674880764439905],\"type\":\"scatter\",\"xaxis\":\"x13\",\"yaxis\":\"y13\"}],                        {\"template\":{\"data\":{\"bar\":[{\"error_x\":{\"color\":\"#2a3f5f\"},\"error_y\":{\"color\":\"#2a3f5f\"},\"marker\":{\"line\":{\"color\":\"#E5ECF6\",\"width\":0.5},\"pattern\":{\"fillmode\":\"overlay\",\"size\":10,\"solidity\":0.2}},\"type\":\"bar\"}],\"barpolar\":[{\"marker\":{\"line\":{\"color\":\"#E5ECF6\",\"width\":0.5},\"pattern\":{\"fillmode\":\"overlay\",\"size\":10,\"solidity\":0.2}},\"type\":\"barpolar\"}],\"carpet\":[{\"aaxis\":{\"endlinecolor\":\"#2a3f5f\",\"gridcolor\":\"white\",\"linecolor\":\"white\",\"minorgridcolor\":\"white\",\"startlinecolor\":\"#2a3f5f\"},\"baxis\":{\"endlinecolor\":\"#2a3f5f\",\"gridcolor\":\"white\",\"linecolor\":\"white\",\"minorgridcolor\":\"white\",\"startlinecolor\":\"#2a3f5f\"},\"type\":\"carpet\"}],\"choropleth\":[{\"colorbar\":{\"outlinewidth\":0,\"ticks\":\"\"},\"type\":\"choropleth\"}],\"contour\":[{\"colorbar\":{\"outlinewidth\":0,\"ticks\":\"\"},\"colorscale\":[[0.0,\"#0d0887\"],[0.1111111111111111,\"#46039f\"],[0.2222222222222222,\"#7201a8\"],[0.3333333333333333,\"#9c179e\"],[0.4444444444444444,\"#bd3786\"],[0.5555555555555556,\"#d8576b\"],[0.6666666666666666,\"#ed7953\"],[0.7777777777777778,\"#fb9f3a\"],[0.8888888888888888,\"#fdca26\"],[1.0,\"#f0f921\"]],\"type\":\"contour\"}],\"contourcarpet\":[{\"colorbar\":{\"outlinewidth\":0,\"ticks\":\"\"},\"type\":\"contourcarpet\"}],\"heatmap\":[{\"colorbar\":{\"outlinewidth\":0,\"ticks\":\"\"},\"colorscale\":[[0.0,\"#0d0887\"],[0.1111111111111111,\"#46039f\"],[0.2222222222222222,\"#7201a8\"],[0.3333333333333333,\"#9c179e\"],[0.4444444444444444,\"#bd3786\"],[0.5555555555555556,\"#d8576b\"],[0.6666666666666666,\"#ed7953\"],[0.7777777777777778,\"#fb9f3a\"],[0.8888888888888888,\"#fdca26\"],[1.0,\"#f0f921\"]],\"type\":\"heatmap\"}],\"heatmapgl\":[{\"colorbar\":{\"outlinewidth\":0,\"ticks\":\"\"},\"colorscale\":[[0.0,\"#0d0887\"],[0.1111111111111111,\"#46039f\"],[0.2222222222222222,\"#7201a8\"],[0.3333333333333333,\"#9c179e\"],[0.4444444444444444,\"#bd3786\"],[0.5555555555555556,\"#d8576b\"],[0.6666666666666666,\"#ed7953\"],[0.7777777777777778,\"#fb9f3a\"],[0.8888888888888888,\"#fdca26\"],[1.0,\"#f0f921\"]],\"type\":\"heatmapgl\"}],\"histogram\":[{\"marker\":{\"pattern\":{\"fillmode\":\"overlay\",\"size\":10,\"solidity\":0.2}},\"type\":\"histogram\"}],\"histogram2d\":[{\"colorbar\":{\"outlinewidth\":0,\"ticks\":\"\"},\"colorscale\":[[0.0,\"#0d0887\"],[0.1111111111111111,\"#46039f\"],[0.2222222222222222,\"#7201a8\"],[0.3333333333333333,\"#9c179e\"],[0.4444444444444444,\"#bd3786\"],[0.5555555555555556,\"#d8576b\"],[0.6666666666666666,\"#ed7953\"],[0.7777777777777778,\"#fb9f3a\"],[0.8888888888888888,\"#fdca26\"],[1.0,\"#f0f921\"]],\"type\":\"histogram2d\"}],\"histogram2dcontour\":[{\"colorbar\":{\"outlinewidth\":0,\"ticks\":\"\"},\"colorscale\":[[0.0,\"#0d0887\"],[0.1111111111111111,\"#46039f\"],[0.2222222222222222,\"#7201a8\"],[0.3333333333333333,\"#9c179e\"],[0.4444444444444444,\"#bd3786\"],[0.5555555555555556,\"#d8576b\"],[0.6666666666666666,\"#ed7953\"],[0.7777777777777778,\"#fb9f3a\"],[0.8888888888888888,\"#fdca26\"],[1.0,\"#f0f921\"]],\"type\":\"histogram2dcontour\"}],\"mesh3d\":[{\"colorbar\":{\"outlinewidth\":0,\"ticks\":\"\"},\"type\":\"mesh3d\"}],\"parcoords\":[{\"line\":{\"colorbar\":{\"outlinewidth\":0,\"ticks\":\"\"}},\"type\":\"parcoords\"}],\"pie\":[{\"automargin\":true,\"type\":\"pie\"}],\"scatter\":[{\"marker\":{\"colorbar\":{\"outlinewidth\":0,\"ticks\":\"\"}},\"type\":\"scatter\"}],\"scatter3d\":[{\"line\":{\"colorbar\":{\"outlinewidth\":0,\"ticks\":\"\"}},\"marker\":{\"colorbar\":{\"outlinewidth\":0,\"ticks\":\"\"}},\"type\":\"scatter3d\"}],\"scattercarpet\":[{\"marker\":{\"colorbar\":{\"outlinewidth\":0,\"ticks\":\"\"}},\"type\":\"scattercarpet\"}],\"scattergeo\":[{\"marker\":{\"colorbar\":{\"outlinewidth\":0,\"ticks\":\"\"}},\"type\":\"scattergeo\"}],\"scattergl\":[{\"marker\":{\"colorbar\":{\"outlinewidth\":0,\"ticks\":\"\"}},\"type\":\"scattergl\"}],\"scattermapbox\":[{\"marker\":{\"colorbar\":{\"outlinewidth\":0,\"ticks\":\"\"}},\"type\":\"scattermapbox\"}],\"scatterpolar\":[{\"marker\":{\"colorbar\":{\"outlinewidth\":0,\"ticks\":\"\"}},\"type\":\"scatterpolar\"}],\"scatterpolargl\":[{\"marker\":{\"colorbar\":{\"outlinewidth\":0,\"ticks\":\"\"}},\"type\":\"scatterpolargl\"}],\"scatterternary\":[{\"marker\":{\"colorbar\":{\"outlinewidth\":0,\"ticks\":\"\"}},\"type\":\"scatterternary\"}],\"surface\":[{\"colorbar\":{\"outlinewidth\":0,\"ticks\":\"\"},\"colorscale\":[[0.0,\"#0d0887\"],[0.1111111111111111,\"#46039f\"],[0.2222222222222222,\"#7201a8\"],[0.3333333333333333,\"#9c179e\"],[0.4444444444444444,\"#bd3786\"],[0.5555555555555556,\"#d8576b\"],[0.6666666666666666,\"#ed7953\"],[0.7777777777777778,\"#fb9f3a\"],[0.8888888888888888,\"#fdca26\"],[1.0,\"#f0f921\"]],\"type\":\"surface\"}],\"table\":[{\"cells\":{\"fill\":{\"color\":\"#EBF0F8\"},\"line\":{\"color\":\"white\"}},\"header\":{\"fill\":{\"color\":\"#C8D4E3\"},\"line\":{\"color\":\"white\"}},\"type\":\"table\"}]},\"layout\":{\"annotationdefaults\":{\"arrowcolor\":\"#2a3f5f\",\"arrowhead\":0,\"arrowwidth\":1},\"autotypenumbers\":\"strict\",\"coloraxis\":{\"colorbar\":{\"outlinewidth\":0,\"ticks\":\"\"}},\"colorscale\":{\"diverging\":[[0,\"#8e0152\"],[0.1,\"#c51b7d\"],[0.2,\"#de77ae\"],[0.3,\"#f1b6da\"],[0.4,\"#fde0ef\"],[0.5,\"#f7f7f7\"],[0.6,\"#e6f5d0\"],[0.7,\"#b8e186\"],[0.8,\"#7fbc41\"],[0.9,\"#4d9221\"],[1,\"#276419\"]],\"sequential\":[[0.0,\"#0d0887\"],[0.1111111111111111,\"#46039f\"],[0.2222222222222222,\"#7201a8\"],[0.3333333333333333,\"#9c179e\"],[0.4444444444444444,\"#bd3786\"],[0.5555555555555556,\"#d8576b\"],[0.6666666666666666,\"#ed7953\"],[0.7777777777777778,\"#fb9f3a\"],[0.8888888888888888,\"#fdca26\"],[1.0,\"#f0f921\"]],\"sequentialminus\":[[0.0,\"#0d0887\"],[0.1111111111111111,\"#46039f\"],[0.2222222222222222,\"#7201a8\"],[0.3333333333333333,\"#9c179e\"],[0.4444444444444444,\"#bd3786\"],[0.5555555555555556,\"#d8576b\"],[0.6666666666666666,\"#ed7953\"],[0.7777777777777778,\"#fb9f3a\"],[0.8888888888888888,\"#fdca26\"],[1.0,\"#f0f921\"]]},\"colorway\":[\"#636efa\",\"#EF553B\",\"#00cc96\",\"#ab63fa\",\"#FFA15A\",\"#19d3f3\",\"#FF6692\",\"#B6E880\",\"#FF97FF\",\"#FECB52\"],\"font\":{\"color\":\"#2a3f5f\"},\"geo\":{\"bgcolor\":\"white\",\"lakecolor\":\"white\",\"landcolor\":\"#E5ECF6\",\"showlakes\":true,\"showland\":true,\"subunitcolor\":\"white\"},\"hoverlabel\":{\"align\":\"left\"},\"hovermode\":\"closest\",\"mapbox\":{\"style\":\"light\"},\"paper_bgcolor\":\"white\",\"plot_bgcolor\":\"#E5ECF6\",\"polar\":{\"angularaxis\":{\"gridcolor\":\"white\",\"linecolor\":\"white\",\"ticks\":\"\"},\"bgcolor\":\"#E5ECF6\",\"radialaxis\":{\"gridcolor\":\"white\",\"linecolor\":\"white\",\"ticks\":\"\"}},\"scene\":{\"xaxis\":{\"backgroundcolor\":\"#E5ECF6\",\"gridcolor\":\"white\",\"gridwidth\":2,\"linecolor\":\"white\",\"showbackground\":true,\"ticks\":\"\",\"zerolinecolor\":\"white\"},\"yaxis\":{\"backgroundcolor\":\"#E5ECF6\",\"gridcolor\":\"white\",\"gridwidth\":2,\"linecolor\":\"white\",\"showbackground\":true,\"ticks\":\"\",\"zerolinecolor\":\"white\"},\"zaxis\":{\"backgroundcolor\":\"#E5ECF6\",\"gridcolor\":\"white\",\"gridwidth\":2,\"linecolor\":\"white\",\"showbackground\":true,\"ticks\":\"\",\"zerolinecolor\":\"white\"}},\"shapedefaults\":{\"line\":{\"color\":\"#2a3f5f\"}},\"ternary\":{\"aaxis\":{\"gridcolor\":\"white\",\"linecolor\":\"white\",\"ticks\":\"\"},\"baxis\":{\"gridcolor\":\"white\",\"linecolor\":\"white\",\"ticks\":\"\"},\"bgcolor\":\"#E5ECF6\",\"caxis\":{\"gridcolor\":\"white\",\"linecolor\":\"white\",\"ticks\":\"\"}},\"title\":{\"x\":0.05},\"xaxis\":{\"automargin\":true,\"gridcolor\":\"white\",\"linecolor\":\"white\",\"ticks\":\"\",\"title\":{\"standoff\":15},\"zerolinecolor\":\"white\",\"zerolinewidth\":2},\"yaxis\":{\"automargin\":true,\"gridcolor\":\"white\",\"linecolor\":\"white\",\"ticks\":\"\",\"title\":{\"standoff\":15},\"zerolinecolor\":\"white\",\"zerolinewidth\":2}}},\"xaxis\":{\"anchor\":\"y\",\"domain\":[0.0,0.06272189349112425],\"title\":{\"text\":\"alpha\"},\"type\":\"log\"},\"yaxis\":{\"anchor\":\"x\",\"domain\":[0.0,1.0],\"title\":{\"text\":\"Objective Value\"}},\"xaxis2\":{\"anchor\":\"y2\",\"domain\":[0.07810650887573964,0.1408284023668639],\"title\":{\"text\":\"colsample_bytree\"}},\"yaxis2\":{\"anchor\":\"x2\",\"domain\":[0.0,1.0],\"matches\":\"y\",\"showticklabels\":false},\"xaxis3\":{\"anchor\":\"y3\",\"domain\":[0.15621301775147928,0.21893491124260353],\"title\":{\"text\":\"lambda\"},\"type\":\"log\"},\"yaxis3\":{\"anchor\":\"x3\",\"domain\":[0.0,1.0],\"matches\":\"y\",\"showticklabels\":false},\"xaxis4\":{\"anchor\":\"y4\",\"domain\":[0.23431952662721892,0.29704142011834317],\"title\":{\"text\":\"learning_rate\"}},\"yaxis4\":{\"anchor\":\"x4\",\"domain\":[0.0,1.0],\"matches\":\"y\",\"showticklabels\":false},\"xaxis5\":{\"anchor\":\"y5\",\"domain\":[0.31242603550295855,0.3751479289940828],\"title\":{\"text\":\"max_depth\"}},\"yaxis5\":{\"anchor\":\"x5\",\"domain\":[0.0,1.0],\"matches\":\"y\",\"showticklabels\":false},\"xaxis6\":{\"anchor\":\"y6\",\"domain\":[0.39053254437869817,0.45325443786982245],\"title\":{\"text\":\"min_child_weight\"}},\"yaxis6\":{\"anchor\":\"x6\",\"domain\":[0.0,1.0],\"matches\":\"y\",\"showticklabels\":false},\"xaxis7\":{\"anchor\":\"y7\",\"domain\":[0.4686390532544378,0.531360946745562],\"title\":{\"text\":\"n_estimators\"}},\"yaxis7\":{\"anchor\":\"x7\",\"domain\":[0.0,1.0],\"matches\":\"y\",\"showticklabels\":false},\"xaxis8\":{\"anchor\":\"y8\",\"domain\":[0.5467455621301773,0.6094674556213016],\"title\":{\"text\":\"normalize_type\"}},\"yaxis8\":{\"anchor\":\"x8\",\"domain\":[0.0,1.0],\"matches\":\"y\",\"showticklabels\":false},\"xaxis9\":{\"anchor\":\"y9\",\"domain\":[0.624852071005917,0.6875739644970412],\"title\":{\"text\":\"one_drop\"}},\"yaxis9\":{\"anchor\":\"x9\",\"domain\":[0.0,1.0],\"matches\":\"y\",\"showticklabels\":false},\"xaxis10\":{\"anchor\":\"y10\",\"domain\":[0.7029585798816567,0.7656804733727809],\"title\":{\"text\":\"random_state\"}},\"yaxis10\":{\"anchor\":\"x10\",\"domain\":[0.0,1.0],\"matches\":\"y\",\"showticklabels\":false},\"xaxis11\":{\"anchor\":\"y11\",\"domain\":[0.7810650887573962,0.8437869822485204],\"title\":{\"text\":\"rate_drop\"},\"type\":\"log\"},\"yaxis11\":{\"anchor\":\"x11\",\"domain\":[0.0,1.0],\"matches\":\"y\",\"showticklabels\":false},\"xaxis12\":{\"anchor\":\"y12\",\"domain\":[0.8591715976331358,0.92189349112426],\"title\":{\"text\":\"sample_type\"}},\"yaxis12\":{\"anchor\":\"x12\",\"domain\":[0.0,1.0],\"matches\":\"y\",\"showticklabels\":false},\"xaxis13\":{\"anchor\":\"y13\",\"domain\":[0.9372781065088754,0.9999999999999997],\"title\":{\"text\":\"subsample\"}},\"yaxis13\":{\"anchor\":\"x13\",\"domain\":[0.0,1.0],\"matches\":\"y\",\"showticklabels\":false},\"title\":{\"text\":\"Slice Plot\"},\"width\":3900},                        {\"responsive\": true}                    ).then(function(){\n",
              "                            \n",
              "var gd = document.getElementById('59126ac2-75a5-47ea-b0ca-c98661554952');\n",
              "var x = new MutationObserver(function (mutations, observer) {{\n",
              "        var display = window.getComputedStyle(gd).display;\n",
              "        if (!display || display === 'none') {{\n",
              "            console.log([gd, 'removed!']);\n",
              "            Plotly.purge(gd);\n",
              "            observer.disconnect();\n",
              "        }}\n",
              "}});\n",
              "\n",
              "// Listen for the removal of the full notebook cells\n",
              "var notebookContainer = gd.closest('#notebook-container');\n",
              "if (notebookContainer) {{\n",
              "    x.observe(notebookContainer, {childList: true});\n",
              "}}\n",
              "\n",
              "// Listen for the clearing of the current output cell\n",
              "var outputEl = gd.closest('.output');\n",
              "if (outputEl) {{\n",
              "    x.observe(outputEl, {childList: true});\n",
              "}}\n",
              "\n",
              "                        })                };                            </script>        </div>\n",
              "</body>\n",
              "</html>"
            ]
          },
          "metadata": {}
        }
      ],
      "source": [
        "# plot_slice: shows the evolution of the search. You can see where in the hyperparameter space your search \n",
        "# went and which parts of the space were explored more.\n",
        "optuna.visualization.plot_slice(study)"
      ]
    },
    {
      "cell_type": "code",
      "execution_count": null,
      "metadata": {
        "colab": {
          "base_uri": "https://localhost:8080/",
          "height": 542
        },
        "id": "jHXrjZ53CC35",
        "outputId": "ad4107fa-1913-4e9c-9138-c7631c7491e0"
      },
      "outputs": [
        {
          "output_type": "display_data",
          "data": {
            "text/html": [
              "<html>\n",
              "<head><meta charset=\"utf-8\" /></head>\n",
              "<body>\n",
              "    <div>            <script src=\"https://cdnjs.cloudflare.com/ajax/libs/mathjax/2.7.5/MathJax.js?config=TeX-AMS-MML_SVG\"></script><script type=\"text/javascript\">if (window.MathJax) {MathJax.Hub.Config({SVG: {font: \"STIX-Web\"}});}</script>                <script type=\"text/javascript\">window.PlotlyConfig = {MathJaxConfig: 'local'};</script>\n",
              "        <script src=\"https://cdn.plot.ly/plotly-2.8.3.min.js\"></script>                <div id=\"03fa284c-2544-4256-bce0-d7fd043132c6\" class=\"plotly-graph-div\" style=\"height:525px; width:100%;\"></div>            <script type=\"text/javascript\">                                    window.PLOTLYENV=window.PLOTLYENV || {};                                    if (document.getElementById(\"03fa284c-2544-4256-bce0-d7fd043132c6\")) {                    Plotly.newPlot(                        \"03fa284c-2544-4256-bce0-d7fd043132c6\",                        [{\"cliponaxis\":false,\"hovertemplate\":[\"alpha (LogUniformDistribution): 4.997109925589309e-05<extra></extra>\",\"one_drop (CategoricalDistribution): 0.0006200991813321571<extra></extra>\",\"normalize_type (CategoricalDistribution): 0.0007670017491450427<extra></extra>\",\"lambda (LogUniformDistribution): 0.0014518616189843892<extra></extra>\",\"colsample_bytree (CategoricalDistribution): 0.0023759109489362856<extra></extra>\",\"max_depth (CategoricalDistribution): 0.0038989534787611103<extra></extra>\",\"sample_type (CategoricalDistribution): 0.01130263036913318<extra></extra>\",\"random_state (CategoricalDistribution): 0.0135084217712702<extra></extra>\",\"learning_rate (CategoricalDistribution): 0.016509011607054633<extra></extra>\",\"min_child_weight (IntUniformDistribution): 0.020494608517885912<extra></extra>\",\"subsample (CategoricalDistribution): 0.05675460407938791<extra></extra>\",\"rate_drop (LogUniformDistribution): 0.1666850069057581<extra></extra>\",\"n_estimators (CategoricalDistribution): 0.7055819186730949<extra></extra>\"],\"marker\":{\"color\":\"rgb(66,146,198)\"},\"orientation\":\"h\",\"text\":[\"4.997109925589309e-05\",\"0.0006200991813321571\",\"0.0007670017491450427\",\"0.0014518616189843892\",\"0.0023759109489362856\",\"0.0038989534787611103\",\"0.01130263036913318\",\"0.0135084217712702\",\"0.016509011607054633\",\"0.020494608517885912\",\"0.05675460407938791\",\"0.1666850069057581\",\"0.7055819186730949\"],\"textposition\":\"outside\",\"texttemplate\":\"%{text:.2f}\",\"x\":[4.997109925589309e-05,0.0006200991813321571,0.0007670017491450427,0.0014518616189843892,0.0023759109489362856,0.0038989534787611103,0.01130263036913318,0.0135084217712702,0.016509011607054633,0.020494608517885912,0.05675460407938791,0.1666850069057581,0.7055819186730949],\"y\":[\"alpha\",\"one_drop\",\"normalize_type\",\"lambda\",\"colsample_bytree\",\"max_depth\",\"sample_type\",\"random_state\",\"learning_rate\",\"min_child_weight\",\"subsample\",\"rate_drop\",\"n_estimators\"],\"type\":\"bar\"}],                        {\"showlegend\":false,\"title\":{\"text\":\"Hyperparameter Importances\"},\"xaxis\":{\"title\":{\"text\":\"Importance for Objective Value\"}},\"yaxis\":{\"title\":{\"text\":\"Hyperparameter\"}},\"template\":{\"data\":{\"bar\":[{\"error_x\":{\"color\":\"#2a3f5f\"},\"error_y\":{\"color\":\"#2a3f5f\"},\"marker\":{\"line\":{\"color\":\"#E5ECF6\",\"width\":0.5},\"pattern\":{\"fillmode\":\"overlay\",\"size\":10,\"solidity\":0.2}},\"type\":\"bar\"}],\"barpolar\":[{\"marker\":{\"line\":{\"color\":\"#E5ECF6\",\"width\":0.5},\"pattern\":{\"fillmode\":\"overlay\",\"size\":10,\"solidity\":0.2}},\"type\":\"barpolar\"}],\"carpet\":[{\"aaxis\":{\"endlinecolor\":\"#2a3f5f\",\"gridcolor\":\"white\",\"linecolor\":\"white\",\"minorgridcolor\":\"white\",\"startlinecolor\":\"#2a3f5f\"},\"baxis\":{\"endlinecolor\":\"#2a3f5f\",\"gridcolor\":\"white\",\"linecolor\":\"white\",\"minorgridcolor\":\"white\",\"startlinecolor\":\"#2a3f5f\"},\"type\":\"carpet\"}],\"choropleth\":[{\"colorbar\":{\"outlinewidth\":0,\"ticks\":\"\"},\"type\":\"choropleth\"}],\"contour\":[{\"colorbar\":{\"outlinewidth\":0,\"ticks\":\"\"},\"colorscale\":[[0.0,\"#0d0887\"],[0.1111111111111111,\"#46039f\"],[0.2222222222222222,\"#7201a8\"],[0.3333333333333333,\"#9c179e\"],[0.4444444444444444,\"#bd3786\"],[0.5555555555555556,\"#d8576b\"],[0.6666666666666666,\"#ed7953\"],[0.7777777777777778,\"#fb9f3a\"],[0.8888888888888888,\"#fdca26\"],[1.0,\"#f0f921\"]],\"type\":\"contour\"}],\"contourcarpet\":[{\"colorbar\":{\"outlinewidth\":0,\"ticks\":\"\"},\"type\":\"contourcarpet\"}],\"heatmap\":[{\"colorbar\":{\"outlinewidth\":0,\"ticks\":\"\"},\"colorscale\":[[0.0,\"#0d0887\"],[0.1111111111111111,\"#46039f\"],[0.2222222222222222,\"#7201a8\"],[0.3333333333333333,\"#9c179e\"],[0.4444444444444444,\"#bd3786\"],[0.5555555555555556,\"#d8576b\"],[0.6666666666666666,\"#ed7953\"],[0.7777777777777778,\"#fb9f3a\"],[0.8888888888888888,\"#fdca26\"],[1.0,\"#f0f921\"]],\"type\":\"heatmap\"}],\"heatmapgl\":[{\"colorbar\":{\"outlinewidth\":0,\"ticks\":\"\"},\"colorscale\":[[0.0,\"#0d0887\"],[0.1111111111111111,\"#46039f\"],[0.2222222222222222,\"#7201a8\"],[0.3333333333333333,\"#9c179e\"],[0.4444444444444444,\"#bd3786\"],[0.5555555555555556,\"#d8576b\"],[0.6666666666666666,\"#ed7953\"],[0.7777777777777778,\"#fb9f3a\"],[0.8888888888888888,\"#fdca26\"],[1.0,\"#f0f921\"]],\"type\":\"heatmapgl\"}],\"histogram\":[{\"marker\":{\"pattern\":{\"fillmode\":\"overlay\",\"size\":10,\"solidity\":0.2}},\"type\":\"histogram\"}],\"histogram2d\":[{\"colorbar\":{\"outlinewidth\":0,\"ticks\":\"\"},\"colorscale\":[[0.0,\"#0d0887\"],[0.1111111111111111,\"#46039f\"],[0.2222222222222222,\"#7201a8\"],[0.3333333333333333,\"#9c179e\"],[0.4444444444444444,\"#bd3786\"],[0.5555555555555556,\"#d8576b\"],[0.6666666666666666,\"#ed7953\"],[0.7777777777777778,\"#fb9f3a\"],[0.8888888888888888,\"#fdca26\"],[1.0,\"#f0f921\"]],\"type\":\"histogram2d\"}],\"histogram2dcontour\":[{\"colorbar\":{\"outlinewidth\":0,\"ticks\":\"\"},\"colorscale\":[[0.0,\"#0d0887\"],[0.1111111111111111,\"#46039f\"],[0.2222222222222222,\"#7201a8\"],[0.3333333333333333,\"#9c179e\"],[0.4444444444444444,\"#bd3786\"],[0.5555555555555556,\"#d8576b\"],[0.6666666666666666,\"#ed7953\"],[0.7777777777777778,\"#fb9f3a\"],[0.8888888888888888,\"#fdca26\"],[1.0,\"#f0f921\"]],\"type\":\"histogram2dcontour\"}],\"mesh3d\":[{\"colorbar\":{\"outlinewidth\":0,\"ticks\":\"\"},\"type\":\"mesh3d\"}],\"parcoords\":[{\"line\":{\"colorbar\":{\"outlinewidth\":0,\"ticks\":\"\"}},\"type\":\"parcoords\"}],\"pie\":[{\"automargin\":true,\"type\":\"pie\"}],\"scatter\":[{\"marker\":{\"colorbar\":{\"outlinewidth\":0,\"ticks\":\"\"}},\"type\":\"scatter\"}],\"scatter3d\":[{\"line\":{\"colorbar\":{\"outlinewidth\":0,\"ticks\":\"\"}},\"marker\":{\"colorbar\":{\"outlinewidth\":0,\"ticks\":\"\"}},\"type\":\"scatter3d\"}],\"scattercarpet\":[{\"marker\":{\"colorbar\":{\"outlinewidth\":0,\"ticks\":\"\"}},\"type\":\"scattercarpet\"}],\"scattergeo\":[{\"marker\":{\"colorbar\":{\"outlinewidth\":0,\"ticks\":\"\"}},\"type\":\"scattergeo\"}],\"scattergl\":[{\"marker\":{\"colorbar\":{\"outlinewidth\":0,\"ticks\":\"\"}},\"type\":\"scattergl\"}],\"scattermapbox\":[{\"marker\":{\"colorbar\":{\"outlinewidth\":0,\"ticks\":\"\"}},\"type\":\"scattermapbox\"}],\"scatterpolar\":[{\"marker\":{\"colorbar\":{\"outlinewidth\":0,\"ticks\":\"\"}},\"type\":\"scatterpolar\"}],\"scatterpolargl\":[{\"marker\":{\"colorbar\":{\"outlinewidth\":0,\"ticks\":\"\"}},\"type\":\"scatterpolargl\"}],\"scatterternary\":[{\"marker\":{\"colorbar\":{\"outlinewidth\":0,\"ticks\":\"\"}},\"type\":\"scatterternary\"}],\"surface\":[{\"colorbar\":{\"outlinewidth\":0,\"ticks\":\"\"},\"colorscale\":[[0.0,\"#0d0887\"],[0.1111111111111111,\"#46039f\"],[0.2222222222222222,\"#7201a8\"],[0.3333333333333333,\"#9c179e\"],[0.4444444444444444,\"#bd3786\"],[0.5555555555555556,\"#d8576b\"],[0.6666666666666666,\"#ed7953\"],[0.7777777777777778,\"#fb9f3a\"],[0.8888888888888888,\"#fdca26\"],[1.0,\"#f0f921\"]],\"type\":\"surface\"}],\"table\":[{\"cells\":{\"fill\":{\"color\":\"#EBF0F8\"},\"line\":{\"color\":\"white\"}},\"header\":{\"fill\":{\"color\":\"#C8D4E3\"},\"line\":{\"color\":\"white\"}},\"type\":\"table\"}]},\"layout\":{\"annotationdefaults\":{\"arrowcolor\":\"#2a3f5f\",\"arrowhead\":0,\"arrowwidth\":1},\"autotypenumbers\":\"strict\",\"coloraxis\":{\"colorbar\":{\"outlinewidth\":0,\"ticks\":\"\"}},\"colorscale\":{\"diverging\":[[0,\"#8e0152\"],[0.1,\"#c51b7d\"],[0.2,\"#de77ae\"],[0.3,\"#f1b6da\"],[0.4,\"#fde0ef\"],[0.5,\"#f7f7f7\"],[0.6,\"#e6f5d0\"],[0.7,\"#b8e186\"],[0.8,\"#7fbc41\"],[0.9,\"#4d9221\"],[1,\"#276419\"]],\"sequential\":[[0.0,\"#0d0887\"],[0.1111111111111111,\"#46039f\"],[0.2222222222222222,\"#7201a8\"],[0.3333333333333333,\"#9c179e\"],[0.4444444444444444,\"#bd3786\"],[0.5555555555555556,\"#d8576b\"],[0.6666666666666666,\"#ed7953\"],[0.7777777777777778,\"#fb9f3a\"],[0.8888888888888888,\"#fdca26\"],[1.0,\"#f0f921\"]],\"sequentialminus\":[[0.0,\"#0d0887\"],[0.1111111111111111,\"#46039f\"],[0.2222222222222222,\"#7201a8\"],[0.3333333333333333,\"#9c179e\"],[0.4444444444444444,\"#bd3786\"],[0.5555555555555556,\"#d8576b\"],[0.6666666666666666,\"#ed7953\"],[0.7777777777777778,\"#fb9f3a\"],[0.8888888888888888,\"#fdca26\"],[1.0,\"#f0f921\"]]},\"colorway\":[\"#636efa\",\"#EF553B\",\"#00cc96\",\"#ab63fa\",\"#FFA15A\",\"#19d3f3\",\"#FF6692\",\"#B6E880\",\"#FF97FF\",\"#FECB52\"],\"font\":{\"color\":\"#2a3f5f\"},\"geo\":{\"bgcolor\":\"white\",\"lakecolor\":\"white\",\"landcolor\":\"#E5ECF6\",\"showlakes\":true,\"showland\":true,\"subunitcolor\":\"white\"},\"hoverlabel\":{\"align\":\"left\"},\"hovermode\":\"closest\",\"mapbox\":{\"style\":\"light\"},\"paper_bgcolor\":\"white\",\"plot_bgcolor\":\"#E5ECF6\",\"polar\":{\"angularaxis\":{\"gridcolor\":\"white\",\"linecolor\":\"white\",\"ticks\":\"\"},\"bgcolor\":\"#E5ECF6\",\"radialaxis\":{\"gridcolor\":\"white\",\"linecolor\":\"white\",\"ticks\":\"\"}},\"scene\":{\"xaxis\":{\"backgroundcolor\":\"#E5ECF6\",\"gridcolor\":\"white\",\"gridwidth\":2,\"linecolor\":\"white\",\"showbackground\":true,\"ticks\":\"\",\"zerolinecolor\":\"white\"},\"yaxis\":{\"backgroundcolor\":\"#E5ECF6\",\"gridcolor\":\"white\",\"gridwidth\":2,\"linecolor\":\"white\",\"showbackground\":true,\"ticks\":\"\",\"zerolinecolor\":\"white\"},\"zaxis\":{\"backgroundcolor\":\"#E5ECF6\",\"gridcolor\":\"white\",\"gridwidth\":2,\"linecolor\":\"white\",\"showbackground\":true,\"ticks\":\"\",\"zerolinecolor\":\"white\"}},\"shapedefaults\":{\"line\":{\"color\":\"#2a3f5f\"}},\"ternary\":{\"aaxis\":{\"gridcolor\":\"white\",\"linecolor\":\"white\",\"ticks\":\"\"},\"baxis\":{\"gridcolor\":\"white\",\"linecolor\":\"white\",\"ticks\":\"\"},\"bgcolor\":\"#E5ECF6\",\"caxis\":{\"gridcolor\":\"white\",\"linecolor\":\"white\",\"ticks\":\"\"}},\"title\":{\"x\":0.05},\"xaxis\":{\"automargin\":true,\"gridcolor\":\"white\",\"linecolor\":\"white\",\"ticks\":\"\",\"title\":{\"standoff\":15},\"zerolinecolor\":\"white\",\"zerolinewidth\":2},\"yaxis\":{\"automargin\":true,\"gridcolor\":\"white\",\"linecolor\":\"white\",\"ticks\":\"\",\"title\":{\"standoff\":15},\"zerolinecolor\":\"white\",\"zerolinewidth\":2}}}},                        {\"responsive\": true}                    ).then(function(){\n",
              "                            \n",
              "var gd = document.getElementById('03fa284c-2544-4256-bce0-d7fd043132c6');\n",
              "var x = new MutationObserver(function (mutations, observer) {{\n",
              "        var display = window.getComputedStyle(gd).display;\n",
              "        if (!display || display === 'none') {{\n",
              "            console.log([gd, 'removed!']);\n",
              "            Plotly.purge(gd);\n",
              "            observer.disconnect();\n",
              "        }}\n",
              "}});\n",
              "\n",
              "// Listen for the removal of the full notebook cells\n",
              "var notebookContainer = gd.closest('#notebook-container');\n",
              "if (notebookContainer) {{\n",
              "    x.observe(notebookContainer, {childList: true});\n",
              "}}\n",
              "\n",
              "// Listen for the clearing of the current output cell\n",
              "var outputEl = gd.closest('.output');\n",
              "if (outputEl) {{\n",
              "    x.observe(outputEl, {childList: true});\n",
              "}}\n",
              "\n",
              "                        })                };                            </script>        </div>\n",
              "</body>\n",
              "</html>"
            ]
          },
          "metadata": {}
        }
      ],
      "source": [
        "#Visualize parameter importances.\n",
        "optuna.visualization.plot_param_importances(study)"
      ]
    },
    {
      "cell_type": "code",
      "execution_count": null,
      "metadata": {
        "colab": {
          "base_uri": "https://localhost:8080/",
          "height": 542
        },
        "id": "EJhdm05fCC36",
        "outputId": "e375447e-2d77-4857-c8f4-472d805f6fac"
      },
      "outputs": [
        {
          "output_type": "display_data",
          "data": {
            "text/html": [
              "<html>\n",
              "<head><meta charset=\"utf-8\" /></head>\n",
              "<body>\n",
              "    <div>            <script src=\"https://cdnjs.cloudflare.com/ajax/libs/mathjax/2.7.5/MathJax.js?config=TeX-AMS-MML_SVG\"></script><script type=\"text/javascript\">if (window.MathJax) {MathJax.Hub.Config({SVG: {font: \"STIX-Web\"}});}</script>                <script type=\"text/javascript\">window.PlotlyConfig = {MathJaxConfig: 'local'};</script>\n",
              "        <script src=\"https://cdn.plot.ly/plotly-2.8.3.min.js\"></script>                <div id=\"49901f9f-c111-4701-98b5-43dd60cc99d0\" class=\"plotly-graph-div\" style=\"height:525px; width:100%;\"></div>            <script type=\"text/javascript\">                                    window.PLOTLYENV=window.PLOTLYENV || {};                                    if (document.getElementById(\"49901f9f-c111-4701-98b5-43dd60cc99d0\")) {                    Plotly.newPlot(                        \"49901f9f-c111-4701-98b5-43dd60cc99d0\",                        [{\"mode\":\"lines\",\"name\":\"no-name-f9e59ee2-cffa-4486-990a-c9f67ef6067e\",\"x\":[0.0326532375561884,0.03335093128283547,0.03404862500948254,0.034746318736129614,0.03544401246277668,0.03614170618942375,0.03683939991607082,0.037537093642717886,0.038234787369364955,0.03893248109601202,0.0396301748226591,0.040327868549306166,0.041025562275953234,0.0417232560026003,0.04242094972924737,0.04311864345589444,0.04381633718254151,0.04451403090918858,0.04521172463583565,0.04590941836248272,0.046607112089129786,0.047304805815776854,0.04800249954242393,0.04870019326907099,0.049397886995718066,0.050095580722365134,0.0507932744490122,0.05149096817565927,0.05218866190230634,0.05288635562895341,0.053584049355600474,0.05428174308224755,0.05497943680889462,0.055677130535541686,0.05637482426218876,0.05707251798883582,0.0577702117154829,0.058467905442129965,0.05916559916877703,0.0598632928954241,0.06056098662207117,0.061258680348718245,0.061956374075365306,0.06265406780201238,0.06335176152865946,0.06404945525530652,0.06474714898195358,0.06544484270860065,0.06614253643524773,0.0668402301618948,0.06753792388854186,0.06823561761518893,0.068933311341836,0.06963100506848308,0.07032869879513014,0.07102639252177721,0.07172408624842427,0.07242177997507135,0.07311947370171842,0.07381716742836548,0.07451486115501255,0.07521255488165962,0.0759102486083067,0.07660794233495377,0.07730563606160083,0.0780033297882479,0.07870102351489497,0.07939871724154204,0.08009641096818912,0.08079410469483618,0.08149179842148324,0.08218949214813032,0.08288718587477739,0.08358487960142445,0.08428257332807153,0.08498026705471859,0.08567796078136566,0.08637565450801274,0.0870733482346598,0.08777104196130686,0.08846873568795394,0.08916642941460101,0.08986412314124809,0.09056181686789515,0.09125951059454221,0.09195720432118928,0.09265489804783636,0.09335259177448343,0.0940502855011305,0.09474797922777756,0.09544567295442463,0.0961433666810717,0.09684106040771877,0.09753875413436584,0.0982364478610129,0.09893414158765998,0.09963183531430705,0.10032952904095412,0.10102722276760119,0.10172491649424825],\"y\":[0.02,0.06,0.12,0.14,0.18,0.22,0.22,0.26,0.28,0.32,0.36,0.36,0.42,0.42,0.44,0.44,0.44,0.44,0.44,0.44,0.44,0.52,0.54,0.56,0.58,0.58,0.6,0.62,0.66,0.66,0.68,0.7,0.7,0.7,0.72,0.72,0.72,0.72,0.72,0.74,0.76,0.78,0.8,0.8,0.8,0.8,0.8,0.8,0.8,0.8,0.82,0.82,0.82,0.82,0.82,0.82,0.82,0.82,0.82,0.82,0.82,0.82,0.82,0.82,0.82,0.82,0.84,0.84,0.84,0.84,0.84,0.84,0.84,0.84,0.84,0.84,0.84,0.84,0.84,0.84,0.84,0.84,0.84,0.84,0.84,0.84,0.84,0.88,0.88,0.88,0.9,0.9,0.94,0.96,0.96,0.96,0.98,0.98,0.98,1.0],\"type\":\"scatter\"}],                        {\"title\":{\"text\":\"Empirical Distribution Function Plot\"},\"xaxis\":{\"title\":{\"text\":\"Objective Value\"}},\"yaxis\":{\"title\":{\"text\":\"Cumulative Probability\"},\"range\":[0,1]},\"template\":{\"data\":{\"bar\":[{\"error_x\":{\"color\":\"#2a3f5f\"},\"error_y\":{\"color\":\"#2a3f5f\"},\"marker\":{\"line\":{\"color\":\"#E5ECF6\",\"width\":0.5},\"pattern\":{\"fillmode\":\"overlay\",\"size\":10,\"solidity\":0.2}},\"type\":\"bar\"}],\"barpolar\":[{\"marker\":{\"line\":{\"color\":\"#E5ECF6\",\"width\":0.5},\"pattern\":{\"fillmode\":\"overlay\",\"size\":10,\"solidity\":0.2}},\"type\":\"barpolar\"}],\"carpet\":[{\"aaxis\":{\"endlinecolor\":\"#2a3f5f\",\"gridcolor\":\"white\",\"linecolor\":\"white\",\"minorgridcolor\":\"white\",\"startlinecolor\":\"#2a3f5f\"},\"baxis\":{\"endlinecolor\":\"#2a3f5f\",\"gridcolor\":\"white\",\"linecolor\":\"white\",\"minorgridcolor\":\"white\",\"startlinecolor\":\"#2a3f5f\"},\"type\":\"carpet\"}],\"choropleth\":[{\"colorbar\":{\"outlinewidth\":0,\"ticks\":\"\"},\"type\":\"choropleth\"}],\"contour\":[{\"colorbar\":{\"outlinewidth\":0,\"ticks\":\"\"},\"colorscale\":[[0.0,\"#0d0887\"],[0.1111111111111111,\"#46039f\"],[0.2222222222222222,\"#7201a8\"],[0.3333333333333333,\"#9c179e\"],[0.4444444444444444,\"#bd3786\"],[0.5555555555555556,\"#d8576b\"],[0.6666666666666666,\"#ed7953\"],[0.7777777777777778,\"#fb9f3a\"],[0.8888888888888888,\"#fdca26\"],[1.0,\"#f0f921\"]],\"type\":\"contour\"}],\"contourcarpet\":[{\"colorbar\":{\"outlinewidth\":0,\"ticks\":\"\"},\"type\":\"contourcarpet\"}],\"heatmap\":[{\"colorbar\":{\"outlinewidth\":0,\"ticks\":\"\"},\"colorscale\":[[0.0,\"#0d0887\"],[0.1111111111111111,\"#46039f\"],[0.2222222222222222,\"#7201a8\"],[0.3333333333333333,\"#9c179e\"],[0.4444444444444444,\"#bd3786\"],[0.5555555555555556,\"#d8576b\"],[0.6666666666666666,\"#ed7953\"],[0.7777777777777778,\"#fb9f3a\"],[0.8888888888888888,\"#fdca26\"],[1.0,\"#f0f921\"]],\"type\":\"heatmap\"}],\"heatmapgl\":[{\"colorbar\":{\"outlinewidth\":0,\"ticks\":\"\"},\"colorscale\":[[0.0,\"#0d0887\"],[0.1111111111111111,\"#46039f\"],[0.2222222222222222,\"#7201a8\"],[0.3333333333333333,\"#9c179e\"],[0.4444444444444444,\"#bd3786\"],[0.5555555555555556,\"#d8576b\"],[0.6666666666666666,\"#ed7953\"],[0.7777777777777778,\"#fb9f3a\"],[0.8888888888888888,\"#fdca26\"],[1.0,\"#f0f921\"]],\"type\":\"heatmapgl\"}],\"histogram\":[{\"marker\":{\"pattern\":{\"fillmode\":\"overlay\",\"size\":10,\"solidity\":0.2}},\"type\":\"histogram\"}],\"histogram2d\":[{\"colorbar\":{\"outlinewidth\":0,\"ticks\":\"\"},\"colorscale\":[[0.0,\"#0d0887\"],[0.1111111111111111,\"#46039f\"],[0.2222222222222222,\"#7201a8\"],[0.3333333333333333,\"#9c179e\"],[0.4444444444444444,\"#bd3786\"],[0.5555555555555556,\"#d8576b\"],[0.6666666666666666,\"#ed7953\"],[0.7777777777777778,\"#fb9f3a\"],[0.8888888888888888,\"#fdca26\"],[1.0,\"#f0f921\"]],\"type\":\"histogram2d\"}],\"histogram2dcontour\":[{\"colorbar\":{\"outlinewidth\":0,\"ticks\":\"\"},\"colorscale\":[[0.0,\"#0d0887\"],[0.1111111111111111,\"#46039f\"],[0.2222222222222222,\"#7201a8\"],[0.3333333333333333,\"#9c179e\"],[0.4444444444444444,\"#bd3786\"],[0.5555555555555556,\"#d8576b\"],[0.6666666666666666,\"#ed7953\"],[0.7777777777777778,\"#fb9f3a\"],[0.8888888888888888,\"#fdca26\"],[1.0,\"#f0f921\"]],\"type\":\"histogram2dcontour\"}],\"mesh3d\":[{\"colorbar\":{\"outlinewidth\":0,\"ticks\":\"\"},\"type\":\"mesh3d\"}],\"parcoords\":[{\"line\":{\"colorbar\":{\"outlinewidth\":0,\"ticks\":\"\"}},\"type\":\"parcoords\"}],\"pie\":[{\"automargin\":true,\"type\":\"pie\"}],\"scatter\":[{\"marker\":{\"colorbar\":{\"outlinewidth\":0,\"ticks\":\"\"}},\"type\":\"scatter\"}],\"scatter3d\":[{\"line\":{\"colorbar\":{\"outlinewidth\":0,\"ticks\":\"\"}},\"marker\":{\"colorbar\":{\"outlinewidth\":0,\"ticks\":\"\"}},\"type\":\"scatter3d\"}],\"scattercarpet\":[{\"marker\":{\"colorbar\":{\"outlinewidth\":0,\"ticks\":\"\"}},\"type\":\"scattercarpet\"}],\"scattergeo\":[{\"marker\":{\"colorbar\":{\"outlinewidth\":0,\"ticks\":\"\"}},\"type\":\"scattergeo\"}],\"scattergl\":[{\"marker\":{\"colorbar\":{\"outlinewidth\":0,\"ticks\":\"\"}},\"type\":\"scattergl\"}],\"scattermapbox\":[{\"marker\":{\"colorbar\":{\"outlinewidth\":0,\"ticks\":\"\"}},\"type\":\"scattermapbox\"}],\"scatterpolar\":[{\"marker\":{\"colorbar\":{\"outlinewidth\":0,\"ticks\":\"\"}},\"type\":\"scatterpolar\"}],\"scatterpolargl\":[{\"marker\":{\"colorbar\":{\"outlinewidth\":0,\"ticks\":\"\"}},\"type\":\"scatterpolargl\"}],\"scatterternary\":[{\"marker\":{\"colorbar\":{\"outlinewidth\":0,\"ticks\":\"\"}},\"type\":\"scatterternary\"}],\"surface\":[{\"colorbar\":{\"outlinewidth\":0,\"ticks\":\"\"},\"colorscale\":[[0.0,\"#0d0887\"],[0.1111111111111111,\"#46039f\"],[0.2222222222222222,\"#7201a8\"],[0.3333333333333333,\"#9c179e\"],[0.4444444444444444,\"#bd3786\"],[0.5555555555555556,\"#d8576b\"],[0.6666666666666666,\"#ed7953\"],[0.7777777777777778,\"#fb9f3a\"],[0.8888888888888888,\"#fdca26\"],[1.0,\"#f0f921\"]],\"type\":\"surface\"}],\"table\":[{\"cells\":{\"fill\":{\"color\":\"#EBF0F8\"},\"line\":{\"color\":\"white\"}},\"header\":{\"fill\":{\"color\":\"#C8D4E3\"},\"line\":{\"color\":\"white\"}},\"type\":\"table\"}]},\"layout\":{\"annotationdefaults\":{\"arrowcolor\":\"#2a3f5f\",\"arrowhead\":0,\"arrowwidth\":1},\"autotypenumbers\":\"strict\",\"coloraxis\":{\"colorbar\":{\"outlinewidth\":0,\"ticks\":\"\"}},\"colorscale\":{\"diverging\":[[0,\"#8e0152\"],[0.1,\"#c51b7d\"],[0.2,\"#de77ae\"],[0.3,\"#f1b6da\"],[0.4,\"#fde0ef\"],[0.5,\"#f7f7f7\"],[0.6,\"#e6f5d0\"],[0.7,\"#b8e186\"],[0.8,\"#7fbc41\"],[0.9,\"#4d9221\"],[1,\"#276419\"]],\"sequential\":[[0.0,\"#0d0887\"],[0.1111111111111111,\"#46039f\"],[0.2222222222222222,\"#7201a8\"],[0.3333333333333333,\"#9c179e\"],[0.4444444444444444,\"#bd3786\"],[0.5555555555555556,\"#d8576b\"],[0.6666666666666666,\"#ed7953\"],[0.7777777777777778,\"#fb9f3a\"],[0.8888888888888888,\"#fdca26\"],[1.0,\"#f0f921\"]],\"sequentialminus\":[[0.0,\"#0d0887\"],[0.1111111111111111,\"#46039f\"],[0.2222222222222222,\"#7201a8\"],[0.3333333333333333,\"#9c179e\"],[0.4444444444444444,\"#bd3786\"],[0.5555555555555556,\"#d8576b\"],[0.6666666666666666,\"#ed7953\"],[0.7777777777777778,\"#fb9f3a\"],[0.8888888888888888,\"#fdca26\"],[1.0,\"#f0f921\"]]},\"colorway\":[\"#636efa\",\"#EF553B\",\"#00cc96\",\"#ab63fa\",\"#FFA15A\",\"#19d3f3\",\"#FF6692\",\"#B6E880\",\"#FF97FF\",\"#FECB52\"],\"font\":{\"color\":\"#2a3f5f\"},\"geo\":{\"bgcolor\":\"white\",\"lakecolor\":\"white\",\"landcolor\":\"#E5ECF6\",\"showlakes\":true,\"showland\":true,\"subunitcolor\":\"white\"},\"hoverlabel\":{\"align\":\"left\"},\"hovermode\":\"closest\",\"mapbox\":{\"style\":\"light\"},\"paper_bgcolor\":\"white\",\"plot_bgcolor\":\"#E5ECF6\",\"polar\":{\"angularaxis\":{\"gridcolor\":\"white\",\"linecolor\":\"white\",\"ticks\":\"\"},\"bgcolor\":\"#E5ECF6\",\"radialaxis\":{\"gridcolor\":\"white\",\"linecolor\":\"white\",\"ticks\":\"\"}},\"scene\":{\"xaxis\":{\"backgroundcolor\":\"#E5ECF6\",\"gridcolor\":\"white\",\"gridwidth\":2,\"linecolor\":\"white\",\"showbackground\":true,\"ticks\":\"\",\"zerolinecolor\":\"white\"},\"yaxis\":{\"backgroundcolor\":\"#E5ECF6\",\"gridcolor\":\"white\",\"gridwidth\":2,\"linecolor\":\"white\",\"showbackground\":true,\"ticks\":\"\",\"zerolinecolor\":\"white\"},\"zaxis\":{\"backgroundcolor\":\"#E5ECF6\",\"gridcolor\":\"white\",\"gridwidth\":2,\"linecolor\":\"white\",\"showbackground\":true,\"ticks\":\"\",\"zerolinecolor\":\"white\"}},\"shapedefaults\":{\"line\":{\"color\":\"#2a3f5f\"}},\"ternary\":{\"aaxis\":{\"gridcolor\":\"white\",\"linecolor\":\"white\",\"ticks\":\"\"},\"baxis\":{\"gridcolor\":\"white\",\"linecolor\":\"white\",\"ticks\":\"\"},\"bgcolor\":\"#E5ECF6\",\"caxis\":{\"gridcolor\":\"white\",\"linecolor\":\"white\",\"ticks\":\"\"}},\"title\":{\"x\":0.05},\"xaxis\":{\"automargin\":true,\"gridcolor\":\"white\",\"linecolor\":\"white\",\"ticks\":\"\",\"title\":{\"standoff\":15},\"zerolinecolor\":\"white\",\"zerolinewidth\":2},\"yaxis\":{\"automargin\":true,\"gridcolor\":\"white\",\"linecolor\":\"white\",\"ticks\":\"\",\"title\":{\"standoff\":15},\"zerolinecolor\":\"white\",\"zerolinewidth\":2}}}},                        {\"responsive\": true}                    ).then(function(){\n",
              "                            \n",
              "var gd = document.getElementById('49901f9f-c111-4701-98b5-43dd60cc99d0');\n",
              "var x = new MutationObserver(function (mutations, observer) {{\n",
              "        var display = window.getComputedStyle(gd).display;\n",
              "        if (!display || display === 'none') {{\n",
              "            console.log([gd, 'removed!']);\n",
              "            Plotly.purge(gd);\n",
              "            observer.disconnect();\n",
              "        }}\n",
              "}});\n",
              "\n",
              "// Listen for the removal of the full notebook cells\n",
              "var notebookContainer = gd.closest('#notebook-container');\n",
              "if (notebookContainer) {{\n",
              "    x.observe(notebookContainer, {childList: true});\n",
              "}}\n",
              "\n",
              "// Listen for the clearing of the current output cell\n",
              "var outputEl = gd.closest('.output');\n",
              "if (outputEl) {{\n",
              "    x.observe(outputEl, {childList: true});\n",
              "}}\n",
              "\n",
              "                        })                };                            </script>        </div>\n",
              "</body>\n",
              "</html>"
            ]
          },
          "metadata": {}
        }
      ],
      "source": [
        "#Visualize empirical distribution function\n",
        "optuna.visualization.plot_edf(study)"
      ]
    },
    {
      "cell_type": "markdown",
      "metadata": {
        "id": "l_2gYA7SCC36"
      },
      "source": [
        "## TEST SET"
      ]
    },
    {
      "cell_type": "code",
      "execution_count": null,
      "metadata": {
        "colab": {
          "base_uri": "https://localhost:8080/"
        },
        "id": "FnGsardiCC36",
        "outputId": "e1499013-f09c-4983-fae1-bfddc73b0502"
      },
      "outputs": [
        {
          "output_type": "stream",
          "name": "stdout",
          "text": [
            "Best trial: {'sample_type': 'uniform', 'normalize_type': 'forest', 'rate_drop': 0.0033681936632674442, 'one_drop': 0, 'lambda': 0.0013776246362593974, 'alpha': 0.009577373870014602, 'colsample_bytree': 0.3, 'subsample': 0.7, 'learning_rate': 0.009, 'n_estimators': 1000, 'max_depth': 13, 'random_state': 24, 'min_child_weight': 6}\n"
          ]
        }
      ],
      "source": [
        "print('Best trial:', study.best_trial.params)"
      ]
    },
    {
      "cell_type": "code",
      "source": [
        "# Final model\n",
        "\n",
        "XGB_model = xgb.XGBRegressor( **study.best_trial.params)\n",
        "XGB_model.fit(X_train, y_train)"
      ],
      "metadata": {
        "colab": {
          "base_uri": "https://localhost:8080/"
        },
        "id": "RLSs4wDy6boO",
        "outputId": "2c57ddb7-48f3-4e26-b201-337fedc69b68"
      },
      "execution_count": null,
      "outputs": [
        {
          "output_type": "stream",
          "name": "stdout",
          "text": [
            "[23:46:21] WARNING: /workspace/src/objective/regression_obj.cu:152: reg:linear is now deprecated in favor of reg:squarederror.\n"
          ]
        },
        {
          "output_type": "execute_result",
          "data": {
            "text/plain": [
              "XGBRegressor(alpha=0.009577373870014602, colsample_bytree=0.3,\n",
              "             lambda=0.0013776246362593974, learning_rate=0.009, max_depth=13,\n",
              "             min_child_weight=6, n_estimators=1000, normalize_type='forest',\n",
              "             one_drop=0, random_state=24, rate_drop=0.0033681936632674442,\n",
              "             sample_type='uniform', subsample=0.7)"
            ]
          },
          "metadata": {},
          "execution_count": 29
        }
      ]
    },
    {
      "cell_type": "code",
      "execution_count": null,
      "metadata": {
        "colab": {
          "base_uri": "https://localhost:8080/"
        },
        "id": "hwY9vqztCC37",
        "outputId": "275b3b06-1517-4f69-ea31-8f3e79ff97eb"
      },
      "outputs": [
        {
          "output_type": "stream",
          "name": "stdout",
          "text": [
            "El MSE obtenido con val_scores es: 0.032339657031884274\n",
            "El MAE obtenido con val_scores es: 0.021191131551880987\n",
            "El EVS obtenido con val_scores es: 0.8996531653028376\n",
            "El R2 obtenido con val_scores es: 0.89961316875221\n"
          ]
        },
        {
          "output_type": "execute_result",
          "data": {
            "text/plain": [
              "['val_scores',\n",
              " 0.032339657031884274,\n",
              " 0.021191131551880987,\n",
              " 0.8996531653028376,\n",
              " 0.89961316875221]"
            ]
          },
          "metadata": {},
          "execution_count": 30
        }
      ],
      "source": [
        "y_pred_val = XGB_model.predict(X_val)\n",
        "get_metrics(y_val, y_pred_val, 'val_scores')"
      ]
    },
    {
      "cell_type": "code",
      "execution_count": null,
      "metadata": {
        "colab": {
          "base_uri": "https://localhost:8080/"
        },
        "id": "oLGm6esmCC37",
        "outputId": "8cd8c707-3e64-4547-f434-22d3f799862b"
      },
      "outputs": [
        {
          "output_type": "stream",
          "name": "stdout",
          "text": [
            "El MSE obtenido con val_scores es: 0.044016669622910766\n",
            "El MAE obtenido con val_scores es: 0.035231111912300064\n",
            "El EVS obtenido con val_scores es: 0.4265072914699941\n",
            "El R2 obtenido con val_scores es: 0.4188142857727898\n"
          ]
        },
        {
          "output_type": "execute_result",
          "data": {
            "text/plain": [
              "['val_scores',\n",
              " 0.044016669622910766,\n",
              " 0.035231111912300064,\n",
              " 0.4265072914699941,\n",
              " 0.4188142857727898]"
            ]
          },
          "metadata": {},
          "execution_count": 31
        }
      ],
      "source": [
        "y_pred_test = XGB_model.predict(X_test)\n",
        "get_metrics(y_test, y_pred_test, 'val_scores')"
      ]
    },
    {
      "cell_type": "code",
      "execution_count": null,
      "metadata": {
        "id": "I9-uIr9XCC37"
      },
      "outputs": [],
      "source": [
        "column_names = ['y_ACT', 'y_FUT_30', 'XGB DART FT']\n",
        "test_pred_DF = pd.DataFrame(columns = column_names)\n",
        "\n",
        "test_pred_DF['y_ACT'] = X_test['MG_NIR_Salida_Ext']\n",
        "test_pred_DF['y_FUT_30'] = y_test\n",
        "test_pred_DF['XGB DART FT'] = XGB_model.predict(X_test)"
      ]
    },
    {
      "cell_type": "code",
      "execution_count": null,
      "metadata": {
        "colab": {
          "base_uri": "https://localhost:8080/",
          "height": 542
        },
        "id": "FlVXpUqfCC38",
        "outputId": "21477df0-cb03-4c92-fc70-54d20f2a583e"
      },
      "outputs": [
        {
          "output_type": "display_data",
          "data": {
            "text/html": [
              "<html>\n",
              "<head><meta charset=\"utf-8\" /></head>\n",
              "<body>\n",
              "    <div>            <script src=\"https://cdnjs.cloudflare.com/ajax/libs/mathjax/2.7.5/MathJax.js?config=TeX-AMS-MML_SVG\"></script><script type=\"text/javascript\">if (window.MathJax) {MathJax.Hub.Config({SVG: {font: \"STIX-Web\"}});}</script>                <script type=\"text/javascript\">window.PlotlyConfig = {MathJaxConfig: 'local'};</script>\n",
              "        <script src=\"https://cdn.plot.ly/plotly-2.8.3.min.js\"></script>                <div id=\"703f1d0e-8efb-4628-ba99-d65ac4659f49\" class=\"plotly-graph-div\" style=\"height:525px; width:100%;\"></div>            <script type=\"text/javascript\">                                    window.PLOTLYENV=window.PLOTLYENV || {};                                    if (document.getElementById(\"703f1d0e-8efb-4628-ba99-d65ac4659f49\")) {                    Plotly.newPlot(                        \"703f1d0e-8efb-4628-ba99-d65ac4659f49\",                        [{\"hovertemplate\":\"variable=y_ACT<br>index=%{x}<br>value=%{y}<extra></extra>\",\"legendgroup\":\"y_ACT\",\"line\":{\"color\":\"#636efa\",\"dash\":\"solid\"},\"marker\":{\"symbol\":\"circle\"},\"mode\":\"lines\",\"name\":\"y_ACT\",\"showlegend\":true,\"x\":[0,1,2,3,4,5,6,7,8,9,10,11,12,13,14,15,16,17,18,19,20,21,22,23,24,25,26,27,28,29,30,31,32,33,34,35,36,37,38,39,40,41,42,43,44,45,46,47,48,49,50,51,52,53,54,55,56,57,58,59,60,61,62,63,64,65,66,67,68,69,70,71,72,73,74,75,76,77,78,79,80,81,82,83,84,85,86,87,88,89,90,91,92,93,94,95,96,97,98,99,100,101,102,103,104,105,106,107,108,109,110,111,112,113,114,115,116,117,118,119,120,121,122,123,124,125,126,127,128,129,130,131,132,133,134,135,136,137,138,139,140,141,142,143,144,145,146,147,148,149,150,151,152,153,154,155,156,157,158,159,160,161,162,163,164,165,166,167,168,169,170,171,172,173,174,175,176,177,178,179,180,181,182,183,184,185,186,187,188,189,190,191,192,193,194,195,196,197,198,199,200,201,202,203,204,205,206,207,208,209,210,211,212,213,214,215,216,217,218,219,220,221,222,223,224,225,226,227,228,229,230,231,232,233,234,235,236,237,238,239,240,241,242,243,244,245,246,247,248,249,250,251,252,253,254,255,256,257,258,259,260,261,262,263,264,265,266,267,268,269,270,271,272,273,274,275,276,277,278,279,280,281,282,283,284,285,286,287,288,289,290,291,292,293,294,295,296,297,298,299,300,301,302,303,304,305,306,307,308,309,310,311,312,313,314,315,316,317,318,319,320,321,322,323,324,325,326,327,328,329,330,331,332,333,334,335,336,337,338,339,340,341,342,343,344,345,346,347,348,349,350,351,352,353,354,355,356,357,358,359,360,361,362,363,364,365,366,367,368,369,370,371,372,373,374,375,376,377,378,379,380,381,382,383,384,385,386,387,388,389,390,391,392,393,394,395,396,397,398,399,400,401,402,403,404,405,406,407,408,409,410,411,412,413,414,415,416,417,418,419,420,421,422,423,424,425,426,427,428,429,430,431,432,433,434,435,436,437,438,439,440,441,442,443,444,445,446,447,448,449,450,451,452,453,454,455,456,457,458,459,460,461,462,463,464,465,466,467,468,469,470,471,472,473,474,475,476,477,478,479,480,481,482,483,484,485,486,487,488,489,490,491,492,493,494,495,496,497,498,499,500,501,502,503,504,505,506,507,508,509,510,511,512,513,514,515,516,517,518,519,520,521,522,523,524,525,526,527,528,529,530,531,532,533,534,535,536,537,538,539,540,541,542,543,544,545,546,547,548,549,550,551,552,553,554,555,556,557,558,559,560,561,562,563,564,565,566,567,568,569,570,571,572,573,574,575,576,577,578,579,580,581,582,583,584,585,586,587,588,589,590,591,592,593,594,595,596,597,598,599,600,601,602,603,604,605,606,607,608,609,610,611,612,613,614,615,616,617,618,619,620,621,622,623,624,625,626,627,628,629,630,631,632,633,634,635,636,637,638,639,640,641,642,643,644,645,646,647,648,649,650,651,652,653,654,655,656,657,658,659,660,661,662,663,664,665,666,667,668,669,670,671,672,673,674,675,676,677,678,679,680,681,682,683,684,685,686,687,688,689,690,691,692,693,694,695,696,697,698,699,700,701,702,703,704,705,706,707,708,709,710,711,712,713,714,715,716,717,718,719,720,721,722,723,724,725,726,727,728,729,730,731,732,733,734,735,736,737,738,739,740,741,742,743,744,745,746,747,748,749,750,751,752,753,754,755,756,757,758,759,760,761,762,763,764,765,766,767,768,769,770,771,772,773,774,775,776,777,778,779,780,781,782,783,784,785,786,787,788,789,790,791,792,793,794,795,796,797,798,799,800,801,802,803,804,805,806,807,808,809,810,811,812,813,814,815,816,817,818,819,820,821,822,823,824,825,826,827,828,829,830,831,832,833,834,835,836,837,838,839,840,841,842,843,844,845,846,847,848,849,850,851,852,853,854,855,856,857,858,859,860,861,862,863,864,865,866,867,868,869,870,871,872,873,874,875,876,877,878,879,880,881,882,883,884,885,886,887,888,889,890,891,892,893,894,895],\"xaxis\":\"x\",\"y\":[0.5612907068894525,0.48472640279440615,0.49805729164092516,0.5139550434523287,0.49912694678167996,0.49279919185479093,0.5027194283854731,0.4845620081471204,0.46738998091796674,0.4595973809474599,0.465024604774852,0.4917903428519365,0.5075788274347995,0.5112889388479415,0.49641418071386867,0.5085807882379304,0.5240782235091892,0.5355166185104977,0.5427167414689277,0.5536207322769416,0.5647607471626953,0.5743269146913644,0.6040806456647254,0.6171900551339718,0.6076192556762787,0.5948301116466144,0.6108010549886792,0.5969875809648414,0.573332595443307,0.5681908777023448,0.5698031148418372,0.546210591479966,0.5152126200029498,0.5251086312374037,0.5161360638544161,0.5296188417088877,0.559483727760622,0.5593403374949738,0.5837166246276299,0.5950294245357286,0.6074872020485843,0.6009740697050721,0.6368148322683436,0.6675266401153319,0.6874582860814802,0.6724257755080743,0.6379265186551798,0.667877076114071,0.6869283672303075,0.7006173832400081,0.6977290158122667,0.6852975209079599,0.6627268395749859,0.562408913499592,0.567140144672364,0.5578084233161639,0.5685689906025949,0.5546302151054022,0.5641929891621386,0.5571690072182626,0.5399863836026902,0.5429993103626766,0.5376175365649082,0.5415451043423196,0.5272093364344528,0.5306314147177904,0.5278321458410439,0.539479653510068,0.5402070757624351,0.5271937371134842,0.5293683081619276,0.5183983094539178,0.522357751537671,0.5400317972540213,0.5544937528919682,0.5485800479036315,0.5586936387084912,0.5607783851188668,0.5673423370914037,0.5545016090659587,0.5465018873395637,0.5490411529926583,0.5477649695329477,0.5440493771329786,0.547798021022481,0.5094789965405143,0.5204032781876682,0.5142994615074961,0.5428939539745661,0.5273930214608584,0.5327960223539195,0.5362465966262182,0.5308758513681949,0.5206336194322346,0.5185417727966315,0.5235785810325717,0.5312609116457558,0.5232593419166817,0.5218143759632387,0.5079090915779152,0.4960568294303667,0.508258544708233,0.5045652480908285,0.5071600213177646,0.5283416725866987,0.5647409447867835,0.5611258759016925,0.5538049030327309,0.5403694927818928,0.5274654542205939,0.5261210288563576,0.5167302210816345,0.5272773658646429,0.5287166765568801,0.589301351559462,0.633231349233277,0.6450803065283063,0.5107991413823687,0.5088684915680847,0.4996013141724749,0.5054898740507608,0.49963551462536276,0.5115905196852838,0.5149849732618174,0.49837815441979905,0.48260836493694986,0.4864929496665829,0.4821225936752487,0.5011824045490794,0.482942663397429,0.48413369492705066,0.4733868315038168,0.4777686874835829,0.48178761425273203,0.48868826357689155,0.47067437178505783,0.47646430705831383,0.47258933990672347,0.4589066189298751,0.4630993600168082,0.46913729910136537,0.4770362850095871,0.4652537854006476,0.47202039188241773,0.5357038938895412,0.5159100167808739,0.5185886517963051,0.5117733030239994,0.5096116706663255,0.5073961345568617,0.5121176873089895,0.4974182480157955,0.4947885319666626,0.48050677982446965,0.4776340686214619,0.47152030116423493,0.4529814926148537,0.44945395372713054,0.4554154902759687,0.44926885440368597,0.45674585470091084,0.4534237641879515,0.4545525824287878,0.46556854864142794,0.4663327828585512,0.45982049838690847,0.44368209795229574,0.443687725304703,0.44274697800520524,0.5159671394555927,0.5362534046151943,0.5192289283200492,0.5109987147936831,0.4991771627468118,0.5013222273214888,0.48460553983881977,0.4679874424462839,0.4648079955755311,0.482877205137811,0.4760059520844366,0.45808239188193073,0.45633585305798974,0.4557413713188969,0.46422727317470824,0.47194175984529985,0.48423273822585894,0.4816706399488964,0.45770769154847096,0.47074748416918577,0.5041097623604605,0.48316376167565916,0.4920178875824528,0.47445269474860985,0.4998024812106089,0.5104658859251827,0.5190286795829393,0.5249425121708151,0.5250369234558296,0.524065175403076,0.5223512711326004,0.526393354421027,0.5183999289351863,0.5108458168281738,0.5025241424526617,0.5052603430346078,0.5706692272796937,0.5637413855657495,0.5443330503510879,0.5500161934279202,0.5460511804270943,0.5382974521526552,0.5617592941949278,0.5727216953464688,0.5804867669026519,0.579279147000836,0.5864795517528479,0.5933065029180149,0.5883944860108771,0.5818873463535834,0.5748847506453596,0.5772592439135009,0.5736360397949763,0.5793327889607655,0.559281871406747,0.5424169623571214,0.6193379891971684,0.626844005436471,0.6399732899563687,0.6119154409979829,0.5919384659704224,0.6139752046201091,0.6220561103868859,0.6230272757551252,0.619143352258196,0.6097017127010737,0.6161296575223097,0.6224274008064715,0.6348110064014787,0.6129894386830168,0.6086015573420652,0.6082552593629161,0.6231258422840924,0.620398556327458,0.6030025404556383,0.6120785974522729,0.6143425955047214,0.5959435741399095,0.5957818010820931,0.6022996543934984,0.6026823439996176,0.6036331414350782,0.5876368308767285,0.5816856387588963,0.5665921923610222,0.5759282775136572,0.5794687480595109,0.5794385752671267,0.5890976982495019,0.5757848608189928,0.5575679670725762,0.5537349716590206,0.5546341089256946,0.5652530386994549,0.5348511171886128,0.5289908087709652,0.5491218499009847,0.5388625834383765,0.5305646590025315,0.5270728606057112,0.536764527683765,0.5350289828053933,0.5409470984858381,0.5447794266360299,0.5337889841638296,0.5259467526056159,0.5170019609455346,0.5240238159401613,0.5106023167388853,0.5032468092911533,0.5079303355562933,0.4979983306101601,0.5067232365038566,0.49724243133263435,0.4860099649765631,0.4844448310000938,0.48725609871137165,0.47068323728243383,0.5377570744610493,0.539685687017075,0.5328445712093983,0.5585352432871602,0.5605363409244352,0.5647346408408433,0.5523107271211033,0.5701183871959756,0.579145810483471,0.5725093446556199,0.5877209660096495,0.5826452433086231,0.5790941479183125,0.5614441016199256,0.5776210303016853,0.5877133657619648,0.5965663551450142,0.5603878410474816,0.5663204541529843,0.552935703191056,0.5713766567213937,0.5717222718617062,0.5711676528267496,0.5613597910635596,0.5546613748673107,0.5620603388712334,0.5487385622399658,0.5298530586224762,0.5208649623193393,0.512214360092998,0.5097268483732055,0.48632295518878665,0.49948457869606255,0.48338157695868234,0.4785767474065516,0.4795658611542212,0.4688304976552746,0.4872235355226383,0.478198673785924,0.48500821061887905,0.4845490632756716,0.5050994669167753,0.5117730334456471,0.5143740349333263,0.5062679522138943,0.5176881386453202,0.5200117181874905,0.5216500565878975,0.5233022856818551,0.5258137256191292,0.5167071460346524,0.510867453219325,0.5045836865566731,0.502548405553702,0.5005194421454422,0.49177378678422556,0.48430249319500834,0.4645817728548009,0.4678215197709615,0.4764370395828216,0.46659669422580996,0.4600997696521559,0.4578406858350259,0.477868525574189,0.4777367741291255,0.4989670793390725,0.4812493538064154,0.48078903619797037,0.4843865072497349,0.48386315255752566,0.4580308401352354,0.46598278498197504,0.46689291565648383,0.4564142643615616,0.46876729307652604,0.46354367054809237,0.4669665272706284,0.46764486081131196,0.4620846669320903,0.45520513027587955,0.45174917231344125,0.46249003382514636,0.4539741775301092,0.44923250719614993,0.4407640250226045,0.4413263548079319,0.42379161718623454,0.43399032418018324,0.4266117190861929,0.44314032789987023,0.44925221559606543,0.4628715185370077,0.4703858367442452,0.4807617817326359,0.4886212708612528,0.5076596667560292,0.5194246922514211,0.538673475521351,0.5518189974530492,0.5546777160080716,0.5647498813715929,0.5735478961843827,0.5764165124883974,0.5746526266972041,0.5931362806643572,0.537868827784393,0.5022198885560876,0.5108651231905372,0.5153466920024038,0.522619564173113,0.5183817937818054,0.5021802567225145,0.5079974086049809,0.5222017435718508,0.5307891925545521,0.5507328702544046,0.5469303658707633,0.5649281676465796,0.5687318685685603,0.5734058812587545,0.5758817599580497,0.5720697072002867,0.5837721697268954,0.5135704289827298,0.5048521574794694,0.5077202998260049,0.49188956945401296,0.49544900364560257,0.5076069497306964,0.5156604855081866,0.5188379191867053,0.5227522026412927,0.5194280218165778,0.547785822074937,0.5382785100735106,0.5731423776576055,0.5829273588284479,0.597671563167965,0.587651707043203,0.602839733741756,0.5943109837858978,0.598071953638932,0.6118009518665525,0.6099004632699024,0.5926749962640515,0.5673481989959046,0.5534641502027772,0.5686126495015603,0.5678262627280032,0.5702643285692269,0.5619436505228758,0.5810927939679982,0.5712210176147334,0.571092342248822,0.567195021274677,0.5890068759776989,0.5808918028688176,0.5717817364012949,0.5817877819248471,0.5927406735115107,0.5975798306017868,0.5956429068221827,0.5978388602495981,0.5876529677905129,0.5903596007199337,0.5907302868106361,0.5976425914212834,0.584257136094708,0.5977134314712016,0.6094218394537017,0.6136953277997677,0.6088518441155807,0.6147107817760549,0.6024719583262358,0.6174715681107346,0.6293203420273799,0.6278709371943277,0.6554453851844605,0.5748493028300903,0.5808079208879615,0.5915562278122017,0.6057825484355422,0.6021160127760782,0.5916052276152468,0.5795920452178438,0.5927986579641874,0.5886317964733635,0.5859243393862875,0.5860251515202659,0.5892424806096244,0.6087150900740073,0.6180976126232238,0.6289488260119446,0.6163660014638054,0.6161733858569981,0.6210996362590434,0.6233968302983733,0.6359930146064784,0.6335501552187239,0.633535726321419,0.6203187857181611,0.5614074619247129,0.5753264590817772,0.5425505293270491,0.5382714541194067,0.540586899477855,0.576879046525363,0.5878752386149745,0.5803798773206393,0.5739184975408788,0.5682092469740188,0.581901304038255,0.5795858498529386,0.5811934584716275,0.5746270082609499,0.5831940671910056,0.5967297391268523,0.6004823969687413,0.6071131356395745,0.5958132181548395,0.59105962125295,0.5936286802034862,0.6091535277180894,0.5934409733078405,0.6115389343788764,0.6119147586898023,0.6204912937567941,0.6325807756627366,0.6201229904076243,0.6087015995872297,0.6177279654538286,0.6076430450841068,0.6153906741177206,0.6291394889103822,0.6201918669219817,0.6538317338152965,0.641116710740146,0.662313203893168,0.5752706726574425,0.5876320126765413,0.5699300782641996,0.5671951941054857,0.5624170409841432,0.5638731565031465,0.5535697891893493,0.5496396544880735,0.5313722787032731,0.5322354402056999,0.5204767580553098,0.519765347421315,0.5248074124396006,0.5197973687184319,0.521945829084959,0.5240175811594304,0.5268979199730469,0.5217537201649476,0.5418012586703449,0.5384048101679113,0.5466806073468575,0.5253912651026588,0.5462107814867724,0.5587046252621715,0.5459719486627534,0.5689714231898918,0.5661232900309962,0.5878007773913398,0.5800977594085241,0.5705085176135604,0.5564278646014642,0.5768636472896146,0.5816295272923504,0.5673059913706324,0.5708502926081227,0.5478675937412754,0.5462469357261578,0.5475309905628087,0.5579176078319371,0.5546606484271107,0.5513601763626799,0.5455041736997509,0.5408198919501497,0.5381462665006784,0.5526479411261563,0.5638380871156565,0.5818181657866788,0.5785114947058484,0.5691094420425374,0.5294723724853767,0.5398132420769928,0.5130916647940678,0.5283073078810188,0.5363262120793729,0.5292585249946341,0.522113304717532,0.5289607835983655,0.5423608815743788,0.5403697785716408,0.5405463127342321,0.5365758236604611,0.5309104905886928,0.5278043499510221,0.5098766037057098,0.515353173030043,0.5116980544399862,0.48922747574714687,0.4891688596458771,0.47348146933542357,0.49093495551831806,0.5039976737059259,0.5167789766227505,0.5134903538115909,0.5193395358878179,0.5244396711890675,0.5163247683139823,0.5177514569029817,0.5326811441238642,0.5239759002031081,0.5125597654665174,0.5271695816345681,0.5244525283505036,0.5075733521612334,0.5045634806593944,0.5070494117993618,0.5314060013208137,0.5225301335306868,0.5225156348864188,0.503352538066901,0.5177916622876463,0.5233141124827319,0.5427613473366789,0.528885025609095,0.5307717356986901,0.5232629170713274,0.531587276587724,0.5208201035345651,0.5677823238540902,0.5929718053769578,0.6337550176574248,0.6382951488171142,0.653620742571345,0.6523073286948714,0.6521142588919826,0.654334003096563,0.6226715618193958,0.6297758853935933,0.6270409080659056,0.6068727089851128,0.6087517416217086,0.5910561010017568,0.6070916038634737,0.5946492131075761,0.6049909136122268,0.5888000796603534,0.5981355384784629,0.5815735765613979,0.6029423911104234,0.6117940823115572,0.5963311839650693,0.6009694137434539,0.5715694667180674,0.5665804803851738,0.5815728108592484,0.5549157906424487,0.543624811183878,0.5509640120516329,0.5541868332696669,0.5697102083956613,0.5710386784348503,0.5816854901935737,0.5800237719057587,0.5947774069258562,0.5963097765165238,0.6027502545753494,0.6055036914693116,0.5913300053251885,0.6161952840538081,0.5978492950047363,0.5876337420996369,0.5674121682764619,0.5743245621389392,0.5782292535545985,0.5621530598262772,0.5651229744189761,0.5529963609128851,0.582588863826599,0.5818078263239268,0.5977750910683067,0.5864957853411394,0.6059660223047385,0.6150597038327577,0.6103566235529346,0.6062410775195299,0.5962024268940787,0.5848413766802221,0.581597839545392,0.5693072664305389,0.590469698512202,0.5839799560982828,0.596210916592962,0.5721714617125089,0.6018273071918088,0.5824341938641588,0.5959278130179906,0.5850482981922922,0.5926008907371808,0.5800171960862702,0.584425562258987,0.5795828586482579,0.5722729935165088,0.5714890401430988,0.5749666351104042,0.5724654822292693,0.5843649531010012,0.5756902850531659,0.5794474350601535,0.5663020372042677,0.5763408475581548,0.5560819993704733,0.56171785500781,0.5514210475188956,0.5656574393483695,0.5148306706710335,0.527492823203808,0.5144049992090338,0.5087768362040737,0.6394368227656412,0.6316313681133058,0.639534313359545,0.6259842129536963,0.6410045858742773,0.6171998712404275,0.6255080363691538,0.6116682678507048,0.6018563717233172,0.5745006965029422,0.5545776421983193,0.5465775215099562,0.5446756660983176,0.5365927900600338,0.5427347643776895,0.5432621391128217,0.5520716419622309,0.5632636483199892,0.5503299068433853,0.5591821449689683,0.518361797187886,0.554135610385303,0.5335131600493123,0.5642677943328437,0.555428742137167,0.5332461755169916,0.5102875381498531,0.5088340572589459,0.508224172493604,0.4964965896752001,0.4842282949150779,0.5439396418236856,0.539462107333678,0.49070274835358463,0.4604662836770328,0.5352452001261075,0.5623088520458503,0.5352681455788415,0.5367535784205998,0.5049101771415954,0.510497562663571,0.5067939257413884,0.5055191889781246,0.49824501516635417,0.5041724311305104,0.5088891454621786,0.48082736688311106,0.4646498288595142,0.4586798887977331,0.456113113214665,0.4487460027710949,0.44273825507468206,0.4574521108348164,0.4648192924240581,0.4642691323099199,0.4457790078542848,0.4426153475920557,0.4379757807057634,0.4379126630072744,0.5325951196794931,0.5248586677410167,0.5123220122394233,0.4986680525347075,0.5143482409147545,0.49028858434842826,0.49645940734010685,0.4764778519978583,0.48811031019317913,0.49943604968531863,0.4999211977671129,0.5184126406077909,0.5298368630944739,0.5097957698630172,0.5005727508851344,0.4885776811316267,0.4844398098522624,0.4493441666539703,0.42069293078249914,0.437922236583383,0.4516083079658776,0.4329192057798465,0.4363829318343693,0.43939314286339803,0.4348505989144979,0.4294377554757116,0.4244515334103987,0.42184227615652203,0.46639307999812657,0.46996149622278777,0.45578895241428,0.4429874382457972,0.4324383373188705,0.43222983333184084,0.4289755707076018,0.43626495249699526,0.43635802601911555,0.42713762692108165,0.42183868528181573,0.42610373470730156,0.4459687092282721,0.46418211784386515,0.46771783627619035,0.4857477843249549,0.49521194425344517,0.4842701563013303,0.5165187431668077,0.4709019544281399,0.46984342344068825,0.4723711260801334,0.48756762912740176,0.4815475120670361,0.48134147759442797,0.47733923274228146,0.4869844476909214,0.47974688642154895,0.47725791895704006,0.5092805774013607,0.5291456029318167,0.5503339124379438,0.5673104616695523,0.5738889115465184,0.5835389759279956,0.5920495945889364,0.5920270082871871,0.5907494006959635,0.5982451143333933,0.5077070556900394,0.5062911511195651,0.4934306938344623,0.4798095335863275,0.4793537234063986,0.4710161703682889,0.47962421522982185,0.5089311933629944,0.5079715117927913,0.4907708893737491,0.4716569328981192,0.46646214326857816,0.45697967749989604,0.44424287149179426,0.4296668807859698,0.42160790168114315,0.431603228275178,0.43001309883686073,0.419862482879078,0.4270652579484558,0.4361827596528669,0.4490716774877847,0.45898814753895195,0.4476150892344017,0.45910334171567396,0.45665318242719427,0.45566846145465223,0.4406272861159696,0.445676398800394,0.45986927665327676,0.4705892905166391,0.47513595837508915,0.4501136605647709,0.4645885694371712,0.46934375802154255,0.4642070046305245,0.4491499446782147,0.4492938230732412,0.4438351179162816,0.4360524776114051,0.4102211186338378,0.40816435571587073,0.4194662141944574,0.42339138837269286,0.41841014468422655,0.41634806111630224,0.39465201751103146,0.3890677268633047,0.3685562605754573,0.36825541288419006,0.3624425823475358,0.32756716940906017,0.43903871599214694,0.45281652488516894,0.4450354766848171,0.4262812638935778,0.42555857227422755,0.43956560657915694],\"yaxis\":\"y\",\"type\":\"scattergl\"},{\"hovertemplate\":\"variable=y_FUT_30<br>index=%{x}<br>value=%{y}<extra></extra>\",\"legendgroup\":\"y_FUT_30\",\"line\":{\"color\":\"#EF553B\",\"dash\":\"solid\"},\"marker\":{\"symbol\":\"circle\"},\"mode\":\"lines\",\"name\":\"y_FUT_30\",\"showlegend\":true,\"x\":[0,1,2,3,4,5,6,7,8,9,10,11,12,13,14,15,16,17,18,19,20,21,22,23,24,25,26,27,28,29,30,31,32,33,34,35,36,37,38,39,40,41,42,43,44,45,46,47,48,49,50,51,52,53,54,55,56,57,58,59,60,61,62,63,64,65,66,67,68,69,70,71,72,73,74,75,76,77,78,79,80,81,82,83,84,85,86,87,88,89,90,91,92,93,94,95,96,97,98,99,100,101,102,103,104,105,106,107,108,109,110,111,112,113,114,115,116,117,118,119,120,121,122,123,124,125,126,127,128,129,130,131,132,133,134,135,136,137,138,139,140,141,142,143,144,145,146,147,148,149,150,151,152,153,154,155,156,157,158,159,160,161,162,163,164,165,166,167,168,169,170,171,172,173,174,175,176,177,178,179,180,181,182,183,184,185,186,187,188,189,190,191,192,193,194,195,196,197,198,199,200,201,202,203,204,205,206,207,208,209,210,211,212,213,214,215,216,217,218,219,220,221,222,223,224,225,226,227,228,229,230,231,232,233,234,235,236,237,238,239,240,241,242,243,244,245,246,247,248,249,250,251,252,253,254,255,256,257,258,259,260,261,262,263,264,265,266,267,268,269,270,271,272,273,274,275,276,277,278,279,280,281,282,283,284,285,286,287,288,289,290,291,292,293,294,295,296,297,298,299,300,301,302,303,304,305,306,307,308,309,310,311,312,313,314,315,316,317,318,319,320,321,322,323,324,325,326,327,328,329,330,331,332,333,334,335,336,337,338,339,340,341,342,343,344,345,346,347,348,349,350,351,352,353,354,355,356,357,358,359,360,361,362,363,364,365,366,367,368,369,370,371,372,373,374,375,376,377,378,379,380,381,382,383,384,385,386,387,388,389,390,391,392,393,394,395,396,397,398,399,400,401,402,403,404,405,406,407,408,409,410,411,412,413,414,415,416,417,418,419,420,421,422,423,424,425,426,427,428,429,430,431,432,433,434,435,436,437,438,439,440,441,442,443,444,445,446,447,448,449,450,451,452,453,454,455,456,457,458,459,460,461,462,463,464,465,466,467,468,469,470,471,472,473,474,475,476,477,478,479,480,481,482,483,484,485,486,487,488,489,490,491,492,493,494,495,496,497,498,499,500,501,502,503,504,505,506,507,508,509,510,511,512,513,514,515,516,517,518,519,520,521,522,523,524,525,526,527,528,529,530,531,532,533,534,535,536,537,538,539,540,541,542,543,544,545,546,547,548,549,550,551,552,553,554,555,556,557,558,559,560,561,562,563,564,565,566,567,568,569,570,571,572,573,574,575,576,577,578,579,580,581,582,583,584,585,586,587,588,589,590,591,592,593,594,595,596,597,598,599,600,601,602,603,604,605,606,607,608,609,610,611,612,613,614,615,616,617,618,619,620,621,622,623,624,625,626,627,628,629,630,631,632,633,634,635,636,637,638,639,640,641,642,643,644,645,646,647,648,649,650,651,652,653,654,655,656,657,658,659,660,661,662,663,664,665,666,667,668,669,670,671,672,673,674,675,676,677,678,679,680,681,682,683,684,685,686,687,688,689,690,691,692,693,694,695,696,697,698,699,700,701,702,703,704,705,706,707,708,709,710,711,712,713,714,715,716,717,718,719,720,721,722,723,724,725,726,727,728,729,730,731,732,733,734,735,736,737,738,739,740,741,742,743,744,745,746,747,748,749,750,751,752,753,754,755,756,757,758,759,760,761,762,763,764,765,766,767,768,769,770,771,772,773,774,775,776,777,778,779,780,781,782,783,784,785,786,787,788,789,790,791,792,793,794,795,796,797,798,799,800,801,802,803,804,805,806,807,808,809,810,811,812,813,814,815,816,817,818,819,820,821,822,823,824,825,826,827,828,829,830,831,832,833,834,835,836,837,838,839,840,841,842,843,844,845,846,847,848,849,850,851,852,853,854,855,856,857,858,859,860,861,862,863,864,865,866,867,868,869,870,871,872,873,874,875,876,877,878,879,880,881,882,883,884,885,886,887,888,889,890,891,892,893,894,895],\"xaxis\":\"x\",\"y\":[0.465024604774852,0.4917903428519365,0.5075788274347995,0.5112889388479415,0.49641418071386867,0.5085807882379304,0.5240782235091892,0.5355166185104977,0.5427167414689277,0.5536207322769416,0.5647607471626953,0.5743269146913644,0.6040806456647254,0.6171900551339718,0.6076192556762787,0.5948301116466144,0.6108010549886792,0.5930896248299571,0.5969875809648414,0.573332595443307,0.5681908777023448,0.5698031148418372,0.546210591479966,0.5152126200029498,0.5251086312374037,0.5161360638544161,0.5296188417088877,0.5593403374949738,0.5837166246276299,0.5950294245357286,0.605393087510271,0.6074872020485843,0.6009740697050721,0.6368148322683436,0.6675266401153319,0.6874582860814802,0.6724257755080743,0.6379265186551798,0.667877076114071,0.6869283672303075,0.6977290158122667,0.6852975209079599,0.6627268395749859,0.562408913499592,0.567140144672364,0.5578084233161639,0.5685689906025949,0.5546302151054022,0.5641929891621386,0.5571690072182626,0.5399863836026902,0.5429993103626766,0.5376175365649082,0.5415451043423196,0.5272093364344528,0.5306314147177904,0.5278321458410439,0.539479653510068,0.5402070757624351,0.5271937371134842,0.5293683081619276,0.5183983094539178,0.522357751537671,0.5400317972540213,0.5544937528919682,0.5485800479036315,0.5586936387084912,0.5607783851188668,0.5673423370914037,0.5545016090659587,0.5465018873395637,0.5490411529926583,0.5477649695329477,0.5440493771329786,0.547798021022481,0.5094789965405143,0.5204032781876682,0.5142994615074961,0.5428939539745661,0.5273930214608584,0.5327960223539195,0.5362465966262182,0.5308758513681949,0.5206336194322346,0.5185417727966315,0.5235785810325717,0.5312609116457558,0.5232593419166817,0.5218143759632387,0.5079090915779152,0.4960568294303667,0.508258544708233,0.5045652480908285,0.5071600213177646,0.5283416725866987,0.5647409447867835,0.5611258759016925,0.5538049030327309,0.5403694927818928,0.5274654542205939,0.5261210288563576,0.5167302210816345,0.5272773658646429,0.5287166765568801,0.589301351559462,0.633231349233277,0.6450803065283063,0.5107991413823687,0.5088684915680847,0.4996013141724749,0.5054898740507608,0.49963551462536276,0.5115905196852838,0.5149849732618174,0.49837815441979905,0.48260836493694986,0.4864929496665829,0.4821225936752487,0.5011824045490794,0.482942663397429,0.48413369492705066,0.4733868315038168,0.4777686874835829,0.48178761425273203,0.48868826357689155,0.47067437178505783,0.47646430705831383,0.47258933990672347,0.4589066189298751,0.4630993600168082,0.46913729910136537,0.4770362850095871,0.4652537854006476,0.47202039188241773,0.5357038938895412,0.5159100167808739,0.5185886517963051,0.5117733030239994,0.5096116706663255,0.5073961345568617,0.5121176873089895,0.4974182480157955,0.4947885319666626,0.48050677982446965,0.4776340686214619,0.47152030116423493,0.4529814926148537,0.44945395372713054,0.4554154902759687,0.44926885440368597,0.45674585470091084,0.4534237641879515,0.4545525824287878,0.46556854864142794,0.4663327828585512,0.45982049838690847,0.44368209795229574,0.443687725304703,0.44274697800520524,0.5159671394555927,0.5362534046151943,0.5192289283200492,0.5109987147936831,0.4991771627468118,0.5013222273214888,0.48460553983881977,0.4679874424462839,0.4648079955755311,0.482877205137811,0.4760059520844366,0.45808239188193073,0.45633585305798974,0.4557413713188969,0.46422727317470824,0.47194175984529985,0.48423273822585894,0.4816706399488964,0.45770769154847096,0.47074748416918577,0.5041097623604605,0.48316376167565916,0.4920178875824528,0.47445269474860985,0.4998024812106089,0.5104658859251827,0.5190286795829393,0.5249425121708151,0.5250369234558296,0.524065175403076,0.5223512711326004,0.526393354421027,0.5183999289351863,0.5108458168281738,0.5025241424526617,0.5052603430346078,0.5706692272796937,0.5637413855657495,0.5443330503510879,0.5500161934279202,0.5460511804270943,0.5382974521526552,0.5617592941949278,0.5727216953464688,0.5804867669026519,0.579279147000836,0.5864795517528479,0.5933065029180149,0.5883944860108771,0.5818873463535834,0.5748847506453596,0.5772592439135009,0.5736360397949763,0.5793327889607655,0.5619461011270194,0.559281871406747,0.5652843292282197,0.5653734485485149,0.5353034010583406,0.5424169623571214,0.5442127376129474,0.6193379891971684,0.626844005436471,0.6399732899563687,0.5919384659704224,0.619143352258196,0.6161296575223097,0.6224274008064715,0.6348110064014787,0.6129894386830168,0.6086015573420652,0.6104653068310996,0.6082552593629161,0.6231258422840924,0.620398556327458,0.6030025404556383,0.6120785974522729,0.6143425955047214,0.5959435741399095,0.5957818010820931,0.6022996543934984,0.6036331414350782,0.5876368308767285,0.5816856387588963,0.5665921923610222,0.5759282775136572,0.5794687480595109,0.5794385752671267,0.5890976982495019,0.5757848608189928,0.5575679670725762,0.5537349716590206,0.5546341089256946,0.5652530386994549,0.5348511171886128,0.5289908087709652,0.5491218499009847,0.5388625834383765,0.5305646590025315,0.5270728606057112,0.536764527683765,0.5350289828053933,0.5409470984858381,0.5447794266360299,0.5337889841638296,0.5259467526056159,0.5170019609455346,0.5240238159401613,0.5106023167388853,0.5032468092911533,0.5079303355562933,0.4979983306101601,0.5067232365038566,0.49724243133263435,0.4860099649765631,0.4844448310000938,0.48725609871137165,0.47068323728243383,0.4880251110576141,0.4916742261933332,0.4913373558522338,0.4834919223955847,0.4736861364748124,0.4794185740250566,0.46461497194823964,0.46486067430331635,0.45656847583975035,0.48382554505398695,0.5701183871959756,0.5712515568041193,0.5914911671768968,0.5877209660096495,0.5826452433086231,0.5790941479183125,0.5614441016199256,0.5776210303016853,0.5663204541529843,0.552935703191056,0.5713766567213937,0.5717222718617062,0.5711676528267496,0.5613597910635596,0.5546613748673107,0.5620603388712334,0.5487385622399658,0.5298530586224762,0.5208649623193393,0.512214360092998,0.5097268483732055,0.48632295518878665,0.49948457869606255,0.48338157695868234,0.4785767474065516,0.4795658611542212,0.4688304976552746,0.4872235355226383,0.478198673785924,0.48500821061887905,0.4845490632756716,0.5050994669167753,0.5117730334456471,0.5143740349333263,0.5062679522138943,0.5176881386453202,0.5200117181874905,0.5216500565878975,0.5233022856818551,0.5258137256191292,0.5167071460346524,0.510867453219325,0.5045836865566731,0.502548405553702,0.5005194421454422,0.49177378678422556,0.48430249319500834,0.4645817728548009,0.4678215197709615,0.4764370395828216,0.46659669422580996,0.4600997696521559,0.4578406858350259,0.477868525574189,0.4777367741291255,0.4989670793390725,0.4812493538064154,0.48078903619797037,0.4843865072497349,0.48386315255752566,0.4580308401352354,0.46598278498197504,0.46689291565648383,0.4564142643615616,0.46876729307652604,0.46354367054809237,0.4669665272706284,0.46764486081131196,0.4620846669320903,0.45520513027587955,0.45174917231344125,0.46249003382514636,0.4539741775301092,0.44923250719614993,0.4407640250226045,0.4413263548079319,0.42379161718623454,0.43399032418018324,0.4266117190861929,0.44314032789987023,0.44925221559606543,0.4628715185370077,0.4703858367442452,0.4807617817326359,0.4886212708612528,0.5076596667560292,0.5194246922514211,0.538673475521351,0.5518189974530492,0.5546777160080716,0.5647498813715929,0.5735478961843827,0.5764165124883974,0.5746526266972041,0.5931362806643572,0.537868827784393,0.5022198885560876,0.5108651231905372,0.5153466920024038,0.522619564173113,0.5183817937818054,0.5021802567225145,0.5079974086049809,0.5222017435718508,0.5307891925545521,0.5507328702544046,0.5469303658707633,0.5649281676465796,0.5687318685685603,0.5734058812587545,0.5758817599580497,0.5720697072002867,0.5837721697268954,0.5135704289827298,0.5048521574794694,0.5077202998260049,0.49188956945401296,0.49544900364560257,0.5076069497306964,0.5156604855081866,0.5188379191867053,0.5227522026412927,0.5194280218165778,0.547785822074937,0.5382785100735106,0.5731423776576055,0.5829273588284479,0.597671563167965,0.587651707043203,0.602839733741756,0.5943109837858978,0.598071953638932,0.6118009518665525,0.6099004632699024,0.5926749962640515,0.5673481989959046,0.5534641502027772,0.5686126495015603,0.5678262627280032,0.5702643285692269,0.5619436505228758,0.5810927939679982,0.5712210176147334,0.571092342248822,0.567195021274677,0.5890068759776989,0.5808918028688176,0.5717817364012949,0.5817877819248471,0.5927406735115107,0.5975798306017868,0.5956429068221827,0.5978388602495981,0.5876529677905129,0.5903596007199337,0.5907302868106361,0.5976425914212834,0.584257136094708,0.5977134314712016,0.6094218394537017,0.6136953277997677,0.6088518441155807,0.6147107817760549,0.6024719583262358,0.6174715681107346,0.6293203420273799,0.6278709371943277,0.6554453851844605,0.5748493028300903,0.5808079208879615,0.5915562278122017,0.6057825484355422,0.6021160127760782,0.5916052276152468,0.5795920452178438,0.5927986579641874,0.5886317964733635,0.5859243393862875,0.5860251515202659,0.5892424806096244,0.6087150900740073,0.6180976126232238,0.6289488260119446,0.6163660014638054,0.6161733858569981,0.6210996362590434,0.6233968302983733,0.6359930146064784,0.6335501552187239,0.633535726321419,0.6203187857181611,0.5614074619247129,0.5753264590817772,0.5425505293270491,0.5382714541194067,0.540586899477855,0.576879046525363,0.5878752386149745,0.5803798773206393,0.5739184975408788,0.5682092469740188,0.581901304038255,0.5795858498529386,0.5811934584716275,0.5746270082609499,0.5831940671910056,0.5967297391268523,0.6004823969687413,0.6071131356395745,0.5958132181548395,0.59105962125295,0.5936286802034862,0.6091535277180894,0.5934409733078405,0.6115389343788764,0.6119147586898023,0.6204912937567941,0.6325807756627366,0.6201229904076243,0.6087015995872297,0.6177279654538286,0.6076430450841068,0.6153906741177206,0.6291394889103822,0.6201918669219817,0.6538317338152965,0.641116710740146,0.662313203893168,0.5752706726574425,0.5876320126765413,0.5699300782641996,0.5671951941054857,0.5624170409841432,0.5638731565031465,0.5535697891893493,0.5496396544880735,0.5313722787032731,0.5322354402056999,0.5204767580553098,0.519765347421315,0.5248074124396006,0.5197973687184319,0.521945829084959,0.5240175811594304,0.5268979199730469,0.5217537201649476,0.5418012586703449,0.5384048101679113,0.5466806073468575,0.5253912651026588,0.5462107814867724,0.5587046252621715,0.5459719486627534,0.5689714231898918,0.5661232900309962,0.5878007773913398,0.5800977594085241,0.5705085176135604,0.5564278646014642,0.5768636472896146,0.5816295272923504,0.5673059913706324,0.5708502926081227,0.5478675937412754,0.5462469357261578,0.5475309905628087,0.5579176078319371,0.5546606484271107,0.5513601763626799,0.5455041736997509,0.5408198919501497,0.5381462665006784,0.5526479411261563,0.5638380871156565,0.5621944464258197,0.5818181657866788,0.5785114947058484,0.5691094420425374,0.5294723724853767,0.5398132420769928,0.5130916647940678,0.5283073078810188,0.5363262120793729,0.5292585249946341,0.5289607835983655,0.5423608815743788,0.5403697785716408,0.5405463127342321,0.5365758236604611,0.5309104905886928,0.5278043499510221,0.5098766037057098,0.515353173030043,0.5116980544399862,0.48922747574714687,0.4891688596458771,0.47348146933542357,0.49093495551831806,0.5039976737059259,0.5167789766227505,0.5134903538115909,0.5193395358878179,0.5244396711890675,0.5163247683139823,0.5177514569029817,0.5326811441238642,0.5239759002031081,0.5125597654665174,0.5271695816345681,0.5244525283505036,0.5075733521612334,0.5045634806593944,0.5070494117993618,0.5314060013208137,0.5225301335306868,0.5225156348864188,0.503352538066901,0.5177916622876463,0.5233141124827319,0.5427613473366789,0.528885025609095,0.5307717356986901,0.5232629170713274,0.531587276587724,0.5208201035345651,0.5677823238540902,0.5929718053769578,0.6337550176574248,0.6382951488171142,0.653620742571345,0.6523073286948714,0.6521142588919826,0.654334003096563,0.6226715618193958,0.6297758853935933,0.6270409080659056,0.6068727089851128,0.6087517416217086,0.5910561010017568,0.6070916038634737,0.5946492131075761,0.6049909136122268,0.5888000796603534,0.5981355384784629,0.5815735765613979,0.6029423911104234,0.6117940823115572,0.5963311839650693,0.6009694137434539,0.5715694667180674,0.5665804803851738,0.5815728108592484,0.5549157906424487,0.543624811183878,0.5509640120516329,0.5541868332696669,0.5697102083956613,0.5710386784348503,0.5816854901935737,0.5800237719057587,0.5947774069258562,0.5963097765165238,0.6027502545753494,0.6055036914693116,0.5913300053251885,0.6161952840538081,0.5978492950047363,0.5876337420996369,0.5674121682764619,0.5743245621389392,0.5782292535545985,0.5621530598262772,0.5651229744189761,0.5529963609128851,0.582588863826599,0.5818078263239268,0.5977750910683067,0.5864957853411394,0.6059660223047385,0.6150597038327577,0.6103566235529346,0.6062410775195299,0.5962024268940787,0.5848413766802221,0.581597839545392,0.5693072664305389,0.590469698512202,0.5839799560982828,0.596210916592962,0.5721714617125089,0.6018273071918088,0.5824341938641588,0.5959278130179906,0.5850482981922922,0.5926008907371808,0.5800171960862702,0.584425562258987,0.5795828586482579,0.5722729935165088,0.5714890401430988,0.5749666351104042,0.5724654822292693,0.5843649531010012,0.5756902850531659,0.5794474350601535,0.5663020372042677,0.5763408475581548,0.5560819993704733,0.56171785500781,0.5514210475188956,0.5656574393483695,0.5148306706710335,0.527492823203808,0.5144049992090338,0.5087768362040737,0.5038365354778793,0.5592138131464287,0.6223084024653979,0.6394368227656412,0.6316313681133058,0.639534313359545,0.6259842129536963,0.6410045858742773,0.6171998712404275,0.6255080363691538,0.5545776421983193,0.5465775215099562,0.5446756660983176,0.5365927900600338,0.5427347643776895,0.5432621391128217,0.5520716419622309,0.5632636483199892,0.5503299068433853,0.5591821449689683,0.518361797187886,0.554135610385303,0.5335131600493123,0.5642677943328437,0.555428742137167,0.5332461755169916,0.5102875381498531,0.5088340572589459,0.508224172493604,0.4964965896752001,0.4842282949150779,0.5439396418236856,0.539462107333678,0.49070274835358463,0.4604662836770328,0.5352452001261075,0.5623088520458503,0.5352681455788415,0.5367535784205998,0.5049101771415954,0.510497562663571,0.5067939257413884,0.5055191889781246,0.49824501516635417,0.5041724311305104,0.5088891454621786,0.48082736688311106,0.4646498288595142,0.4586798887977331,0.456113113214665,0.4487460027710949,0.44273825507468206,0.4574521108348164,0.4648192924240581,0.4642691323099199,0.4457790078542848,0.4426153475920557,0.4379757807057634,0.4379126630072744,0.5325951196794931,0.5248586677410167,0.5123220122394233,0.4986680525347075,0.5143482409147545,0.49028858434842826,0.49645940734010685,0.4764778519978583,0.48811031019317913,0.49943604968531863,0.4999211977671129,0.5184126406077909,0.5298368630944739,0.5097957698630172,0.5005727508851344,0.4885776811316267,0.4844398098522624,0.4493441666539703,0.42069293078249914,0.437922236583383,0.4516083079658776,0.4329192057798465,0.4363829318343693,0.43939314286339803,0.4348505989144979,0.4294377554757116,0.4244515334103987,0.42184227615652203,0.46639307999812657,0.46996149622278777,0.45578895241428,0.4429874382457972,0.4324383373188705,0.43222983333184084,0.4289755707076018,0.43626495249699526,0.43635802601911555,0.42713762692108165,0.42183868528181573,0.42610373470730156,0.4459687092282721,0.46418211784386515,0.46771783627619035,0.4857477843249549,0.49521194425344517,0.4842701563013303,0.5165187431668077,0.4709019544281399,0.46984342344068825,0.4723711260801334,0.48756762912740176,0.4815475120670361,0.48134147759442797,0.47733923274228146,0.4869844476909214,0.47974688642154895,0.47725791895704006,0.5092805774013607,0.5291456029318167,0.5503339124379438,0.5673104616695523,0.5738889115465184,0.5835389759279956,0.5920495945889364,0.5920270082871871,0.5907494006959635,0.5982451143333933,0.5077070556900394,0.5062911511195651,0.4934306938344623,0.4798095335863275,0.4793537234063986,0.4710161703682889,0.47962421522982185,0.5089311933629944,0.5079715117927913,0.4907708893737491,0.4716569328981192,0.46646214326857816,0.45697967749989604,0.44424287149179426,0.4296668807859698,0.42160790168114315,0.431603228275178,0.43001309883686073,0.419862482879078,0.4270652579484558,0.4361827596528669,0.4490716774877847,0.45898814753895195,0.4476150892344017,0.45910334171567396,0.45665318242719427,0.45566846145465223,0.4406272861159696,0.445676398800394,0.45986927665327676,0.4705892905166391,0.47513595837508915,0.4501136605647709,0.4645885694371712,0.46934375802154255,0.4642070046305245,0.4491499446782147,0.4492938230732412,0.4438351179162816,0.4360524776114051,0.4102211186338378,0.40816435571587073,0.4194662141944574,0.42339138837269286,0.41841014468422655,0.41634806111630224,0.39465201751103146,0.3890677268633047,0.3685562605754573,0.36825541288419006,0.3624425823475358,0.32756716940906017,0.43903871599214694,0.45281652488516894,0.4450354766848171,0.4262812638935778,0.42555857227422755,0.43956560657915694,0.46190872001478583,0.4779335105223676,0.5148991567449538,0.5340198779699219,0.5503060285574757,0.5486944684279937,0.5594323229326496,0.528851586006162,0.5304309069790543,0.5593421006825651],\"yaxis\":\"y\",\"type\":\"scattergl\"},{\"hovertemplate\":\"variable=XGB DART FT<br>index=%{x}<br>value=%{y}<extra></extra>\",\"legendgroup\":\"XGB DART FT\",\"line\":{\"color\":\"#00cc96\",\"dash\":\"solid\"},\"marker\":{\"symbol\":\"circle\"},\"mode\":\"lines\",\"name\":\"XGB DART FT\",\"showlegend\":true,\"x\":[0,1,2,3,4,5,6,7,8,9,10,11,12,13,14,15,16,17,18,19,20,21,22,23,24,25,26,27,28,29,30,31,32,33,34,35,36,37,38,39,40,41,42,43,44,45,46,47,48,49,50,51,52,53,54,55,56,57,58,59,60,61,62,63,64,65,66,67,68,69,70,71,72,73,74,75,76,77,78,79,80,81,82,83,84,85,86,87,88,89,90,91,92,93,94,95,96,97,98,99,100,101,102,103,104,105,106,107,108,109,110,111,112,113,114,115,116,117,118,119,120,121,122,123,124,125,126,127,128,129,130,131,132,133,134,135,136,137,138,139,140,141,142,143,144,145,146,147,148,149,150,151,152,153,154,155,156,157,158,159,160,161,162,163,164,165,166,167,168,169,170,171,172,173,174,175,176,177,178,179,180,181,182,183,184,185,186,187,188,189,190,191,192,193,194,195,196,197,198,199,200,201,202,203,204,205,206,207,208,209,210,211,212,213,214,215,216,217,218,219,220,221,222,223,224,225,226,227,228,229,230,231,232,233,234,235,236,237,238,239,240,241,242,243,244,245,246,247,248,249,250,251,252,253,254,255,256,257,258,259,260,261,262,263,264,265,266,267,268,269,270,271,272,273,274,275,276,277,278,279,280,281,282,283,284,285,286,287,288,289,290,291,292,293,294,295,296,297,298,299,300,301,302,303,304,305,306,307,308,309,310,311,312,313,314,315,316,317,318,319,320,321,322,323,324,325,326,327,328,329,330,331,332,333,334,335,336,337,338,339,340,341,342,343,344,345,346,347,348,349,350,351,352,353,354,355,356,357,358,359,360,361,362,363,364,365,366,367,368,369,370,371,372,373,374,375,376,377,378,379,380,381,382,383,384,385,386,387,388,389,390,391,392,393,394,395,396,397,398,399,400,401,402,403,404,405,406,407,408,409,410,411,412,413,414,415,416,417,418,419,420,421,422,423,424,425,426,427,428,429,430,431,432,433,434,435,436,437,438,439,440,441,442,443,444,445,446,447,448,449,450,451,452,453,454,455,456,457,458,459,460,461,462,463,464,465,466,467,468,469,470,471,472,473,474,475,476,477,478,479,480,481,482,483,484,485,486,487,488,489,490,491,492,493,494,495,496,497,498,499,500,501,502,503,504,505,506,507,508,509,510,511,512,513,514,515,516,517,518,519,520,521,522,523,524,525,526,527,528,529,530,531,532,533,534,535,536,537,538,539,540,541,542,543,544,545,546,547,548,549,550,551,552,553,554,555,556,557,558,559,560,561,562,563,564,565,566,567,568,569,570,571,572,573,574,575,576,577,578,579,580,581,582,583,584,585,586,587,588,589,590,591,592,593,594,595,596,597,598,599,600,601,602,603,604,605,606,607,608,609,610,611,612,613,614,615,616,617,618,619,620,621,622,623,624,625,626,627,628,629,630,631,632,633,634,635,636,637,638,639,640,641,642,643,644,645,646,647,648,649,650,651,652,653,654,655,656,657,658,659,660,661,662,663,664,665,666,667,668,669,670,671,672,673,674,675,676,677,678,679,680,681,682,683,684,685,686,687,688,689,690,691,692,693,694,695,696,697,698,699,700,701,702,703,704,705,706,707,708,709,710,711,712,713,714,715,716,717,718,719,720,721,722,723,724,725,726,727,728,729,730,731,732,733,734,735,736,737,738,739,740,741,742,743,744,745,746,747,748,749,750,751,752,753,754,755,756,757,758,759,760,761,762,763,764,765,766,767,768,769,770,771,772,773,774,775,776,777,778,779,780,781,782,783,784,785,786,787,788,789,790,791,792,793,794,795,796,797,798,799,800,801,802,803,804,805,806,807,808,809,810,811,812,813,814,815,816,817,818,819,820,821,822,823,824,825,826,827,828,829,830,831,832,833,834,835,836,837,838,839,840,841,842,843,844,845,846,847,848,849,850,851,852,853,854,855,856,857,858,859,860,861,862,863,864,865,866,867,868,869,870,871,872,873,874,875,876,877,878,879,880,881,882,883,884,885,886,887,888,889,890,891,892,893,894,895],\"xaxis\":\"x\",\"y\":[0.5790761113166809,0.5488710999488831,0.5291300415992737,0.5343912839889526,0.5307417511940002,0.5262582898139954,0.5311052799224854,0.5184046030044556,0.5038725733757019,0.49744030833244324,0.4993988275527954,0.5124822854995728,0.5176246166229248,0.5059624910354614,0.49106356501579285,0.5039481520652771,0.5054503679275513,0.5203649401664734,0.5307132601737976,0.5422434210777283,0.5633283257484436,0.5624136924743652,0.5662237405776978,0.5640378594398499,0.5673465728759766,0.5649563074111938,0.5564531087875366,0.5698133111000061,0.5494248867034912,0.5279120206832886,0.5605672597885132,0.5429208874702454,0.5423328876495361,0.5459219813346863,0.5388767123222351,0.5496800541877747,0.5429590344429016,0.5473068356513977,0.5398949384689331,0.5691904425621033,0.5674760341644287,0.5630802512168884,0.5765512585639954,0.5717487931251526,0.5649887323379517,0.5687864422798157,0.5714563131332397,0.5532895922660828,0.5570395588874817,0.5859317183494568,0.601011335849762,0.5992652773857117,0.613844096660614,0.5896121263504028,0.566396951675415,0.5643441677093506,0.5705587267875671,0.5634797811508179,0.538836658000946,0.5455816984176636,0.5469107627868652,0.5509596467018127,0.5620002746582031,0.5451289415359497,0.5337713956832886,0.5220724940299988,0.5174626708030701,0.5282089114189148,0.5298885703086853,0.5088025331497192,0.5069288015365601,0.4976069927215576,0.5090032815933228,0.5319984555244446,0.5373175740242004,0.542055070400238,0.5487155318260193,0.5537768602371216,0.5609022974967957,0.5680512189865112,0.5611386895179749,0.5638017654418945,0.5616791248321533,0.5567749738693237,0.5505766868591309,0.5376504063606262,0.5120615363121033,0.5075803399085999,0.5318434238433838,0.5288630723953247,0.5154082179069519,0.5121155977249146,0.5149405598640442,0.4973548948764801,0.47278183698654175,0.485241174697876,0.5009610652923584,0.5013942718505859,0.5005621910095215,0.5104212164878845,0.5187941193580627,0.5160520672798157,0.5281193256378174,0.5181176066398621,0.5089839100837708,0.5276749134063721,0.5386062860488892,0.533798098564148,0.5178565382957458,0.5060136914253235,0.49889230728149414,0.5069641470909119,0.5046610236167908,0.4985714852809906,0.5253024101257324,0.5733036994934082,0.587681233882904,0.5466224551200867,0.5129538178443909,0.5267460942268372,0.523406982421875,0.5213660001754761,0.5044738054275513,0.5016037821769714,0.5041097402572632,0.5085754990577698,0.49576330184936523,0.48225194215774536,0.47986435890197754,0.4908682405948639,0.4842626750469208,0.47206008434295654,0.4733893573284149,0.4749390482902527,0.4767693281173706,0.4795827865600586,0.46605271100997925,0.46418654918670654,0.4637935161590576,0.46520519256591797,0.46505168080329895,0.46537014842033386,0.4609241187572479,0.48339179158210754,0.48783525824546814,0.48519036173820496,0.4854000210762024,0.47468164563179016,0.4744865596294403,0.48472392559051514,0.47852200269699097,0.4730762541294098,0.47590142488479614,0.4800865352153778,0.4890490472316742,0.4726361036300659,0.4829505681991577,0.492664635181427,0.48664307594299316,0.4873698353767395,0.4846237301826477,0.4831141531467438,0.47988104820251465,0.4674593210220337,0.461832195520401,0.45645779371261597,0.4478401839733124,0.4466072916984558,0.4571967124938965,0.4842519462108612,0.509849488735199,0.49728238582611084,0.4913971722126007,0.49312514066696167,0.5018447041511536,0.4995989203453064,0.502870500087738,0.5038754940032959,0.5146719813346863,0.5160398483276367,0.5151695013046265,0.5055534243583679,0.5002408027648926,0.4941548705101013,0.5167405605316162,0.5196455121040344,0.5133328437805176,0.4990522563457489,0.5072135329246521,0.5125377774238586,0.5120177865028381,0.5299229621887207,0.5210331678390503,0.5217403173446655,0.5331424474716187,0.5314791202545166,0.5373239517211914,0.5218228101730347,0.5267045497894287,0.5268387198448181,0.514403223991394,0.5043702125549316,0.5209396481513977,0.5152244567871094,0.5115381479263306,0.5482359528541565,0.559551477432251,0.5549253821372986,0.5475127100944519,0.5480352640151978,0.5392370820045471,0.5348795652389526,0.5428392887115479,0.5355704426765442,0.5433051586151123,0.5377061367034912,0.5395019054412842,0.5388666391372681,0.5386115312576294,0.5348128080368042,0.5336161255836487,0.5435398817062378,0.5314393043518066,0.544114351272583,0.5291762948036194,0.5550938844680786,0.5677923560142517,0.5617530345916748,0.57414311170578,0.55341637134552,0.568178653717041,0.5652106404304504,0.5709794759750366,0.5725743770599365,0.568919837474823,0.5826484560966492,0.5686189532279968,0.5774232149124146,0.5745059251785278,0.5659196972846985,0.5519626140594482,0.5751345753669739,0.5822852253913879,0.5752585530281067,0.5810726284980774,0.5815588235855103,0.5840700268745422,0.5857283473014832,0.5942508578300476,0.5981862545013428,0.5985226035118103,0.5971157550811768,0.599932849407196,0.5974466800689697,0.5969275236129761,0.6080899834632874,0.5852692127227783,0.585323691368103,0.5887526273727417,0.5615600943565369,0.561572253704071,0.5490849614143372,0.5557543635368347,0.535956859588623,0.5366635918617249,0.5385875105857849,0.539593517780304,0.5322209000587463,0.5302901268005371,0.5298465490341187,0.5257508754730225,0.5237041711807251,0.5071228742599487,0.5031853318214417,0.5108954310417175,0.5197663307189941,0.5132760405540466,0.5112124085426331,0.5087171792984009,0.5064705014228821,0.5071182250976562,0.5046292543411255,0.514872133731842,0.5046620965003967,0.5105277299880981,0.5058466792106628,0.49929946660995483,0.5059592723846436,0.5092580914497375,0.48606032133102417,0.5430171489715576,0.5546265840530396,0.5628970861434937,0.5621963143348694,0.558914840221405,0.556857168674469,0.5572021007537842,0.559726357460022,0.5627776980400085,0.5550416707992554,0.5522955656051636,0.5557397603988647,0.5542405843734741,0.5416348576545715,0.540294885635376,0.5539827346801758,0.5375655889511108,0.5519319772720337,0.5452181696891785,0.5442128777503967,0.5432982444763184,0.5399345755577087,0.5459282398223877,0.5423644781112671,0.5315319895744324,0.5168605446815491,0.5174109935760498,0.5217068791389465,0.5237147808074951,0.5233877301216125,0.507698655128479,0.5120751857757568,0.5066061019897461,0.5007850527763367,0.505951464176178,0.5095869302749634,0.5034053921699524,0.5089507102966309,0.5000383853912354,0.510363757610321,0.49744680523872375,0.49680766463279724,0.4921525716781616,0.475647896528244,0.47598040103912354,0.4793866276741028,0.5028048753738403,0.5204524993896484,0.514832079410553,0.5237690210342407,0.5158895254135132,0.5225114822387695,0.5157252550125122,0.5216678977012634,0.5119043588638306,0.510303795337677,0.499185174703598,0.48148027062416077,0.47759148478507996,0.4769344925880432,0.4909096360206604,0.49983102083206177,0.49674585461616516,0.5087549090385437,0.49735838174819946,0.5069261193275452,0.496002733707428,0.49537986516952515,0.4865032732486725,0.4861411154270172,0.4977230131626129,0.49475598335266113,0.48767736554145813,0.4946867525577545,0.48465362191200256,0.48485544323921204,0.48557043075561523,0.48678064346313477,0.4931260049343109,0.4854285418987274,0.48080453276634216,0.4888158440589905,0.48287731409072876,0.48282575607299805,0.4885358214378357,0.48267149925231934,0.4878405034542084,0.505084216594696,0.5033082962036133,0.5006861090660095,0.49771201610565186,0.5021774768829346,0.5020302534103394,0.5063952207565308,0.5144305229187012,0.5225318670272827,0.5284539461135864,0.5276065468788147,0.5271056294441223,0.5361900925636292,0.5409029126167297,0.5456510186195374,0.5416085124015808,0.5163890719413757,0.5142886638641357,0.5115232467651367,0.5203464031219482,0.5173587203025818,0.5088775157928467,0.515653133392334,0.5295942425727844,0.526305615901947,0.5304113626480103,0.5394219160079956,0.556730329990387,0.5670372247695923,0.5629311800003052,0.5809255838394165,0.5837019085884094,0.5906187891960144,0.5619403719902039,0.5492636561393738,0.551317036151886,0.5587508082389832,0.555291473865509,0.5508715510368347,0.5611695647239685,0.5543567538261414,0.5623391270637512,0.5516858100891113,0.5628416538238525,0.5728290677070618,0.5708820223808289,0.5899916291236877,0.5850516557693481,0.5864231586456299,0.5918147563934326,0.5941162109375,0.599664032459259,0.6009431481361389,0.6107597351074219,0.6043867468833923,0.5989303588867188,0.5905225276947021,0.5928063988685608,0.590867817401886,0.5832995176315308,0.5828492641448975,0.5832406878471375,0.5902694463729858,0.590624213218689,0.5873641967773438,0.5837455987930298,0.5979126691818237,0.5922508835792542,0.5898872017860413,0.5965000987052917,0.595862627029419,0.5873520374298096,0.5829787254333496,0.5895209908485413,0.6019846796989441,0.5946576595306396,0.6009513735771179,0.5817546248435974,0.6017316579818726,0.6020278930664062,0.6098194122314453,0.5985886454582214,0.5876445770263672,0.5996627807617188,0.6047888994216919,0.6146665811538696,0.6090402007102966,0.6196767687797546,0.6097475290298462,0.5946446657180786,0.5933683514595032,0.6001520156860352,0.6051995158195496,0.5888295769691467,0.5939890742301941,0.5936877727508545,0.5983550548553467,0.5957222580909729,0.5937180519104004,0.6026598215103149,0.6043075323104858,0.6076369285583496,0.6157980561256409,0.612141489982605,0.6067052483558655,0.6018533706665039,0.593023419380188,0.5823307633399963,0.5864618420600891,0.5865914821624756,0.5937848091125488,0.5722044110298157,0.5771945118904114,0.5711269378662109,0.5563176274299622,0.5441070199012756,0.5608574151992798,0.5732525587081909,0.5872010588645935,0.5805355906486511,0.5819883942604065,0.5724582076072693,0.5780876874923706,0.5754990577697754,0.5835322141647339,0.5774425268173218,0.5725612640380859,0.5845282077789307,0.5896298289299011,0.5913505554199219,0.5845138430595398,0.5848857760429382,0.5841742753982544,0.5960985422134399,0.6041234135627747,0.6132915019989014,0.6041040420532227,0.5973933339118958,0.6040424108505249,0.6150616407394409,0.606380820274353,0.6206253170967102,0.6148143410682678,0.6100635528564453,0.6143823862075806,0.6181464791297913,0.6321881413459778,0.6276010870933533,0.6075276732444763,0.5964376926422119,0.606005072593689,0.5892071723937988,0.5889527797698975,0.5628225803375244,0.5781618356704712,0.569037675857544,0.5654935836791992,0.5590960383415222,0.5648407936096191,0.5514074563980103,0.5572795271873474,0.5377234220504761,0.5581278800964355,0.5439192652702332,0.5507410764694214,0.562425971031189,0.5524861812591553,0.5706050395965576,0.5764983892440796,0.5668400526046753,0.545777440071106,0.5801379680633545,0.5617026090621948,0.5781351923942566,0.5682299137115479,0.5900163054466248,0.5884371995925903,0.5821518898010254,0.5834126472473145,0.576566219329834,0.5881001949310303,0.5687093734741211,0.5880361795425415,0.5664274096488953,0.5553300380706787,0.5537688732147217,0.5673583149909973,0.563363254070282,0.5813762545585632,0.5652100443840027,0.5883873105049133,0.5521506667137146,0.5428022146224976,0.558596670627594,0.5754398107528687,0.5841362476348877,0.5808273553848267,0.5669986009597778,0.5539621710777283,0.5434836149215698,0.5233417749404907,0.5696817636489868,0.5290293097496033,0.5443960428237915,0.53378826379776,0.532349169254303,0.5269214510917664,0.5354443788528442,0.5534542202949524,0.5417741537094116,0.5434908270835876,0.528365433216095,0.5319653749465942,0.5476489067077637,0.5236257910728455,0.5199213624000549,0.5180546045303345,0.5106096863746643,0.5203863978385925,0.5221157073974609,0.520561933517456,0.5176398754119873,0.5139623284339905,0.5202128291130066,0.5061004161834717,0.5112488865852356,0.5275543928146362,0.5443044304847717,0.5479545593261719,0.544506311416626,0.541903018951416,0.5291478037834167,0.5392109155654907,0.5480174422264099,0.5426132678985596,0.5565255284309387,0.5582749843597412,0.5363705158233643,0.5570341944694519,0.5530279874801636,0.5519550442695618,0.5517022013664246,0.5479803681373596,0.5310425758361816,0.5287356972694397,0.5673919916152954,0.5825600028038025,0.5952585935592651,0.6139935851097107,0.6088768839836121,0.6370581388473511,0.6386971473693848,0.6357204914093018,0.626278281211853,0.58994060754776,0.6014460921287537,0.5984189510345459,0.6045763492584229,0.584616482257843,0.597101092338562,0.5856161117553711,0.6083202958106995,0.5949940085411072,0.5852376222610474,0.608599066734314,0.5962504148483276,0.6075072884559631,0.6031453609466553,0.5971214771270752,0.588182806968689,0.5713844895362854,0.5703672170639038,0.5813659429550171,0.5654227137565613,0.5595373511314392,0.5837125778198242,0.5956796407699585,0.5879479646682739,0.5896778702735901,0.5900505185127258,0.5853049755096436,0.5907896757125854,0.5958946943283081,0.597954273223877,0.5923763513565063,0.5998585224151611,0.5866546630859375,0.5818630456924438,0.5837462544441223,0.5822981595993042,0.5856384038925171,0.5709834694862366,0.5819913744926453,0.5886329412460327,0.5839296579360962,0.594726026058197,0.5814214944839478,0.6001304984092712,0.589183509349823,0.5781436562538147,0.5794501304626465,0.5896996855735779,0.5815245509147644,0.5832202434539795,0.5695041418075562,0.5642514824867249,0.569563090801239,0.5773196816444397,0.5730205178260803,0.5758829116821289,0.584587812423706,0.5753980278968811,0.5687401294708252,0.5869907140731812,0.5751502513885498,0.5752865076065063,0.5629985332489014,0.5648776292800903,0.5649106502532959,0.571030855178833,0.5704948902130127,0.5662966966629028,0.5712007880210876,0.5705969929695129,0.5740171670913696,0.5743576288223267,0.5686389803886414,0.5600075721740723,0.5549333095550537,0.5566539764404297,0.5569259524345398,0.5353816747665405,0.5400875806808472,0.5516769289970398,0.5468341112136841,0.5998390316963196,0.6066986918449402,0.6073740720748901,0.6147400736808777,0.6037968993186951,0.6033055782318115,0.5967876315116882,0.5993719100952148,0.5975149273872375,0.5992881059646606,0.5741624236106873,0.5793488025665283,0.582526445388794,0.5902003645896912,0.5715442299842834,0.5890432596206665,0.588241696357727,0.5832685232162476,0.5708282589912415,0.5645958185195923,0.564630925655365,0.5458594560623169,0.5520558953285217,0.5615116357803345,0.5752023458480835,0.5471361875534058,0.5560959577560425,0.5596482157707214,0.5568462014198303,0.5450534820556641,0.5093480348587036,0.5374172329902649,0.5374759435653687,0.5330595970153809,0.526116669178009,0.5337157845497131,0.5493261218070984,0.5403523445129395,0.5498501658439636,0.5294749140739441,0.5382562279701233,0.5392662286758423,0.5307137966156006,0.5231351256370544,0.4982593357563019,0.522920548915863,0.5152754187583923,0.5007576942443848,0.49584680795669556,0.5005587935447693,0.504676878452301,0.4857877790927887,0.493303120136261,0.4889734089374542,0.49347639083862305,0.5023527145385742,0.48414838314056396,0.4866037368774414,0.46501055359840393,0.5074331164360046,0.5179833769798279,0.5050509572029114,0.5170416235923767,0.5080777406692505,0.5003193616867065,0.4930490255355835,0.5021347403526306,0.48412972688674927,0.48290666937828064,0.5113977193832397,0.4902673661708832,0.4973193407058716,0.5120987892150879,0.4939040243625641,0.4950997233390808,0.4804442524909973,0.4976736605167389,0.47440293431282043,0.4555397033691406,0.49267709255218506,0.48615562915802,0.5085511207580566,0.485245943069458,0.4849253296852112,0.4896450936794281,0.4823506474494934,0.47178974747657776,0.4767441153526306,0.48611000180244446,0.48503348231315613,0.45490318536758423,0.4553765058517456,0.4582967460155487,0.4650987386703491,0.480295330286026,0.4843790531158447,0.4815332889556885,0.4652478098869324,0.4689233601093292,0.4701859652996063,0.49676135182380676,0.4872611463069916,0.4953806400299072,0.49845361709594727,0.5070798993110657,0.5082458257675171,0.5121840238571167,0.5003606081008911,0.5118089318275452,0.5131999850273132,0.5178040862083435,0.5098539590835571,0.5072110295295715,0.5084075331687927,0.5231196880340576,0.5101979970932007,0.5297126173973083,0.5378932952880859,0.5376070737838745,0.5486421585083008,0.5564437508583069,0.5533014535903931,0.5481187701225281,0.5548915863037109,0.5604509711265564,0.5524256229400635,0.5377014875411987,0.5114098191261292,0.5143803954124451,0.5094623565673828,0.5062078833580017,0.5096616744995117,0.5057010054588318,0.5072580575942993,0.5156618356704712,0.514725923538208,0.5069205164909363,0.5007973313331604,0.5000952482223511,0.5081851482391357,0.502605676651001,0.4920327663421631,0.49051809310913086,0.49312132596969604,0.4848072826862335,0.48584967851638794,0.48384392261505127,0.49120286107063293,0.48291027545928955,0.47064435482025146,0.47953885793685913,0.48940128087997437,0.4915601909160614,0.47315648198127747,0.4711669981479645,0.4755941331386566,0.46718829870224,0.46900674700737,0.4706447124481201,0.47920578718185425,0.4690520763397217,0.4621101915836334,0.4572725296020508,0.44909706711769104,0.4473602771759033,0.44629937410354614,0.4344412684440613,0.4220306873321533,0.4290447235107422,0.4241223931312561,0.43943798542022705,0.44114625453948975,0.4394116699695587,0.44165095686912537,0.44402015209198,0.4369712471961975,0.4364566504955292,0.42687609791755676,0.45364537835121155,0.47963452339172363,0.48573118448257446,0.4563976526260376,0.4427187442779541,0.4539201259613037],\"yaxis\":\"y\",\"type\":\"scattergl\"}],                        {\"template\":{\"data\":{\"bar\":[{\"error_x\":{\"color\":\"#2a3f5f\"},\"error_y\":{\"color\":\"#2a3f5f\"},\"marker\":{\"line\":{\"color\":\"#E5ECF6\",\"width\":0.5},\"pattern\":{\"fillmode\":\"overlay\",\"size\":10,\"solidity\":0.2}},\"type\":\"bar\"}],\"barpolar\":[{\"marker\":{\"line\":{\"color\":\"#E5ECF6\",\"width\":0.5},\"pattern\":{\"fillmode\":\"overlay\",\"size\":10,\"solidity\":0.2}},\"type\":\"barpolar\"}],\"carpet\":[{\"aaxis\":{\"endlinecolor\":\"#2a3f5f\",\"gridcolor\":\"white\",\"linecolor\":\"white\",\"minorgridcolor\":\"white\",\"startlinecolor\":\"#2a3f5f\"},\"baxis\":{\"endlinecolor\":\"#2a3f5f\",\"gridcolor\":\"white\",\"linecolor\":\"white\",\"minorgridcolor\":\"white\",\"startlinecolor\":\"#2a3f5f\"},\"type\":\"carpet\"}],\"choropleth\":[{\"colorbar\":{\"outlinewidth\":0,\"ticks\":\"\"},\"type\":\"choropleth\"}],\"contour\":[{\"colorbar\":{\"outlinewidth\":0,\"ticks\":\"\"},\"colorscale\":[[0.0,\"#0d0887\"],[0.1111111111111111,\"#46039f\"],[0.2222222222222222,\"#7201a8\"],[0.3333333333333333,\"#9c179e\"],[0.4444444444444444,\"#bd3786\"],[0.5555555555555556,\"#d8576b\"],[0.6666666666666666,\"#ed7953\"],[0.7777777777777778,\"#fb9f3a\"],[0.8888888888888888,\"#fdca26\"],[1.0,\"#f0f921\"]],\"type\":\"contour\"}],\"contourcarpet\":[{\"colorbar\":{\"outlinewidth\":0,\"ticks\":\"\"},\"type\":\"contourcarpet\"}],\"heatmap\":[{\"colorbar\":{\"outlinewidth\":0,\"ticks\":\"\"},\"colorscale\":[[0.0,\"#0d0887\"],[0.1111111111111111,\"#46039f\"],[0.2222222222222222,\"#7201a8\"],[0.3333333333333333,\"#9c179e\"],[0.4444444444444444,\"#bd3786\"],[0.5555555555555556,\"#d8576b\"],[0.6666666666666666,\"#ed7953\"],[0.7777777777777778,\"#fb9f3a\"],[0.8888888888888888,\"#fdca26\"],[1.0,\"#f0f921\"]],\"type\":\"heatmap\"}],\"heatmapgl\":[{\"colorbar\":{\"outlinewidth\":0,\"ticks\":\"\"},\"colorscale\":[[0.0,\"#0d0887\"],[0.1111111111111111,\"#46039f\"],[0.2222222222222222,\"#7201a8\"],[0.3333333333333333,\"#9c179e\"],[0.4444444444444444,\"#bd3786\"],[0.5555555555555556,\"#d8576b\"],[0.6666666666666666,\"#ed7953\"],[0.7777777777777778,\"#fb9f3a\"],[0.8888888888888888,\"#fdca26\"],[1.0,\"#f0f921\"]],\"type\":\"heatmapgl\"}],\"histogram\":[{\"marker\":{\"pattern\":{\"fillmode\":\"overlay\",\"size\":10,\"solidity\":0.2}},\"type\":\"histogram\"}],\"histogram2d\":[{\"colorbar\":{\"outlinewidth\":0,\"ticks\":\"\"},\"colorscale\":[[0.0,\"#0d0887\"],[0.1111111111111111,\"#46039f\"],[0.2222222222222222,\"#7201a8\"],[0.3333333333333333,\"#9c179e\"],[0.4444444444444444,\"#bd3786\"],[0.5555555555555556,\"#d8576b\"],[0.6666666666666666,\"#ed7953\"],[0.7777777777777778,\"#fb9f3a\"],[0.8888888888888888,\"#fdca26\"],[1.0,\"#f0f921\"]],\"type\":\"histogram2d\"}],\"histogram2dcontour\":[{\"colorbar\":{\"outlinewidth\":0,\"ticks\":\"\"},\"colorscale\":[[0.0,\"#0d0887\"],[0.1111111111111111,\"#46039f\"],[0.2222222222222222,\"#7201a8\"],[0.3333333333333333,\"#9c179e\"],[0.4444444444444444,\"#bd3786\"],[0.5555555555555556,\"#d8576b\"],[0.6666666666666666,\"#ed7953\"],[0.7777777777777778,\"#fb9f3a\"],[0.8888888888888888,\"#fdca26\"],[1.0,\"#f0f921\"]],\"type\":\"histogram2dcontour\"}],\"mesh3d\":[{\"colorbar\":{\"outlinewidth\":0,\"ticks\":\"\"},\"type\":\"mesh3d\"}],\"parcoords\":[{\"line\":{\"colorbar\":{\"outlinewidth\":0,\"ticks\":\"\"}},\"type\":\"parcoords\"}],\"pie\":[{\"automargin\":true,\"type\":\"pie\"}],\"scatter\":[{\"marker\":{\"colorbar\":{\"outlinewidth\":0,\"ticks\":\"\"}},\"type\":\"scatter\"}],\"scatter3d\":[{\"line\":{\"colorbar\":{\"outlinewidth\":0,\"ticks\":\"\"}},\"marker\":{\"colorbar\":{\"outlinewidth\":0,\"ticks\":\"\"}},\"type\":\"scatter3d\"}],\"scattercarpet\":[{\"marker\":{\"colorbar\":{\"outlinewidth\":0,\"ticks\":\"\"}},\"type\":\"scattercarpet\"}],\"scattergeo\":[{\"marker\":{\"colorbar\":{\"outlinewidth\":0,\"ticks\":\"\"}},\"type\":\"scattergeo\"}],\"scattergl\":[{\"marker\":{\"colorbar\":{\"outlinewidth\":0,\"ticks\":\"\"}},\"type\":\"scattergl\"}],\"scattermapbox\":[{\"marker\":{\"colorbar\":{\"outlinewidth\":0,\"ticks\":\"\"}},\"type\":\"scattermapbox\"}],\"scatterpolar\":[{\"marker\":{\"colorbar\":{\"outlinewidth\":0,\"ticks\":\"\"}},\"type\":\"scatterpolar\"}],\"scatterpolargl\":[{\"marker\":{\"colorbar\":{\"outlinewidth\":0,\"ticks\":\"\"}},\"type\":\"scatterpolargl\"}],\"scatterternary\":[{\"marker\":{\"colorbar\":{\"outlinewidth\":0,\"ticks\":\"\"}},\"type\":\"scatterternary\"}],\"surface\":[{\"colorbar\":{\"outlinewidth\":0,\"ticks\":\"\"},\"colorscale\":[[0.0,\"#0d0887\"],[0.1111111111111111,\"#46039f\"],[0.2222222222222222,\"#7201a8\"],[0.3333333333333333,\"#9c179e\"],[0.4444444444444444,\"#bd3786\"],[0.5555555555555556,\"#d8576b\"],[0.6666666666666666,\"#ed7953\"],[0.7777777777777778,\"#fb9f3a\"],[0.8888888888888888,\"#fdca26\"],[1.0,\"#f0f921\"]],\"type\":\"surface\"}],\"table\":[{\"cells\":{\"fill\":{\"color\":\"#EBF0F8\"},\"line\":{\"color\":\"white\"}},\"header\":{\"fill\":{\"color\":\"#C8D4E3\"},\"line\":{\"color\":\"white\"}},\"type\":\"table\"}]},\"layout\":{\"annotationdefaults\":{\"arrowcolor\":\"#2a3f5f\",\"arrowhead\":0,\"arrowwidth\":1},\"autotypenumbers\":\"strict\",\"coloraxis\":{\"colorbar\":{\"outlinewidth\":0,\"ticks\":\"\"}},\"colorscale\":{\"diverging\":[[0,\"#8e0152\"],[0.1,\"#c51b7d\"],[0.2,\"#de77ae\"],[0.3,\"#f1b6da\"],[0.4,\"#fde0ef\"],[0.5,\"#f7f7f7\"],[0.6,\"#e6f5d0\"],[0.7,\"#b8e186\"],[0.8,\"#7fbc41\"],[0.9,\"#4d9221\"],[1,\"#276419\"]],\"sequential\":[[0.0,\"#0d0887\"],[0.1111111111111111,\"#46039f\"],[0.2222222222222222,\"#7201a8\"],[0.3333333333333333,\"#9c179e\"],[0.4444444444444444,\"#bd3786\"],[0.5555555555555556,\"#d8576b\"],[0.6666666666666666,\"#ed7953\"],[0.7777777777777778,\"#fb9f3a\"],[0.8888888888888888,\"#fdca26\"],[1.0,\"#f0f921\"]],\"sequentialminus\":[[0.0,\"#0d0887\"],[0.1111111111111111,\"#46039f\"],[0.2222222222222222,\"#7201a8\"],[0.3333333333333333,\"#9c179e\"],[0.4444444444444444,\"#bd3786\"],[0.5555555555555556,\"#d8576b\"],[0.6666666666666666,\"#ed7953\"],[0.7777777777777778,\"#fb9f3a\"],[0.8888888888888888,\"#fdca26\"],[1.0,\"#f0f921\"]]},\"colorway\":[\"#636efa\",\"#EF553B\",\"#00cc96\",\"#ab63fa\",\"#FFA15A\",\"#19d3f3\",\"#FF6692\",\"#B6E880\",\"#FF97FF\",\"#FECB52\"],\"font\":{\"color\":\"#2a3f5f\"},\"geo\":{\"bgcolor\":\"white\",\"lakecolor\":\"white\",\"landcolor\":\"#E5ECF6\",\"showlakes\":true,\"showland\":true,\"subunitcolor\":\"white\"},\"hoverlabel\":{\"align\":\"left\"},\"hovermode\":\"closest\",\"mapbox\":{\"style\":\"light\"},\"paper_bgcolor\":\"white\",\"plot_bgcolor\":\"#E5ECF6\",\"polar\":{\"angularaxis\":{\"gridcolor\":\"white\",\"linecolor\":\"white\",\"ticks\":\"\"},\"bgcolor\":\"#E5ECF6\",\"radialaxis\":{\"gridcolor\":\"white\",\"linecolor\":\"white\",\"ticks\":\"\"}},\"scene\":{\"xaxis\":{\"backgroundcolor\":\"#E5ECF6\",\"gridcolor\":\"white\",\"gridwidth\":2,\"linecolor\":\"white\",\"showbackground\":true,\"ticks\":\"\",\"zerolinecolor\":\"white\"},\"yaxis\":{\"backgroundcolor\":\"#E5ECF6\",\"gridcolor\":\"white\",\"gridwidth\":2,\"linecolor\":\"white\",\"showbackground\":true,\"ticks\":\"\",\"zerolinecolor\":\"white\"},\"zaxis\":{\"backgroundcolor\":\"#E5ECF6\",\"gridcolor\":\"white\",\"gridwidth\":2,\"linecolor\":\"white\",\"showbackground\":true,\"ticks\":\"\",\"zerolinecolor\":\"white\"}},\"shapedefaults\":{\"line\":{\"color\":\"#2a3f5f\"}},\"ternary\":{\"aaxis\":{\"gridcolor\":\"white\",\"linecolor\":\"white\",\"ticks\":\"\"},\"baxis\":{\"gridcolor\":\"white\",\"linecolor\":\"white\",\"ticks\":\"\"},\"bgcolor\":\"#E5ECF6\",\"caxis\":{\"gridcolor\":\"white\",\"linecolor\":\"white\",\"ticks\":\"\"}},\"title\":{\"x\":0.05},\"xaxis\":{\"automargin\":true,\"gridcolor\":\"white\",\"linecolor\":\"white\",\"ticks\":\"\",\"title\":{\"standoff\":15},\"zerolinecolor\":\"white\",\"zerolinewidth\":2},\"yaxis\":{\"automargin\":true,\"gridcolor\":\"white\",\"linecolor\":\"white\",\"ticks\":\"\",\"title\":{\"standoff\":15},\"zerolinecolor\":\"white\",\"zerolinewidth\":2}}},\"xaxis\":{\"anchor\":\"y\",\"domain\":[0.0,1.0],\"title\":{\"text\":\"index\"}},\"yaxis\":{\"anchor\":\"x\",\"domain\":[0.0,1.0],\"title\":{\"text\":\"value\"}},\"legend\":{\"title\":{\"text\":\"variable\"},\"tracegroupgap\":0},\"margin\":{\"t\":60}},                        {\"responsive\": true}                    ).then(function(){\n",
              "                            \n",
              "var gd = document.getElementById('703f1d0e-8efb-4628-ba99-d65ac4659f49');\n",
              "var x = new MutationObserver(function (mutations, observer) {{\n",
              "        var display = window.getComputedStyle(gd).display;\n",
              "        if (!display || display === 'none') {{\n",
              "            console.log([gd, 'removed!']);\n",
              "            Plotly.purge(gd);\n",
              "            observer.disconnect();\n",
              "        }}\n",
              "}});\n",
              "\n",
              "// Listen for the removal of the full notebook cells\n",
              "var notebookContainer = gd.closest('#notebook-container');\n",
              "if (notebookContainer) {{\n",
              "    x.observe(notebookContainer, {childList: true});\n",
              "}}\n",
              "\n",
              "// Listen for the clearing of the current output cell\n",
              "var outputEl = gd.closest('.output');\n",
              "if (outputEl) {{\n",
              "    x.observe(outputEl, {childList: true});\n",
              "}}\n",
              "\n",
              "                        })                };                            </script>        </div>\n",
              "</body>\n",
              "</html>"
            ]
          },
          "metadata": {}
        }
      ],
      "source": [
        "pd.options.plotting.backend = \"plotly\"\n",
        "test_pred_DF.plot()"
      ]
    }
  ],
  "metadata": {
    "interpreter": {
      "hash": "68574daef0d62baed5cb2b50188b38f4e11c9442e0159dcf03883190186bd583"
    },
    "kernelspec": {
      "display_name": "Python 3.8.8 ('base')",
      "language": "python",
      "name": "python3"
    },
    "language_info": {
      "codemirror_mode": {
        "name": "ipython",
        "version": 3
      },
      "file_extension": ".py",
      "mimetype": "text/x-python",
      "name": "python",
      "nbconvert_exporter": "python",
      "pygments_lexer": "ipython3",
      "version": "3.8.8"
    },
    "orig_nbformat": 4,
    "colab": {
      "name": "HPs_fine_tuning.ipynb",
      "provenance": []
    },
    "accelerator": "GPU"
  },
  "nbformat": 4,
  "nbformat_minor": 0
}